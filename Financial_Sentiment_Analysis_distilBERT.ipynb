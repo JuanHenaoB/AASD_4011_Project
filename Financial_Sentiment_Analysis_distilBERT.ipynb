{
  "cells": [
    {
      "cell_type": "markdown",
      "metadata": {
        "id": "dA0miLPWU4yn"
      },
      "source": [
        "# Step 0. Install dependencies"
      ]
    },
    {
      "cell_type": "code",
      "execution_count": 82,
      "metadata": {
        "colab": {
          "base_uri": "https://localhost:8080/"
        },
        "id": "eLqC5TRcVA1M",
        "outputId": "965381c0-c4bb-4499-d7bb-1abf484682c1"
      },
      "outputs": [],
      "source": [
        "#Install dependencies\n",
        "# !pip install transformers[torch]\n",
        "# !pip install accelerate -U\n",
        "# !pip install datasets\n",
        "# !pip install torchinfo"
      ]
    },
    {
      "cell_type": "markdown",
      "metadata": {
        "id": "gzWYHmpCYxS8"
      },
      "source": [
        "# Step 1. EDA"
      ]
    },
    {
      "cell_type": "code",
      "execution_count": 83,
      "metadata": {
        "id": "Lhucii38YxS_"
      },
      "outputs": [
        {
          "name": "stdout",
          "output_type": "stream",
          "text": [
            "The autoreload extension is already loaded. To reload it, use:\n",
            "  %reload_ext autoreload\n"
          ]
        }
      ],
      "source": [
        "%load_ext autoreload\n",
        "%autoreload 2\n",
        "#Import dataset\n",
        "import pandas as pd\n",
        "import numpy as np\n",
        "import matplotlib.pyplot as plt\n",
        "\n",
        "from datasets import load_dataset\n",
        "\n",
        "## Class for dealing to data sets\n",
        "from src.DatasetManager import DatasetManager\n",
        "## Class for dealing models\n",
        "from src.ModelManager import ModelManager\n",
        "## Class for dealing with common dataset processing tasks\n",
        "from src.DatasetProcesser import DatasetProcessor, HFprocesser"
      ]
    },
    {
      "cell_type": "code",
      "execution_count": 84,
      "metadata": {
        "id": "FpmMByVyYxTA"
      },
      "outputs": [],
      "source": [
        "dataset_manager = DatasetManager()\n",
        "financial_news = dataset_manager.get_financial_news() #read csv set header to none because columns have no title\n"
      ]
    },
    {
      "cell_type": "code",
      "execution_count": 85,
      "metadata": {
        "colab": {
          "base_uri": "https://localhost:8080/",
          "height": 206
        },
        "id": "HjMyDXhAYxTB",
        "outputId": "b35af8fd-50ea-47f6-f52e-d5545a5da22e"
      },
      "outputs": [
        {
          "data": {
            "text/html": [
              "<div>\n",
              "<style scoped>\n",
              "    .dataframe tbody tr th:only-of-type {\n",
              "        vertical-align: middle;\n",
              "    }\n",
              "\n",
              "    .dataframe tbody tr th {\n",
              "        vertical-align: top;\n",
              "    }\n",
              "\n",
              "    .dataframe thead th {\n",
              "        text-align: right;\n",
              "    }\n",
              "</style>\n",
              "<table border=\"1\" class=\"dataframe\">\n",
              "  <thead>\n",
              "    <tr style=\"text-align: right;\">\n",
              "      <th></th>\n",
              "      <th>label</th>\n",
              "      <th>news</th>\n",
              "    </tr>\n",
              "  </thead>\n",
              "  <tbody>\n",
              "    <tr>\n",
              "      <th>4841</th>\n",
              "      <td>negative</td>\n",
              "      <td>LONDON MarketWatch -- Share prices ended lower...</td>\n",
              "    </tr>\n",
              "    <tr>\n",
              "      <th>4842</th>\n",
              "      <td>neutral</td>\n",
              "      <td>Rinkuskiai 's beer sales fell by 6.5 per cent ...</td>\n",
              "    </tr>\n",
              "    <tr>\n",
              "      <th>4843</th>\n",
              "      <td>negative</td>\n",
              "      <td>Operating profit fell to EUR 35.4 mn from EUR ...</td>\n",
              "    </tr>\n",
              "    <tr>\n",
              "      <th>4844</th>\n",
              "      <td>negative</td>\n",
              "      <td>Net sales of the Paper segment decreased to EU...</td>\n",
              "    </tr>\n",
              "    <tr>\n",
              "      <th>4845</th>\n",
              "      <td>negative</td>\n",
              "      <td>Sales in Finland decreased by 10.5 % in Januar...</td>\n",
              "    </tr>\n",
              "  </tbody>\n",
              "</table>\n",
              "</div>"
            ],
            "text/plain": [
              "         label                                               news\n",
              "4841  negative  LONDON MarketWatch -- Share prices ended lower...\n",
              "4842   neutral  Rinkuskiai 's beer sales fell by 6.5 per cent ...\n",
              "4843  negative  Operating profit fell to EUR 35.4 mn from EUR ...\n",
              "4844  negative  Net sales of the Paper segment decreased to EU...\n",
              "4845  negative  Sales in Finland decreased by 10.5 % in Januar..."
            ]
          },
          "execution_count": 85,
          "metadata": {},
          "output_type": "execute_result"
        }
      ],
      "source": [
        "#Check DF head and Tail\n",
        "financial_news.head()\n",
        "financial_news.tail()"
      ]
    },
    {
      "cell_type": "code",
      "execution_count": 86,
      "metadata": {
        "colab": {
          "base_uri": "https://localhost:8080/"
        },
        "id": "3vh_PhbEYxTB",
        "outputId": "68195098-6a8b-4d3d-fd48-335cfae97d01"
      },
      "outputs": [
        {
          "data": {
            "text/plain": [
              "(4846, 2)"
            ]
          },
          "execution_count": 86,
          "metadata": {},
          "output_type": "execute_result"
        }
      ],
      "source": [
        "#Check shape of train df\n",
        "financial_news.shape"
      ]
    },
    {
      "cell_type": "code",
      "execution_count": 87,
      "metadata": {
        "colab": {
          "base_uri": "https://localhost:8080/"
        },
        "id": "AUrXMJSfYxTB",
        "outputId": "a633113f-fffa-4d2a-c47d-f8406f0f48ca"
      },
      "outputs": [
        {
          "name": "stdout",
          "output_type": "stream",
          "text": [
            "<class 'pandas.core.frame.DataFrame'>\n",
            "RangeIndex: 4846 entries, 0 to 4845\n",
            "Data columns (total 2 columns):\n",
            " #   Column  Non-Null Count  Dtype \n",
            "---  ------  --------------  ----- \n",
            " 0   label   4846 non-null   object\n",
            " 1   news    4846 non-null   object\n",
            "dtypes: object(2)\n",
            "memory usage: 75.8+ KB\n"
          ]
        }
      ],
      "source": [
        "#Check information of df\n",
        "#we can see there is no missing values\n",
        "financial_news.info()"
      ]
    },
    {
      "cell_type": "code",
      "execution_count": 88,
      "metadata": {
        "colab": {
          "base_uri": "https://localhost:8080/",
          "height": 521
        },
        "id": "yvtC5MSOYxTB",
        "outputId": "a05f9281-ada3-4a04-ccb8-881a33ca942e"
      },
      "outputs": [
        {
          "data": {
            "image/png": "[encoded data removed]",
            "text/plain": [
              "<Figure size 640x480 with 1 Axes>"
            ]
          },
          "metadata": {},
          "output_type": "display_data"
        },
        {
          "name": "stdout",
          "output_type": "stream",
          "text": [
            "neutral     2879\n",
            "positive    1363\n",
            "negative     604\n",
            "Name: label, dtype: int64\n"
          ]
        }
      ],
      "source": [
        "#Check balance of the data set\n",
        "dataset_manager.plot_external(financial_news)\n",
        "\n",
        "#We can notice that the data set is imbalanced\n"
      ]
    },
    {
      "cell_type": "code",
      "execution_count": 89,
      "metadata": {
        "colab": {
          "base_uri": "https://localhost:8080/"
        },
        "id": "FfC3aaDjYxTC",
        "outputId": "a26b3201-2c06-4986-cc85-d4216a270a2d"
      },
      "outputs": [
        {
          "name": "stdout",
          "output_type": "stream",
          "text": [
            "81\n"
          ]
        }
      ],
      "source": [
        "print(dataset_manager.check_doc_len(financial_news))"
      ]
    },
    {
      "cell_type": "code",
      "execution_count": 90,
      "metadata": {},
      "outputs": [
        {
          "data": {
            "text/html": [
              "<div>\n",
              "<style scoped>\n",
              "    .dataframe tbody tr th:only-of-type {\n",
              "        vertical-align: middle;\n",
              "    }\n",
              "\n",
              "    .dataframe tbody tr th {\n",
              "        vertical-align: top;\n",
              "    }\n",
              "\n",
              "    .dataframe thead th {\n",
              "        text-align: right;\n",
              "    }\n",
              "</style>\n",
              "<table border=\"1\" class=\"dataframe\">\n",
              "  <thead>\n",
              "    <tr style=\"text-align: right;\">\n",
              "      <th></th>\n",
              "      <th>label</th>\n",
              "      <th>news</th>\n",
              "    </tr>\n",
              "  </thead>\n",
              "  <tbody>\n",
              "    <tr>\n",
              "      <th>0</th>\n",
              "      <td>neutral</td>\n",
              "      <td>According to Gran , the company has no plans t...</td>\n",
              "    </tr>\n",
              "    <tr>\n",
              "      <th>1</th>\n",
              "      <td>neutral</td>\n",
              "      <td>Technopolis plans to develop in stages an area...</td>\n",
              "    </tr>\n",
              "    <tr>\n",
              "      <th>2</th>\n",
              "      <td>negative</td>\n",
              "      <td>The international electronic industry company ...</td>\n",
              "    </tr>\n",
              "  </tbody>\n",
              "</table>\n",
              "</div>"
            ],
            "text/plain": [
              "      label                                               news\n",
              "0   neutral  According to Gran , the company has no plans t...\n",
              "1   neutral  Technopolis plans to develop in stages an area...\n",
              "2  negative  The international electronic industry company ..."
            ]
          },
          "execution_count": 90,
          "metadata": {},
          "output_type": "execute_result"
        }
      ],
      "source": [
        "financial_news.drop(columns={'len'}, inplace=True)\n",
        "financial_news.head(3)"
      ]
    },
    {
      "cell_type": "markdown",
      "metadata": {
        "id": "5JiEzSe-YxTC"
      },
      "source": [
        "# Step 2. Pre-processing"
      ]
    },
    {
      "cell_type": "markdown",
      "metadata": {
        "id": "SurLQNltYxTC"
      },
      "source": [
        "### Approach 1. do not balance classes"
      ]
    },
    {
      "cell_type": "code",
      "execution_count": 91,
      "metadata": {
        "colab": {
          "base_uri": "https://localhost:8080/",
          "height": 206
        },
        "id": "9kr6-ZEfYxTD",
        "outputId": "7bae6078-0a61-4ff6-ca2a-c206d0212f5b"
      },
      "outputs": [
        {
          "data": {
            "text/html": [
              "<div>\n",
              "<style scoped>\n",
              "    .dataframe tbody tr th:only-of-type {\n",
              "        vertical-align: middle;\n",
              "    }\n",
              "\n",
              "    .dataframe tbody tr th {\n",
              "        vertical-align: top;\n",
              "    }\n",
              "\n",
              "    .dataframe thead th {\n",
              "        text-align: right;\n",
              "    }\n",
              "</style>\n",
              "<table border=\"1\" class=\"dataframe\">\n",
              "  <thead>\n",
              "    <tr style=\"text-align: right;\">\n",
              "      <th></th>\n",
              "      <th>label</th>\n",
              "      <th>news</th>\n",
              "    </tr>\n",
              "  </thead>\n",
              "  <tbody>\n",
              "    <tr>\n",
              "      <th>0</th>\n",
              "      <td>0</td>\n",
              "      <td>According to Gran , the company has no plans t...</td>\n",
              "    </tr>\n",
              "    <tr>\n",
              "      <th>1</th>\n",
              "      <td>0</td>\n",
              "      <td>Technopolis plans to develop in stages an area...</td>\n",
              "    </tr>\n",
              "    <tr>\n",
              "      <th>2</th>\n",
              "      <td>2</td>\n",
              "      <td>The international electronic industry company ...</td>\n",
              "    </tr>\n",
              "    <tr>\n",
              "      <th>3</th>\n",
              "      <td>1</td>\n",
              "      <td>With the new production plant the company woul...</td>\n",
              "    </tr>\n",
              "    <tr>\n",
              "      <th>4</th>\n",
              "      <td>1</td>\n",
              "      <td>According to the company 's updated strategy f...</td>\n",
              "    </tr>\n",
              "  </tbody>\n",
              "</table>\n",
              "</div>"
            ],
            "text/plain": [
              "   label                                               news\n",
              "0      0  According to Gran , the company has no plans t...\n",
              "1      0  Technopolis plans to develop in stages an area...\n",
              "2      2  The international electronic industry company ...\n",
              "3      1  With the new production plant the company woul...\n",
              "4      1  According to the company 's updated strategy f..."
            ]
          },
          "execution_count": 91,
          "metadata": {},
          "output_type": "execute_result"
        }
      ],
      "source": [
        "#First let's map the labels to integers\n",
        "fin_news_preprocessor = DatasetProcessor(financial_news)\n",
        "label_map = {'negative': 2, 'neutral': 0, 'positive': 1}\n",
        "\n",
        "fin_news_preprocessor.map_labels(label_map)\n",
        "\n",
        "#The preprocessors df can directly be used thanks to __getattr__ method\n",
        "fin_news_preprocessor.head()"
      ]
    },
    {
      "cell_type": "code",
      "execution_count": 92,
      "metadata": {
        "id": "3ivlw01BYxTD"
      },
      "outputs": [],
      "source": [
        "#Save approach 1 dataframe to folder\n",
        "financial_news.to_csv('data/financial_news_1.csv', index=False)"
      ]
    },
    {
      "cell_type": "markdown",
      "metadata": {
        "id": "gL13rug6YxTD"
      },
      "source": [
        "### Approach 2. Downsampling"
      ]
    },
    {
      "cell_type": "code",
      "execution_count": 93,
      "metadata": {
        "id": "iHJSUXhTYxTD"
      },
      "outputs": [],
      "source": [
        "# Let's downsample positive and neutral labels to create a balanced data set\n",
        "\n",
        "financial_news_ds = dataset_manager.get_financial_news() \n",
        "fin_news_preprocessor = DatasetProcessor(financial_news_ds)\n",
        "fin_news_preprocessor.map_labels()\n",
        "\n",
        "#Now let's separate our 3 classes to perform downsample\n",
        "financial_news_n,financial_news_0,financial_news_1 = fin_news_preprocessor.seperate_labels_classes()\n",
        "\n"
      ]
    },
    {
      "cell_type": "code",
      "execution_count": 94,
      "metadata": {
        "colab": {
          "base_uri": "https://localhost:8080/"
        },
        "id": "K8XvBjlQYxTD",
        "outputId": "14d6d099-40e9-4f08-f5e9-f779d23f5a49"
      },
      "outputs": [
        {
          "data": {
            "text/plain": [
              "array([1], dtype=int64)"
            ]
          },
          "execution_count": 94,
          "metadata": {},
          "output_type": "execute_result"
        }
      ],
      "source": [
        "#Check separated labels\n",
        "financial_news_n['label'].unique()\n",
        "financial_news_0['label'].unique()\n",
        "financial_news_1['label'].unique()"
      ]
    },
    {
      "cell_type": "code",
      "execution_count": 95,
      "metadata": {
        "id": "RWgXDEsdYxTE"
      },
      "outputs": [],
      "source": [
        "#Downsample positive and neutral labels to be same length as negative label\n",
        "financial_news_0, financial_news_1 = fin_news_preprocessor.downsample_labels(financial_news_n, financial_news_0, financial_news_1)\n"
      ]
    },
    {
      "cell_type": "code",
      "execution_count": 96,
      "metadata": {
        "colab": {
          "base_uri": "https://localhost:8080/"
        },
        "id": "4QGE8Zi-YxTE",
        "outputId": "ad084ca3-6581-4a58-c99e-989c9de3dba7"
      },
      "outputs": [
        {
          "data": {
            "text/plain": [
              "(604,)"
            ]
          },
          "execution_count": 96,
          "metadata": {},
          "output_type": "execute_result"
        }
      ],
      "source": [
        "#Check shapes\n",
        "financial_news_0['label'].shape\n",
        "financial_news_1['label'].shape"
      ]
    },
    {
      "cell_type": "code",
      "execution_count": 97,
      "metadata": {
        "colab": {
          "base_uri": "https://localhost:8080/",
          "height": 206
        },
        "id": "1N31n-QrYxTE",
        "outputId": "c5881ff8-e11e-4e52-b816-0f61019586f0"
      },
      "outputs": [
        {
          "data": {
            "text/html": [
              "<div>\n",
              "<style scoped>\n",
              "    .dataframe tbody tr th:only-of-type {\n",
              "        vertical-align: middle;\n",
              "    }\n",
              "\n",
              "    .dataframe tbody tr th {\n",
              "        vertical-align: top;\n",
              "    }\n",
              "\n",
              "    .dataframe thead th {\n",
              "        text-align: right;\n",
              "    }\n",
              "</style>\n",
              "<table border=\"1\" class=\"dataframe\">\n",
              "  <thead>\n",
              "    <tr style=\"text-align: right;\">\n",
              "      <th></th>\n",
              "      <th>label</th>\n",
              "      <th>news</th>\n",
              "    </tr>\n",
              "  </thead>\n",
              "  <tbody>\n",
              "    <tr>\n",
              "      <th>1807</th>\n",
              "      <td>0</td>\n",
              "      <td>The Russian government will contribute 20 % of...</td>\n",
              "    </tr>\n",
              "    <tr>\n",
              "      <th>1808</th>\n",
              "      <td>1</td>\n",
              "      <td>In the fourth quarter of 2008 , net sales incr...</td>\n",
              "    </tr>\n",
              "    <tr>\n",
              "      <th>1809</th>\n",
              "      <td>0</td>\n",
              "      <td>The Estonian beverages maker A. Le Coq today b...</td>\n",
              "    </tr>\n",
              "    <tr>\n",
              "      <th>1810</th>\n",
              "      <td>1</td>\n",
              "      <td>Satama 's net profit for the third quarter of ...</td>\n",
              "    </tr>\n",
              "    <tr>\n",
              "      <th>1811</th>\n",
              "      <td>0</td>\n",
              "      <td>The reason for this is St. Petersburg status a...</td>\n",
              "    </tr>\n",
              "  </tbody>\n",
              "</table>\n",
              "</div>"
            ],
            "text/plain": [
              "      label                                               news\n",
              "1807      0  The Russian government will contribute 20 % of...\n",
              "1808      1  In the fourth quarter of 2008 , net sales incr...\n",
              "1809      0  The Estonian beverages maker A. Le Coq today b...\n",
              "1810      1  Satama 's net profit for the third quarter of ...\n",
              "1811      0  The reason for this is St. Petersburg status a..."
            ]
          },
          "execution_count": 97,
          "metadata": {},
          "output_type": "execute_result"
        }
      ],
      "source": [
        "#put everything together again\n",
        "#shuffle rows and reset index\n",
        "financial_news_ds = fin_news_preprocessor.shuffle_and_reset([financial_news_n, financial_news_0, financial_news_1])\n",
        "\n",
        "#check df\n",
        "financial_news_ds.tail()"
      ]
    },
    {
      "cell_type": "code",
      "execution_count": 98,
      "metadata": {
        "colab": {
          "base_uri": "https://localhost:8080/",
          "height": 521
        },
        "id": "e1vgZ4fBYxTE",
        "outputId": "3d9fde30-e736-4a5a-e82b-04cd97a60df7"
      },
      "outputs": [
        {
          "data": {
            "image/png": "[encoded data removed]",
            "text/plain": [
              "<Figure size 640x480 with 1 Axes>"
            ]
          },
          "metadata": {},
          "output_type": "display_data"
        },
        {
          "name": "stdout",
          "output_type": "stream",
          "text": [
            "1    604\n",
            "0    604\n",
            "2    604\n",
            "Name: label, dtype: int64\n"
          ]
        }
      ],
      "source": [
        "#Check balance of the data set\n",
        "\n",
        "dataset_manager.plot_external(financial_news_ds)\n",
        "\n",
        "#We can notice that the data set is balanced"
      ]
    },
    {
      "cell_type": "code",
      "execution_count": 99,
      "metadata": {
        "id": "c6Bw4criYxTF"
      },
      "outputs": [],
      "source": [
        "#save approach 2 dataframe\n",
        "financial_news_ds.to_csv('financial_news_2.csv', index=False)"
      ]
    },
    {
      "cell_type": "markdown",
      "metadata": {
        "id": "Q4OUHQPMYxTF"
      },
      "source": [
        "# Step 3. Feature extraction"
      ]
    },
    {
      "cell_type": "markdown",
      "metadata": {
        "id": "6k_ZSYdXYxTF"
      },
      "source": [
        "## Feature Extraction for Transfer Learning"
      ]
    },
    {
      "cell_type": "code",
      "execution_count": 130,
      "metadata": {
        "colab": {
          "base_uri": "https://localhost:8080/",
          "height": 81,
          "referenced_widgets": [
            "05fd6969d6fe47e4bf56b99394ae19f7",
            "04917302c6ba4579a7d61aa28261de75",
            "30f7d5f0754b4b1697b7613f3921764f",
            "720267a5a9ea45fa8acc1779d4e3fc49",
            "d7012f3b8a0c4c50a9979cf8a209145f",
            "94d1fdf30fe7487e8ead4662378de4f2",
            "7dda8db78d50421c8cea10dfd7019390",
            "0ca1bf697cce4e7f8fe936a4a90889ec",
            "351f34e315534340ac8350c722db7a99",
            "40f7abed59874dc5ab360b5ba015b66d",
            "2da8ab11290d4509825143d8014b7bd4",
            "83b23b2de93d48139d863cc057383704",
            "ca4891e4db214a57b5e368e6b114b289",
            "dbf48ccd40e24185b3db107c7884fee1",
            "7dad58af56e94e279d4950cdbdd3b601",
            "f8ab6d78bd9a49d9976a385f2c9e25b3",
            "187a17a972e7403dbf749bcb484c0f0b",
            "7e30686ab9e742d5a02d0718462bfbdb",
            "f0fc63c0a4144479bf784a610b4757fa",
            "ae076a4926014f9b98adff1a522996dd",
            "66c4a80feda04948a869eb28a0dd22c8",
            "057237a08cfe4a47b6e3df938f4ca602"
          ]
        },
        "id": "dNoRCp18YxTF",
        "outputId": "3ab8c7f3-14cb-49bd-8eaf-c92d78be830e"
      },
      "outputs": [
        {
          "name": "stdout",
          "output_type": "stream",
          "text": [
            "Downloading and preparing dataset csv/default to C:/Users/Rober/.cache/huggingface/datasets/csv/default-30cde7412fe4eeeb/0.0.0/6954658bab30a358235fa864b05cf819af0e179325c740e4bc853bcc7ec513e1...\n"
          ]
        },
        {
          "data": {
            "application/vnd.jupyter.widget-view+json": {
              "model_id": "cd7c7ad5367645feb4ee1a76d416b248",
              "version_major": 2,
              "version_minor": 0
            },
            "text/plain": [
              "Downloading data files:   0%|          | 0/1 [00:00<?, ?it/s]"
            ]
          },
          "metadata": {},
          "output_type": "display_data"
        },
        {
          "data": {
            "application/vnd.jupyter.widget-view+json": {
              "model_id": "ee39f906eb3248f3bcad990e148669df",
              "version_major": 2,
              "version_minor": 0
            },
            "text/plain": [
              "Extracting data files:   0%|          | 0/1 [00:00<?, ?it/s]"
            ]
          },
          "metadata": {},
          "output_type": "display_data"
        },
        {
          "data": {
            "application/vnd.jupyter.widget-view+json": {
              "model_id": "5ae1aac2a40648f39b4128fb3dc0d19e",
              "version_major": 2,
              "version_minor": 0
            },
            "text/plain": [
              "Generating train split: 0 examples [00:00, ? examples/s]"
            ]
          },
          "metadata": {},
          "output_type": "display_data"
        },
        {
          "name": "stdout",
          "output_type": "stream",
          "text": [
            "Dataset csv downloaded and prepared to C:/Users/Rober/.cache/huggingface/datasets/csv/default-30cde7412fe4eeeb/0.0.0/6954658bab30a358235fa864b05cf819af0e179325c740e4bc853bcc7ec513e1. Subsequent calls will reuse this data.\n"
          ]
        },
        {
          "data": {
            "application/vnd.jupyter.widget-view+json": {
              "model_id": "a485cef83277432cabd0ed81d3a849e0",
              "version_major": 2,
              "version_minor": 0
            },
            "text/plain": [
              "  0%|          | 0/1 [00:00<?, ?it/s]"
            ]
          },
          "metadata": {},
          "output_type": "display_data"
        },
        {
          "name": "stdout",
          "output_type": "stream",
          "text": [
            "Downloading and preparing dataset csv/default to C:/Users/Rober/.cache/huggingface/datasets/csv/default-3418566d11967f2a/0.0.0/6954658bab30a358235fa864b05cf819af0e179325c740e4bc853bcc7ec513e1...\n"
          ]
        },
        {
          "data": {
            "application/vnd.jupyter.widget-view+json": {
              "model_id": "d0b0563689804f9cb739b776c7ddfe66",
              "version_major": 2,
              "version_minor": 0
            },
            "text/plain": [
              "Downloading data files:   0%|          | 0/1 [00:00<?, ?it/s]"
            ]
          },
          "metadata": {},
          "output_type": "display_data"
        },
        {
          "data": {
            "application/vnd.jupyter.widget-view+json": {
              "model_id": "48ddeac09f754b87b8c573efdb88dcac",
              "version_major": 2,
              "version_minor": 0
            },
            "text/plain": [
              "Extracting data files:   0%|          | 0/1 [00:00<?, ?it/s]"
            ]
          },
          "metadata": {},
          "output_type": "display_data"
        },
        {
          "data": {
            "application/vnd.jupyter.widget-view+json": {
              "model_id": "9a187640d88740b6bd44656bdac7d21a",
              "version_major": 2,
              "version_minor": 0
            },
            "text/plain": [
              "Generating train split: 0 examples [00:00, ? examples/s]"
            ]
          },
          "metadata": {},
          "output_type": "display_data"
        },
        {
          "name": "stdout",
          "output_type": "stream",
          "text": [
            "Dataset csv downloaded and prepared to C:/Users/Rober/.cache/huggingface/datasets/csv/default-3418566d11967f2a/0.0.0/6954658bab30a358235fa864b05cf819af0e179325c740e4bc853bcc7ec513e1. Subsequent calls will reuse this data.\n"
          ]
        },
        {
          "data": {
            "application/vnd.jupyter.widget-view+json": {
              "model_id": "11b548ba0f5d4421b8f0c1afb42a1946",
              "version_major": 2,
              "version_minor": 0
            },
            "text/plain": [
              "  0%|          | 0/1 [00:00<?, ?it/s]"
            ]
          },
          "metadata": {},
          "output_type": "display_data"
        }
      ],
      "source": [
        "from src.HFManager import HFManager\n",
        "from src.DatasetProcesser import HFprocesser\n",
        "\n",
        "# create datasets to be used with hugging face\n",
        "dataset_manager.create_dataset('balanced_dataset', 'data/financial_news_2.csv')\n",
        "dataset_manager.create_dataset('imbalanced_dataset', 'data/financial_news_1.csv')\n",
        "\n",
        "## Load the dataset which is a hugging face\n",
        "HFproc_balanced_dataset = HFprocesser(dataset_manager.get_dataset('balanced_dataset'))\n",
        "HFproc_imbalanced_dataset = HFprocesser(dataset_manager.get_dataset('imbalanced_dataset'))\n",
        "\n",
        "## Create train val train dict using hugging faces built in dataset\\\n",
        "hf_tvt_dict_balanced = HFproc_balanced_dataset.create_train_test_val_splits()\n",
        "hf_tvt_dict_imbalanced = HFproc_imbalanced_dataset.create_train_test_val_splits()\n",
        "\n"
      ]
    },
    {
      "cell_type": "code",
      "execution_count": 131,
      "metadata": {
        "colab": {
          "base_uri": "https://localhost:8080/"
        },
        "id": "H-YehZxuYxTF",
        "outputId": "3f8ee120-8bf1-4052-dcab-880a465a6427"
      },
      "outputs": [
        {
          "data": {
            "text/plain": [
              "DatasetDict({\n",
              "    train: Dataset({\n",
              "        features: ['label', 'news'],\n",
              "        num_rows: 1449\n",
              "    })\n",
              "    test: Dataset({\n",
              "        features: ['label', 'news'],\n",
              "        num_rows: 217\n",
              "    })\n",
              "    valid: Dataset({\n",
              "        features: ['label', 'news'],\n",
              "        num_rows: 146\n",
              "    })\n",
              "})"
            ]
          },
          "execution_count": 131,
          "metadata": {},
          "output_type": "execute_result"
        }
      ],
      "source": [
        "#Check raw data sets\n",
        "hf_tvt_dict_balanced\n"
      ]
    },
    {
      "cell_type": "code",
      "execution_count": 132,
      "metadata": {},
      "outputs": [
        {
          "data": {
            "text/plain": [
              "DatasetDict({\n",
              "    train: Dataset({\n",
              "        features: ['label', 'news', 'len'],\n",
              "        num_rows: 3876\n",
              "    })\n",
              "    test: Dataset({\n",
              "        features: ['label', 'news', 'len'],\n",
              "        num_rows: 582\n",
              "    })\n",
              "    valid: Dataset({\n",
              "        features: ['label', 'news', 'len'],\n",
              "        num_rows: 388\n",
              "    })\n",
              "})"
            ]
          },
          "execution_count": 132,
          "metadata": {},
          "output_type": "execute_result"
        }
      ],
      "source": [
        "hf_tvt_dict_imbalanced"
      ]
    },
    {
      "cell_type": "code",
      "execution_count": 133,
      "metadata": {
        "colab": {
          "base_uri": "https://localhost:8080/"
        },
        "id": "lfCqDeUfYxTG",
        "outputId": "dc8aa805-51ee-4f02-f758-12fb117a6964"
      },
      "outputs": [
        {
          "data": {
            "application/vnd.jupyter.widget-view+json": {
              "model_id": "c0ddb6f1de3f410f843dd88aa90cdd83",
              "version_major": 2,
              "version_minor": 0
            },
            "text/plain": [
              "Map:   0%|          | 0/1449 [00:00<?, ? examples/s]"
            ]
          },
          "metadata": {},
          "output_type": "display_data"
        },
        {
          "data": {
            "application/vnd.jupyter.widget-view+json": {
              "model_id": "9721b7cd022c4a208f423ea49a896d7c",
              "version_major": 2,
              "version_minor": 0
            },
            "text/plain": [
              "Map:   0%|          | 0/217 [00:00<?, ? examples/s]"
            ]
          },
          "metadata": {},
          "output_type": "display_data"
        },
        {
          "data": {
            "application/vnd.jupyter.widget-view+json": {
              "model_id": "0a898195a8154556bc28894e1d411fc7",
              "version_major": 2,
              "version_minor": 0
            },
            "text/plain": [
              "Map:   0%|          | 0/146 [00:00<?, ? examples/s]"
            ]
          },
          "metadata": {},
          "output_type": "display_data"
        },
        {
          "data": {
            "application/vnd.jupyter.widget-view+json": {
              "model_id": "7de04cdc566245ab9477970b2792762b",
              "version_major": 2,
              "version_minor": 0
            },
            "text/plain": [
              "Map:   0%|          | 0/3876 [00:00<?, ? examples/s]"
            ]
          },
          "metadata": {},
          "output_type": "display_data"
        },
        {
          "data": {
            "application/vnd.jupyter.widget-view+json": {
              "model_id": "18e780cb1001499e916492257c8917ee",
              "version_major": 2,
              "version_minor": 0
            },
            "text/plain": [
              "Map:   0%|          | 0/582 [00:00<?, ? examples/s]"
            ]
          },
          "metadata": {},
          "output_type": "display_data"
        },
        {
          "data": {
            "application/vnd.jupyter.widget-view+json": {
              "model_id": "3f41d75d2c0b441aabca798b35c06b4c",
              "version_major": 2,
              "version_minor": 0
            },
            "text/plain": [
              "Map:   0%|          | 0/388 [00:00<?, ? examples/s]"
            ]
          },
          "metadata": {},
          "output_type": "display_data"
        },
        {
          "data": {
            "text/plain": [
              "DatasetDict({\n",
              "    train: Dataset({\n",
              "        features: ['label', 'news', 'len', 'input_ids', 'attention_mask'],\n",
              "        num_rows: 3876\n",
              "    })\n",
              "    test: Dataset({\n",
              "        features: ['label', 'news', 'len', 'input_ids', 'attention_mask'],\n",
              "        num_rows: 582\n",
              "    })\n",
              "    valid: Dataset({\n",
              "        features: ['label', 'news', 'len', 'input_ids', 'attention_mask'],\n",
              "        num_rows: 388\n",
              "    })\n",
              "})"
            ]
          },
          "execution_count": 133,
          "metadata": {},
          "output_type": "execute_result"
        }
      ],
      "source": [
        "# For fine tuning a pre trained model we are choosing to use distilBERT since it's lighter than other BERT based models while conserving the vast majority of BERT's performance\n",
        "\n",
        "HFproc_balanced_dataset.tokenize_text_data() # stores tokenized test data in class attribute\n",
        "HFproc_imbalanced_dataset.tokenize_text_data() # stores tokenized test data in class attribute\n"
      ]
    },
    {
      "cell_type": "markdown",
      "metadata": {
        "id": "F8UZpdWiYxTK"
      },
      "source": [
        "# Step 4. Training"
      ]
    },
    {
      "cell_type": "markdown",
      "metadata": {
        "id": "WhLVjjbMYxTK"
      },
      "source": [
        "### Approach 1. Fine Tune pre-trained distilBERT model"
      ]
    },
    {
      "cell_type": "code",
      "execution_count": 146,
      "metadata": {
        "id": "-Tl5nB5HYxTK"
      },
      "outputs": [
        {
          "name": "stderr",
          "output_type": "stream",
          "text": [
            "Some weights of DistilBertForSequenceClassification were not initialized from the model checkpoint at distilbert/distilbert-base-uncased and are newly initialized: ['pre_classifier.weight', 'pre_classifier.bias', 'classifier.bias', 'classifier.weight']\n",
            "You should probably TRAIN this model on a down-stream task to be able to use it for predictions and inference.\n",
            "Some weights of DistilBertForSequenceClassification were not initialized from the model checkpoint at distilbert/distilbert-base-uncased and are newly initialized: ['pre_classifier.weight', 'pre_classifier.bias', 'classifier.bias', 'classifier.weight']\n",
            "You should probably TRAIN this model on a down-stream task to be able to use it for predictions and inference.\n"
          ]
        }
      ],
      "source": [
        "#import bert model\n",
        "#AutomodelForSequenceClassification will give us a model that already has some classification layers on top of distilbert\n",
        "#Trainer is a class that help us train transformers, TrainingArguments is used to define training arguments in Trainer\n",
        "\n",
        "\n",
        "## Init the hugging face mananger whice also downloads the model\n",
        "huggingface_manager = HFManager(\"distilbert/distilbert-base-uncased\")\n",
        "## add a model\n",
        "huggingface_manager.add_model('main')\n",
        "huggingface_manager.add_model('frozen')\n",
        "\n"
      ]
    },
    {
      "cell_type": "code",
      "execution_count": 147,
      "metadata": {
        "id": "bh0cwdJfYxTL"
      },
      "outputs": [
        {
          "name": "stdout",
          "output_type": "stream",
          "text": [
            "distilbert.embeddings.word_embeddings.weight True\n",
            "distilbert.embeddings.position_embeddings.weight True\n",
            "distilbert.embeddings.LayerNorm.weight True\n",
            "distilbert.embeddings.LayerNorm.bias True\n",
            "distilbert.transformer.layer.0.attention.q_lin.weight True\n",
            "distilbert.transformer.layer.0.attention.q_lin.bias True\n",
            "distilbert.transformer.layer.0.attention.k_lin.weight True\n",
            "distilbert.transformer.layer.0.attention.k_lin.bias True\n",
            "distilbert.transformer.layer.0.attention.v_lin.weight True\n",
            "distilbert.transformer.layer.0.attention.v_lin.bias True\n",
            "distilbert.transformer.layer.0.attention.out_lin.weight True\n",
            "distilbert.transformer.layer.0.attention.out_lin.bias True\n",
            "distilbert.transformer.layer.0.sa_layer_norm.weight True\n",
            "distilbert.transformer.layer.0.sa_layer_norm.bias True\n",
            "distilbert.transformer.layer.0.ffn.lin1.weight True\n",
            "distilbert.transformer.layer.0.ffn.lin1.bias True\n",
            "distilbert.transformer.layer.0.ffn.lin2.weight True\n",
            "distilbert.transformer.layer.0.ffn.lin2.bias True\n",
            "distilbert.transformer.layer.0.output_layer_norm.weight True\n",
            "distilbert.transformer.layer.0.output_layer_norm.bias True\n",
            "distilbert.transformer.layer.1.attention.q_lin.weight True\n",
            "distilbert.transformer.layer.1.attention.q_lin.bias True\n",
            "distilbert.transformer.layer.1.attention.k_lin.weight True\n",
            "distilbert.transformer.layer.1.attention.k_lin.bias True\n",
            "distilbert.transformer.layer.1.attention.v_lin.weight True\n",
            "distilbert.transformer.layer.1.attention.v_lin.bias True\n",
            "distilbert.transformer.layer.1.attention.out_lin.weight True\n",
            "distilbert.transformer.layer.1.attention.out_lin.bias True\n",
            "distilbert.transformer.layer.1.sa_layer_norm.weight True\n",
            "distilbert.transformer.layer.1.sa_layer_norm.bias True\n",
            "distilbert.transformer.layer.1.ffn.lin1.weight True\n",
            "distilbert.transformer.layer.1.ffn.lin1.bias True\n",
            "distilbert.transformer.layer.1.ffn.lin2.weight True\n",
            "distilbert.transformer.layer.1.ffn.lin2.bias True\n",
            "distilbert.transformer.layer.1.output_layer_norm.weight True\n",
            "distilbert.transformer.layer.1.output_layer_norm.bias True\n",
            "distilbert.transformer.layer.2.attention.q_lin.weight True\n",
            "distilbert.transformer.layer.2.attention.q_lin.bias True\n",
            "distilbert.transformer.layer.2.attention.k_lin.weight True\n",
            "distilbert.transformer.layer.2.attention.k_lin.bias True\n",
            "distilbert.transformer.layer.2.attention.v_lin.weight True\n",
            "distilbert.transformer.layer.2.attention.v_lin.bias True\n",
            "distilbert.transformer.layer.2.attention.out_lin.weight True\n",
            "distilbert.transformer.layer.2.attention.out_lin.bias True\n",
            "distilbert.transformer.layer.2.sa_layer_norm.weight True\n",
            "distilbert.transformer.layer.2.sa_layer_norm.bias True\n",
            "distilbert.transformer.layer.2.ffn.lin1.weight True\n",
            "distilbert.transformer.layer.2.ffn.lin1.bias True\n",
            "distilbert.transformer.layer.2.ffn.lin2.weight True\n",
            "distilbert.transformer.layer.2.ffn.lin2.bias True\n",
            "distilbert.transformer.layer.2.output_layer_norm.weight True\n",
            "distilbert.transformer.layer.2.output_layer_norm.bias True\n",
            "distilbert.transformer.layer.3.attention.q_lin.weight True\n",
            "distilbert.transformer.layer.3.attention.q_lin.bias True\n",
            "distilbert.transformer.layer.3.attention.k_lin.weight True\n",
            "distilbert.transformer.layer.3.attention.k_lin.bias True\n",
            "distilbert.transformer.layer.3.attention.v_lin.weight True\n",
            "distilbert.transformer.layer.3.attention.v_lin.bias True\n",
            "distilbert.transformer.layer.3.attention.out_lin.weight True\n",
            "distilbert.transformer.layer.3.attention.out_lin.bias True\n",
            "distilbert.transformer.layer.3.sa_layer_norm.weight True\n",
            "distilbert.transformer.layer.3.sa_layer_norm.bias True\n",
            "distilbert.transformer.layer.3.ffn.lin1.weight True\n",
            "distilbert.transformer.layer.3.ffn.lin1.bias True\n",
            "distilbert.transformer.layer.3.ffn.lin2.weight True\n",
            "distilbert.transformer.layer.3.ffn.lin2.bias True\n",
            "distilbert.transformer.layer.3.output_layer_norm.weight True\n",
            "distilbert.transformer.layer.3.output_layer_norm.bias True\n",
            "distilbert.transformer.layer.4.attention.q_lin.weight True\n",
            "distilbert.transformer.layer.4.attention.q_lin.bias True\n",
            "distilbert.transformer.layer.4.attention.k_lin.weight True\n",
            "distilbert.transformer.layer.4.attention.k_lin.bias True\n",
            "distilbert.transformer.layer.4.attention.v_lin.weight True\n",
            "distilbert.transformer.layer.4.attention.v_lin.bias True\n",
            "distilbert.transformer.layer.4.attention.out_lin.weight True\n",
            "distilbert.transformer.layer.4.attention.out_lin.bias True\n",
            "distilbert.transformer.layer.4.sa_layer_norm.weight True\n",
            "distilbert.transformer.layer.4.sa_layer_norm.bias True\n",
            "distilbert.transformer.layer.4.ffn.lin1.weight True\n",
            "distilbert.transformer.layer.4.ffn.lin1.bias True\n",
            "distilbert.transformer.layer.4.ffn.lin2.weight True\n",
            "distilbert.transformer.layer.4.ffn.lin2.bias True\n",
            "distilbert.transformer.layer.4.output_layer_norm.weight True\n",
            "distilbert.transformer.layer.4.output_layer_norm.bias True\n",
            "distilbert.transformer.layer.5.attention.q_lin.weight True\n",
            "distilbert.transformer.layer.5.attention.q_lin.bias True\n",
            "distilbert.transformer.layer.5.attention.k_lin.weight True\n",
            "distilbert.transformer.layer.5.attention.k_lin.bias True\n",
            "distilbert.transformer.layer.5.attention.v_lin.weight True\n",
            "distilbert.transformer.layer.5.attention.v_lin.bias True\n",
            "distilbert.transformer.layer.5.attention.out_lin.weight True\n",
            "distilbert.transformer.layer.5.attention.out_lin.bias True\n",
            "distilbert.transformer.layer.5.sa_layer_norm.weight True\n",
            "distilbert.transformer.layer.5.sa_layer_norm.bias True\n",
            "distilbert.transformer.layer.5.ffn.lin1.weight True\n",
            "distilbert.transformer.layer.5.ffn.lin1.bias True\n",
            "distilbert.transformer.layer.5.ffn.lin2.weight True\n",
            "distilbert.transformer.layer.5.ffn.lin2.bias True\n",
            "distilbert.transformer.layer.5.output_layer_norm.weight True\n",
            "distilbert.transformer.layer.5.output_layer_norm.bias True\n",
            "pre_classifier.weight True\n",
            "pre_classifier.bias True\n",
            "classifier.weight True\n",
            "classifier.bias True\n"
          ]
        }
      ],
      "source": [
        "#Check trainable layers of the model\n",
        "huggingface_manager.get_trainable_layers('frozen')\n"
      ]
    },
    {
      "cell_type": "code",
      "execution_count": 148,
      "metadata": {
        "id": "IMPCktrwYxTL"
      },
      "outputs": [],
      "source": [
        "#Freeze all distilbert layers\n",
        "huggingface_manager.freeze_layers('frozen')"
      ]
    },
    {
      "cell_type": "code",
      "execution_count": 149,
      "metadata": {
        "id": "9sspwyPcYxTL"
      },
      "outputs": [
        {
          "name": "stdout",
          "output_type": "stream",
          "text": [
            "distilbert.embeddings.word_embeddings.weight False\n",
            "distilbert.embeddings.position_embeddings.weight False\n",
            "distilbert.embeddings.LayerNorm.weight False\n",
            "distilbert.embeddings.LayerNorm.bias False\n",
            "distilbert.transformer.layer.0.attention.q_lin.weight False\n",
            "distilbert.transformer.layer.0.attention.q_lin.bias False\n",
            "distilbert.transformer.layer.0.attention.k_lin.weight False\n",
            "distilbert.transformer.layer.0.attention.k_lin.bias False\n",
            "distilbert.transformer.layer.0.attention.v_lin.weight False\n",
            "distilbert.transformer.layer.0.attention.v_lin.bias False\n",
            "distilbert.transformer.layer.0.attention.out_lin.weight False\n",
            "distilbert.transformer.layer.0.attention.out_lin.bias False\n",
            "distilbert.transformer.layer.0.sa_layer_norm.weight False\n",
            "distilbert.transformer.layer.0.sa_layer_norm.bias False\n",
            "distilbert.transformer.layer.0.ffn.lin1.weight False\n",
            "distilbert.transformer.layer.0.ffn.lin1.bias False\n",
            "distilbert.transformer.layer.0.ffn.lin2.weight False\n",
            "distilbert.transformer.layer.0.ffn.lin2.bias False\n",
            "distilbert.transformer.layer.0.output_layer_norm.weight False\n",
            "distilbert.transformer.layer.0.output_layer_norm.bias False\n",
            "distilbert.transformer.layer.1.attention.q_lin.weight False\n",
            "distilbert.transformer.layer.1.attention.q_lin.bias False\n",
            "distilbert.transformer.layer.1.attention.k_lin.weight False\n",
            "distilbert.transformer.layer.1.attention.k_lin.bias False\n",
            "distilbert.transformer.layer.1.attention.v_lin.weight False\n",
            "distilbert.transformer.layer.1.attention.v_lin.bias False\n",
            "distilbert.transformer.layer.1.attention.out_lin.weight False\n",
            "distilbert.transformer.layer.1.attention.out_lin.bias False\n",
            "distilbert.transformer.layer.1.sa_layer_norm.weight False\n",
            "distilbert.transformer.layer.1.sa_layer_norm.bias False\n",
            "distilbert.transformer.layer.1.ffn.lin1.weight False\n",
            "distilbert.transformer.layer.1.ffn.lin1.bias False\n",
            "distilbert.transformer.layer.1.ffn.lin2.weight False\n",
            "distilbert.transformer.layer.1.ffn.lin2.bias False\n",
            "distilbert.transformer.layer.1.output_layer_norm.weight False\n",
            "distilbert.transformer.layer.1.output_layer_norm.bias False\n",
            "distilbert.transformer.layer.2.attention.q_lin.weight False\n",
            "distilbert.transformer.layer.2.attention.q_lin.bias False\n",
            "distilbert.transformer.layer.2.attention.k_lin.weight False\n",
            "distilbert.transformer.layer.2.attention.k_lin.bias False\n",
            "distilbert.transformer.layer.2.attention.v_lin.weight False\n",
            "distilbert.transformer.layer.2.attention.v_lin.bias False\n",
            "distilbert.transformer.layer.2.attention.out_lin.weight False\n",
            "distilbert.transformer.layer.2.attention.out_lin.bias False\n",
            "distilbert.transformer.layer.2.sa_layer_norm.weight False\n",
            "distilbert.transformer.layer.2.sa_layer_norm.bias False\n",
            "distilbert.transformer.layer.2.ffn.lin1.weight False\n",
            "distilbert.transformer.layer.2.ffn.lin1.bias False\n",
            "distilbert.transformer.layer.2.ffn.lin2.weight False\n",
            "distilbert.transformer.layer.2.ffn.lin2.bias False\n",
            "distilbert.transformer.layer.2.output_layer_norm.weight False\n",
            "distilbert.transformer.layer.2.output_layer_norm.bias False\n",
            "distilbert.transformer.layer.3.attention.q_lin.weight False\n",
            "distilbert.transformer.layer.3.attention.q_lin.bias False\n",
            "distilbert.transformer.layer.3.attention.k_lin.weight False\n",
            "distilbert.transformer.layer.3.attention.k_lin.bias False\n",
            "distilbert.transformer.layer.3.attention.v_lin.weight False\n",
            "distilbert.transformer.layer.3.attention.v_lin.bias False\n",
            "distilbert.transformer.layer.3.attention.out_lin.weight False\n",
            "distilbert.transformer.layer.3.attention.out_lin.bias False\n",
            "distilbert.transformer.layer.3.sa_layer_norm.weight False\n",
            "distilbert.transformer.layer.3.sa_layer_norm.bias False\n",
            "distilbert.transformer.layer.3.ffn.lin1.weight False\n",
            "distilbert.transformer.layer.3.ffn.lin1.bias False\n",
            "distilbert.transformer.layer.3.ffn.lin2.weight False\n",
            "distilbert.transformer.layer.3.ffn.lin2.bias False\n",
            "distilbert.transformer.layer.3.output_layer_norm.weight False\n",
            "distilbert.transformer.layer.3.output_layer_norm.bias False\n",
            "distilbert.transformer.layer.4.attention.q_lin.weight False\n",
            "distilbert.transformer.layer.4.attention.q_lin.bias False\n",
            "distilbert.transformer.layer.4.attention.k_lin.weight False\n",
            "distilbert.transformer.layer.4.attention.k_lin.bias False\n",
            "distilbert.transformer.layer.4.attention.v_lin.weight False\n",
            "distilbert.transformer.layer.4.attention.v_lin.bias False\n",
            "distilbert.transformer.layer.4.attention.out_lin.weight False\n",
            "distilbert.transformer.layer.4.attention.out_lin.bias False\n",
            "distilbert.transformer.layer.4.sa_layer_norm.weight False\n",
            "distilbert.transformer.layer.4.sa_layer_norm.bias False\n",
            "distilbert.transformer.layer.4.ffn.lin1.weight False\n",
            "distilbert.transformer.layer.4.ffn.lin1.bias False\n",
            "distilbert.transformer.layer.4.ffn.lin2.weight False\n",
            "distilbert.transformer.layer.4.ffn.lin2.bias False\n",
            "distilbert.transformer.layer.4.output_layer_norm.weight False\n",
            "distilbert.transformer.layer.4.output_layer_norm.bias False\n",
            "distilbert.transformer.layer.5.attention.q_lin.weight False\n",
            "distilbert.transformer.layer.5.attention.q_lin.bias False\n",
            "distilbert.transformer.layer.5.attention.k_lin.weight False\n",
            "distilbert.transformer.layer.5.attention.k_lin.bias False\n",
            "distilbert.transformer.layer.5.attention.v_lin.weight False\n",
            "distilbert.transformer.layer.5.attention.v_lin.bias False\n",
            "distilbert.transformer.layer.5.attention.out_lin.weight False\n",
            "distilbert.transformer.layer.5.attention.out_lin.bias False\n",
            "distilbert.transformer.layer.5.sa_layer_norm.weight False\n",
            "distilbert.transformer.layer.5.sa_layer_norm.bias False\n",
            "distilbert.transformer.layer.5.ffn.lin1.weight False\n",
            "distilbert.transformer.layer.5.ffn.lin1.bias False\n",
            "distilbert.transformer.layer.5.ffn.lin2.weight False\n",
            "distilbert.transformer.layer.5.ffn.lin2.bias False\n",
            "distilbert.transformer.layer.5.output_layer_norm.weight False\n",
            "distilbert.transformer.layer.5.output_layer_norm.bias False\n",
            "pre_classifier.weight False\n",
            "pre_classifier.bias False\n",
            "classifier.weight False\n",
            "classifier.bias False\n"
          ]
        }
      ],
      "source": [
        "#Check again trainable and non trainable layers\n",
        "\n",
        "huggingface_manager.get_trainable_layers('frozen')\n"
      ]
    },
    {
      "cell_type": "code",
      "execution_count": 155,
      "metadata": {
        "id": "Ky3qBneKYxTM"
      },
      "outputs": [],
      "source": [
        "# Compile model\n",
        "# model with frozen layers and imbalanced dataset\n",
        "huggingface_manager.add_trainer(\n",
        "    \"frozen\",\"frozen_imbalanced\", HFproc_imbalanced_dataset\n",
        ")\n",
        "# model with frozen layers and balanced dataset\n",
        "huggingface_manager.add_trainer(\"frozen\",\"frozen_balanced\", HFproc_balanced_dataset)\n",
        "# full trainable model and imbalanced dataset\n",
        "huggingface_manager.add_trainer(\"main\",\"main_imbalanced\", HFproc_imbalanced_dataset)\n",
        "# full trainable model and balanced dataset\n",
        "huggingface_manager.add_trainer(\"main\",\"main_balanced\", HFproc_balanced_dataset)"
      ]
    },
    {
      "cell_type": "code",
      "execution_count": 157,
      "metadata": {
        "colab": {
          "base_uri": "https://localhost:8080/"
        },
        "id": "NutZzMMHYxTM",
        "outputId": "d85e9bc8-7102-42f6-bc71-0bfc35177c01"
      },
      "outputs": [
        {
          "data": {
            "text/plain": [
              "{'frozen_imbalanced': <transformers.trainer.Trainer at 0x1c3018be690>,\n",
              " 'frozen_balanced': <transformers.trainer.Trainer at 0x1c300f9e290>,\n",
              " 'main_imbalanced': <transformers.trainer.Trainer at 0x1c3e5054950>,\n",
              " 'main_balanced': <transformers.trainer.Trainer at 0x1c3e51e84d0>}"
            ]
          },
          "execution_count": 157,
          "metadata": {},
          "output_type": "execute_result"
        }
      ],
      "source": [
        "huggingface_manager.trainers"
      ]
    },
    {
      "cell_type": "code",
      "execution_count": null,
      "metadata": {
        "colab": {
          "base_uri": "https://localhost:8080/"
        },
        "id": "uJyWw6_rYxTN",
        "outputId": "2e577b2d-f7e6-4440-8f15-878964a02d7d"
      },
      "outputs": [
        {
          "name": "stdout",
          "output_type": "stream",
          "text": [
            "{'eval_loss': 0.42063993215560913, 'eval_accuracy': 0.8195876288659794, 'eval_f1': 0.822524545317873, 'eval_runtime': 1.17, 'eval_samples_per_second': 331.627, 'eval_steps_per_second': 5.983, 'epoch': 1.0}\n",
            "{'eval_loss': 0.4005722999572754, 'eval_accuracy': 0.8350515463917526, 'eval_f1': 0.8361486368160397, 'eval_runtime': 1.1614, 'eval_samples_per_second': 334.078, 'eval_steps_per_second': 6.027, 'epoch': 2.0}\n",
            "{'loss': 0.384, 'learning_rate': 1.570644718792867e-05, 'epoch': 2.06}\n",
            "{'eval_loss': 0.5161873698234558, 'eval_accuracy': 0.8298969072164949, 'eval_f1': 0.8309416387147296, 'eval_runtime': 1.1694, 'eval_samples_per_second': 331.796, 'eval_steps_per_second': 5.986, 'epoch': 3.0}\n",
            "{'train_runtime': 162.2176, 'train_samples_per_second': 71.681, 'train_steps_per_second': 4.494, 'train_loss': 0.29950033588173947, 'epoch': 3.0}\n",
            "Training execution time  -0.003429329000027792 2\n"
          ]
        }
      ],
      "source": [
        "#Train model and measure time\n",
        "# fully trainable model and imbalanced dataset\n",
        "huggingface_manager.train_trainer('main_imbalanced')\n"
      ]
    },
    {
      "cell_type": "code",
      "execution_count": null,
      "metadata": {
        "colab": {
          "base_uri": "https://localhost:8080/"
        },
        "id": "uZ4b55weTc4X",
        "outputId": "5f871da4-5e5b-49ff-8f20-159e79a928dd"
      },
      "outputs": [
        {
          "name": "stdout",
          "output_type": "stream",
          "text": [
            "{'eval_loss': 0.16250543296337128, 'eval_accuracy': 0.952054794520548, 'eval_f1': 0.9523733585428641, 'eval_runtime': 0.3, 'eval_samples_per_second': 486.695, 'eval_steps_per_second': 10.001, 'epoch': 1.0}\n",
            "{'eval_loss': 0.18538278341293335, 'eval_accuracy': 0.9657534246575342, 'eval_f1': 0.9657513699050086, 'eval_runtime': 0.3097, 'eval_samples_per_second': 471.449, 'eval_steps_per_second': 9.687, 'epoch': 2.0}\n",
            "{'eval_loss': 0.18359039723873138, 'eval_accuracy': 0.9726027397260274, 'eval_f1': 0.9726186240374108, 'eval_runtime': 0.3017, 'eval_samples_per_second': 483.959, 'eval_steps_per_second': 9.944, 'epoch': 3.0}\n",
            "{'train_runtime': 41.3616, 'train_samples_per_second': 105.097, 'train_steps_per_second': 6.6, 'train_loss': 0.09551458393697773, 'epoch': 3.0}\n",
            "Training execution time  42.25369381904602 2\n"
          ]
        }
      ],
      "source": [
        "#Train model and measure time\n",
        "# fully trainable model and imbalanced dataset\n",
        "huggingface_manager.train_trainer('main_balanced')\n"
      ]
    },
    {
      "cell_type": "code",
      "execution_count": null,
      "metadata": {
        "colab": {
          "base_uri": "https://localhost:8080/"
        },
        "id": "uJyWw6_rYxTN",
        "outputId": "2e577b2d-f7e6-4440-8f15-878964a02d7d"
      },
      "outputs": [
        {
          "name": "stdout",
          "output_type": "stream",
          "text": [
            "{'eval_loss': 0.42063993215560913, 'eval_accuracy': 0.8195876288659794, 'eval_f1': 0.822524545317873, 'eval_runtime': 1.17, 'eval_samples_per_second': 331.627, 'eval_steps_per_second': 5.983, 'epoch': 1.0}\n",
            "{'eval_loss': 0.4005722999572754, 'eval_accuracy': 0.8350515463917526, 'eval_f1': 0.8361486368160397, 'eval_runtime': 1.1614, 'eval_samples_per_second': 334.078, 'eval_steps_per_second': 6.027, 'epoch': 2.0}\n",
            "{'loss': 0.384, 'learning_rate': 1.570644718792867e-05, 'epoch': 2.06}\n",
            "{'eval_loss': 0.5161873698234558, 'eval_accuracy': 0.8298969072164949, 'eval_f1': 0.8309416387147296, 'eval_runtime': 1.1694, 'eval_samples_per_second': 331.796, 'eval_steps_per_second': 5.986, 'epoch': 3.0}\n",
            "{'train_runtime': 162.2176, 'train_samples_per_second': 71.681, 'train_steps_per_second': 4.494, 'train_loss': 0.29950033588173947, 'epoch': 3.0}\n",
            "Training execution time  -0.003429329000027792 2\n"
          ]
        }
      ],
      "source": [
        "#Train model and measure time\n",
        "# fully trainable model and imbalanced dataset\n",
        "huggingface_manager.train_trainer('main_imbalanced')\n"
      ]
    },
    {
      "cell_type": "code",
      "execution_count": null,
      "metadata": {
        "colab": {
          "base_uri": "https://localhost:8080/",
          "height": 449
        },
        "id": "rEuA1JGKdy1p",
        "outputId": "7ac3b9bd-1dd6-46c6-b402-bc528e0ce06a"
      },
      "outputs": [
        {
          "data": {
            "image/png": "[encoded data removed]",
            "text/plain": [
              "<Figure size 640x480 with 2 Axes>"
            ]
          },
          "metadata": {},
          "output_type": "display_data"
        }
      ],
      "source": [
        "huggingface_manager.plot_prediction('main_balanced',HFproc_balanced_dataset.tokenized_text_data)"
      ]
    },
    {
      "cell_type": "code",
      "execution_count": null,
      "metadata": {
        "id": "7I2ANG7cfbMK"
      },
      "outputs": [],
      "source": [
        "huggingface_manager.print_eval('main_balanced',HFproc_balanced_dataset.tokenized_text_data)"
      ]
    }
  ],
  "metadata": {
    "colab": {
      "collapsed_sections": [
        "dA0miLPWU4yn",
        "gzWYHmpCYxS8",
        "5JiEzSe-YxTC",
        "SurLQNltYxTC",
        "gL13rug6YxTD",
        "Q4OUHQPMYxTF",
        "6k_ZSYdXYxTF",
        "tj1U5eQZYxTG"
      ],
      "provenance": []
    },
    "kernelspec": {
      "display_name": "Python 3",
      "name": "python3"
    },
    "language_info": {
      "codemirror_mode": {
        "name": "ipython",
        "version": 3
      },
      "file_extension": ".py",
      "mimetype": "text/x-python",
      "name": "python",
      "nbconvert_exporter": "python",
      "pygments_lexer": "ipython3",
      "version": "3.11.4"
    },
    "widgets": {
      "application/vnd.jupyter.widget-state+json": {
        "004dabb938264d00aa9a31c347444ee3": {
          "model_module": "@jupyter-widgets/base",
          "model_module_version": "1.2.0",
          "model_name": "LayoutModel",
          "state": {
            "_model_module": "@jupyter-widgets/base",
            "_model_module_version": "1.2.0",
            "_model_name": "LayoutModel",
            "_view_count": null,
            "_view_module": "@jupyter-widgets/base",
            "_view_module_version": "1.2.0",
            "_view_name": "LayoutView",
            "align_content": null,
            "align_items": null,
            "align_self": null,
            "border": null,
            "bottom": null,
            "display": null,
            "flex": null,
            "flex_flow": null,
            "grid_area": null,
            "grid_auto_columns": null,
            "grid_auto_flow": null,
            "grid_auto_rows": null,
            "grid_column": null,
            "grid_gap": null,
            "grid_row": null,
            "grid_template_areas": null,
            "grid_template_columns": null,
            "grid_template_rows": null,
            "height": null,
            "justify_content": null,
            "justify_items": null,
            "left": null,
            "margin": null,
            "max_height": null,
            "max_width": null,
            "min_height": null,
            "min_width": null,
            "object_fit": null,
            "object_position": null,
            "order": null,
            "overflow": null,
            "overflow_x": null,
            "overflow_y": null,
            "padding": null,
            "right": null,
            "top": null,
            "visibility": null,
            "width": null
          }
        },
        "04917302c6ba4579a7d61aa28261de75": {
          "model_module": "@jupyter-widgets/controls",
          "model_module_version": "1.5.0",
          "model_name": "HTMLModel",
          "state": {
            "_dom_classes": [],
            "_model_module": "@jupyter-widgets/controls",
            "_model_module_version": "1.5.0",
            "_model_name": "HTMLModel",
            "_view_count": null,
            "_view_module": "@jupyter-widgets/controls",
            "_view_module_version": "1.5.0",
            "_view_name": "HTMLView",
            "description": "",
            "description_tooltip": null,
            "layout": "IPY_MODEL_94d1fdf30fe7487e8ead4662378de4f2",
            "placeholder": "​",
            "style": "IPY_MODEL_7dda8db78d50421c8cea10dfd7019390",
            "value": "Generating train split: "
          }
        },
        "057237a08cfe4a47b6e3df938f4ca602": {
          "model_module": "@jupyter-widgets/controls",
          "model_module_version": "1.5.0",
          "model_name": "DescriptionStyleModel",
          "state": {
            "_model_module": "@jupyter-widgets/controls",
            "_model_module_version": "1.5.0",
            "_model_name": "DescriptionStyleModel",
            "_view_count": null,
            "_view_module": "@jupyter-widgets/base",
            "_view_module_version": "1.2.0",
            "_view_name": "StyleView",
            "description_width": ""
          }
        },
        "058b744a578b4210a60f17035421c60b": {
          "model_module": "@jupyter-widgets/controls",
          "model_module_version": "1.5.0",
          "model_name": "FloatProgressModel",
          "state": {
            "_dom_classes": [],
            "_model_module": "@jupyter-widgets/controls",
            "_model_module_version": "1.5.0",
            "_model_name": "FloatProgressModel",
            "_view_count": null,
            "_view_module": "@jupyter-widgets/controls",
            "_view_module_version": "1.5.0",
            "_view_name": "ProgressView",
            "bar_style": "success",
            "description": "",
            "description_tooltip": null,
            "layout": "IPY_MODEL_09c99553c80041a0ab1b30d92feb6389",
            "max": 217,
            "min": 0,
            "orientation": "horizontal",
            "style": "IPY_MODEL_497b73fe66304fc6b3879637000563ec",
            "value": 217
          }
        },
        "05fd6969d6fe47e4bf56b99394ae19f7": {
          "model_module": "@jupyter-widgets/controls",
          "model_module_version": "1.5.0",
          "model_name": "HBoxModel",
          "state": {
            "_dom_classes": [],
            "_model_module": "@jupyter-widgets/controls",
            "_model_module_version": "1.5.0",
            "_model_name": "HBoxModel",
            "_view_count": null,
            "_view_module": "@jupyter-widgets/controls",
            "_view_module_version": "1.5.0",
            "_view_name": "HBoxView",
            "box_style": "",
            "children": [
              "IPY_MODEL_04917302c6ba4579a7d61aa28261de75",
              "IPY_MODEL_30f7d5f0754b4b1697b7613f3921764f",
              "IPY_MODEL_720267a5a9ea45fa8acc1779d4e3fc49"
            ],
            "layout": "IPY_MODEL_d7012f3b8a0c4c50a9979cf8a209145f"
          }
        },
        "090f2a08da354ec88c1db1866efd57be": {
          "model_module": "@jupyter-widgets/controls",
          "model_module_version": "1.5.0",
          "model_name": "FloatProgressModel",
          "state": {
            "_dom_classes": [],
            "_model_module": "@jupyter-widgets/controls",
            "_model_module_version": "1.5.0",
            "_model_name": "FloatProgressModel",
            "_view_count": null,
            "_view_module": "@jupyter-widgets/controls",
            "_view_module_version": "1.5.0",
            "_view_name": "ProgressView",
            "bar_style": "success",
            "description": "",
            "description_tooltip": null,
            "layout": "IPY_MODEL_004dabb938264d00aa9a31c347444ee3",
            "max": 146,
            "min": 0,
            "orientation": "horizontal",
            "style": "IPY_MODEL_8494cded81be4d408b0f6c464a9c6304",
            "value": 146
          }
        },
        "09c99553c80041a0ab1b30d92feb6389": {
          "model_module": "@jupyter-widgets/base",
          "model_module_version": "1.2.0",
          "model_name": "LayoutModel",
          "state": {
            "_model_module": "@jupyter-widgets/base",
            "_model_module_version": "1.2.0",
            "_model_name": "LayoutModel",
            "_view_count": null,
            "_view_module": "@jupyter-widgets/base",
            "_view_module_version": "1.2.0",
            "_view_name": "LayoutView",
            "align_content": null,
            "align_items": null,
            "align_self": null,
            "border": null,
            "bottom": null,
            "display": null,
            "flex": null,
            "flex_flow": null,
            "grid_area": null,
            "grid_auto_columns": null,
            "grid_auto_flow": null,
            "grid_auto_rows": null,
            "grid_column": null,
            "grid_gap": null,
            "grid_row": null,
            "grid_template_areas": null,
            "grid_template_columns": null,
            "grid_template_rows": null,
            "height": null,
            "justify_content": null,
            "justify_items": null,
            "left": null,
            "margin": null,
            "max_height": null,
            "max_width": null,
            "min_height": null,
            "min_width": null,
            "object_fit": null,
            "object_position": null,
            "order": null,
            "overflow": null,
            "overflow_x": null,
            "overflow_y": null,
            "padding": null,
            "right": null,
            "top": null,
            "visibility": null,
            "width": null
          }
        },
        "0ca1bf697cce4e7f8fe936a4a90889ec": {
          "model_module": "@jupyter-widgets/base",
          "model_module_version": "1.2.0",
          "model_name": "LayoutModel",
          "state": {
            "_model_module": "@jupyter-widgets/base",
            "_model_module_version": "1.2.0",
            "_model_name": "LayoutModel",
            "_view_count": null,
            "_view_module": "@jupyter-widgets/base",
            "_view_module_version": "1.2.0",
            "_view_name": "LayoutView",
            "align_content": null,
            "align_items": null,
            "align_self": null,
            "border": null,
            "bottom": null,
            "display": null,
            "flex": null,
            "flex_flow": null,
            "grid_area": null,
            "grid_auto_columns": null,
            "grid_auto_flow": null,
            "grid_auto_rows": null,
            "grid_column": null,
            "grid_gap": null,
            "grid_row": null,
            "grid_template_areas": null,
            "grid_template_columns": null,
            "grid_template_rows": null,
            "height": null,
            "justify_content": null,
            "justify_items": null,
            "left": null,
            "margin": null,
            "max_height": null,
            "max_width": null,
            "min_height": null,
            "min_width": null,
            "object_fit": null,
            "object_position": null,
            "order": null,
            "overflow": null,
            "overflow_x": null,
            "overflow_y": null,
            "padding": null,
            "right": null,
            "top": null,
            "visibility": null,
            "width": "20px"
          }
        },
        "0f9c9a801f2e4486b1680f526fc7125b": {
          "model_module": "@jupyter-widgets/base",
          "model_module_version": "1.2.0",
          "model_name": "LayoutModel",
          "state": {
            "_model_module": "@jupyter-widgets/base",
            "_model_module_version": "1.2.0",
            "_model_name": "LayoutModel",
            "_view_count": null,
            "_view_module": "@jupyter-widgets/base",
            "_view_module_version": "1.2.0",
            "_view_name": "LayoutView",
            "align_content": null,
            "align_items": null,
            "align_self": null,
            "border": null,
            "bottom": null,
            "display": null,
            "flex": null,
            "flex_flow": null,
            "grid_area": null,
            "grid_auto_columns": null,
            "grid_auto_flow": null,
            "grid_auto_rows": null,
            "grid_column": null,
            "grid_gap": null,
            "grid_row": null,
            "grid_template_areas": null,
            "grid_template_columns": null,
            "grid_template_rows": null,
            "height": null,
            "justify_content": null,
            "justify_items": null,
            "left": null,
            "margin": null,
            "max_height": null,
            "max_width": null,
            "min_height": null,
            "min_width": null,
            "object_fit": null,
            "object_position": null,
            "order": null,
            "overflow": null,
            "overflow_x": null,
            "overflow_y": null,
            "padding": null,
            "right": null,
            "top": null,
            "visibility": null,
            "width": null
          }
        },
        "10f80ca647024e508022ce2e0fbdf891": {
          "model_module": "@jupyter-widgets/controls",
          "model_module_version": "1.5.0",
          "model_name": "HBoxModel",
          "state": {
            "_dom_classes": [],
            "_model_module": "@jupyter-widgets/controls",
            "_model_module_version": "1.5.0",
            "_model_name": "HBoxModel",
            "_view_count": null,
            "_view_module": "@jupyter-widgets/controls",
            "_view_module_version": "1.5.0",
            "_view_name": "HBoxView",
            "box_style": "",
            "children": [
              "IPY_MODEL_5deef12631a145429b8fbfd24386c525",
              "IPY_MODEL_090f2a08da354ec88c1db1866efd57be",
              "IPY_MODEL_965d26b602c54db28035afeadc7dca45"
            ],
            "layout": "IPY_MODEL_c195728d9d3741f8a6b58b8670fdc88d"
          }
        },
        "1298d2391a404afda556da6c5b493b96": {
          "model_module": "@jupyter-widgets/base",
          "model_module_version": "1.2.0",
          "model_name": "LayoutModel",
          "state": {
            "_model_module": "@jupyter-widgets/base",
            "_model_module_version": "1.2.0",
            "_model_name": "LayoutModel",
            "_view_count": null,
            "_view_module": "@jupyter-widgets/base",
            "_view_module_version": "1.2.0",
            "_view_name": "LayoutView",
            "align_content": null,
            "align_items": null,
            "align_self": null,
            "border": null,
            "bottom": null,
            "display": null,
            "flex": null,
            "flex_flow": null,
            "grid_area": null,
            "grid_auto_columns": null,
            "grid_auto_flow": null,
            "grid_auto_rows": null,
            "grid_column": null,
            "grid_gap": null,
            "grid_row": null,
            "grid_template_areas": null,
            "grid_template_columns": null,
            "grid_template_rows": null,
            "height": null,
            "justify_content": null,
            "justify_items": null,
            "left": null,
            "margin": null,
            "max_height": null,
            "max_width": null,
            "min_height": null,
            "min_width": null,
            "object_fit": null,
            "object_position": null,
            "order": null,
            "overflow": null,
            "overflow_x": null,
            "overflow_y": null,
            "padding": null,
            "right": null,
            "top": null,
            "visibility": null,
            "width": null
          }
        },
        "187a17a972e7403dbf749bcb484c0f0b": {
          "model_module": "@jupyter-widgets/base",
          "model_module_version": "1.2.0",
          "model_name": "LayoutModel",
          "state": {
            "_model_module": "@jupyter-widgets/base",
            "_model_module_version": "1.2.0",
            "_model_name": "LayoutModel",
            "_view_count": null,
            "_view_module": "@jupyter-widgets/base",
            "_view_module_version": "1.2.0",
            "_view_name": "LayoutView",
            "align_content": null,
            "align_items": null,
            "align_self": null,
            "border": null,
            "bottom": null,
            "display": null,
            "flex": null,
            "flex_flow": null,
            "grid_area": null,
            "grid_auto_columns": null,
            "grid_auto_flow": null,
            "grid_auto_rows": null,
            "grid_column": null,
            "grid_gap": null,
            "grid_row": null,
            "grid_template_areas": null,
            "grid_template_columns": null,
            "grid_template_rows": null,
            "height": null,
            "justify_content": null,
            "justify_items": null,
            "left": null,
            "margin": null,
            "max_height": null,
            "max_width": null,
            "min_height": null,
            "min_width": null,
            "object_fit": null,
            "object_position": null,
            "order": null,
            "overflow": null,
            "overflow_x": null,
            "overflow_y": null,
            "padding": null,
            "right": null,
            "top": null,
            "visibility": null,
            "width": null
          }
        },
        "29f670c490b540759283b20703feaa4b": {
          "model_module": "@jupyter-widgets/base",
          "model_module_version": "1.2.0",
          "model_name": "LayoutModel",
          "state": {
            "_model_module": "@jupyter-widgets/base",
            "_model_module_version": "1.2.0",
            "_model_name": "LayoutModel",
            "_view_count": null,
            "_view_module": "@jupyter-widgets/base",
            "_view_module_version": "1.2.0",
            "_view_name": "LayoutView",
            "align_content": null,
            "align_items": null,
            "align_self": null,
            "border": null,
            "bottom": null,
            "display": null,
            "flex": null,
            "flex_flow": null,
            "grid_area": null,
            "grid_auto_columns": null,
            "grid_auto_flow": null,
            "grid_auto_rows": null,
            "grid_column": null,
            "grid_gap": null,
            "grid_row": null,
            "grid_template_areas": null,
            "grid_template_columns": null,
            "grid_template_rows": null,
            "height": null,
            "justify_content": null,
            "justify_items": null,
            "left": null,
            "margin": null,
            "max_height": null,
            "max_width": null,
            "min_height": null,
            "min_width": null,
            "object_fit": null,
            "object_position": null,
            "order": null,
            "overflow": null,
            "overflow_x": null,
            "overflow_y": null,
            "padding": null,
            "right": null,
            "top": null,
            "visibility": null,
            "width": null
          }
        },
        "2da8ab11290d4509825143d8014b7bd4": {
          "model_module": "@jupyter-widgets/controls",
          "model_module_version": "1.5.0",
          "model_name": "DescriptionStyleModel",
          "state": {
            "_model_module": "@jupyter-widgets/controls",
            "_model_module_version": "1.5.0",
            "_model_name": "DescriptionStyleModel",
            "_view_count": null,
            "_view_module": "@jupyter-widgets/base",
            "_view_module_version": "1.2.0",
            "_view_name": "StyleView",
            "description_width": ""
          }
        },
        "30f7d5f0754b4b1697b7613f3921764f": {
          "model_module": "@jupyter-widgets/controls",
          "model_module_version": "1.5.0",
          "model_name": "FloatProgressModel",
          "state": {
            "_dom_classes": [],
            "_model_module": "@jupyter-widgets/controls",
            "_model_module_version": "1.5.0",
            "_model_name": "FloatProgressModel",
            "_view_count": null,
            "_view_module": "@jupyter-widgets/controls",
            "_view_module_version": "1.5.0",
            "_view_name": "ProgressView",
            "bar_style": "success",
            "description": "",
            "description_tooltip": null,
            "layout": "IPY_MODEL_0ca1bf697cce4e7f8fe936a4a90889ec",
            "max": 1,
            "min": 0,
            "orientation": "horizontal",
            "style": "IPY_MODEL_351f34e315534340ac8350c722db7a99",
            "value": 1
          }
        },
        "351f34e315534340ac8350c722db7a99": {
          "model_module": "@jupyter-widgets/controls",
          "model_module_version": "1.5.0",
          "model_name": "ProgressStyleModel",
          "state": {
            "_model_module": "@jupyter-widgets/controls",
            "_model_module_version": "1.5.0",
            "_model_name": "ProgressStyleModel",
            "_view_count": null,
            "_view_module": "@jupyter-widgets/base",
            "_view_module_version": "1.2.0",
            "_view_name": "StyleView",
            "bar_color": null,
            "description_width": ""
          }
        },
        "375afcf77c2a46fbbd6e608cfd57ae9d": {
          "model_module": "@jupyter-widgets/base",
          "model_module_version": "1.2.0",
          "model_name": "LayoutModel",
          "state": {
            "_model_module": "@jupyter-widgets/base",
            "_model_module_version": "1.2.0",
            "_model_name": "LayoutModel",
            "_view_count": null,
            "_view_module": "@jupyter-widgets/base",
            "_view_module_version": "1.2.0",
            "_view_name": "LayoutView",
            "align_content": null,
            "align_items": null,
            "align_self": null,
            "border": null,
            "bottom": null,
            "display": null,
            "flex": null,
            "flex_flow": null,
            "grid_area": null,
            "grid_auto_columns": null,
            "grid_auto_flow": null,
            "grid_auto_rows": null,
            "grid_column": null,
            "grid_gap": null,
            "grid_row": null,
            "grid_template_areas": null,
            "grid_template_columns": null,
            "grid_template_rows": null,
            "height": null,
            "justify_content": null,
            "justify_items": null,
            "left": null,
            "margin": null,
            "max_height": null,
            "max_width": null,
            "min_height": null,
            "min_width": null,
            "object_fit": null,
            "object_position": null,
            "order": null,
            "overflow": null,
            "overflow_x": null,
            "overflow_y": null,
            "padding": null,
            "right": null,
            "top": null,
            "visibility": null,
            "width": null
          }
        },
        "3e3e338e4312459a923e20976843cb54": {
          "model_module": "@jupyter-widgets/controls",
          "model_module_version": "1.5.0",
          "model_name": "ProgressStyleModel",
          "state": {
            "_model_module": "@jupyter-widgets/controls",
            "_model_module_version": "1.5.0",
            "_model_name": "ProgressStyleModel",
            "_view_count": null,
            "_view_module": "@jupyter-widgets/base",
            "_view_module_version": "1.2.0",
            "_view_name": "StyleView",
            "bar_color": null,
            "description_width": ""
          }
        },
        "40f7abed59874dc5ab360b5ba015b66d": {
          "model_module": "@jupyter-widgets/base",
          "model_module_version": "1.2.0",
          "model_name": "LayoutModel",
          "state": {
            "_model_module": "@jupyter-widgets/base",
            "_model_module_version": "1.2.0",
            "_model_name": "LayoutModel",
            "_view_count": null,
            "_view_module": "@jupyter-widgets/base",
            "_view_module_version": "1.2.0",
            "_view_name": "LayoutView",
            "align_content": null,
            "align_items": null,
            "align_self": null,
            "border": null,
            "bottom": null,
            "display": null,
            "flex": null,
            "flex_flow": null,
            "grid_area": null,
            "grid_auto_columns": null,
            "grid_auto_flow": null,
            "grid_auto_rows": null,
            "grid_column": null,
            "grid_gap": null,
            "grid_row": null,
            "grid_template_areas": null,
            "grid_template_columns": null,
            "grid_template_rows": null,
            "height": null,
            "justify_content": null,
            "justify_items": null,
            "left": null,
            "margin": null,
            "max_height": null,
            "max_width": null,
            "min_height": null,
            "min_width": null,
            "object_fit": null,
            "object_position": null,
            "order": null,
            "overflow": null,
            "overflow_x": null,
            "overflow_y": null,
            "padding": null,
            "right": null,
            "top": null,
            "visibility": null,
            "width": null
          }
        },
        "42e7749e0c5d4d848b246c7bed1d7df6": {
          "model_module": "@jupyter-widgets/controls",
          "model_module_version": "1.5.0",
          "model_name": "HTMLModel",
          "state": {
            "_dom_classes": [],
            "_model_module": "@jupyter-widgets/controls",
            "_model_module_version": "1.5.0",
            "_model_name": "HTMLModel",
            "_view_count": null,
            "_view_module": "@jupyter-widgets/controls",
            "_view_module_version": "1.5.0",
            "_view_name": "HTMLView",
            "description": "",
            "description_tooltip": null,
            "layout": "IPY_MODEL_fbd2fe67529a4d0690c2a5ea70712dd6",
            "placeholder": "​",
            "style": "IPY_MODEL_afbde88d18f64a55ad56e74356819485",
            "value": "Map: 100%"
          }
        },
        "47164737d7164864984e67413369504d": {
          "model_module": "@jupyter-widgets/controls",
          "model_module_version": "1.5.0",
          "model_name": "FloatProgressModel",
          "state": {
            "_dom_classes": [],
            "_model_module": "@jupyter-widgets/controls",
            "_model_module_version": "1.5.0",
            "_model_name": "FloatProgressModel",
            "_view_count": null,
            "_view_module": "@jupyter-widgets/controls",
            "_view_module_version": "1.5.0",
            "_view_name": "ProgressView",
            "bar_style": "success",
            "description": "",
            "description_tooltip": null,
            "layout": "IPY_MODEL_a39961e7ce8a4280b1a5f92c7b3c14db",
            "max": 1449,
            "min": 0,
            "orientation": "horizontal",
            "style": "IPY_MODEL_3e3e338e4312459a923e20976843cb54",
            "value": 1449
          }
        },
        "488eb516f54a44e19d39338375cbd3a7": {
          "model_module": "@jupyter-widgets/controls",
          "model_module_version": "1.5.0",
          "model_name": "HTMLModel",
          "state": {
            "_dom_classes": [],
            "_model_module": "@jupyter-widgets/controls",
            "_model_module_version": "1.5.0",
            "_model_name": "HTMLModel",
            "_view_count": null,
            "_view_module": "@jupyter-widgets/controls",
            "_view_module_version": "1.5.0",
            "_view_name": "HTMLView",
            "description": "",
            "description_tooltip": null,
            "layout": "IPY_MODEL_76b8717d8bd645c5bd1c570e60f223e5",
            "placeholder": "​",
            "style": "IPY_MODEL_ff654c8408404422a9f9d8117b8946b0",
            "value": " 1449/1449 [00:00&lt;00:00, 2104.03 examples/s]"
          }
        },
        "497b73fe66304fc6b3879637000563ec": {
          "model_module": "@jupyter-widgets/controls",
          "model_module_version": "1.5.0",
          "model_name": "ProgressStyleModel",
          "state": {
            "_model_module": "@jupyter-widgets/controls",
            "_model_module_version": "1.5.0",
            "_model_name": "ProgressStyleModel",
            "_view_count": null,
            "_view_module": "@jupyter-widgets/base",
            "_view_module_version": "1.2.0",
            "_view_name": "StyleView",
            "bar_color": null,
            "description_width": ""
          }
        },
        "4c825ed75440433e8456415bbd33e873": {
          "model_module": "@jupyter-widgets/controls",
          "model_module_version": "1.5.0",
          "model_name": "DescriptionStyleModel",
          "state": {
            "_model_module": "@jupyter-widgets/controls",
            "_model_module_version": "1.5.0",
            "_model_name": "DescriptionStyleModel",
            "_view_count": null,
            "_view_module": "@jupyter-widgets/base",
            "_view_module_version": "1.2.0",
            "_view_name": "StyleView",
            "description_width": ""
          }
        },
        "4d3f12b46ec544d3aa7ba754e829f775": {
          "model_module": "@jupyter-widgets/controls",
          "model_module_version": "1.5.0",
          "model_name": "DescriptionStyleModel",
          "state": {
            "_model_module": "@jupyter-widgets/controls",
            "_model_module_version": "1.5.0",
            "_model_name": "DescriptionStyleModel",
            "_view_count": null,
            "_view_module": "@jupyter-widgets/base",
            "_view_module_version": "1.2.0",
            "_view_name": "StyleView",
            "description_width": ""
          }
        },
        "5076591618ca4b398d1254909f9e87fe": {
          "model_module": "@jupyter-widgets/base",
          "model_module_version": "1.2.0",
          "model_name": "LayoutModel",
          "state": {
            "_model_module": "@jupyter-widgets/base",
            "_model_module_version": "1.2.0",
            "_model_name": "LayoutModel",
            "_view_count": null,
            "_view_module": "@jupyter-widgets/base",
            "_view_module_version": "1.2.0",
            "_view_name": "LayoutView",
            "align_content": null,
            "align_items": null,
            "align_self": null,
            "border": null,
            "bottom": null,
            "display": null,
            "flex": null,
            "flex_flow": null,
            "grid_area": null,
            "grid_auto_columns": null,
            "grid_auto_flow": null,
            "grid_auto_rows": null,
            "grid_column": null,
            "grid_gap": null,
            "grid_row": null,
            "grid_template_areas": null,
            "grid_template_columns": null,
            "grid_template_rows": null,
            "height": null,
            "justify_content": null,
            "justify_items": null,
            "left": null,
            "margin": null,
            "max_height": null,
            "max_width": null,
            "min_height": null,
            "min_width": null,
            "object_fit": null,
            "object_position": null,
            "order": null,
            "overflow": null,
            "overflow_x": null,
            "overflow_y": null,
            "padding": null,
            "right": null,
            "top": null,
            "visibility": null,
            "width": null
          }
        },
        "542e67d7b88d4bb4b3a88501f9681a0a": {
          "model_module": "@jupyter-widgets/controls",
          "model_module_version": "1.5.0",
          "model_name": "HTMLModel",
          "state": {
            "_dom_classes": [],
            "_model_module": "@jupyter-widgets/controls",
            "_model_module_version": "1.5.0",
            "_model_name": "HTMLModel",
            "_view_count": null,
            "_view_module": "@jupyter-widgets/controls",
            "_view_module_version": "1.5.0",
            "_view_name": "HTMLView",
            "description": "",
            "description_tooltip": null,
            "layout": "IPY_MODEL_a16f5aaf59874d38b301ab571d3d3f95",
            "placeholder": "​",
            "style": "IPY_MODEL_76d75038cbe84104a6c08cec7a8f3899",
            "value": " 217/217 [00:00&lt;00:00, 2062.96 examples/s]"
          }
        },
        "5990bf776b6b4747a136a4487bc11b18": {
          "model_module": "@jupyter-widgets/controls",
          "model_module_version": "1.5.0",
          "model_name": "HTMLModel",
          "state": {
            "_dom_classes": [],
            "_model_module": "@jupyter-widgets/controls",
            "_model_module_version": "1.5.0",
            "_model_name": "HTMLModel",
            "_view_count": null,
            "_view_module": "@jupyter-widgets/controls",
            "_view_module_version": "1.5.0",
            "_view_name": "HTMLView",
            "description": "",
            "description_tooltip": null,
            "layout": "IPY_MODEL_76184437161d4146b1c8418e3d3bbb61",
            "placeholder": "​",
            "style": "IPY_MODEL_4d3f12b46ec544d3aa7ba754e829f775",
            "value": " 582/582 [00:00&lt;00:00, 2384.71 examples/s]"
          }
        },
        "5c424a3cb3a74cdd8d65550c9f738045": {
          "model_module": "@jupyter-widgets/controls",
          "model_module_version": "1.5.0",
          "model_name": "HTMLModel",
          "state": {
            "_dom_classes": [],
            "_model_module": "@jupyter-widgets/controls",
            "_model_module_version": "1.5.0",
            "_model_name": "HTMLModel",
            "_view_count": null,
            "_view_module": "@jupyter-widgets/controls",
            "_view_module_version": "1.5.0",
            "_view_name": "HTMLView",
            "description": "",
            "description_tooltip": null,
            "layout": "IPY_MODEL_b43fe24f4ece41f0b2fab52fb2c0b722",
            "placeholder": "​",
            "style": "IPY_MODEL_b83951eb2dfc4338837521cbad5677a0",
            "value": "Map: 100%"
          }
        },
        "5deef12631a145429b8fbfd24386c525": {
          "model_module": "@jupyter-widgets/controls",
          "model_module_version": "1.5.0",
          "model_name": "HTMLModel",
          "state": {
            "_dom_classes": [],
            "_model_module": "@jupyter-widgets/controls",
            "_model_module_version": "1.5.0",
            "_model_name": "HTMLModel",
            "_view_count": null,
            "_view_module": "@jupyter-widgets/controls",
            "_view_module_version": "1.5.0",
            "_view_name": "HTMLView",
            "description": "",
            "description_tooltip": null,
            "layout": "IPY_MODEL_da2d671690a1418d8f4fae1373bc2da6",
            "placeholder": "​",
            "style": "IPY_MODEL_4c825ed75440433e8456415bbd33e873",
            "value": "Map: 100%"
          }
        },
        "648aec4827614ca09f4325aac8d80b44": {
          "model_module": "@jupyter-widgets/controls",
          "model_module_version": "1.5.0",
          "model_name": "HBoxModel",
          "state": {
            "_dom_classes": [],
            "_model_module": "@jupyter-widgets/controls",
            "_model_module_version": "1.5.0",
            "_model_name": "HBoxModel",
            "_view_count": null,
            "_view_module": "@jupyter-widgets/controls",
            "_view_module_version": "1.5.0",
            "_view_name": "HBoxView",
            "box_style": "",
            "children": [
              "IPY_MODEL_5c424a3cb3a74cdd8d65550c9f738045",
              "IPY_MODEL_db31e50ba31f47a29c05f65dd8a29776",
              "IPY_MODEL_5990bf776b6b4747a136a4487bc11b18"
            ],
            "layout": "IPY_MODEL_be502a5c86fe49b78ca04a7aa3595e41"
          }
        },
        "6578971a53c24c80bc1f9aeab1937d36": {
          "model_module": "@jupyter-widgets/controls",
          "model_module_version": "1.5.0",
          "model_name": "ProgressStyleModel",
          "state": {
            "_model_module": "@jupyter-widgets/controls",
            "_model_module_version": "1.5.0",
            "_model_name": "ProgressStyleModel",
            "_view_count": null,
            "_view_module": "@jupyter-widgets/base",
            "_view_module_version": "1.2.0",
            "_view_name": "StyleView",
            "bar_color": null,
            "description_width": ""
          }
        },
        "66b0bb3b4ecd46eda0a3c028604d2623": {
          "model_module": "@jupyter-widgets/base",
          "model_module_version": "1.2.0",
          "model_name": "LayoutModel",
          "state": {
            "_model_module": "@jupyter-widgets/base",
            "_model_module_version": "1.2.0",
            "_model_name": "LayoutModel",
            "_view_count": null,
            "_view_module": "@jupyter-widgets/base",
            "_view_module_version": "1.2.0",
            "_view_name": "LayoutView",
            "align_content": null,
            "align_items": null,
            "align_self": null,
            "border": null,
            "bottom": null,
            "display": null,
            "flex": null,
            "flex_flow": null,
            "grid_area": null,
            "grid_auto_columns": null,
            "grid_auto_flow": null,
            "grid_auto_rows": null,
            "grid_column": null,
            "grid_gap": null,
            "grid_row": null,
            "grid_template_areas": null,
            "grid_template_columns": null,
            "grid_template_rows": null,
            "height": null,
            "justify_content": null,
            "justify_items": null,
            "left": null,
            "margin": null,
            "max_height": null,
            "max_width": null,
            "min_height": null,
            "min_width": null,
            "object_fit": null,
            "object_position": null,
            "order": null,
            "overflow": null,
            "overflow_x": null,
            "overflow_y": null,
            "padding": null,
            "right": null,
            "top": null,
            "visibility": null,
            "width": null
          }
        },
        "66c4a80feda04948a869eb28a0dd22c8": {
          "model_module": "@jupyter-widgets/base",
          "model_module_version": "1.2.0",
          "model_name": "LayoutModel",
          "state": {
            "_model_module": "@jupyter-widgets/base",
            "_model_module_version": "1.2.0",
            "_model_name": "LayoutModel",
            "_view_count": null,
            "_view_module": "@jupyter-widgets/base",
            "_view_module_version": "1.2.0",
            "_view_name": "LayoutView",
            "align_content": null,
            "align_items": null,
            "align_self": null,
            "border": null,
            "bottom": null,
            "display": null,
            "flex": null,
            "flex_flow": null,
            "grid_area": null,
            "grid_auto_columns": null,
            "grid_auto_flow": null,
            "grid_auto_rows": null,
            "grid_column": null,
            "grid_gap": null,
            "grid_row": null,
            "grid_template_areas": null,
            "grid_template_columns": null,
            "grid_template_rows": null,
            "height": null,
            "justify_content": null,
            "justify_items": null,
            "left": null,
            "margin": null,
            "max_height": null,
            "max_width": null,
            "min_height": null,
            "min_width": null,
            "object_fit": null,
            "object_position": null,
            "order": null,
            "overflow": null,
            "overflow_x": null,
            "overflow_y": null,
            "padding": null,
            "right": null,
            "top": null,
            "visibility": null,
            "width": null
          }
        },
        "6a22d8ebf1ce402991dc2fbfd9cca6d1": {
          "model_module": "@jupyter-widgets/controls",
          "model_module_version": "1.5.0",
          "model_name": "HTMLModel",
          "state": {
            "_dom_classes": [],
            "_model_module": "@jupyter-widgets/controls",
            "_model_module_version": "1.5.0",
            "_model_name": "HTMLModel",
            "_view_count": null,
            "_view_module": "@jupyter-widgets/controls",
            "_view_module_version": "1.5.0",
            "_view_name": "HTMLView",
            "description": "",
            "description_tooltip": null,
            "layout": "IPY_MODEL_1298d2391a404afda556da6c5b493b96",
            "placeholder": "​",
            "style": "IPY_MODEL_88b462f2b4fa4ab894732d0e2992d222",
            "value": "Map: 100%"
          }
        },
        "6bab18a1b8dd4e62acc893ecf701eecf": {
          "model_module": "@jupyter-widgets/controls",
          "model_module_version": "1.5.0",
          "model_name": "ProgressStyleModel",
          "state": {
            "_model_module": "@jupyter-widgets/controls",
            "_model_module_version": "1.5.0",
            "_model_name": "ProgressStyleModel",
            "_view_count": null,
            "_view_module": "@jupyter-widgets/base",
            "_view_module_version": "1.2.0",
            "_view_name": "StyleView",
            "bar_color": null,
            "description_width": ""
          }
        },
        "720267a5a9ea45fa8acc1779d4e3fc49": {
          "model_module": "@jupyter-widgets/controls",
          "model_module_version": "1.5.0",
          "model_name": "HTMLModel",
          "state": {
            "_dom_classes": [],
            "_model_module": "@jupyter-widgets/controls",
            "_model_module_version": "1.5.0",
            "_model_name": "HTMLModel",
            "_view_count": null,
            "_view_module": "@jupyter-widgets/controls",
            "_view_module_version": "1.5.0",
            "_view_name": "HTMLView",
            "description": "",
            "description_tooltip": null,
            "layout": "IPY_MODEL_40f7abed59874dc5ab360b5ba015b66d",
            "placeholder": "​",
            "style": "IPY_MODEL_2da8ab11290d4509825143d8014b7bd4",
            "value": " 4846/0 [00:00&lt;00:00, 45521.95 examples/s]"
          }
        },
        "75deb9981a244e7284972199749c6a64": {
          "model_module": "@jupyter-widgets/controls",
          "model_module_version": "1.5.0",
          "model_name": "HBoxModel",
          "state": {
            "_dom_classes": [],
            "_model_module": "@jupyter-widgets/controls",
            "_model_module_version": "1.5.0",
            "_model_name": "HBoxModel",
            "_view_count": null,
            "_view_module": "@jupyter-widgets/controls",
            "_view_module_version": "1.5.0",
            "_view_name": "HBoxView",
            "box_style": "",
            "children": [
              "IPY_MODEL_f5202f872ee9458ba8f160507f8e9ab8",
              "IPY_MODEL_058b744a578b4210a60f17035421c60b",
              "IPY_MODEL_542e67d7b88d4bb4b3a88501f9681a0a"
            ],
            "layout": "IPY_MODEL_375afcf77c2a46fbbd6e608cfd57ae9d"
          }
        },
        "76184437161d4146b1c8418e3d3bbb61": {
          "model_module": "@jupyter-widgets/base",
          "model_module_version": "1.2.0",
          "model_name": "LayoutModel",
          "state": {
            "_model_module": "@jupyter-widgets/base",
            "_model_module_version": "1.2.0",
            "_model_name": "LayoutModel",
            "_view_count": null,
            "_view_module": "@jupyter-widgets/base",
            "_view_module_version": "1.2.0",
            "_view_name": "LayoutView",
            "align_content": null,
            "align_items": null,
            "align_self": null,
            "border": null,
            "bottom": null,
            "display": null,
            "flex": null,
            "flex_flow": null,
            "grid_area": null,
            "grid_auto_columns": null,
            "grid_auto_flow": null,
            "grid_auto_rows": null,
            "grid_column": null,
            "grid_gap": null,
            "grid_row": null,
            "grid_template_areas": null,
            "grid_template_columns": null,
            "grid_template_rows": null,
            "height": null,
            "justify_content": null,
            "justify_items": null,
            "left": null,
            "margin": null,
            "max_height": null,
            "max_width": null,
            "min_height": null,
            "min_width": null,
            "object_fit": null,
            "object_position": null,
            "order": null,
            "overflow": null,
            "overflow_x": null,
            "overflow_y": null,
            "padding": null,
            "right": null,
            "top": null,
            "visibility": null,
            "width": null
          }
        },
        "76b8717d8bd645c5bd1c570e60f223e5": {
          "model_module": "@jupyter-widgets/base",
          "model_module_version": "1.2.0",
          "model_name": "LayoutModel",
          "state": {
            "_model_module": "@jupyter-widgets/base",
            "_model_module_version": "1.2.0",
            "_model_name": "LayoutModel",
            "_view_count": null,
            "_view_module": "@jupyter-widgets/base",
            "_view_module_version": "1.2.0",
            "_view_name": "LayoutView",
            "align_content": null,
            "align_items": null,
            "align_self": null,
            "border": null,
            "bottom": null,
            "display": null,
            "flex": null,
            "flex_flow": null,
            "grid_area": null,
            "grid_auto_columns": null,
            "grid_auto_flow": null,
            "grid_auto_rows": null,
            "grid_column": null,
            "grid_gap": null,
            "grid_row": null,
            "grid_template_areas": null,
            "grid_template_columns": null,
            "grid_template_rows": null,
            "height": null,
            "justify_content": null,
            "justify_items": null,
            "left": null,
            "margin": null,
            "max_height": null,
            "max_width": null,
            "min_height": null,
            "min_width": null,
            "object_fit": null,
            "object_position": null,
            "order": null,
            "overflow": null,
            "overflow_x": null,
            "overflow_y": null,
            "padding": null,
            "right": null,
            "top": null,
            "visibility": null,
            "width": null
          }
        },
        "76cbab5247884b979efac23b806231db": {
          "model_module": "@jupyter-widgets/base",
          "model_module_version": "1.2.0",
          "model_name": "LayoutModel",
          "state": {
            "_model_module": "@jupyter-widgets/base",
            "_model_module_version": "1.2.0",
            "_model_name": "LayoutModel",
            "_view_count": null,
            "_view_module": "@jupyter-widgets/base",
            "_view_module_version": "1.2.0",
            "_view_name": "LayoutView",
            "align_content": null,
            "align_items": null,
            "align_self": null,
            "border": null,
            "bottom": null,
            "display": null,
            "flex": null,
            "flex_flow": null,
            "grid_area": null,
            "grid_auto_columns": null,
            "grid_auto_flow": null,
            "grid_auto_rows": null,
            "grid_column": null,
            "grid_gap": null,
            "grid_row": null,
            "grid_template_areas": null,
            "grid_template_columns": null,
            "grid_template_rows": null,
            "height": null,
            "justify_content": null,
            "justify_items": null,
            "left": null,
            "margin": null,
            "max_height": null,
            "max_width": null,
            "min_height": null,
            "min_width": null,
            "object_fit": null,
            "object_position": null,
            "order": null,
            "overflow": null,
            "overflow_x": null,
            "overflow_y": null,
            "padding": null,
            "right": null,
            "top": null,
            "visibility": null,
            "width": null
          }
        },
        "76d75038cbe84104a6c08cec7a8f3899": {
          "model_module": "@jupyter-widgets/controls",
          "model_module_version": "1.5.0",
          "model_name": "DescriptionStyleModel",
          "state": {
            "_model_module": "@jupyter-widgets/controls",
            "_model_module_version": "1.5.0",
            "_model_name": "DescriptionStyleModel",
            "_view_count": null,
            "_view_module": "@jupyter-widgets/base",
            "_view_module_version": "1.2.0",
            "_view_name": "StyleView",
            "description_width": ""
          }
        },
        "7dad58af56e94e279d4950cdbdd3b601": {
          "model_module": "@jupyter-widgets/controls",
          "model_module_version": "1.5.0",
          "model_name": "HTMLModel",
          "state": {
            "_dom_classes": [],
            "_model_module": "@jupyter-widgets/controls",
            "_model_module_version": "1.5.0",
            "_model_name": "HTMLModel",
            "_view_count": null,
            "_view_module": "@jupyter-widgets/controls",
            "_view_module_version": "1.5.0",
            "_view_name": "HTMLView",
            "description": "",
            "description_tooltip": null,
            "layout": "IPY_MODEL_66c4a80feda04948a869eb28a0dd22c8",
            "placeholder": "​",
            "style": "IPY_MODEL_057237a08cfe4a47b6e3df938f4ca602",
            "value": " 1812/0 [00:00&lt;00:00, 26143.70 examples/s]"
          }
        },
        "7dda8db78d50421c8cea10dfd7019390": {
          "model_module": "@jupyter-widgets/controls",
          "model_module_version": "1.5.0",
          "model_name": "DescriptionStyleModel",
          "state": {
            "_model_module": "@jupyter-widgets/controls",
            "_model_module_version": "1.5.0",
            "_model_name": "DescriptionStyleModel",
            "_view_count": null,
            "_view_module": "@jupyter-widgets/base",
            "_view_module_version": "1.2.0",
            "_view_name": "StyleView",
            "description_width": ""
          }
        },
        "7e30686ab9e742d5a02d0718462bfbdb": {
          "model_module": "@jupyter-widgets/controls",
          "model_module_version": "1.5.0",
          "model_name": "DescriptionStyleModel",
          "state": {
            "_model_module": "@jupyter-widgets/controls",
            "_model_module_version": "1.5.0",
            "_model_name": "DescriptionStyleModel",
            "_view_count": null,
            "_view_module": "@jupyter-widgets/base",
            "_view_module_version": "1.2.0",
            "_view_name": "StyleView",
            "description_width": ""
          }
        },
        "821885c0d28a40dfb71ffd457a55cd73": {
          "model_module": "@jupyter-widgets/base",
          "model_module_version": "1.2.0",
          "model_name": "LayoutModel",
          "state": {
            "_model_module": "@jupyter-widgets/base",
            "_model_module_version": "1.2.0",
            "_model_name": "LayoutModel",
            "_view_count": null,
            "_view_module": "@jupyter-widgets/base",
            "_view_module_version": "1.2.0",
            "_view_name": "LayoutView",
            "align_content": null,
            "align_items": null,
            "align_self": null,
            "border": null,
            "bottom": null,
            "display": null,
            "flex": null,
            "flex_flow": null,
            "grid_area": null,
            "grid_auto_columns": null,
            "grid_auto_flow": null,
            "grid_auto_rows": null,
            "grid_column": null,
            "grid_gap": null,
            "grid_row": null,
            "grid_template_areas": null,
            "grid_template_columns": null,
            "grid_template_rows": null,
            "height": null,
            "justify_content": null,
            "justify_items": null,
            "left": null,
            "margin": null,
            "max_height": null,
            "max_width": null,
            "min_height": null,
            "min_width": null,
            "object_fit": null,
            "object_position": null,
            "order": null,
            "overflow": null,
            "overflow_x": null,
            "overflow_y": null,
            "padding": null,
            "right": null,
            "top": null,
            "visibility": null,
            "width": null
          }
        },
        "83471bbfda1a4a0f91f77ebe0762c67d": {
          "model_module": "@jupyter-widgets/controls",
          "model_module_version": "1.5.0",
          "model_name": "DescriptionStyleModel",
          "state": {
            "_model_module": "@jupyter-widgets/controls",
            "_model_module_version": "1.5.0",
            "_model_name": "DescriptionStyleModel",
            "_view_count": null,
            "_view_module": "@jupyter-widgets/base",
            "_view_module_version": "1.2.0",
            "_view_name": "StyleView",
            "description_width": ""
          }
        },
        "83b23b2de93d48139d863cc057383704": {
          "model_module": "@jupyter-widgets/controls",
          "model_module_version": "1.5.0",
          "model_name": "HBoxModel",
          "state": {
            "_dom_classes": [],
            "_model_module": "@jupyter-widgets/controls",
            "_model_module_version": "1.5.0",
            "_model_name": "HBoxModel",
            "_view_count": null,
            "_view_module": "@jupyter-widgets/controls",
            "_view_module_version": "1.5.0",
            "_view_name": "HBoxView",
            "box_style": "",
            "children": [
              "IPY_MODEL_ca4891e4db214a57b5e368e6b114b289",
              "IPY_MODEL_dbf48ccd40e24185b3db107c7884fee1",
              "IPY_MODEL_7dad58af56e94e279d4950cdbdd3b601"
            ],
            "layout": "IPY_MODEL_f8ab6d78bd9a49d9976a385f2c9e25b3"
          }
        },
        "8494cded81be4d408b0f6c464a9c6304": {
          "model_module": "@jupyter-widgets/controls",
          "model_module_version": "1.5.0",
          "model_name": "ProgressStyleModel",
          "state": {
            "_model_module": "@jupyter-widgets/controls",
            "_model_module_version": "1.5.0",
            "_model_name": "ProgressStyleModel",
            "_view_count": null,
            "_view_module": "@jupyter-widgets/base",
            "_view_module_version": "1.2.0",
            "_view_name": "StyleView",
            "bar_color": null,
            "description_width": ""
          }
        },
        "868e1bd66a2942c28151040093ae2471": {
          "model_module": "@jupyter-widgets/controls",
          "model_module_version": "1.5.0",
          "model_name": "DescriptionStyleModel",
          "state": {
            "_model_module": "@jupyter-widgets/controls",
            "_model_module_version": "1.5.0",
            "_model_name": "DescriptionStyleModel",
            "_view_count": null,
            "_view_module": "@jupyter-widgets/base",
            "_view_module_version": "1.2.0",
            "_view_name": "StyleView",
            "description_width": ""
          }
        },
        "88b462f2b4fa4ab894732d0e2992d222": {
          "model_module": "@jupyter-widgets/controls",
          "model_module_version": "1.5.0",
          "model_name": "DescriptionStyleModel",
          "state": {
            "_model_module": "@jupyter-widgets/controls",
            "_model_module_version": "1.5.0",
            "_model_name": "DescriptionStyleModel",
            "_view_count": null,
            "_view_module": "@jupyter-widgets/base",
            "_view_module_version": "1.2.0",
            "_view_name": "StyleView",
            "description_width": ""
          }
        },
        "8bea0e5bc95e467fa9428672ca2c1b97": {
          "model_module": "@jupyter-widgets/controls",
          "model_module_version": "1.5.0",
          "model_name": "ProgressStyleModel",
          "state": {
            "_model_module": "@jupyter-widgets/controls",
            "_model_module_version": "1.5.0",
            "_model_name": "ProgressStyleModel",
            "_view_count": null,
            "_view_module": "@jupyter-widgets/base",
            "_view_module_version": "1.2.0",
            "_view_name": "StyleView",
            "bar_color": null,
            "description_width": ""
          }
        },
        "938947c33af5446da3b15af1ae6ff505": {
          "model_module": "@jupyter-widgets/controls",
          "model_module_version": "1.5.0",
          "model_name": "DescriptionStyleModel",
          "state": {
            "_model_module": "@jupyter-widgets/controls",
            "_model_module_version": "1.5.0",
            "_model_name": "DescriptionStyleModel",
            "_view_count": null,
            "_view_module": "@jupyter-widgets/base",
            "_view_module_version": "1.2.0",
            "_view_name": "StyleView",
            "description_width": ""
          }
        },
        "93d667ebc9484d84b2bf69063ffc3ca1": {
          "model_module": "@jupyter-widgets/controls",
          "model_module_version": "1.5.0",
          "model_name": "FloatProgressModel",
          "state": {
            "_dom_classes": [],
            "_model_module": "@jupyter-widgets/controls",
            "_model_module_version": "1.5.0",
            "_model_name": "FloatProgressModel",
            "_view_count": null,
            "_view_module": "@jupyter-widgets/controls",
            "_view_module_version": "1.5.0",
            "_view_name": "ProgressView",
            "bar_style": "success",
            "description": "",
            "description_tooltip": null,
            "layout": "IPY_MODEL_76cbab5247884b979efac23b806231db",
            "max": 388,
            "min": 0,
            "orientation": "horizontal",
            "style": "IPY_MODEL_6bab18a1b8dd4e62acc893ecf701eecf",
            "value": 388
          }
        },
        "94d1fdf30fe7487e8ead4662378de4f2": {
          "model_module": "@jupyter-widgets/base",
          "model_module_version": "1.2.0",
          "model_name": "LayoutModel",
          "state": {
            "_model_module": "@jupyter-widgets/base",
            "_model_module_version": "1.2.0",
            "_model_name": "LayoutModel",
            "_view_count": null,
            "_view_module": "@jupyter-widgets/base",
            "_view_module_version": "1.2.0",
            "_view_name": "LayoutView",
            "align_content": null,
            "align_items": null,
            "align_self": null,
            "border": null,
            "bottom": null,
            "display": null,
            "flex": null,
            "flex_flow": null,
            "grid_area": null,
            "grid_auto_columns": null,
            "grid_auto_flow": null,
            "grid_auto_rows": null,
            "grid_column": null,
            "grid_gap": null,
            "grid_row": null,
            "grid_template_areas": null,
            "grid_template_columns": null,
            "grid_template_rows": null,
            "height": null,
            "justify_content": null,
            "justify_items": null,
            "left": null,
            "margin": null,
            "max_height": null,
            "max_width": null,
            "min_height": null,
            "min_width": null,
            "object_fit": null,
            "object_position": null,
            "order": null,
            "overflow": null,
            "overflow_x": null,
            "overflow_y": null,
            "padding": null,
            "right": null,
            "top": null,
            "visibility": null,
            "width": null
          }
        },
        "965d26b602c54db28035afeadc7dca45": {
          "model_module": "@jupyter-widgets/controls",
          "model_module_version": "1.5.0",
          "model_name": "HTMLModel",
          "state": {
            "_dom_classes": [],
            "_model_module": "@jupyter-widgets/controls",
            "_model_module_version": "1.5.0",
            "_model_name": "HTMLModel",
            "_view_count": null,
            "_view_module": "@jupyter-widgets/controls",
            "_view_module_version": "1.5.0",
            "_view_name": "HTMLView",
            "description": "",
            "description_tooltip": null,
            "layout": "IPY_MODEL_f23f0e2393d3468bafb003d753089061",
            "placeholder": "​",
            "style": "IPY_MODEL_83471bbfda1a4a0f91f77ebe0762c67d",
            "value": " 146/146 [00:00&lt;00:00, 1449.63 examples/s]"
          }
        },
        "96bda260f3af4d4aa98f25a56f176c14": {
          "model_module": "@jupyter-widgets/controls",
          "model_module_version": "1.5.0",
          "model_name": "HBoxModel",
          "state": {
            "_dom_classes": [],
            "_model_module": "@jupyter-widgets/controls",
            "_model_module_version": "1.5.0",
            "_model_name": "HBoxModel",
            "_view_count": null,
            "_view_module": "@jupyter-widgets/controls",
            "_view_module_version": "1.5.0",
            "_view_name": "HBoxView",
            "box_style": "",
            "children": [
              "IPY_MODEL_f03a5cae1a534fe3929e48143c8236e8",
              "IPY_MODEL_93d667ebc9484d84b2bf69063ffc3ca1",
              "IPY_MODEL_e1437fd8331442c9ba7e8a09eb9c0ef1"
            ],
            "layout": "IPY_MODEL_9a980d1fd297450cad1a2daf84b239a2"
          }
        },
        "9a980d1fd297450cad1a2daf84b239a2": {
          "model_module": "@jupyter-widgets/base",
          "model_module_version": "1.2.0",
          "model_name": "LayoutModel",
          "state": {
            "_model_module": "@jupyter-widgets/base",
            "_model_module_version": "1.2.0",
            "_model_name": "LayoutModel",
            "_view_count": null,
            "_view_module": "@jupyter-widgets/base",
            "_view_module_version": "1.2.0",
            "_view_name": "LayoutView",
            "align_content": null,
            "align_items": null,
            "align_self": null,
            "border": null,
            "bottom": null,
            "display": null,
            "flex": null,
            "flex_flow": null,
            "grid_area": null,
            "grid_auto_columns": null,
            "grid_auto_flow": null,
            "grid_auto_rows": null,
            "grid_column": null,
            "grid_gap": null,
            "grid_row": null,
            "grid_template_areas": null,
            "grid_template_columns": null,
            "grid_template_rows": null,
            "height": null,
            "justify_content": null,
            "justify_items": null,
            "left": null,
            "margin": null,
            "max_height": null,
            "max_width": null,
            "min_height": null,
            "min_width": null,
            "object_fit": null,
            "object_position": null,
            "order": null,
            "overflow": null,
            "overflow_x": null,
            "overflow_y": null,
            "padding": null,
            "right": null,
            "top": null,
            "visibility": null,
            "width": null
          }
        },
        "a16f5aaf59874d38b301ab571d3d3f95": {
          "model_module": "@jupyter-widgets/base",
          "model_module_version": "1.2.0",
          "model_name": "LayoutModel",
          "state": {
            "_model_module": "@jupyter-widgets/base",
            "_model_module_version": "1.2.0",
            "_model_name": "LayoutModel",
            "_view_count": null,
            "_view_module": "@jupyter-widgets/base",
            "_view_module_version": "1.2.0",
            "_view_name": "LayoutView",
            "align_content": null,
            "align_items": null,
            "align_self": null,
            "border": null,
            "bottom": null,
            "display": null,
            "flex": null,
            "flex_flow": null,
            "grid_area": null,
            "grid_auto_columns": null,
            "grid_auto_flow": null,
            "grid_auto_rows": null,
            "grid_column": null,
            "grid_gap": null,
            "grid_row": null,
            "grid_template_areas": null,
            "grid_template_columns": null,
            "grid_template_rows": null,
            "height": null,
            "justify_content": null,
            "justify_items": null,
            "left": null,
            "margin": null,
            "max_height": null,
            "max_width": null,
            "min_height": null,
            "min_width": null,
            "object_fit": null,
            "object_position": null,
            "order": null,
            "overflow": null,
            "overflow_x": null,
            "overflow_y": null,
            "padding": null,
            "right": null,
            "top": null,
            "visibility": null,
            "width": null
          }
        },
        "a39961e7ce8a4280b1a5f92c7b3c14db": {
          "model_module": "@jupyter-widgets/base",
          "model_module_version": "1.2.0",
          "model_name": "LayoutModel",
          "state": {
            "_model_module": "@jupyter-widgets/base",
            "_model_module_version": "1.2.0",
            "_model_name": "LayoutModel",
            "_view_count": null,
            "_view_module": "@jupyter-widgets/base",
            "_view_module_version": "1.2.0",
            "_view_name": "LayoutView",
            "align_content": null,
            "align_items": null,
            "align_self": null,
            "border": null,
            "bottom": null,
            "display": null,
            "flex": null,
            "flex_flow": null,
            "grid_area": null,
            "grid_auto_columns": null,
            "grid_auto_flow": null,
            "grid_auto_rows": null,
            "grid_column": null,
            "grid_gap": null,
            "grid_row": null,
            "grid_template_areas": null,
            "grid_template_columns": null,
            "grid_template_rows": null,
            "height": null,
            "justify_content": null,
            "justify_items": null,
            "left": null,
            "margin": null,
            "max_height": null,
            "max_width": null,
            "min_height": null,
            "min_width": null,
            "object_fit": null,
            "object_position": null,
            "order": null,
            "overflow": null,
            "overflow_x": null,
            "overflow_y": null,
            "padding": null,
            "right": null,
            "top": null,
            "visibility": null,
            "width": null
          }
        },
        "adf928cf4e364eaeb7938d093bdfdda1": {
          "model_module": "@jupyter-widgets/base",
          "model_module_version": "1.2.0",
          "model_name": "LayoutModel",
          "state": {
            "_model_module": "@jupyter-widgets/base",
            "_model_module_version": "1.2.0",
            "_model_name": "LayoutModel",
            "_view_count": null,
            "_view_module": "@jupyter-widgets/base",
            "_view_module_version": "1.2.0",
            "_view_name": "LayoutView",
            "align_content": null,
            "align_items": null,
            "align_self": null,
            "border": null,
            "bottom": null,
            "display": null,
            "flex": null,
            "flex_flow": null,
            "grid_area": null,
            "grid_auto_columns": null,
            "grid_auto_flow": null,
            "grid_auto_rows": null,
            "grid_column": null,
            "grid_gap": null,
            "grid_row": null,
            "grid_template_areas": null,
            "grid_template_columns": null,
            "grid_template_rows": null,
            "height": null,
            "justify_content": null,
            "justify_items": null,
            "left": null,
            "margin": null,
            "max_height": null,
            "max_width": null,
            "min_height": null,
            "min_width": null,
            "object_fit": null,
            "object_position": null,
            "order": null,
            "overflow": null,
            "overflow_x": null,
            "overflow_y": null,
            "padding": null,
            "right": null,
            "top": null,
            "visibility": null,
            "width": null
          }
        },
        "ae076a4926014f9b98adff1a522996dd": {
          "model_module": "@jupyter-widgets/controls",
          "model_module_version": "1.5.0",
          "model_name": "ProgressStyleModel",
          "state": {
            "_model_module": "@jupyter-widgets/controls",
            "_model_module_version": "1.5.0",
            "_model_name": "ProgressStyleModel",
            "_view_count": null,
            "_view_module": "@jupyter-widgets/base",
            "_view_module_version": "1.2.0",
            "_view_name": "StyleView",
            "bar_color": null,
            "description_width": ""
          }
        },
        "afbde88d18f64a55ad56e74356819485": {
          "model_module": "@jupyter-widgets/controls",
          "model_module_version": "1.5.0",
          "model_name": "DescriptionStyleModel",
          "state": {
            "_model_module": "@jupyter-widgets/controls",
            "_model_module_version": "1.5.0",
            "_model_name": "DescriptionStyleModel",
            "_view_count": null,
            "_view_module": "@jupyter-widgets/base",
            "_view_module_version": "1.2.0",
            "_view_name": "StyleView",
            "description_width": ""
          }
        },
        "b43fe24f4ece41f0b2fab52fb2c0b722": {
          "model_module": "@jupyter-widgets/base",
          "model_module_version": "1.2.0",
          "model_name": "LayoutModel",
          "state": {
            "_model_module": "@jupyter-widgets/base",
            "_model_module_version": "1.2.0",
            "_model_name": "LayoutModel",
            "_view_count": null,
            "_view_module": "@jupyter-widgets/base",
            "_view_module_version": "1.2.0",
            "_view_name": "LayoutView",
            "align_content": null,
            "align_items": null,
            "align_self": null,
            "border": null,
            "bottom": null,
            "display": null,
            "flex": null,
            "flex_flow": null,
            "grid_area": null,
            "grid_auto_columns": null,
            "grid_auto_flow": null,
            "grid_auto_rows": null,
            "grid_column": null,
            "grid_gap": null,
            "grid_row": null,
            "grid_template_areas": null,
            "grid_template_columns": null,
            "grid_template_rows": null,
            "height": null,
            "justify_content": null,
            "justify_items": null,
            "left": null,
            "margin": null,
            "max_height": null,
            "max_width": null,
            "min_height": null,
            "min_width": null,
            "object_fit": null,
            "object_position": null,
            "order": null,
            "overflow": null,
            "overflow_x": null,
            "overflow_y": null,
            "padding": null,
            "right": null,
            "top": null,
            "visibility": null,
            "width": null
          }
        },
        "b44f1bed9aaa4095a40207cb41fe8615": {
          "model_module": "@jupyter-widgets/controls",
          "model_module_version": "1.5.0",
          "model_name": "FloatProgressModel",
          "state": {
            "_dom_classes": [],
            "_model_module": "@jupyter-widgets/controls",
            "_model_module_version": "1.5.0",
            "_model_name": "FloatProgressModel",
            "_view_count": null,
            "_view_module": "@jupyter-widgets/controls",
            "_view_module_version": "1.5.0",
            "_view_name": "ProgressView",
            "bar_style": "success",
            "description": "",
            "description_tooltip": null,
            "layout": "IPY_MODEL_0f9c9a801f2e4486b1680f526fc7125b",
            "max": 3876,
            "min": 0,
            "orientation": "horizontal",
            "style": "IPY_MODEL_6578971a53c24c80bc1f9aeab1937d36",
            "value": 3876
          }
        },
        "b83951eb2dfc4338837521cbad5677a0": {
          "model_module": "@jupyter-widgets/controls",
          "model_module_version": "1.5.0",
          "model_name": "DescriptionStyleModel",
          "state": {
            "_model_module": "@jupyter-widgets/controls",
            "_model_module_version": "1.5.0",
            "_model_name": "DescriptionStyleModel",
            "_view_count": null,
            "_view_module": "@jupyter-widgets/base",
            "_view_module_version": "1.2.0",
            "_view_name": "StyleView",
            "description_width": ""
          }
        },
        "ba08115bd3af431fac6bb1350c638a48": {
          "model_module": "@jupyter-widgets/controls",
          "model_module_version": "1.5.0",
          "model_name": "DescriptionStyleModel",
          "state": {
            "_model_module": "@jupyter-widgets/controls",
            "_model_module_version": "1.5.0",
            "_model_name": "DescriptionStyleModel",
            "_view_count": null,
            "_view_module": "@jupyter-widgets/base",
            "_view_module_version": "1.2.0",
            "_view_name": "StyleView",
            "description_width": ""
          }
        },
        "be502a5c86fe49b78ca04a7aa3595e41": {
          "model_module": "@jupyter-widgets/base",
          "model_module_version": "1.2.0",
          "model_name": "LayoutModel",
          "state": {
            "_model_module": "@jupyter-widgets/base",
            "_model_module_version": "1.2.0",
            "_model_name": "LayoutModel",
            "_view_count": null,
            "_view_module": "@jupyter-widgets/base",
            "_view_module_version": "1.2.0",
            "_view_name": "LayoutView",
            "align_content": null,
            "align_items": null,
            "align_self": null,
            "border": null,
            "bottom": null,
            "display": null,
            "flex": null,
            "flex_flow": null,
            "grid_area": null,
            "grid_auto_columns": null,
            "grid_auto_flow": null,
            "grid_auto_rows": null,
            "grid_column": null,
            "grid_gap": null,
            "grid_row": null,
            "grid_template_areas": null,
            "grid_template_columns": null,
            "grid_template_rows": null,
            "height": null,
            "justify_content": null,
            "justify_items": null,
            "left": null,
            "margin": null,
            "max_height": null,
            "max_width": null,
            "min_height": null,
            "min_width": null,
            "object_fit": null,
            "object_position": null,
            "order": null,
            "overflow": null,
            "overflow_x": null,
            "overflow_y": null,
            "padding": null,
            "right": null,
            "top": null,
            "visibility": null,
            "width": null
          }
        },
        "c195728d9d3741f8a6b58b8670fdc88d": {
          "model_module": "@jupyter-widgets/base",
          "model_module_version": "1.2.0",
          "model_name": "LayoutModel",
          "state": {
            "_model_module": "@jupyter-widgets/base",
            "_model_module_version": "1.2.0",
            "_model_name": "LayoutModel",
            "_view_count": null,
            "_view_module": "@jupyter-widgets/base",
            "_view_module_version": "1.2.0",
            "_view_name": "LayoutView",
            "align_content": null,
            "align_items": null,
            "align_self": null,
            "border": null,
            "bottom": null,
            "display": null,
            "flex": null,
            "flex_flow": null,
            "grid_area": null,
            "grid_auto_columns": null,
            "grid_auto_flow": null,
            "grid_auto_rows": null,
            "grid_column": null,
            "grid_gap": null,
            "grid_row": null,
            "grid_template_areas": null,
            "grid_template_columns": null,
            "grid_template_rows": null,
            "height": null,
            "justify_content": null,
            "justify_items": null,
            "left": null,
            "margin": null,
            "max_height": null,
            "max_width": null,
            "min_height": null,
            "min_width": null,
            "object_fit": null,
            "object_position": null,
            "order": null,
            "overflow": null,
            "overflow_x": null,
            "overflow_y": null,
            "padding": null,
            "right": null,
            "top": null,
            "visibility": null,
            "width": null
          }
        },
        "c8c8daa0a72d40bc92ebd398e7b75e7d": {
          "model_module": "@jupyter-widgets/base",
          "model_module_version": "1.2.0",
          "model_name": "LayoutModel",
          "state": {
            "_model_module": "@jupyter-widgets/base",
            "_model_module_version": "1.2.0",
            "_model_name": "LayoutModel",
            "_view_count": null,
            "_view_module": "@jupyter-widgets/base",
            "_view_module_version": "1.2.0",
            "_view_name": "LayoutView",
            "align_content": null,
            "align_items": null,
            "align_self": null,
            "border": null,
            "bottom": null,
            "display": null,
            "flex": null,
            "flex_flow": null,
            "grid_area": null,
            "grid_auto_columns": null,
            "grid_auto_flow": null,
            "grid_auto_rows": null,
            "grid_column": null,
            "grid_gap": null,
            "grid_row": null,
            "grid_template_areas": null,
            "grid_template_columns": null,
            "grid_template_rows": null,
            "height": null,
            "justify_content": null,
            "justify_items": null,
            "left": null,
            "margin": null,
            "max_height": null,
            "max_width": null,
            "min_height": null,
            "min_width": null,
            "object_fit": null,
            "object_position": null,
            "order": null,
            "overflow": null,
            "overflow_x": null,
            "overflow_y": null,
            "padding": null,
            "right": null,
            "top": null,
            "visibility": null,
            "width": null
          }
        },
        "ca4891e4db214a57b5e368e6b114b289": {
          "model_module": "@jupyter-widgets/controls",
          "model_module_version": "1.5.0",
          "model_name": "HTMLModel",
          "state": {
            "_dom_classes": [],
            "_model_module": "@jupyter-widgets/controls",
            "_model_module_version": "1.5.0",
            "_model_name": "HTMLModel",
            "_view_count": null,
            "_view_module": "@jupyter-widgets/controls",
            "_view_module_version": "1.5.0",
            "_view_name": "HTMLView",
            "description": "",
            "description_tooltip": null,
            "layout": "IPY_MODEL_187a17a972e7403dbf749bcb484c0f0b",
            "placeholder": "​",
            "style": "IPY_MODEL_7e30686ab9e742d5a02d0718462bfbdb",
            "value": "Generating train split: "
          }
        },
        "cf648eaba4f944cab5ee1965b4528f60": {
          "model_module": "@jupyter-widgets/controls",
          "model_module_version": "1.5.0",
          "model_name": "HBoxModel",
          "state": {
            "_dom_classes": [],
            "_model_module": "@jupyter-widgets/controls",
            "_model_module_version": "1.5.0",
            "_model_name": "HBoxModel",
            "_view_count": null,
            "_view_module": "@jupyter-widgets/controls",
            "_view_module_version": "1.5.0",
            "_view_name": "HBoxView",
            "box_style": "",
            "children": [
              "IPY_MODEL_6a22d8ebf1ce402991dc2fbfd9cca6d1",
              "IPY_MODEL_47164737d7164864984e67413369504d",
              "IPY_MODEL_488eb516f54a44e19d39338375cbd3a7"
            ],
            "layout": "IPY_MODEL_66b0bb3b4ecd46eda0a3c028604d2623"
          }
        },
        "d019dd6b6b2446a0aa374be990ef9a63": {
          "model_module": "@jupyter-widgets/controls",
          "model_module_version": "1.5.0",
          "model_name": "DescriptionStyleModel",
          "state": {
            "_model_module": "@jupyter-widgets/controls",
            "_model_module_version": "1.5.0",
            "_model_name": "DescriptionStyleModel",
            "_view_count": null,
            "_view_module": "@jupyter-widgets/base",
            "_view_module_version": "1.2.0",
            "_view_name": "StyleView",
            "description_width": ""
          }
        },
        "d0a8ea7a8e1f4a98b5acb9d7d80791b8": {
          "model_module": "@jupyter-widgets/controls",
          "model_module_version": "1.5.0",
          "model_name": "HBoxModel",
          "state": {
            "_dom_classes": [],
            "_model_module": "@jupyter-widgets/controls",
            "_model_module_version": "1.5.0",
            "_model_name": "HBoxModel",
            "_view_count": null,
            "_view_module": "@jupyter-widgets/controls",
            "_view_module_version": "1.5.0",
            "_view_name": "HBoxView",
            "box_style": "",
            "children": [
              "IPY_MODEL_42e7749e0c5d4d848b246c7bed1d7df6",
              "IPY_MODEL_b44f1bed9aaa4095a40207cb41fe8615",
              "IPY_MODEL_ed90a54503d147d1b2fe01a54f6b5d8b"
            ],
            "layout": "IPY_MODEL_821885c0d28a40dfb71ffd457a55cd73"
          }
        },
        "d7012f3b8a0c4c50a9979cf8a209145f": {
          "model_module": "@jupyter-widgets/base",
          "model_module_version": "1.2.0",
          "model_name": "LayoutModel",
          "state": {
            "_model_module": "@jupyter-widgets/base",
            "_model_module_version": "1.2.0",
            "_model_name": "LayoutModel",
            "_view_count": null,
            "_view_module": "@jupyter-widgets/base",
            "_view_module_version": "1.2.0",
            "_view_name": "LayoutView",
            "align_content": null,
            "align_items": null,
            "align_self": null,
            "border": null,
            "bottom": null,
            "display": null,
            "flex": null,
            "flex_flow": null,
            "grid_area": null,
            "grid_auto_columns": null,
            "grid_auto_flow": null,
            "grid_auto_rows": null,
            "grid_column": null,
            "grid_gap": null,
            "grid_row": null,
            "grid_template_areas": null,
            "grid_template_columns": null,
            "grid_template_rows": null,
            "height": null,
            "justify_content": null,
            "justify_items": null,
            "left": null,
            "margin": null,
            "max_height": null,
            "max_width": null,
            "min_height": null,
            "min_width": null,
            "object_fit": null,
            "object_position": null,
            "order": null,
            "overflow": null,
            "overflow_x": null,
            "overflow_y": null,
            "padding": null,
            "right": null,
            "top": null,
            "visibility": null,
            "width": null
          }
        },
        "da2d671690a1418d8f4fae1373bc2da6": {
          "model_module": "@jupyter-widgets/base",
          "model_module_version": "1.2.0",
          "model_name": "LayoutModel",
          "state": {
            "_model_module": "@jupyter-widgets/base",
            "_model_module_version": "1.2.0",
            "_model_name": "LayoutModel",
            "_view_count": null,
            "_view_module": "@jupyter-widgets/base",
            "_view_module_version": "1.2.0",
            "_view_name": "LayoutView",
            "align_content": null,
            "align_items": null,
            "align_self": null,
            "border": null,
            "bottom": null,
            "display": null,
            "flex": null,
            "flex_flow": null,
            "grid_area": null,
            "grid_auto_columns": null,
            "grid_auto_flow": null,
            "grid_auto_rows": null,
            "grid_column": null,
            "grid_gap": null,
            "grid_row": null,
            "grid_template_areas": null,
            "grid_template_columns": null,
            "grid_template_rows": null,
            "height": null,
            "justify_content": null,
            "justify_items": null,
            "left": null,
            "margin": null,
            "max_height": null,
            "max_width": null,
            "min_height": null,
            "min_width": null,
            "object_fit": null,
            "object_position": null,
            "order": null,
            "overflow": null,
            "overflow_x": null,
            "overflow_y": null,
            "padding": null,
            "right": null,
            "top": null,
            "visibility": null,
            "width": null
          }
        },
        "db31e50ba31f47a29c05f65dd8a29776": {
          "model_module": "@jupyter-widgets/controls",
          "model_module_version": "1.5.0",
          "model_name": "FloatProgressModel",
          "state": {
            "_dom_classes": [],
            "_model_module": "@jupyter-widgets/controls",
            "_model_module_version": "1.5.0",
            "_model_name": "FloatProgressModel",
            "_view_count": null,
            "_view_module": "@jupyter-widgets/controls",
            "_view_module_version": "1.5.0",
            "_view_name": "ProgressView",
            "bar_style": "success",
            "description": "",
            "description_tooltip": null,
            "layout": "IPY_MODEL_5076591618ca4b398d1254909f9e87fe",
            "max": 582,
            "min": 0,
            "orientation": "horizontal",
            "style": "IPY_MODEL_8bea0e5bc95e467fa9428672ca2c1b97",
            "value": 582
          }
        },
        "dbf48ccd40e24185b3db107c7884fee1": {
          "model_module": "@jupyter-widgets/controls",
          "model_module_version": "1.5.0",
          "model_name": "FloatProgressModel",
          "state": {
            "_dom_classes": [],
            "_model_module": "@jupyter-widgets/controls",
            "_model_module_version": "1.5.0",
            "_model_name": "FloatProgressModel",
            "_view_count": null,
            "_view_module": "@jupyter-widgets/controls",
            "_view_module_version": "1.5.0",
            "_view_name": "ProgressView",
            "bar_style": "success",
            "description": "",
            "description_tooltip": null,
            "layout": "IPY_MODEL_f0fc63c0a4144479bf784a610b4757fa",
            "max": 1,
            "min": 0,
            "orientation": "horizontal",
            "style": "IPY_MODEL_ae076a4926014f9b98adff1a522996dd",
            "value": 1
          }
        },
        "e1437fd8331442c9ba7e8a09eb9c0ef1": {
          "model_module": "@jupyter-widgets/controls",
          "model_module_version": "1.5.0",
          "model_name": "HTMLModel",
          "state": {
            "_dom_classes": [],
            "_model_module": "@jupyter-widgets/controls",
            "_model_module_version": "1.5.0",
            "_model_name": "HTMLModel",
            "_view_count": null,
            "_view_module": "@jupyter-widgets/controls",
            "_view_module_version": "1.5.0",
            "_view_name": "HTMLView",
            "description": "",
            "description_tooltip": null,
            "layout": "IPY_MODEL_adf928cf4e364eaeb7938d093bdfdda1",
            "placeholder": "​",
            "style": "IPY_MODEL_938947c33af5446da3b15af1ae6ff505",
            "value": " 388/388 [00:00&lt;00:00, 1694.59 examples/s]"
          }
        },
        "ed90a54503d147d1b2fe01a54f6b5d8b": {
          "model_module": "@jupyter-widgets/controls",
          "model_module_version": "1.5.0",
          "model_name": "HTMLModel",
          "state": {
            "_dom_classes": [],
            "_model_module": "@jupyter-widgets/controls",
            "_model_module_version": "1.5.0",
            "_model_name": "HTMLModel",
            "_view_count": null,
            "_view_module": "@jupyter-widgets/controls",
            "_view_module_version": "1.5.0",
            "_view_name": "HTMLView",
            "description": "",
            "description_tooltip": null,
            "layout": "IPY_MODEL_29f670c490b540759283b20703feaa4b",
            "placeholder": "​",
            "style": "IPY_MODEL_d019dd6b6b2446a0aa374be990ef9a63",
            "value": " 3876/3876 [00:01&lt;00:00, 3251.03 examples/s]"
          }
        },
        "ee1379ac08c74a4594739436a9f4524f": {
          "model_module": "@jupyter-widgets/base",
          "model_module_version": "1.2.0",
          "model_name": "LayoutModel",
          "state": {
            "_model_module": "@jupyter-widgets/base",
            "_model_module_version": "1.2.0",
            "_model_name": "LayoutModel",
            "_view_count": null,
            "_view_module": "@jupyter-widgets/base",
            "_view_module_version": "1.2.0",
            "_view_name": "LayoutView",
            "align_content": null,
            "align_items": null,
            "align_self": null,
            "border": null,
            "bottom": null,
            "display": null,
            "flex": null,
            "flex_flow": null,
            "grid_area": null,
            "grid_auto_columns": null,
            "grid_auto_flow": null,
            "grid_auto_rows": null,
            "grid_column": null,
            "grid_gap": null,
            "grid_row": null,
            "grid_template_areas": null,
            "grid_template_columns": null,
            "grid_template_rows": null,
            "height": null,
            "justify_content": null,
            "justify_items": null,
            "left": null,
            "margin": null,
            "max_height": null,
            "max_width": null,
            "min_height": null,
            "min_width": null,
            "object_fit": null,
            "object_position": null,
            "order": null,
            "overflow": null,
            "overflow_x": null,
            "overflow_y": null,
            "padding": null,
            "right": null,
            "top": null,
            "visibility": null,
            "width": null
          }
        },
        "f03a5cae1a534fe3929e48143c8236e8": {
          "model_module": "@jupyter-widgets/controls",
          "model_module_version": "1.5.0",
          "model_name": "HTMLModel",
          "state": {
            "_dom_classes": [],
            "_model_module": "@jupyter-widgets/controls",
            "_model_module_version": "1.5.0",
            "_model_name": "HTMLModel",
            "_view_count": null,
            "_view_module": "@jupyter-widgets/controls",
            "_view_module_version": "1.5.0",
            "_view_name": "HTMLView",
            "description": "",
            "description_tooltip": null,
            "layout": "IPY_MODEL_ee1379ac08c74a4594739436a9f4524f",
            "placeholder": "​",
            "style": "IPY_MODEL_868e1bd66a2942c28151040093ae2471",
            "value": "Map: 100%"
          }
        },
        "f0fc63c0a4144479bf784a610b4757fa": {
          "model_module": "@jupyter-widgets/base",
          "model_module_version": "1.2.0",
          "model_name": "LayoutModel",
          "state": {
            "_model_module": "@jupyter-widgets/base",
            "_model_module_version": "1.2.0",
            "_model_name": "LayoutModel",
            "_view_count": null,
            "_view_module": "@jupyter-widgets/base",
            "_view_module_version": "1.2.0",
            "_view_name": "LayoutView",
            "align_content": null,
            "align_items": null,
            "align_self": null,
            "border": null,
            "bottom": null,
            "display": null,
            "flex": null,
            "flex_flow": null,
            "grid_area": null,
            "grid_auto_columns": null,
            "grid_auto_flow": null,
            "grid_auto_rows": null,
            "grid_column": null,
            "grid_gap": null,
            "grid_row": null,
            "grid_template_areas": null,
            "grid_template_columns": null,
            "grid_template_rows": null,
            "height": null,
            "justify_content": null,
            "justify_items": null,
            "left": null,
            "margin": null,
            "max_height": null,
            "max_width": null,
            "min_height": null,
            "min_width": null,
            "object_fit": null,
            "object_position": null,
            "order": null,
            "overflow": null,
            "overflow_x": null,
            "overflow_y": null,
            "padding": null,
            "right": null,
            "top": null,
            "visibility": null,
            "width": "20px"
          }
        },
        "f23f0e2393d3468bafb003d753089061": {
          "model_module": "@jupyter-widgets/base",
          "model_module_version": "1.2.0",
          "model_name": "LayoutModel",
          "state": {
            "_model_module": "@jupyter-widgets/base",
            "_model_module_version": "1.2.0",
            "_model_name": "LayoutModel",
            "_view_count": null,
            "_view_module": "@jupyter-widgets/base",
            "_view_module_version": "1.2.0",
            "_view_name": "LayoutView",
            "align_content": null,
            "align_items": null,
            "align_self": null,
            "border": null,
            "bottom": null,
            "display": null,
            "flex": null,
            "flex_flow": null,
            "grid_area": null,
            "grid_auto_columns": null,
            "grid_auto_flow": null,
            "grid_auto_rows": null,
            "grid_column": null,
            "grid_gap": null,
            "grid_row": null,
            "grid_template_areas": null,
            "grid_template_columns": null,
            "grid_template_rows": null,
            "height": null,
            "justify_content": null,
            "justify_items": null,
            "left": null,
            "margin": null,
            "max_height": null,
            "max_width": null,
            "min_height": null,
            "min_width": null,
            "object_fit": null,
            "object_position": null,
            "order": null,
            "overflow": null,
            "overflow_x": null,
            "overflow_y": null,
            "padding": null,
            "right": null,
            "top": null,
            "visibility": null,
            "width": null
          }
        },
        "f5202f872ee9458ba8f160507f8e9ab8": {
          "model_module": "@jupyter-widgets/controls",
          "model_module_version": "1.5.0",
          "model_name": "HTMLModel",
          "state": {
            "_dom_classes": [],
            "_model_module": "@jupyter-widgets/controls",
            "_model_module_version": "1.5.0",
            "_model_name": "HTMLModel",
            "_view_count": null,
            "_view_module": "@jupyter-widgets/controls",
            "_view_module_version": "1.5.0",
            "_view_name": "HTMLView",
            "description": "",
            "description_tooltip": null,
            "layout": "IPY_MODEL_c8c8daa0a72d40bc92ebd398e7b75e7d",
            "placeholder": "​",
            "style": "IPY_MODEL_ba08115bd3af431fac6bb1350c638a48",
            "value": "Map: 100%"
          }
        },
        "f8ab6d78bd9a49d9976a385f2c9e25b3": {
          "model_module": "@jupyter-widgets/base",
          "model_module_version": "1.2.0",
          "model_name": "LayoutModel",
          "state": {
            "_model_module": "@jupyter-widgets/base",
            "_model_module_version": "1.2.0",
            "_model_name": "LayoutModel",
            "_view_count": null,
            "_view_module": "@jupyter-widgets/base",
            "_view_module_version": "1.2.0",
            "_view_name": "LayoutView",
            "align_content": null,
            "align_items": null,
            "align_self": null,
            "border": null,
            "bottom": null,
            "display": null,
            "flex": null,
            "flex_flow": null,
            "grid_area": null,
            "grid_auto_columns": null,
            "grid_auto_flow": null,
            "grid_auto_rows": null,
            "grid_column": null,
            "grid_gap": null,
            "grid_row": null,
            "grid_template_areas": null,
            "grid_template_columns": null,
            "grid_template_rows": null,
            "height": null,
            "justify_content": null,
            "justify_items": null,
            "left": null,
            "margin": null,
            "max_height": null,
            "max_width": null,
            "min_height": null,
            "min_width": null,
            "object_fit": null,
            "object_position": null,
            "order": null,
            "overflow": null,
            "overflow_x": null,
            "overflow_y": null,
            "padding": null,
            "right": null,
            "top": null,
            "visibility": null,
            "width": null
          }
        },
        "fbd2fe67529a4d0690c2a5ea70712dd6": {
          "model_module": "@jupyter-widgets/base",
          "model_module_version": "1.2.0",
          "model_name": "LayoutModel",
          "state": {
            "_model_module": "@jupyter-widgets/base",
            "_model_module_version": "1.2.0",
            "_model_name": "LayoutModel",
            "_view_count": null,
            "_view_module": "@jupyter-widgets/base",
            "_view_module_version": "1.2.0",
            "_view_name": "LayoutView",
            "align_content": null,
            "align_items": null,
            "align_self": null,
            "border": null,
            "bottom": null,
            "display": null,
            "flex": null,
            "flex_flow": null,
            "grid_area": null,
            "grid_auto_columns": null,
            "grid_auto_flow": null,
            "grid_auto_rows": null,
            "grid_column": null,
            "grid_gap": null,
            "grid_row": null,
            "grid_template_areas": null,
            "grid_template_columns": null,
            "grid_template_rows": null,
            "height": null,
            "justify_content": null,
            "justify_items": null,
            "left": null,
            "margin": null,
            "max_height": null,
            "max_width": null,
            "min_height": null,
            "min_width": null,
            "object_fit": null,
            "object_position": null,
            "order": null,
            "overflow": null,
            "overflow_x": null,
            "overflow_y": null,
            "padding": null,
            "right": null,
            "top": null,
            "visibility": null,
            "width": null
          }
        },
        "ff654c8408404422a9f9d8117b8946b0": {
          "model_module": "@jupyter-widgets/controls",
          "model_module_version": "1.5.0",
          "model_name": "DescriptionStyleModel",
          "state": {
            "_model_module": "@jupyter-widgets/controls",
            "_model_module_version": "1.5.0",
            "_model_name": "DescriptionStyleModel",
            "_view_count": null,
            "_view_module": "@jupyter-widgets/base",
            "_view_module_version": "1.2.0",
            "_view_name": "StyleView",
            "description_width": ""
          }
        }
      }
    }
  },
  "nbformat": 4,
  "nbformat_minor": 0
}
