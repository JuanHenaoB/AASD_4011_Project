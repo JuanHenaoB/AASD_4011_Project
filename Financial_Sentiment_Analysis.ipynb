{
 "cells": [
  {
   "cell_type": "markdown",
   "metadata": {},
   "source": [
    "# Step 1. EDA"
   ]
  },
  {
   "cell_type": "code",
   "execution_count": 4,
   "metadata": {},
   "outputs": [
    {
     "name": "stdout",
     "output_type": "stream",
     "text": [
      "The autoreload extension is already loaded. To reload it, use:\n",
      "  %reload_ext autoreload\n"
     ]
    }
   ],
   "source": [
    "%load_ext autoreload\n",
    "%autoreload 2\n"
   ]
  },
  {
   "cell_type": "code",
   "execution_count": 1,
   "metadata": {},
   "outputs": [],
   "source": [
    "#Import dataset\n",
    "import pandas as pd\n",
    "import numpy as np\n",
    "import matplotlib.pyplot as plt\n",
    "\n",
    "from datasets import load_dataset\n",
    "\n",
    "## Class for dealing to data sets\n",
    "from src.DatasetManager import DatasetManager\n",
    "## Class for dealing models\n",
    "from src.ModelManager import ModelManager\n",
    "## Class for dealing with common dataset processing tasks\n",
    "from src.DatasetProcesser import DatasetProcessor, HFprocesser"
   ]
  },
  {
   "cell_type": "code",
   "execution_count": 2,
   "metadata": {},
   "outputs": [],
   "source": [
    "dataset_manager = DatasetManager()\n",
    "financial_news = dataset_manager.get_financial_news() #read csv set header to none because columns have no title\n"
   ]
  },
  {
   "cell_type": "code",
   "execution_count": 3,
   "metadata": {},
   "outputs": [
    {
     "data": {
      "text/html": [
       "<div>\n",
       "<style scoped>\n",
       "    .dataframe tbody tr th:only-of-type {\n",
       "        vertical-align: middle;\n",
       "    }\n",
       "\n",
       "    .dataframe tbody tr th {\n",
       "        vertical-align: top;\n",
       "    }\n",
       "\n",
       "    .dataframe thead th {\n",
       "        text-align: right;\n",
       "    }\n",
       "</style>\n",
       "<table border=\"1\" class=\"dataframe\">\n",
       "  <thead>\n",
       "    <tr style=\"text-align: right;\">\n",
       "      <th></th>\n",
       "      <th>label</th>\n",
       "      <th>news</th>\n",
       "    </tr>\n",
       "  </thead>\n",
       "  <tbody>\n",
       "    <tr>\n",
       "      <th>4841</th>\n",
       "      <td>negative</td>\n",
       "      <td>LONDON MarketWatch -- Share prices ended lower...</td>\n",
       "    </tr>\n",
       "    <tr>\n",
       "      <th>4842</th>\n",
       "      <td>neutral</td>\n",
       "      <td>Rinkuskiai 's beer sales fell by 6.5 per cent ...</td>\n",
       "    </tr>\n",
       "    <tr>\n",
       "      <th>4843</th>\n",
       "      <td>negative</td>\n",
       "      <td>Operating profit fell to EUR 35.4 mn from EUR ...</td>\n",
       "    </tr>\n",
       "    <tr>\n",
       "      <th>4844</th>\n",
       "      <td>negative</td>\n",
       "      <td>Net sales of the Paper segment decreased to EU...</td>\n",
       "    </tr>\n",
       "    <tr>\n",
       "      <th>4845</th>\n",
       "      <td>negative</td>\n",
       "      <td>Sales in Finland decreased by 10.5 % in Januar...</td>\n",
       "    </tr>\n",
       "  </tbody>\n",
       "</table>\n",
       "</div>"
      ],
      "text/plain": [
       "         label                                               news\n",
       "4841  negative  LONDON MarketWatch -- Share prices ended lower...\n",
       "4842   neutral  Rinkuskiai 's beer sales fell by 6.5 per cent ...\n",
       "4843  negative  Operating profit fell to EUR 35.4 mn from EUR ...\n",
       "4844  negative  Net sales of the Paper segment decreased to EU...\n",
       "4845  negative  Sales in Finland decreased by 10.5 % in Januar..."
      ]
     },
     "execution_count": 3,
     "metadata": {},
     "output_type": "execute_result"
    }
   ],
   "source": [
    "#Check DF head and Tail\n",
    "financial_news.head()\n",
    "financial_news.tail()"
   ]
  },
  {
   "cell_type": "code",
   "execution_count": 4,
   "metadata": {},
   "outputs": [
    {
     "data": {
      "text/plain": [
       "(4846, 2)"
      ]
     },
     "execution_count": 4,
     "metadata": {},
     "output_type": "execute_result"
    }
   ],
   "source": [
    "#Check shape of train df\n",
    "financial_news.shape"
   ]
  },
  {
   "cell_type": "code",
   "execution_count": 5,
   "metadata": {},
   "outputs": [
    {
     "name": "stdout",
     "output_type": "stream",
     "text": [
      "<class 'pandas.core.frame.DataFrame'>\n",
      "RangeIndex: 4846 entries, 0 to 4845\n",
      "Data columns (total 2 columns):\n",
      " #   Column  Non-Null Count  Dtype \n",
      "---  ------  --------------  ----- \n",
      " 0   label   4846 non-null   object\n",
      " 1   news    4846 non-null   object\n",
      "dtypes: object(2)\n",
      "memory usage: 75.8+ KB\n"
     ]
    }
   ],
   "source": [
    "#Check information of df\n",
    "#we can see there is no missing values \n",
    "financial_news.info()"
   ]
  },
  {
   "cell_type": "code",
   "execution_count": 6,
   "metadata": {},
   "outputs": [
    {
     "data": {
      "image/png": "[encoded data removed]",
      "text/plain": [
       "<Figure size 640x480 with 1 Axes>"
      ]
     },
     "metadata": {},
     "output_type": "display_data"
    },
    {
     "name": "stdout",
     "output_type": "stream",
     "text": [
      "neutral     2879\n",
      "positive    1363\n",
      "negative     604\n",
      "Name: label, dtype: int64\n"
     ]
    }
   ],
   "source": [
    "#Check balance of the data set\n",
    "dataset_manager.plot_external(financial_news)\n",
    "\n",
    "#We can notice that the data set is imbalanced\n"
   ]
  },
  {
   "cell_type": "code",
   "execution_count": 7,
   "metadata": {},
   "outputs": [
    {
     "name": "stdout",
     "output_type": "stream",
     "text": [
      "81\n"
     ]
    }
   ],
   "source": [
    "#Check the maximum lenght of the documents\n",
    "print(dataset_manager.check_doc_len(financial_news))"
   ]
  },
  {
   "cell_type": "markdown",
   "metadata": {},
   "source": [
    "# Step 2. Pre-processing"
   ]
  },
  {
   "cell_type": "markdown",
   "metadata": {},
   "source": [
    "### Approach 1. do not balance classes"
   ]
  },
  {
   "cell_type": "code",
   "execution_count": 8,
   "metadata": {},
   "outputs": [
    {
     "data": {
      "text/html": [
       "<div>\n",
       "<style scoped>\n",
       "    .dataframe tbody tr th:only-of-type {\n",
       "        vertical-align: middle;\n",
       "    }\n",
       "\n",
       "    .dataframe tbody tr th {\n",
       "        vertical-align: top;\n",
       "    }\n",
       "\n",
       "    .dataframe thead th {\n",
       "        text-align: right;\n",
       "    }\n",
       "</style>\n",
       "<table border=\"1\" class=\"dataframe\">\n",
       "  <thead>\n",
       "    <tr style=\"text-align: right;\">\n",
       "      <th></th>\n",
       "      <th>label</th>\n",
       "      <th>news</th>\n",
       "      <th>len</th>\n",
       "    </tr>\n",
       "  </thead>\n",
       "  <tbody>\n",
       "    <tr>\n",
       "      <th>0</th>\n",
       "      <td>0</td>\n",
       "      <td>According to Gran , the company has no plans t...</td>\n",
       "      <td>25</td>\n",
       "    </tr>\n",
       "    <tr>\n",
       "      <th>1</th>\n",
       "      <td>0</td>\n",
       "      <td>Technopolis plans to develop in stages an area...</td>\n",
       "      <td>31</td>\n",
       "    </tr>\n",
       "    <tr>\n",
       "      <th>2</th>\n",
       "      <td>2</td>\n",
       "      <td>The international electronic industry company ...</td>\n",
       "      <td>36</td>\n",
       "    </tr>\n",
       "    <tr>\n",
       "      <th>3</th>\n",
       "      <td>1</td>\n",
       "      <td>With the new production plant the company woul...</td>\n",
       "      <td>33</td>\n",
       "    </tr>\n",
       "    <tr>\n",
       "      <th>4</th>\n",
       "      <td>1</td>\n",
       "      <td>According to the company 's updated strategy f...</td>\n",
       "      <td>41</td>\n",
       "    </tr>\n",
       "  </tbody>\n",
       "</table>\n",
       "</div>"
      ],
      "text/plain": [
       "   label                                               news  len\n",
       "0      0  According to Gran , the company has no plans t...   25\n",
       "1      0  Technopolis plans to develop in stages an area...   31\n",
       "2      2  The international electronic industry company ...   36\n",
       "3      1  With the new production plant the company woul...   33\n",
       "4      1  According to the company 's updated strategy f...   41"
      ]
     },
     "execution_count": 8,
     "metadata": {},
     "output_type": "execute_result"
    }
   ],
   "source": [
    "#First let's map the labels to integers\n",
    "fin_news_preprocessor = DatasetProcessor(financial_news)\n",
    "label_map = {'negative': 2, 'neutral': 0, 'positive': 1}\n",
    "\n",
    "fin_news_preprocessor.map_labels(label_map)\n",
    "\n",
    "#The preprocessors df can directly be used thanks to __getattr__ method\n",
    "fin_news_preprocessor.head()"
   ]
  },
  {
   "cell_type": "code",
   "execution_count": 9,
   "metadata": {},
   "outputs": [
    {
     "data": {
      "text/html": [
       "<div>\n",
       "<style scoped>\n",
       "    .dataframe tbody tr th:only-of-type {\n",
       "        vertical-align: middle;\n",
       "    }\n",
       "\n",
       "    .dataframe tbody tr th {\n",
       "        vertical-align: top;\n",
       "    }\n",
       "\n",
       "    .dataframe thead th {\n",
       "        text-align: right;\n",
       "    }\n",
       "</style>\n",
       "<table border=\"1\" class=\"dataframe\">\n",
       "  <thead>\n",
       "    <tr style=\"text-align: right;\">\n",
       "      <th></th>\n",
       "      <th>label</th>\n",
       "      <th>news</th>\n",
       "    </tr>\n",
       "  </thead>\n",
       "  <tbody>\n",
       "    <tr>\n",
       "      <th>0</th>\n",
       "      <td>neutral</td>\n",
       "      <td>According to Gran , the company has no plans t...</td>\n",
       "    </tr>\n",
       "    <tr>\n",
       "      <th>1</th>\n",
       "      <td>neutral</td>\n",
       "      <td>Technopolis plans to develop in stages an area...</td>\n",
       "    </tr>\n",
       "    <tr>\n",
       "      <th>2</th>\n",
       "      <td>negative</td>\n",
       "      <td>The international electronic industry company ...</td>\n",
       "    </tr>\n",
       "  </tbody>\n",
       "</table>\n",
       "</div>"
      ],
      "text/plain": [
       "      label                                               news\n",
       "0   neutral  According to Gran , the company has no plans t...\n",
       "1   neutral  Technopolis plans to develop in stages an area...\n",
       "2  negative  The international electronic industry company ..."
      ]
     },
     "execution_count": 9,
     "metadata": {},
     "output_type": "execute_result"
    }
   ],
   "source": [
    "financial_news.drop(columns={'len'}, inplace=True)\n",
    "financial_news.head(3)"
   ]
  },
  {
   "cell_type": "code",
   "execution_count": null,
   "metadata": {},
   "outputs": [],
   "source": [
    "#Save approach 1 dataframe to folder\n",
    "fin_news_preprocessor.to_csv('data/financial_news_1.csv', index=False)"
   ]
  },
  {
   "cell_type": "markdown",
   "metadata": {},
   "source": [
    "### Approach 2. Downsampling"
   ]
  },
  {
   "cell_type": "code",
   "execution_count": 10,
   "metadata": {},
   "outputs": [],
   "source": [
    "# Let's downsample positive and neutral labels to create a balanced data set\n",
    "\n",
    "financial_news_ds = dataset_manager.get_financial_news() \n",
    "fin_news_preprocessor = DatasetProcessor(financial_news_ds)\n",
    "fin_news_preprocessor.map_labels()\n",
    "\n",
    "#Now let's separate our 3 classes to perform downsample\n",
    "financial_news_n,financial_news_0,financial_news_1 = fin_news_preprocessor.seperate_labels_classes()\n",
    "\n"
   ]
  },
  {
   "cell_type": "code",
   "execution_count": null,
   "metadata": {},
   "outputs": [
    {
     "data": {
      "text/plain": [
       "array([1], dtype=int64)"
      ]
     },
     "execution_count": 62,
     "metadata": {},
     "output_type": "execute_result"
    }
   ],
   "source": [
    "#Check separated labels\n",
    "financial_news_n['label'].unique()\n",
    "financial_news_0['label'].unique()\n",
    "financial_news_1['label'].unique()"
   ]
  },
  {
   "cell_type": "code",
   "execution_count": null,
   "metadata": {},
   "outputs": [],
   "source": [
    "#Downsample positive and neutral labels to be same length as negative label\n",
    "financial_news_0, financial_news_1 = fin_news_preprocessor.downsample_labels(financial_news_n, financial_news_0, financial_news_1)\n"
   ]
  },
  {
   "cell_type": "code",
   "execution_count": null,
   "metadata": {},
   "outputs": [
    {
     "data": {
      "text/plain": [
       "(604,)"
      ]
     },
     "execution_count": 68,
     "metadata": {},
     "output_type": "execute_result"
    }
   ],
   "source": [
    "#Check shapes\n",
    "financial_news_0['label'].shape\n",
    "financial_news_1['label'].shape"
   ]
  },
  {
   "cell_type": "code",
   "execution_count": null,
   "metadata": {},
   "outputs": [
    {
     "data": {
      "text/html": [
       "<div>\n",
       "<style scoped>\n",
       "    .dataframe tbody tr th:only-of-type {\n",
       "        vertical-align: middle;\n",
       "    }\n",
       "\n",
       "    .dataframe tbody tr th {\n",
       "        vertical-align: top;\n",
       "    }\n",
       "\n",
       "    .dataframe thead th {\n",
       "        text-align: right;\n",
       "    }\n",
       "</style>\n",
       "<table border=\"1\" class=\"dataframe\">\n",
       "  <thead>\n",
       "    <tr style=\"text-align: right;\">\n",
       "      <th></th>\n",
       "      <th>label</th>\n",
       "      <th>news</th>\n",
       "    </tr>\n",
       "  </thead>\n",
       "  <tbody>\n",
       "    <tr>\n",
       "      <th>1807</th>\n",
       "      <td>1</td>\n",
       "      <td>Its market share widened to 48.51 percent from...</td>\n",
       "    </tr>\n",
       "    <tr>\n",
       "      <th>1808</th>\n",
       "      <td>2</td>\n",
       "      <td>Ruukki Group calculates that it has lost EUR 4...</td>\n",
       "    </tr>\n",
       "    <tr>\n",
       "      <th>1809</th>\n",
       "      <td>2</td>\n",
       "      <td>On the other hand , Finnish sawmills ' product...</td>\n",
       "    </tr>\n",
       "    <tr>\n",
       "      <th>1810</th>\n",
       "      <td>2</td>\n",
       "      <td>The company said that sales in the three month...</td>\n",
       "    </tr>\n",
       "    <tr>\n",
       "      <th>1811</th>\n",
       "      <td>1</td>\n",
       "      <td>Sales of clothing developed best .</td>\n",
       "    </tr>\n",
       "  </tbody>\n",
       "</table>\n",
       "</div>"
      ],
      "text/plain": [
       "      label                                               news\n",
       "1807      1  Its market share widened to 48.51 percent from...\n",
       "1808      2  Ruukki Group calculates that it has lost EUR 4...\n",
       "1809      2  On the other hand , Finnish sawmills ' product...\n",
       "1810      2  The company said that sales in the three month...\n",
       "1811      1                 Sales of clothing developed best ."
      ]
     },
     "execution_count": 72,
     "metadata": {},
     "output_type": "execute_result"
    }
   ],
   "source": [
    "#put everything together again\n",
    "#shuffle rows and reset index\n",
    "financial_news_ds = fin_news_preprocessor.shuffle_and_reset([financial_news_n, financial_news_0, financial_news_1])\n",
    "\n",
    "#check df\n",
    "financial_news_ds.tail()"
   ]
  },
  {
   "cell_type": "code",
   "execution_count": null,
   "metadata": {},
   "outputs": [
    {
     "data": {
      "image/png": "[encoded data removed]",
      "text/plain": [
       "<Figure size 640x480 with 1 Axes>"
      ]
     },
     "metadata": {},
     "output_type": "display_data"
    },
    {
     "name": "stdout",
     "output_type": "stream",
     "text": [
      "1    604\n",
      "2    604\n",
      "0    604\n",
      "Name: label, dtype: int64\n"
     ]
    }
   ],
   "source": [
    "#Check balance of the data set\n",
    "\n",
    "dataset_manager.plot_external(financial_news_ds)\n",
    "\n",
    "#We can notice that the data set is balanced\n"
   ]
  },
  {
   "cell_type": "code",
   "execution_count": null,
   "metadata": {},
   "outputs": [],
   "source": [
    "#save approach 2 dataframe \n",
    "financial_news_ds.to_csv('data/financial_news_2.csv', index=False)"
   ]
  },
  {
   "cell_type": "markdown",
   "metadata": {},
   "source": [
    "# Step 3. Feature extraction"
   ]
  },
  {
   "cell_type": "markdown",
   "metadata": {},
   "source": [
    "## Feature Extraction for Training an LSTM model from scratch"
   ]
  },
  {
   "cell_type": "code",
   "execution_count": null,
   "metadata": {},
   "outputs": [],
   "source": [
    "#For this approach we will use Word2Vec Google negative 300 bin file. \n",
    "#Since this file was trained on news it should make sense to make feature extraction for news headlines\n",
    "#import libraries\n",
    "from gensim.models import Word2Vec, KeyedVectors\n",
    "data_path = 'data/GoogleNews-vectors-negative300.bin'\n",
    "word2vec_model = KeyedVectors.load_word2vec_format(data_path, binary=True)"
   ]
  },
  {
   "cell_type": "code",
   "execution_count": null,
   "metadata": {},
   "outputs": [],
   "source": [
    "# Use the data set manager to load data frames for use with keras\n",
    "dataset_manager.load_processed('unbalanced','data/financial_news_1.csv')\n",
    "dataset_manager.load_processed('balanced','data/financial_news_2.csv')"
   ]
  },
  {
   "cell_type": "code",
   "execution_count": null,
   "metadata": {},
   "outputs": [
    {
     "data": {
      "text/html": [
       "<div>\n",
       "<style scoped>\n",
       "    .dataframe tbody tr th:only-of-type {\n",
       "        vertical-align: middle;\n",
       "    }\n",
       "\n",
       "    .dataframe tbody tr th {\n",
       "        vertical-align: top;\n",
       "    }\n",
       "\n",
       "    .dataframe thead th {\n",
       "        text-align: right;\n",
       "    }\n",
       "</style>\n",
       "<table border=\"1\" class=\"dataframe\">\n",
       "  <thead>\n",
       "    <tr style=\"text-align: right;\">\n",
       "      <th></th>\n",
       "      <th>label</th>\n",
       "      <th>news</th>\n",
       "    </tr>\n",
       "  </thead>\n",
       "  <tbody>\n",
       "    <tr>\n",
       "      <th>0</th>\n",
       "      <td>1</td>\n",
       "      <td>In addition to the demand in Finland , the exp...</td>\n",
       "    </tr>\n",
       "    <tr>\n",
       "      <th>1</th>\n",
       "      <td>2</td>\n",
       "      <td>Operating profit fell to EUR 20.3 mn from EUR ...</td>\n",
       "    </tr>\n",
       "    <tr>\n",
       "      <th>2</th>\n",
       "      <td>0</td>\n",
       "      <td>In Switzerland , Teleste have been an establis...</td>\n",
       "    </tr>\n",
       "    <tr>\n",
       "      <th>3</th>\n",
       "      <td>0</td>\n",
       "      <td>The company supports its global customers in d...</td>\n",
       "    </tr>\n",
       "    <tr>\n",
       "      <th>4</th>\n",
       "      <td>2</td>\n",
       "      <td>Cash flow from operations in January-December ...</td>\n",
       "    </tr>\n",
       "  </tbody>\n",
       "</table>\n",
       "</div>"
      ],
      "text/plain": [
       "   label                                               news\n",
       "0      1  In addition to the demand in Finland , the exp...\n",
       "1      2  Operating profit fell to EUR 20.3 mn from EUR ...\n",
       "2      0  In Switzerland , Teleste have been an establis...\n",
       "3      0  The company supports its global customers in d...\n",
       "4      2  Cash flow from operations in January-December ..."
      ]
     },
     "execution_count": 86,
     "metadata": {},
     "output_type": "execute_result"
    }
   ],
   "source": [
    "#Read data sets\n",
    "\n",
    "dataset_manager['balanced'].head()"
   ]
  },
  {
   "cell_type": "code",
   "execution_count": null,
   "metadata": {},
   "outputs": [],
   "source": [
    "#Get a list of list of the news cleaned from non alphabet characters\n",
    "list_of_list_news_1 = dataset_manager['balanced'].get_list_of_news()\n",
    "list_of_list_news_2 = dataset_manager['unbalanced'].get_list_of_news()\n"
   ]
  },
  {
   "cell_type": "code",
   "execution_count": null,
   "metadata": {},
   "outputs": [
    {
     "data": {
      "text/plain": [
       "['In',\n",
       " 'addition',\n",
       " 'to',\n",
       " 'the',\n",
       " 'demand',\n",
       " 'in',\n",
       " 'Finland',\n",
       " ',',\n",
       " 'the',\n",
       " 'export',\n",
       " 'of',\n",
       " 'lining',\n",
       " 'stone',\n",
       " 'products',\n",
       " 'also',\n",
       " 'increased',\n",
       " '.']"
      ]
     },
     "execution_count": 110,
     "metadata": {},
     "output_type": "execute_result"
    }
   ],
   "source": [
    "list_of_list_news_1[0]"
   ]
  },
  {
   "cell_type": "code",
   "execution_count": null,
   "metadata": {},
   "outputs": [],
   "source": [
    "#Clean each new from non alphabet characters\n",
    "re_list_of_lists_1 = dataset_manager['balanced'].clean_lists(list_of_list_news_1)\n",
    "re_list_of_lists_2 = dataset_manager['unbalanced'].clean_lists(list_of_list_news_2)"
   ]
  },
  {
   "cell_type": "code",
   "execution_count": null,
   "metadata": {},
   "outputs": [
    {
     "data": {
      "text/plain": [
       "['In',\n",
       " 'addition',\n",
       " 'to',\n",
       " 'the',\n",
       " 'demand',\n",
       " 'in',\n",
       " 'Finland',\n",
       " 'the',\n",
       " 'export',\n",
       " 'of',\n",
       " 'lining',\n",
       " 'stone',\n",
       " 'products',\n",
       " 'also',\n",
       " 'increased']"
      ]
     },
     "execution_count": 112,
     "metadata": {},
     "output_type": "execute_result"
    }
   ],
   "source": [
    "re_list_of_lists_1[0]"
   ]
  },
  {
   "cell_type": "code",
   "execution_count": null,
   "metadata": {},
   "outputs": [],
   "source": [
    "#Extract Features using Word2Vec\n",
    "def embbeding_word_feats(list_of_lists):\n",
    "    #DIMENSION = 300 #Dimension of the vectors that represent word (embbedings)\n",
    "    #zero_vector = np.zeros(DIMENSION) #zero vector\n",
    "    feats = []\n",
    "    corpus = list_of_lists\n",
    "    for doc in corpus:\n",
    "        feats_for_doc = []\n",
    "        for token in doc:\n",
    "            if token in word2vec_model:\n",
    "                feats_for_doc.append(word2vec_model[token])\n",
    "        feats.append(feats_for_doc)\n",
    "    return feats"
   ]
  },
  {
   "cell_type": "code",
   "execution_count": null,
   "metadata": {},
   "outputs": [],
   "source": [
    "w2v_embbedings_1 = dataset_manager['balanced'].embbeding_word_feats(re_list_of_lists_1,word2vec_model)\n",
    "w2v_embbedings_2 = dataset_manager['unbalanced'].embbeding_word_feats(re_list_of_lists_2,word2vec_model)\n"
   ]
  },
  {
   "cell_type": "code",
   "execution_count": null,
   "metadata": {},
   "outputs": [
    {
     "name": "stdout",
     "output_type": "stream",
     "text": [
      "(4846, 2)\n",
      "1812\n",
      "13\n",
      "300\n"
     ]
    }
   ],
   "source": [
    "#Sanity checkk\n",
    "print(w2v_dataset_1.shape)\n",
    "print(len(w2v_embbedings_1))\n",
    "print(len(w2v_embbedings_1[0]))\n",
    "print(len(w2v_embbedings_1[0][1]))"
   ]
  },
  {
   "cell_type": "code",
   "execution_count": null,
   "metadata": {},
   "outputs": [
    {
     "name": "stdout",
     "output_type": "stream",
     "text": [
      "45\n",
      "45\n"
     ]
    }
   ],
   "source": [
    "\n",
    "#Check the maximum number of tokens in documents across the corpus\n",
    "temp_1 = [len(w2v_embbedings_1[i]) for i in range(len(w2v_embbedings_1))]\n",
    "print(max(temp_1))\n",
    "\n",
    "temp_2 = [len(w2v_embbedings_2[i]) for i in range(len(w2v_embbedings_2))]\n",
    "print(max(temp_2))"
   ]
  },
  {
   "cell_type": "code",
   "execution_count": null,
   "metadata": {},
   "outputs": [],
   "source": [
    "w2v_embbedings_1 = dataset_manager['balanced'].padding_embeddings(w2v_embbedings_1, pad_to=45)\n",
    "w2v_embbedings_2 = dataset_manager['unbalanced'].padding_embeddings(w2v_embbedings_2, pad_to=45)"
   ]
  },
  {
   "cell_type": "code",
   "execution_count": null,
   "metadata": {},
   "outputs": [
    {
     "name": "stdout",
     "output_type": "stream",
     "text": [
      "(1812, 2)\n",
      "4846\n",
      "45\n",
      "300\n"
     ]
    }
   ],
   "source": [
    "#Sanity checkk\n",
    "print(w2v_dataset_2.shape)\n",
    "print(len(w2v_embbedings_2))\n",
    "print(len(w2v_embbedings_2[0]))\n",
    "print(len(w2v_embbedings_2[0][1]))"
   ]
  },
  {
   "cell_type": "code",
   "execution_count": null,
   "metadata": {},
   "outputs": [],
   "source": [
    "## This gets word embeddings from the words in the balanced dataset\n",
    "embeddings = dataset_manager['balanced'].get_embeddings(word2vec_model=word2vec_model)\n",
    "## this splits the dataset into test train validation data\n",
    "balanced_tvt_dict = dataset_manager['balanced'].train_val_test_split(embeddings)\n",
    "\n",
    "embeddings = dataset_manager['unbalanced'].get_embeddings(word2vec_model=word2vec_model)\n",
    "unbalanced_tvt_dict = dataset_manager['unbalanced'].train_val_test_split(embeddings)\n",
    "\n",
    "## init a model manager object that is capable of running models\n",
    "model_manager = ModelManager() \n",
    "## the model manager class is capable of taking in a configuration dictionary\n",
    "\n"
   ]
  },
  {
   "cell_type": "code",
   "execution_count": null,
   "metadata": {},
   "outputs": [
    {
     "data": {
      "text/plain": [
       "(3876, 45, 300)"
      ]
     },
     "execution_count": 74,
     "metadata": {},
     "output_type": "execute_result"
    }
   ],
   "source": [
    "#Sanity check\n",
    "X_train_1.shape"
   ]
  },
  {
   "cell_type": "code",
   "execution_count": null,
   "metadata": {},
   "outputs": [
    {
     "data": {
      "text/plain": [
       "(3876, 3)"
      ]
     },
     "execution_count": 75,
     "metadata": {},
     "output_type": "execute_result"
    }
   ],
   "source": [
    "y_train_1.shape"
   ]
  },
  {
   "cell_type": "markdown",
   "metadata": {},
   "source": [
    "# Step 4 Training"
   ]
  },
  {
   "cell_type": "markdown",
   "metadata": {},
   "source": [
    "### Approach 2. Train an LSTM model from scratch"
   ]
  },
  {
   "cell_type": "code",
   "execution_count": null,
   "metadata": {},
   "outputs": [],
   "source": [
    "\n",
    "#Define LSTM architechture for balanced dataset\n",
    "model_config_1 = {\n",
    "    'model_name': 'LSTM_Model_1',\n",
    "    'units': 32,\n",
    "    'dropout_rate': 0.2,\n",
    "    'return_sequences_config': False,\n",
    "    'dense_units': 3,\n",
    "    'activation': 'sigmoid',\n",
    "    'output_activation': 'softmax',\n",
    "    'optimizer': 'adam',\n",
    "    'loss': 'categorical_crossentropy',\n",
    "    'epochs': 100,\n",
    "    'batch_size': 32,\n",
    "}"
   ]
  },
  {
   "cell_type": "code",
   "execution_count": null,
   "metadata": {},
   "outputs": [
    {
     "name": "stdout",
     "output_type": "stream",
     "text": [
      "Epoch 1/100\n",
      "46/46 [==============================] - 2s 16ms/step - loss: 1.1200 - accuracy: 0.3354 - val_loss: 1.0944 - val_accuracy: 0.3407\n",
      "Epoch 2/100\n",
      "46/46 [==============================] - 1s 11ms/step - loss: 1.1188 - accuracy: 0.3320 - val_loss: 1.0986 - val_accuracy: 0.3901\n",
      "Epoch 3/100\n",
      "46/46 [==============================] - 1s 11ms/step - loss: 1.1085 - accuracy: 0.3533 - val_loss: 1.1034 - val_accuracy: 0.2747\n",
      "Epoch 4/100\n",
      "46/46 [==============================] - 0s 11ms/step - loss: 1.1160 - accuracy: 0.3140 - val_loss: 1.1006 - val_accuracy: 0.2747\n",
      "Epoch 5/100\n",
      "46/46 [==============================] - 1s 11ms/step - loss: 1.1177 - accuracy: 0.3133 - val_loss: 1.1030 - val_accuracy: 0.2747\n",
      "Epoch 6/100\n",
      "46/46 [==============================] - 1s 12ms/step - loss: 1.1048 - accuracy: 0.3313 - val_loss: 1.0993 - val_accuracy: 0.2747\n",
      "Epoch 7/100\n",
      "46/46 [==============================] - 1s 11ms/step - loss: 1.1105 - accuracy: 0.3340 - val_loss: 1.0957 - val_accuracy: 0.3846\n",
      "Epoch 8/100\n",
      "46/46 [==============================] - 1s 11ms/step - loss: 1.1117 - accuracy: 0.3257 - val_loss: 1.1025 - val_accuracy: 0.2747\n",
      "Epoch 9/100\n",
      "46/46 [==============================] - 1s 13ms/step - loss: 1.1048 - accuracy: 0.3423 - val_loss: 1.1001 - val_accuracy: 0.3407\n",
      "Epoch 10/100\n",
      "46/46 [==============================] - 1s 12ms/step - loss: 1.1119 - accuracy: 0.3154 - val_loss: 1.1000 - val_accuracy: 0.2747\n",
      "Epoch 11/100\n",
      "46/46 [==============================] - 1s 12ms/step - loss: 1.1146 - accuracy: 0.3244 - val_loss: 1.0990 - val_accuracy: 0.3407\n",
      "Epoch 12/100\n",
      "46/46 [==============================] - 0s 11ms/step - loss: 1.1033 - accuracy: 0.3602 - val_loss: 1.1007 - val_accuracy: 0.2747\n",
      "Epoch 13/100\n",
      "46/46 [==============================] - 1s 12ms/step - loss: 1.1074 - accuracy: 0.3306 - val_loss: 1.0969 - val_accuracy: 0.3626\n",
      "Epoch 14/100\n",
      "46/46 [==============================] - 0s 11ms/step - loss: 1.1101 - accuracy: 0.3244 - val_loss: 1.1039 - val_accuracy: 0.2747\n",
      "Epoch 15/100\n",
      "46/46 [==============================] - 0s 11ms/step - loss: 1.1131 - accuracy: 0.3285 - val_loss: 1.0985 - val_accuracy: 0.3846\n",
      "Epoch 16/100\n",
      "46/46 [==============================] - 1s 11ms/step - loss: 1.1082 - accuracy: 0.3264 - val_loss: 1.0980 - val_accuracy: 0.3846\n",
      "Epoch 17/100\n",
      "46/46 [==============================] - 0s 11ms/step - loss: 1.1041 - accuracy: 0.3271 - val_loss: 1.0990 - val_accuracy: 0.2747\n",
      "Epoch 18/100\n",
      "46/46 [==============================] - 1s 11ms/step - loss: 1.1073 - accuracy: 0.3354 - val_loss: 1.0964 - val_accuracy: 0.3846\n",
      "Epoch 19/100\n",
      "46/46 [==============================] - 1s 11ms/step - loss: 1.1056 - accuracy: 0.3375 - val_loss: 1.1004 - val_accuracy: 0.2747\n",
      "Epoch 20/100\n",
      "46/46 [==============================] - 0s 11ms/step - loss: 1.1065 - accuracy: 0.3333 - val_loss: 1.0996 - val_accuracy: 0.2747\n",
      "Epoch 21/100\n",
      "46/46 [==============================] - 1s 11ms/step - loss: 1.1041 - accuracy: 0.3430 - val_loss: 1.0978 - val_accuracy: 0.3846\n",
      "Epoch 22/100\n",
      "46/46 [==============================] - 1s 11ms/step - loss: 1.1061 - accuracy: 0.3264 - val_loss: 1.0996 - val_accuracy: 0.3407\n",
      "Epoch 23/100\n",
      "46/46 [==============================] - 0s 11ms/step - loss: 1.1013 - accuracy: 0.3340 - val_loss: 1.0978 - val_accuracy: 0.3846\n",
      "Epoch 24/100\n",
      "46/46 [==============================] - 1s 11ms/step - loss: 1.1017 - accuracy: 0.3347 - val_loss: 1.1004 - val_accuracy: 0.2747\n",
      "Epoch 25/100\n",
      "46/46 [==============================] - 0s 11ms/step - loss: 1.1033 - accuracy: 0.3444 - val_loss: 1.0983 - val_accuracy: 0.2967\n",
      "Epoch 26/100\n",
      "46/46 [==============================] - 0s 11ms/step - loss: 1.1002 - accuracy: 0.3395 - val_loss: 1.0971 - val_accuracy: 0.3516\n",
      "Epoch 27/100\n",
      "46/46 [==============================] - 1s 13ms/step - loss: 1.1011 - accuracy: 0.3492 - val_loss: 1.0966 - val_accuracy: 0.3462\n",
      "Epoch 28/100\n",
      "46/46 [==============================] - 0s 11ms/step - loss: 1.1053 - accuracy: 0.3209 - val_loss: 1.0945 - val_accuracy: 0.3516\n",
      "Epoch 29/100\n",
      "46/46 [==============================] - 1s 11ms/step - loss: 1.0945 - accuracy: 0.3727 - val_loss: 1.0889 - val_accuracy: 0.5879\n",
      "Epoch 30/100\n",
      "46/46 [==============================] - 1s 12ms/step - loss: 1.0909 - accuracy: 0.3837 - val_loss: 1.0802 - val_accuracy: 0.5110\n",
      "Epoch 31/100\n",
      "46/46 [==============================] - 1s 11ms/step - loss: 1.0826 - accuracy: 0.4113 - val_loss: 1.0748 - val_accuracy: 0.5110\n",
      "Epoch 32/100\n",
      "46/46 [==============================] - 1s 11ms/step - loss: 1.0720 - accuracy: 0.4541 - val_loss: 1.0602 - val_accuracy: 0.6154\n",
      "Epoch 33/100\n",
      "46/46 [==============================] - 1s 11ms/step - loss: 1.0617 - accuracy: 0.4707 - val_loss: 1.0491 - val_accuracy: 0.5934\n",
      "Epoch 34/100\n",
      "46/46 [==============================] - 0s 11ms/step - loss: 1.0478 - accuracy: 0.4783 - val_loss: 1.0236 - val_accuracy: 0.6209\n",
      "Epoch 35/100\n",
      "46/46 [==============================] - 1s 11ms/step - loss: 0.9982 - accuracy: 0.5217 - val_loss: 0.9616 - val_accuracy: 0.6319\n",
      "Epoch 36/100\n",
      "46/46 [==============================] - 0s 11ms/step - loss: 0.9067 - accuracy: 0.5742 - val_loss: 0.8646 - val_accuracy: 0.6319\n",
      "Epoch 37/100\n",
      "46/46 [==============================] - 1s 12ms/step - loss: 0.7984 - accuracy: 0.5956 - val_loss: 0.8200 - val_accuracy: 0.6429\n",
      "Epoch 38/100\n",
      "46/46 [==============================] - 1s 11ms/step - loss: 0.7440 - accuracy: 0.6370 - val_loss: 0.8271 - val_accuracy: 0.6264\n",
      "Epoch 39/100\n",
      "46/46 [==============================] - 1s 11ms/step - loss: 0.7310 - accuracy: 0.6384 - val_loss: 0.8304 - val_accuracy: 0.6484\n",
      "Epoch 40/100\n",
      "46/46 [==============================] - 1s 12ms/step - loss: 0.7154 - accuracy: 0.6342 - val_loss: 0.8549 - val_accuracy: 0.6209\n",
      "Epoch 41/100\n",
      "46/46 [==============================] - 1s 11ms/step - loss: 0.6971 - accuracy: 0.6598 - val_loss: 0.8641 - val_accuracy: 0.6429\n",
      "Epoch 42/100\n",
      "46/46 [==============================] - 1s 11ms/step - loss: 0.6897 - accuracy: 0.6577 - val_loss: 0.8789 - val_accuracy: 0.6319\n",
      "Epoch 43/100\n",
      "46/46 [==============================] - 1s 11ms/step - loss: 0.6792 - accuracy: 0.6549 - val_loss: 0.8706 - val_accuracy: 0.6154\n",
      "Epoch 44/100\n",
      "46/46 [==============================] - 1s 11ms/step - loss: 0.6652 - accuracy: 0.6832 - val_loss: 0.8707 - val_accuracy: 0.6429\n",
      "Epoch 45/100\n",
      "46/46 [==============================] - 1s 12ms/step - loss: 0.6545 - accuracy: 0.6915 - val_loss: 0.8762 - val_accuracy: 0.6319\n",
      "Epoch 46/100\n",
      "46/46 [==============================] - 1s 11ms/step - loss: 0.6627 - accuracy: 0.6736 - val_loss: 0.8795 - val_accuracy: 0.6264\n",
      "Epoch 47/100\n",
      "46/46 [==============================] - 1s 11ms/step - loss: 0.6418 - accuracy: 0.6943 - val_loss: 0.8809 - val_accuracy: 0.6374\n",
      "Epoch 48/100\n",
      "46/46 [==============================] - 1s 11ms/step - loss: 0.6238 - accuracy: 0.7198 - val_loss: 0.8840 - val_accuracy: 0.6484\n",
      "Epoch 49/100\n",
      "46/46 [==============================] - 1s 12ms/step - loss: 0.6049 - accuracy: 0.7350 - val_loss: 0.8859 - val_accuracy: 0.6758\n",
      "Epoch 50/100\n",
      "46/46 [==============================] - 1s 11ms/step - loss: 0.5963 - accuracy: 0.7384 - val_loss: 0.8870 - val_accuracy: 0.6703\n",
      "Epoch 51/100\n",
      "46/46 [==============================] - 1s 11ms/step - loss: 0.5873 - accuracy: 0.7598 - val_loss: 0.8850 - val_accuracy: 0.6538\n",
      "Epoch 52/100\n",
      "46/46 [==============================] - 1s 11ms/step - loss: 0.5565 - accuracy: 0.7833 - val_loss: 0.8881 - val_accuracy: 0.6868\n",
      "Epoch 53/100\n",
      "46/46 [==============================] - 0s 11ms/step - loss: 0.5274 - accuracy: 0.7964 - val_loss: 0.8619 - val_accuracy: 0.6703\n",
      "Epoch 54/100\n",
      "46/46 [==============================] - 1s 12ms/step - loss: 0.4974 - accuracy: 0.8116 - val_loss: 0.9019 - val_accuracy: 0.7033\n",
      "Epoch 55/100\n",
      "46/46 [==============================] - 1s 11ms/step - loss: 0.4790 - accuracy: 0.8268 - val_loss: 0.8513 - val_accuracy: 0.6758\n",
      "Epoch 56/100\n",
      "46/46 [==============================] - 1s 11ms/step - loss: 0.4424 - accuracy: 0.8502 - val_loss: 0.8651 - val_accuracy: 0.6868\n",
      "Epoch 57/100\n",
      "46/46 [==============================] - 1s 12ms/step - loss: 0.4026 - accuracy: 0.8758 - val_loss: 0.8743 - val_accuracy: 0.6923\n",
      "Epoch 58/100\n",
      "46/46 [==============================] - 0s 11ms/step - loss: 0.3816 - accuracy: 0.8820 - val_loss: 0.8677 - val_accuracy: 0.7253\n",
      "Epoch 59/100\n",
      "46/46 [==============================] - 1s 11ms/step - loss: 0.3592 - accuracy: 0.8937 - val_loss: 0.8929 - val_accuracy: 0.7143\n",
      "Epoch 60/100\n",
      "46/46 [==============================] - 1s 11ms/step - loss: 0.3454 - accuracy: 0.8958 - val_loss: 0.8923 - val_accuracy: 0.7253\n",
      "Epoch 61/100\n",
      "46/46 [==============================] - 1s 11ms/step - loss: 0.3292 - accuracy: 0.9075 - val_loss: 0.8985 - val_accuracy: 0.6923\n",
      "Epoch 62/100\n",
      "46/46 [==============================] - 1s 12ms/step - loss: 0.3039 - accuracy: 0.9144 - val_loss: 0.9271 - val_accuracy: 0.7418\n",
      "Epoch 63/100\n",
      "46/46 [==============================] - 0s 11ms/step - loss: 0.2969 - accuracy: 0.9179 - val_loss: 0.9380 - val_accuracy: 0.7198\n",
      "Epoch 64/100\n",
      "46/46 [==============================] - 1s 12ms/step - loss: 0.2743 - accuracy: 0.9199 - val_loss: 0.9788 - val_accuracy: 0.7363\n",
      "Epoch 65/100\n",
      "46/46 [==============================] - 1s 12ms/step - loss: 0.2806 - accuracy: 0.9151 - val_loss: 0.9774 - val_accuracy: 0.7363\n",
      "Epoch 66/100\n",
      "46/46 [==============================] - 1s 12ms/step - loss: 0.2520 - accuracy: 0.9317 - val_loss: 0.9806 - val_accuracy: 0.7418\n",
      "Epoch 67/100\n",
      "46/46 [==============================] - 0s 11ms/step - loss: 0.2715 - accuracy: 0.9220 - val_loss: 0.9825 - val_accuracy: 0.7418\n",
      "Epoch 68/100\n",
      "46/46 [==============================] - 1s 12ms/step - loss: 0.2426 - accuracy: 0.9393 - val_loss: 0.9869 - val_accuracy: 0.7473\n",
      "Epoch 69/100\n",
      "46/46 [==============================] - 0s 11ms/step - loss: 0.2308 - accuracy: 0.9386 - val_loss: 1.0462 - val_accuracy: 0.7363\n",
      "Epoch 70/100\n",
      "46/46 [==============================] - 1s 12ms/step - loss: 0.2296 - accuracy: 0.9434 - val_loss: 1.0351 - val_accuracy: 0.7473\n",
      "Epoch 71/100\n",
      "46/46 [==============================] - 0s 11ms/step - loss: 0.2200 - accuracy: 0.9482 - val_loss: 1.0580 - val_accuracy: 0.7418\n",
      "Epoch 72/100\n",
      "46/46 [==============================] - 0s 11ms/step - loss: 0.2184 - accuracy: 0.9448 - val_loss: 1.0490 - val_accuracy: 0.7363\n",
      "Epoch 73/100\n",
      "46/46 [==============================] - 1s 12ms/step - loss: 0.2237 - accuracy: 0.9441 - val_loss: 1.0256 - val_accuracy: 0.7418\n",
      "Epoch 74/100\n",
      "46/46 [==============================] - 0s 11ms/step - loss: 0.2186 - accuracy: 0.9476 - val_loss: 1.0617 - val_accuracy: 0.7308\n",
      "Epoch 75/100\n",
      "46/46 [==============================] - 1s 12ms/step - loss: 0.2077 - accuracy: 0.9489 - val_loss: 1.0568 - val_accuracy: 0.7308\n",
      "Epoch 76/100\n",
      "46/46 [==============================] - 0s 11ms/step - loss: 0.2033 - accuracy: 0.9524 - val_loss: 1.1517 - val_accuracy: 0.7473\n",
      "Epoch 77/100\n",
      "46/46 [==============================] - 1s 12ms/step - loss: 0.2011 - accuracy: 0.9545 - val_loss: 1.1060 - val_accuracy: 0.7308\n",
      "Epoch 78/100\n",
      "46/46 [==============================] - 1s 11ms/step - loss: 0.1891 - accuracy: 0.9551 - val_loss: 1.1459 - val_accuracy: 0.7418\n",
      "Epoch 79/100\n",
      "46/46 [==============================] - 1s 11ms/step - loss: 0.1923 - accuracy: 0.9510 - val_loss: 1.1313 - val_accuracy: 0.7527\n",
      "Epoch 80/100\n",
      "46/46 [==============================] - 1s 11ms/step - loss: 0.2088 - accuracy: 0.9427 - val_loss: 1.0650 - val_accuracy: 0.7637\n",
      "Epoch 81/100\n",
      "46/46 [==============================] - 1s 12ms/step - loss: 0.1840 - accuracy: 0.9579 - val_loss: 1.0965 - val_accuracy: 0.7418\n",
      "Epoch 82/100\n",
      "46/46 [==============================] - 1s 11ms/step - loss: 0.1766 - accuracy: 0.9607 - val_loss: 1.1803 - val_accuracy: 0.7582\n",
      "Epoch 83/100\n",
      "46/46 [==============================] - 1s 12ms/step - loss: 0.1742 - accuracy: 0.9614 - val_loss: 1.1607 - val_accuracy: 0.7582\n",
      "Epoch 84/100\n",
      "46/46 [==============================] - 1s 11ms/step - loss: 0.1792 - accuracy: 0.9600 - val_loss: 1.1064 - val_accuracy: 0.7473\n",
      "Epoch 85/100\n",
      "46/46 [==============================] - 1s 11ms/step - loss: 0.1713 - accuracy: 0.9600 - val_loss: 1.1171 - val_accuracy: 0.7527\n",
      "Epoch 86/100\n",
      "46/46 [==============================] - 1s 12ms/step - loss: 0.1611 - accuracy: 0.9620 - val_loss: 1.1295 - val_accuracy: 0.7527\n",
      "Epoch 87/100\n",
      "46/46 [==============================] - 0s 11ms/step - loss: 0.1568 - accuracy: 0.9648 - val_loss: 1.1604 - val_accuracy: 0.7527\n",
      "Epoch 88/100\n",
      "46/46 [==============================] - 1s 11ms/step - loss: 0.1483 - accuracy: 0.9669 - val_loss: 1.1558 - val_accuracy: 0.7527\n",
      "Epoch 89/100\n",
      "46/46 [==============================] - 1s 11ms/step - loss: 0.1630 - accuracy: 0.9627 - val_loss: 1.1818 - val_accuracy: 0.7473\n",
      "Epoch 90/100\n",
      "46/46 [==============================] - 0s 11ms/step - loss: 0.1467 - accuracy: 0.9676 - val_loss: 1.1956 - val_accuracy: 0.7527\n",
      "Epoch 91/100\n",
      "46/46 [==============================] - 1s 11ms/step - loss: 0.1559 - accuracy: 0.9676 - val_loss: 1.1440 - val_accuracy: 0.7582\n",
      "Epoch 92/100\n",
      "46/46 [==============================] - 1s 11ms/step - loss: 0.1456 - accuracy: 0.9724 - val_loss: 1.1724 - val_accuracy: 0.7527\n",
      "Epoch 93/100\n",
      "46/46 [==============================] - 1s 11ms/step - loss: 0.1424 - accuracy: 0.9717 - val_loss: 1.2116 - val_accuracy: 0.7473\n",
      "Epoch 94/100\n",
      "46/46 [==============================] - 1s 12ms/step - loss: 0.1415 - accuracy: 0.9738 - val_loss: 1.2234 - val_accuracy: 0.7582\n",
      "Epoch 95/100\n",
      "46/46 [==============================] - 1s 11ms/step - loss: 0.1444 - accuracy: 0.9724 - val_loss: 1.2323 - val_accuracy: 0.7527\n",
      "Epoch 96/100\n",
      "46/46 [==============================] - 0s 11ms/step - loss: 0.1401 - accuracy: 0.9717 - val_loss: 1.2678 - val_accuracy: 0.7582\n",
      "Epoch 97/100\n",
      "46/46 [==============================] - 1s 11ms/step - loss: 0.1393 - accuracy: 0.9745 - val_loss: 1.2810 - val_accuracy: 0.7473\n",
      "Epoch 98/100\n",
      "46/46 [==============================] - 1s 12ms/step - loss: 0.1340 - accuracy: 0.9731 - val_loss: 1.2203 - val_accuracy: 0.7418\n",
      "Epoch 99/100\n",
      "46/46 [==============================] - 1s 11ms/step - loss: 0.1565 - accuracy: 0.9614 - val_loss: 1.2039 - val_accuracy: 0.7527\n",
      "Epoch 100/100\n",
      "46/46 [==============================] - 1s 12ms/step - loss: 0.1454 - accuracy: 0.9710 - val_loss: 1.2111 - val_accuracy: 0.7527\n",
      "LSTM_Model_1 Training process execution time: 53.19\n"
     ]
    }
   ],
   "source": [
    "model_manager.run_model_config(tvt_dict, model_config_1)\n"
   ]
  },
  {
   "cell_type": "code",
   "execution_count": null,
   "metadata": {},
   "outputs": [],
   "source": [
    "#Define LSTM architechture for imbalanced dataset\n",
    "model_config_2 = {\n",
    "    'model_name': 'LSTM_Model_2',\n",
    "    'units': 32,\n",
    "    'dropout_rate': 0.2,\n",
    "    'return_sequences_config': False,\n",
    "    'dense_units': 3,\n",
    "    'activation': 'sigmoid',\n",
    "    'output_activation': 'softmax',\n",
    "    'optimizer': 'adam',\n",
    "    'loss': 'categorical_crossentropy',\n",
    "    'epochs': 30,\n",
    "    'batch_size': 10,\n",
    "    'metrics': ['accuracy'],\n",
    "}"
   ]
  },
  {
   "cell_type": "code",
   "execution_count": null,
   "metadata": {},
   "outputs": [
    {
     "name": "stdout",
     "output_type": "stream",
     "text": [
      "Epoch 1/30\n",
      "145/145 [==============================] - 2s 7ms/step - loss: 1.1590 - accuracy: 0.3382 - val_loss: 1.0959 - val_accuracy: 0.3846\n",
      "Epoch 2/30\n",
      "145/145 [==============================] - 1s 6ms/step - loss: 1.1166 - accuracy: 0.3216 - val_loss: 1.0991 - val_accuracy: 0.3407\n",
      "Epoch 3/30\n",
      "145/145 [==============================] - 1s 6ms/step - loss: 1.1032 - accuracy: 0.3506 - val_loss: 1.1025 - val_accuracy: 0.3407\n",
      "Epoch 4/30\n",
      "145/145 [==============================] - 1s 6ms/step - loss: 1.1113 - accuracy: 0.3299 - val_loss: 1.0967 - val_accuracy: 0.3571\n",
      "Epoch 5/30\n",
      "145/145 [==============================] - 1s 6ms/step - loss: 1.1074 - accuracy: 0.3382 - val_loss: 1.0953 - val_accuracy: 0.3571\n",
      "Epoch 6/30\n",
      "145/145 [==============================] - 1s 6ms/step - loss: 1.0999 - accuracy: 0.3540 - val_loss: 1.0902 - val_accuracy: 0.4341\n",
      "Epoch 7/30\n",
      "145/145 [==============================] - 1s 6ms/step - loss: 1.0983 - accuracy: 0.3554 - val_loss: 1.0765 - val_accuracy: 0.5714\n",
      "Epoch 8/30\n",
      "145/145 [==============================] - 1s 6ms/step - loss: 1.0800 - accuracy: 0.4030 - val_loss: 1.0691 - val_accuracy: 0.4396\n",
      "Epoch 9/30\n",
      "145/145 [==============================] - 1s 6ms/step - loss: 1.0568 - accuracy: 0.4472 - val_loss: 1.0270 - val_accuracy: 0.5879\n",
      "Epoch 10/30\n",
      "145/145 [==============================] - 1s 6ms/step - loss: 1.0018 - accuracy: 0.5038 - val_loss: 0.9334 - val_accuracy: 0.5824\n",
      "Epoch 11/30\n",
      "145/145 [==============================] - 1s 6ms/step - loss: 0.8647 - accuracy: 0.5549 - val_loss: 0.8454 - val_accuracy: 0.6099\n",
      "Epoch 12/30\n",
      "145/145 [==============================] - 1s 6ms/step - loss: 0.8044 - accuracy: 0.6011 - val_loss: 0.8239 - val_accuracy: 0.6264\n",
      "Epoch 13/30\n",
      "145/145 [==============================] - 1s 6ms/step - loss: 0.7564 - accuracy: 0.6094 - val_loss: 0.8177 - val_accuracy: 0.6484\n",
      "Epoch 14/30\n",
      "145/145 [==============================] - 1s 6ms/step - loss: 0.7269 - accuracy: 0.6294 - val_loss: 0.8428 - val_accuracy: 0.6429\n",
      "Epoch 15/30\n",
      "145/145 [==============================] - 1s 6ms/step - loss: 0.6971 - accuracy: 0.6591 - val_loss: 0.8158 - val_accuracy: 0.6648\n",
      "Epoch 16/30\n",
      "145/145 [==============================] - 1s 6ms/step - loss: 0.6564 - accuracy: 0.7039 - val_loss: 0.8072 - val_accuracy: 0.6813\n",
      "Epoch 17/30\n",
      "145/145 [==============================] - 1s 6ms/step - loss: 0.6085 - accuracy: 0.7591 - val_loss: 0.8008 - val_accuracy: 0.7033\n",
      "Epoch 18/30\n",
      "145/145 [==============================] - 1s 6ms/step - loss: 0.5602 - accuracy: 0.8006 - val_loss: 0.7913 - val_accuracy: 0.7253\n",
      "Epoch 19/30\n",
      "145/145 [==============================] - 1s 6ms/step - loss: 0.5347 - accuracy: 0.8075 - val_loss: 0.8256 - val_accuracy: 0.7198\n",
      "Epoch 20/30\n",
      "145/145 [==============================] - 1s 6ms/step - loss: 0.4988 - accuracy: 0.8413 - val_loss: 0.7966 - val_accuracy: 0.7692\n",
      "Epoch 21/30\n",
      "145/145 [==============================] - 1s 6ms/step - loss: 0.4639 - accuracy: 0.8634 - val_loss: 0.7785 - val_accuracy: 0.7582\n",
      "Epoch 22/30\n",
      "145/145 [==============================] - 1s 6ms/step - loss: 0.4375 - accuracy: 0.8592 - val_loss: 0.7799 - val_accuracy: 0.7637\n",
      "Epoch 23/30\n",
      "145/145 [==============================] - 1s 6ms/step - loss: 0.4111 - accuracy: 0.8799 - val_loss: 0.7781 - val_accuracy: 0.7692\n",
      "Epoch 24/30\n",
      "145/145 [==============================] - 1s 6ms/step - loss: 0.3992 - accuracy: 0.8785 - val_loss: 0.8174 - val_accuracy: 0.7363\n",
      "Epoch 25/30\n",
      "145/145 [==============================] - 1s 6ms/step - loss: 0.3870 - accuracy: 0.8723 - val_loss: 0.8087 - val_accuracy: 0.7582\n",
      "Epoch 26/30\n",
      "145/145 [==============================] - 1s 6ms/step - loss: 0.3391 - accuracy: 0.9041 - val_loss: 0.8221 - val_accuracy: 0.7473\n",
      "Epoch 27/30\n",
      "145/145 [==============================] - 1s 6ms/step - loss: 0.3357 - accuracy: 0.9013 - val_loss: 0.8191 - val_accuracy: 0.7582\n",
      "Epoch 28/30\n",
      "145/145 [==============================] - 1s 6ms/step - loss: 0.3247 - accuracy: 0.9006 - val_loss: 0.8770 - val_accuracy: 0.7692\n",
      "Epoch 29/30\n",
      "145/145 [==============================] - 1s 7ms/step - loss: 0.3177 - accuracy: 0.9110 - val_loss: 0.8512 - val_accuracy: 0.7637\n",
      "Epoch 30/30\n",
      "145/145 [==============================] - 1s 7ms/step - loss: 0.2972 - accuracy: 0.9137 - val_loss: 0.8828 - val_accuracy: 0.7582\n",
      "LSTM_Model_2 Training process execution time: 27.47\n"
     ]
    }
   ],
   "source": [
    "model_manager.run_model_config(tvt_dict, model_config_2)\n"
   ]
  },
  {
   "cell_type": "code",
   "execution_count": null,
   "metadata": {},
   "outputs": [
    {
     "data": {
      "image/png": "[encoded data removed]",
      "text/plain": [
       "<Figure size 640x480 with 1 Axes>"
      ]
     },
     "metadata": {},
     "output_type": "display_data"
    }
   ],
   "source": [
    "model_manager.plot_model_history('LSTM_Model_1')\n"
   ]
  },
  {
   "cell_type": "code",
   "execution_count": null,
   "metadata": {},
   "outputs": [
    {
     "data": {
      "image/png": "[encoded data removed]",
      "text/plain": [
       "<Figure size 640x480 with 1 Axes>"
      ]
     },
     "metadata": {},
     "output_type": "display_data"
    }
   ],
   "source": [
    "model_manager.plot_model_history('LSTM_Model_2')\n"
   ]
  },
  {
   "cell_type": "markdown",
   "metadata": {},
   "source": [
    "# Step 5 Evaluation"
   ]
  },
  {
   "cell_type": "code",
   "execution_count": null,
   "metadata": {},
   "outputs": [
    {
     "name": "stdout",
     "output_type": "stream",
     "text": [
      "6/6 [==============================] - 0s 6ms/step\n",
      "Accuracy Imbalanced data set for LSTM_Model_1: 0.82\n",
      "F1 Score Imbalanced data set for LSTM_Model_1: 0.82\n",
      "16/16 [==============================] - 0s 6ms/step\n",
      "Accuracy Imbalanced data set for LSTM_Model_2: 0.71\n",
      "F1 Score Imbalanced data set for LSTM_Model_2: 0.72\n"
     ]
    }
   ],
   "source": [
    "## The model manager can be used to make a prediction\n",
    "## and out metrics\n",
    "y_pred_1 = model_manager.predict('LSTM_Model_1', balanced_tvt_dict['X_test'], return_class_indices=True)\n",
    "model_manager.print_performance_metrics('LSTM_Model_1', balanced_tvt_dict['y_test'], y_pred_1, dataset_type='Imbalanced')\n",
    "\n",
    "\n",
    "y_pred_2 = model_manager.predict('LSTM_Model_2', unbalanced_tvt_dict['X_test'], return_class_indices=True)\n",
    "model_manager.print_performance_metrics('LSTM_Model_2', unbalanced_tvt_dict['y_test'], y_pred_2, dataset_type='Imbalanced')\n",
    "\n"
   ]
  },
  {
   "cell_type": "code",
   "execution_count": null,
   "metadata": {},
   "outputs": [
    {
     "data": {
      "image/png": "[encoded data removed]",
      "text/plain": [
       "<Figure size 640x480 with 2 Axes>"
      ]
     },
     "metadata": {},
     "output_type": "display_data"
    },
    {
     "data": {
      "image/png": "[encoded data removed]",
      "text/plain": [
       "<Figure size 640x480 with 2 Axes>"
      ]
     },
     "metadata": {},
     "output_type": "display_data"
    }
   ],
   "source": [
    "#You can also plot the confusion matrix\n",
    "y_test_1_indices = balanced_tvt_dict['y_test'].argmax(axis=1)\n",
    "model_manager.plot_confusion_matrix('LSTM_Model_1', y_test_1_indices, y_pred_1, title='Balanced Dataset')\n",
    "\n",
    "\n",
    "y_test_2_indices = unbalanced_tvt_dict['y_test'].argmax(axis=1)\n",
    "model_manager.plot_confusion_matrix('LSTM_Model_2', y_test_2_indices, y_pred_2, title='Imbalanced Dataset')\n"
   ]
  }
 ],
 "metadata": {
  "kernelspec": {
   "display_name": "dl-venv",
   "language": "python",
   "name": "python3"
  },
  "language_info": {
   "codemirror_mode": {
    "name": "ipython",
    "version": 3
   },
   "file_extension": ".py",
   "mimetype": "text/x-python",
   "name": "python",
   "nbconvert_exporter": "python",
   "pygments_lexer": "ipython3",
   "version": "3.11.4"
  }
 },
 "nbformat": 4,
 "nbformat_minor": 2
}
