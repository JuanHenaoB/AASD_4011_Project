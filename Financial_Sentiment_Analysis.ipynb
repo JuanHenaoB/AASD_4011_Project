{
 "cells": [
  {
   "cell_type": "markdown",
   "metadata": {},
   "source": [
    "# Step 1. EDA"
   ]
  },
  {
   "cell_type": "code",
   "execution_count": 1,
   "metadata": {},
   "outputs": [
    {
     "name": "stderr",
     "output_type": "stream",
     "text": [
      "c:\\Users\\kurom\\anaconda3\\envs\\dl-venv\\lib\\site-packages\\tqdm\\auto.py:21: TqdmWarning: IProgress not found. Please update jupyter and ipywidgets. See https://ipywidgets.readthedocs.io/en/stable/user_install.html\n",
      "  from .autonotebook import tqdm as notebook_tqdm\n"
     ]
    }
   ],
   "source": [
    "#Import dataset\n",
    "import pandas as pd\n",
    "import numpy as np\n",
    "import matplotlib.pyplot as plt\n",
    "\n",
    "from datasets import load_dataset"
   ]
  },
  {
   "cell_type": "code",
   "execution_count": 2,
   "metadata": {},
   "outputs": [],
   "source": [
    "financial_news = pd.read_csv('all-data.csv', encoding='latin', header=None) #read csv set header to none because columns have no title\n",
    "financial_news.rename(columns={0: 'label', 1:'news'}, inplace=True) #rename columns"
   ]
  },
  {
   "cell_type": "code",
   "execution_count": 3,
   "metadata": {},
   "outputs": [
    {
     "data": {
      "text/html": [
       "<div>\n",
       "<style scoped>\n",
       "    .dataframe tbody tr th:only-of-type {\n",
       "        vertical-align: middle;\n",
       "    }\n",
       "\n",
       "    .dataframe tbody tr th {\n",
       "        vertical-align: top;\n",
       "    }\n",
       "\n",
       "    .dataframe thead th {\n",
       "        text-align: right;\n",
       "    }\n",
       "</style>\n",
       "<table border=\"1\" class=\"dataframe\">\n",
       "  <thead>\n",
       "    <tr style=\"text-align: right;\">\n",
       "      <th></th>\n",
       "      <th>label</th>\n",
       "      <th>news</th>\n",
       "    </tr>\n",
       "  </thead>\n",
       "  <tbody>\n",
       "    <tr>\n",
       "      <th>4841</th>\n",
       "      <td>negative</td>\n",
       "      <td>LONDON MarketWatch -- Share prices ended lower...</td>\n",
       "    </tr>\n",
       "    <tr>\n",
       "      <th>4842</th>\n",
       "      <td>neutral</td>\n",
       "      <td>Rinkuskiai 's beer sales fell by 6.5 per cent ...</td>\n",
       "    </tr>\n",
       "    <tr>\n",
       "      <th>4843</th>\n",
       "      <td>negative</td>\n",
       "      <td>Operating profit fell to EUR 35.4 mn from EUR ...</td>\n",
       "    </tr>\n",
       "    <tr>\n",
       "      <th>4844</th>\n",
       "      <td>negative</td>\n",
       "      <td>Net sales of the Paper segment decreased to EU...</td>\n",
       "    </tr>\n",
       "    <tr>\n",
       "      <th>4845</th>\n",
       "      <td>negative</td>\n",
       "      <td>Sales in Finland decreased by 10.5 % in Januar...</td>\n",
       "    </tr>\n",
       "  </tbody>\n",
       "</table>\n",
       "</div>"
      ],
      "text/plain": [
       "         label                                               news\n",
       "4841  negative  LONDON MarketWatch -- Share prices ended lower...\n",
       "4842   neutral  Rinkuskiai 's beer sales fell by 6.5 per cent ...\n",
       "4843  negative  Operating profit fell to EUR 35.4 mn from EUR ...\n",
       "4844  negative  Net sales of the Paper segment decreased to EU...\n",
       "4845  negative  Sales in Finland decreased by 10.5 % in Januar..."
      ]
     },
     "execution_count": 3,
     "metadata": {},
     "output_type": "execute_result"
    }
   ],
   "source": [
    "#Check DF head and Tail\n",
    "financial_news.head()\n",
    "financial_news.tail()"
   ]
  },
  {
   "cell_type": "code",
   "execution_count": 4,
   "metadata": {},
   "outputs": [
    {
     "data": {
      "text/plain": [
       "(4846, 2)"
      ]
     },
     "execution_count": 4,
     "metadata": {},
     "output_type": "execute_result"
    }
   ],
   "source": [
    "#Check shape of train df\n",
    "financial_news.shape"
   ]
  },
  {
   "cell_type": "code",
   "execution_count": 5,
   "metadata": {},
   "outputs": [
    {
     "name": "stdout",
     "output_type": "stream",
     "text": [
      "<class 'pandas.core.frame.DataFrame'>\n",
      "RangeIndex: 4846 entries, 0 to 4845\n",
      "Data columns (total 2 columns):\n",
      " #   Column  Non-Null Count  Dtype \n",
      "---  ------  --------------  ----- \n",
      " 0   label   4846 non-null   object\n",
      " 1   news    4846 non-null   object\n",
      "dtypes: object(2)\n",
      "memory usage: 75.8+ KB\n"
     ]
    }
   ],
   "source": [
    "#Check information of df\n",
    "#we can see there is no missing values \n",
    "financial_news.info()"
   ]
  },
  {
   "cell_type": "code",
   "execution_count": 6,
   "metadata": {},
   "outputs": [
    {
     "data": {
      "image/png": "[encoded data removed]",
      "text/plain": [
       "<Figure size 640x480 with 1 Axes>"
      ]
     },
     "metadata": {},
     "output_type": "display_data"
    },
    {
     "name": "stdout",
     "output_type": "stream",
     "text": [
      "label\n",
      "neutral     2879\n",
      "positive    1363\n",
      "negative     604\n",
      "Name: count, dtype: int64\n"
     ]
    }
   ],
   "source": [
    "#Check balance of the data set\n",
    "financial_news['label'].value_counts(ascending=True).plot.barh()\n",
    "plt.title(\"Balance of the target classes in the dataset\")\n",
    "plt.show()\n",
    "\n",
    "#We can notice that the data set is imbalanced\n",
    "print(financial_news['label'].value_counts())"
   ]
  },
  {
   "cell_type": "code",
   "execution_count": 7,
   "metadata": {},
   "outputs": [
    {
     "data": {
      "text/plain": [
       "81"
      ]
     },
     "execution_count": 7,
     "metadata": {},
     "output_type": "execute_result"
    }
   ],
   "source": [
    "#Check the maximum lenght of the documents\n",
    "financial_news['len'] = financial_news['news'].apply(lambda text: len(text.split()))\n",
    "financial_news['len'].max()"
   ]
  },
  {
   "cell_type": "code",
   "execution_count": 8,
   "metadata": {},
   "outputs": [
    {
     "data": {
      "text/html": [
       "<div>\n",
       "<style scoped>\n",
       "    .dataframe tbody tr th:only-of-type {\n",
       "        vertical-align: middle;\n",
       "    }\n",
       "\n",
       "    .dataframe tbody tr th {\n",
       "        vertical-align: top;\n",
       "    }\n",
       "\n",
       "    .dataframe thead th {\n",
       "        text-align: right;\n",
       "    }\n",
       "</style>\n",
       "<table border=\"1\" class=\"dataframe\">\n",
       "  <thead>\n",
       "    <tr style=\"text-align: right;\">\n",
       "      <th></th>\n",
       "      <th>label</th>\n",
       "      <th>news</th>\n",
       "    </tr>\n",
       "  </thead>\n",
       "  <tbody>\n",
       "    <tr>\n",
       "      <th>0</th>\n",
       "      <td>neutral</td>\n",
       "      <td>According to Gran , the company has no plans t...</td>\n",
       "    </tr>\n",
       "    <tr>\n",
       "      <th>1</th>\n",
       "      <td>neutral</td>\n",
       "      <td>Technopolis plans to develop in stages an area...</td>\n",
       "    </tr>\n",
       "    <tr>\n",
       "      <th>2</th>\n",
       "      <td>negative</td>\n",
       "      <td>The international electronic industry company ...</td>\n",
       "    </tr>\n",
       "  </tbody>\n",
       "</table>\n",
       "</div>"
      ],
      "text/plain": [
       "      label                                               news\n",
       "0   neutral  According to Gran , the company has no plans t...\n",
       "1   neutral  Technopolis plans to develop in stages an area...\n",
       "2  negative  The international electronic industry company ..."
      ]
     },
     "execution_count": 8,
     "metadata": {},
     "output_type": "execute_result"
    }
   ],
   "source": [
    "financial_news.drop(columns={'len'}, inplace=True)\n",
    "financial_news.head(3)"
   ]
  },
  {
   "cell_type": "markdown",
   "metadata": {},
   "source": [
    "# Step 2. Pre-processing"
   ]
  },
  {
   "cell_type": "markdown",
   "metadata": {},
   "source": [
    "### Approach 1. do not balance classes"
   ]
  },
  {
   "cell_type": "code",
   "execution_count": 9,
   "metadata": {},
   "outputs": [
    {
     "data": {
      "text/html": [
       "<div>\n",
       "<style scoped>\n",
       "    .dataframe tbody tr th:only-of-type {\n",
       "        vertical-align: middle;\n",
       "    }\n",
       "\n",
       "    .dataframe tbody tr th {\n",
       "        vertical-align: top;\n",
       "    }\n",
       "\n",
       "    .dataframe thead th {\n",
       "        text-align: right;\n",
       "    }\n",
       "</style>\n",
       "<table border=\"1\" class=\"dataframe\">\n",
       "  <thead>\n",
       "    <tr style=\"text-align: right;\">\n",
       "      <th></th>\n",
       "      <th>label</th>\n",
       "      <th>news</th>\n",
       "    </tr>\n",
       "  </thead>\n",
       "  <tbody>\n",
       "    <tr>\n",
       "      <th>0</th>\n",
       "      <td>0</td>\n",
       "      <td>According to Gran , the company has no plans t...</td>\n",
       "    </tr>\n",
       "    <tr>\n",
       "      <th>1</th>\n",
       "      <td>0</td>\n",
       "      <td>Technopolis plans to develop in stages an area...</td>\n",
       "    </tr>\n",
       "    <tr>\n",
       "      <th>2</th>\n",
       "      <td>2</td>\n",
       "      <td>The international electronic industry company ...</td>\n",
       "    </tr>\n",
       "    <tr>\n",
       "      <th>3</th>\n",
       "      <td>1</td>\n",
       "      <td>With the new production plant the company woul...</td>\n",
       "    </tr>\n",
       "    <tr>\n",
       "      <th>4</th>\n",
       "      <td>1</td>\n",
       "      <td>According to the company 's updated strategy f...</td>\n",
       "    </tr>\n",
       "  </tbody>\n",
       "</table>\n",
       "</div>"
      ],
      "text/plain": [
       "   label                                               news\n",
       "0      0  According to Gran , the company has no plans t...\n",
       "1      0  Technopolis plans to develop in stages an area...\n",
       "2      2  The international electronic industry company ...\n",
       "3      1  With the new production plant the company woul...\n",
       "4      1  According to the company 's updated strategy f..."
      ]
     },
     "execution_count": 9,
     "metadata": {},
     "output_type": "execute_result"
    }
   ],
   "source": [
    "#First let's map the labels to integers\n",
    "\n",
    "lable_map = {'negative': 2, 'neutral': 0, 'positive': 1}\n",
    "financial_news['label'] = financial_news['label'].map(lable_map)\n",
    "financial_news.head()"
   ]
  },
  {
   "cell_type": "code",
   "execution_count": 10,
   "metadata": {},
   "outputs": [],
   "source": [
    "#Save approach 1 dataframe to folder\n",
    "financial_news.to_csv('data/financial_news_1.csv', index=False)"
   ]
  },
  {
   "cell_type": "markdown",
   "metadata": {},
   "source": [
    "### Approach 2. Downsampling"
   ]
  },
  {
   "cell_type": "code",
   "execution_count": 11,
   "metadata": {},
   "outputs": [],
   "source": [
    "# Let's downsample positive and neutral labels to create a balanced data set\n",
    "financial_news_ds = financial_news.copy() # Copy DF\n",
    "\n",
    "#Now let's separate our 3 classes to perform downsample\n",
    "financial_news_n = financial_news_ds.loc[financial_news_ds.label == 2] #Negative label\n",
    "financial_news_0 = financial_news_ds.loc[financial_news_ds.label ==  0] #Neutral label\n",
    "financial_news_1 = financial_news_ds.loc[financial_news_ds.label ==  1] #Positive label "
   ]
  },
  {
   "cell_type": "code",
   "execution_count": 12,
   "metadata": {},
   "outputs": [
    {
     "data": {
      "text/plain": [
       "array([1], dtype=int64)"
      ]
     },
     "execution_count": 12,
     "metadata": {},
     "output_type": "execute_result"
    }
   ],
   "source": [
    "#Check separated labels\n",
    "financial_news_n['label'].unique()\n",
    "financial_news_0['label'].unique()\n",
    "financial_news_1['label'].unique()"
   ]
  },
  {
   "cell_type": "code",
   "execution_count": 13,
   "metadata": {},
   "outputs": [],
   "source": [
    "#Downsample positive and neutral labels to be same length as negative label\n",
    "financial_news_0 = financial_news_0.iloc[0:604, :]\n",
    "financial_news_1 = financial_news_1.iloc[0:604, :]"
   ]
  },
  {
   "cell_type": "code",
   "execution_count": 14,
   "metadata": {},
   "outputs": [
    {
     "data": {
      "text/plain": [
       "(604,)"
      ]
     },
     "execution_count": 14,
     "metadata": {},
     "output_type": "execute_result"
    }
   ],
   "source": [
    "#Check shapes\n",
    "financial_news_0['label'].shape\n",
    "financial_news_1['label'].shape"
   ]
  },
  {
   "cell_type": "code",
   "execution_count": 15,
   "metadata": {},
   "outputs": [
    {
     "data": {
      "text/html": [
       "<div>\n",
       "<style scoped>\n",
       "    .dataframe tbody tr th:only-of-type {\n",
       "        vertical-align: middle;\n",
       "    }\n",
       "\n",
       "    .dataframe tbody tr th {\n",
       "        vertical-align: top;\n",
       "    }\n",
       "\n",
       "    .dataframe thead th {\n",
       "        text-align: right;\n",
       "    }\n",
       "</style>\n",
       "<table border=\"1\" class=\"dataframe\">\n",
       "  <thead>\n",
       "    <tr style=\"text-align: right;\">\n",
       "      <th></th>\n",
       "      <th>label</th>\n",
       "      <th>news</th>\n",
       "    </tr>\n",
       "  </thead>\n",
       "  <tbody>\n",
       "    <tr>\n",
       "      <th>1807</th>\n",
       "      <td>2</td>\n",
       "      <td>( ADP News ) - Jan 27 , 2009 - Finnish industr...</td>\n",
       "    </tr>\n",
       "    <tr>\n",
       "      <th>1808</th>\n",
       "      <td>2</td>\n",
       "      <td>However , the growth margin slowed down due to...</td>\n",
       "    </tr>\n",
       "    <tr>\n",
       "      <th>1809</th>\n",
       "      <td>1</td>\n",
       "      <td>The company 's scheduled traffic , measured in...</td>\n",
       "    </tr>\n",
       "    <tr>\n",
       "      <th>1810</th>\n",
       "      <td>2</td>\n",
       "      <td>Comparable operating profit for the quarter de...</td>\n",
       "    </tr>\n",
       "    <tr>\n",
       "      <th>1811</th>\n",
       "      <td>1</td>\n",
       "      <td>Finnish office supplies and computer accessori...</td>\n",
       "    </tr>\n",
       "  </tbody>\n",
       "</table>\n",
       "</div>"
      ],
      "text/plain": [
       "      label                                               news\n",
       "1807      2  ( ADP News ) - Jan 27 , 2009 - Finnish industr...\n",
       "1808      2  However , the growth margin slowed down due to...\n",
       "1809      1  The company 's scheduled traffic , measured in...\n",
       "1810      2  Comparable operating profit for the quarter de...\n",
       "1811      1  Finnish office supplies and computer accessori..."
      ]
     },
     "execution_count": 15,
     "metadata": {},
     "output_type": "execute_result"
    }
   ],
   "source": [
    "#put everything together again\n",
    "financial_news_ds = pd.concat([financial_news_n, financial_news_0, financial_news_1])\n",
    "\n",
    "#shuffle rows and reset index\n",
    "financial_news_ds = financial_news_ds.sample(frac=1).reset_index(drop=True)\n",
    "\n",
    "#check df\n",
    "financial_news_ds.tail()"
   ]
  },
  {
   "cell_type": "code",
   "execution_count": 16,
   "metadata": {},
   "outputs": [
    {
     "data": {
      "image/png": "[encoded data removed]",
      "text/plain": [
       "<Figure size 640x480 with 1 Axes>"
      ]
     },
     "metadata": {},
     "output_type": "display_data"
    },
    {
     "name": "stdout",
     "output_type": "stream",
     "text": [
      "label\n",
      "0    604\n",
      "1    604\n",
      "2    604\n",
      "Name: count, dtype: int64\n"
     ]
    }
   ],
   "source": [
    "#Check balance of the data set\n",
    "financial_news_ds['label'].value_counts(ascending=True).plot.barh()\n",
    "plt.title(\"Balance of the target classes in the dataset\")\n",
    "plt.show()\n",
    "\n",
    "#We can notice that the data set is imbalanced\n",
    "print(financial_news_ds['label'].value_counts())"
   ]
  },
  {
   "cell_type": "code",
   "execution_count": 17,
   "metadata": {},
   "outputs": [],
   "source": [
    "#save approach 2 dataframe \n",
    "financial_news_ds.to_csv('data/financial_news_2.csv', index=False)"
   ]
  },
  {
   "cell_type": "markdown",
   "metadata": {},
   "source": [
    "# Step 3. Feature extraction"
   ]
  },
  {
   "cell_type": "markdown",
   "metadata": {},
   "source": [
    "## Feature Extraction for Transfer Learning\n",
    "### Ignore this section for this notebook"
   ]
  },
  {
   "cell_type": "code",
   "execution_count": 18,
   "metadata": {},
   "outputs": [
    {
     "name": "stderr",
     "output_type": "stream",
     "text": [
      "Generating train split: 4846 examples [00:00, 164823.97 examples/s]\n",
      "Generating train split: 1812 examples [00:00, 159695.72 examples/s]\n"
     ]
    }
   ],
   "source": [
    "# Load raw data set\n",
    "from datasets import load_dataset\n",
    "from datasets import DatasetDict\n",
    "raw_dataset_1 = load_dataset('csv', data_files='data/financial_news_1.csv')\n",
    "raw_dataset_2 = load_dataset('csv', data_files='data/financial_news_2.csv')"
   ]
  },
  {
   "cell_type": "code",
   "execution_count": 19,
   "metadata": {},
   "outputs": [
    {
     "data": {
      "text/plain": [
       "DatasetDict({\n",
       "    train: Dataset({\n",
       "        features: ['label', 'news'],\n",
       "        num_rows: 1812\n",
       "    })\n",
       "})"
      ]
     },
     "execution_count": 19,
     "metadata": {},
     "output_type": "execute_result"
    }
   ],
   "source": [
    "#Check raw data sets\n",
    "raw_dataset_1\n",
    "raw_dataset_2"
   ]
  },
  {
   "cell_type": "code",
   "execution_count": 20,
   "metadata": {},
   "outputs": [
    {
     "data": {
      "text/plain": [
       "DatasetDict({\n",
       "    train: Dataset({\n",
       "        features: ['label', 'news'],\n",
       "        num_rows: 3876\n",
       "    })\n",
       "    test: Dataset({\n",
       "        features: ['label', 'news'],\n",
       "        num_rows: 582\n",
       "    })\n",
       "    valid: Dataset({\n",
       "        features: ['label', 'news'],\n",
       "        num_rows: 388\n",
       "    })\n",
       "})"
      ]
     },
     "execution_count": 20,
     "metadata": {},
     "output_type": "execute_result"
    }
   ],
   "source": [
    "#Create train, test and validation splits\n",
    "\n",
    "#First split into train/test 30% for split, and specify seed\n",
    "train_test_split_1 = raw_dataset_1['train'].train_test_split(test_size=0.2, seed=18)\n",
    "train_test_split_2 = raw_dataset_2['train'].train_test_split(test_size=0.2, seed=18)\n",
    "\n",
    "#Now split into train/test/val making 40% of test data for validation and specify seed\n",
    "train_test_val_split_1 = train_test_split_1['test'].train_test_split(test_size=0.4, seed=18)\n",
    "train_test_val_split_2 = train_test_split_2['test'].train_test_split(test_size=0.4, seed=18)\n",
    "\n",
    "#Gather everything into single dataset dicts\n",
    "train_test_val_split_1 = DatasetDict({'train': train_test_split_1['train'], 'test': train_test_val_split_1['train'], 'valid': train_test_val_split_1['test']})\n",
    "train_test_val_split_2 = DatasetDict({'train': train_test_split_2['train'], 'test': train_test_val_split_2['train'], 'valid': train_test_val_split_2['test']})\n",
    "\n",
    "train_test_val_split_1"
   ]
  },
  {
   "cell_type": "code",
   "execution_count": 21,
   "metadata": {},
   "outputs": [],
   "source": [
    "# For fine tuning a pre trained model we are choosing to use distilBERT since it's lighter than other BERT based models while conserving the vast majority of BERT's performance\n",
    "\n",
    "# Import AutoTokenizer and create tokenizer object\n",
    "from transformers import AutoTokenizer\n",
    "model_ckpt = 'distilbert-base-uncased'\n",
    "tokenizer = AutoTokenizer.from_pretrained(model_ckpt)"
   ]
  },
  {
   "cell_type": "code",
   "execution_count": 22,
   "metadata": {},
   "outputs": [],
   "source": [
    "#Define function to tokenize data in a batch which should be a dictionary like object containing data to be tokenized\n",
    "def to_tokens(batch):\n",
    "    return tokenizer(batch['news'], truncation=True, padding=True)"
   ]
  },
  {
   "cell_type": "code",
   "execution_count": 23,
   "metadata": {},
   "outputs": [
    {
     "name": "stderr",
     "output_type": "stream",
     "text": [
      "Map:   0%|          | 0/3876 [00:00<?, ? examples/s]"
     ]
    },
    {
     "name": "stderr",
     "output_type": "stream",
     "text": [
      "Map: 100%|██████████| 3876/3876 [00:00<00:00, 5915.36 examples/s]\n",
      "Map: 100%|██████████| 582/582 [00:00<00:00, 6938.96 examples/s]\n",
      "Map: 100%|██████████| 388/388 [00:00<00:00, 5352.08 examples/s]\n",
      "Map: 100%|██████████| 1449/1449 [00:00<00:00, 7698.38 examples/s]\n",
      "Map: 100%|██████████| 217/217 [00:00<00:00, 3612.61 examples/s]\n",
      "Map: 100%|██████████| 146/146 [00:00<00:00, 3370.48 examples/s]\n"
     ]
    }
   ],
   "source": [
    "#Now tokenize data from the data sets:\n",
    "tokenized_split_1 = train_test_val_split_1.map(to_tokens, batched=True)\n",
    "tokenized_split_2 = train_test_val_split_2.map(to_tokens, batched=True)"
   ]
  },
  {
   "cell_type": "code",
   "execution_count": 24,
   "metadata": {},
   "outputs": [
    {
     "data": {
      "text/plain": [
       "DatasetDict({\n",
       "    train: Dataset({\n",
       "        features: ['label', 'news', 'input_ids', 'attention_mask'],\n",
       "        num_rows: 3876\n",
       "    })\n",
       "    test: Dataset({\n",
       "        features: ['label', 'news', 'input_ids', 'attention_mask'],\n",
       "        num_rows: 582\n",
       "    })\n",
       "    valid: Dataset({\n",
       "        features: ['label', 'news', 'input_ids', 'attention_mask'],\n",
       "        num_rows: 388\n",
       "    })\n",
       "})"
      ]
     },
     "execution_count": 24,
     "metadata": {},
     "output_type": "execute_result"
    }
   ],
   "source": [
    "tokenized_split_1"
   ]
  },
  {
   "cell_type": "markdown",
   "metadata": {},
   "source": [
    "## Feature Extraction for Training an LSTM model from scratch"
   ]
  },
  {
   "cell_type": "code",
   "execution_count": 18,
   "metadata": {},
   "outputs": [],
   "source": [
    "#For this approach we will use Word2Vec Google negative 300 bin file. \n",
    "#Since this file was trained on news it should make sense to make feature extraction for news headlines\n",
    "#import libraries\n",
    "from gensim.models import Word2Vec, KeyedVectors\n",
    "\n",
    "#Read bin file\n",
    "#Word2Vec\n",
    "data_path = 'data/GoogleNews-vectors-negative300.bin'\n",
    "\n",
    "#load Word2Vec Model\n",
    "word2vec_model = KeyedVectors.load_word2vec_format(data_path, binary=True)"
   ]
  },
  {
   "cell_type": "code",
   "execution_count": 19,
   "metadata": {},
   "outputs": [
    {
     "data": {
      "text/html": [
       "<div>\n",
       "<style scoped>\n",
       "    .dataframe tbody tr th:only-of-type {\n",
       "        vertical-align: middle;\n",
       "    }\n",
       "\n",
       "    .dataframe tbody tr th {\n",
       "        vertical-align: top;\n",
       "    }\n",
       "\n",
       "    .dataframe thead th {\n",
       "        text-align: right;\n",
       "    }\n",
       "</style>\n",
       "<table border=\"1\" class=\"dataframe\">\n",
       "  <thead>\n",
       "    <tr style=\"text-align: right;\">\n",
       "      <th></th>\n",
       "      <th>label</th>\n",
       "      <th>news</th>\n",
       "    </tr>\n",
       "  </thead>\n",
       "  <tbody>\n",
       "    <tr>\n",
       "      <th>0</th>\n",
       "      <td>0</td>\n",
       "      <td>QPR product family is fully compatible with Mi...</td>\n",
       "    </tr>\n",
       "    <tr>\n",
       "      <th>1</th>\n",
       "      <td>0</td>\n",
       "      <td>According to Honka Japan 's Managing Director ...</td>\n",
       "    </tr>\n",
       "    <tr>\n",
       "      <th>2</th>\n",
       "      <td>0</td>\n",
       "      <td>The project is expected to be completed in 2009 .</td>\n",
       "    </tr>\n",
       "    <tr>\n",
       "      <th>3</th>\n",
       "      <td>0</td>\n",
       "      <td>As a result of the merger , the largest profes...</td>\n",
       "    </tr>\n",
       "    <tr>\n",
       "      <th>4</th>\n",
       "      <td>1</td>\n",
       "      <td>Ruukki 's order book at the end of 2010 was 30...</td>\n",
       "    </tr>\n",
       "  </tbody>\n",
       "</table>\n",
       "</div>"
      ],
      "text/plain": [
       "   label                                               news\n",
       "0      0  QPR product family is fully compatible with Mi...\n",
       "1      0  According to Honka Japan 's Managing Director ...\n",
       "2      0  The project is expected to be completed in 2009 .\n",
       "3      0  As a result of the merger , the largest profes...\n",
       "4      1  Ruukki 's order book at the end of 2010 was 30..."
      ]
     },
     "execution_count": 19,
     "metadata": {},
     "output_type": "execute_result"
    }
   ],
   "source": [
    "#Read data sets\n",
    "w2v_dataset_1 = pd.read_csv('data/financial_news_1.csv')\n",
    "w2v_dataset_2 = pd.read_csv('data/financial_news_2.csv')\n",
    "\n",
    "w2v_dataset_1.head()\n",
    "w2v_dataset_2.head()"
   ]
  },
  {
   "cell_type": "code",
   "execution_count": 20,
   "metadata": {},
   "outputs": [],
   "source": [
    "#Get a list of list of the news cleaned from non alphabet characters\n",
    "list_of_list_news_1 = [w2v_dataset_1.loc[i, ['news']].iloc[0].split() for i in range(len(w2v_dataset_1['news']))]\n",
    "list_of_list_news_2 = [w2v_dataset_2.loc[i, ['news']].iloc[0].split() for i in range(len(w2v_dataset_2['news']))]"
   ]
  },
  {
   "cell_type": "code",
   "execution_count": 21,
   "metadata": {},
   "outputs": [
    {
     "data": {
      "text/plain": [
       "['According',\n",
       " 'to',\n",
       " 'Gran',\n",
       " ',',\n",
       " 'the',\n",
       " 'company',\n",
       " 'has',\n",
       " 'no',\n",
       " 'plans',\n",
       " 'to',\n",
       " 'move',\n",
       " 'all',\n",
       " 'production',\n",
       " 'to',\n",
       " 'Russia',\n",
       " ',',\n",
       " 'although',\n",
       " 'that',\n",
       " 'is',\n",
       " 'where',\n",
       " 'the',\n",
       " 'company',\n",
       " 'is',\n",
       " 'growing',\n",
       " '.']"
      ]
     },
     "execution_count": 21,
     "metadata": {},
     "output_type": "execute_result"
    }
   ],
   "source": [
    "list_of_list_news_1[0]"
   ]
  },
  {
   "cell_type": "code",
   "execution_count": 22,
   "metadata": {},
   "outputs": [],
   "source": [
    "#Clean each new from non alphabet characters\n",
    "import re\n",
    "regex = re.compile('[^a-zA-Z]')\n",
    "\n",
    "re_list_of_lists_1 = []\n",
    "for i in range(len(list_of_list_news_1)):\n",
    "    temp = [regex.sub('', list_of_list_news_1[i][token]) for token in range(len(list_of_list_news_1[i]))]\n",
    "    temp = list(filter(lambda a: a != '', temp))\n",
    "    re_list_of_lists_1.append(temp)\n",
    "\n",
    "re_list_of_lists_2 = []\n",
    "for i in range(len(list_of_list_news_2)):\n",
    "    temp = [regex.sub('', list_of_list_news_2[i][token]) for token in range(len(list_of_list_news_2[i]))]\n",
    "    temp = list(filter(lambda a: a != '', temp))\n",
    "    re_list_of_lists_2.append(temp)"
   ]
  },
  {
   "cell_type": "code",
   "execution_count": 23,
   "metadata": {},
   "outputs": [
    {
     "data": {
      "text/plain": [
       "['According',\n",
       " 'to',\n",
       " 'Gran',\n",
       " 'the',\n",
       " 'company',\n",
       " 'has',\n",
       " 'no',\n",
       " 'plans',\n",
       " 'to',\n",
       " 'move',\n",
       " 'all',\n",
       " 'production',\n",
       " 'to',\n",
       " 'Russia',\n",
       " 'although',\n",
       " 'that',\n",
       " 'is',\n",
       " 'where',\n",
       " 'the',\n",
       " 'company',\n",
       " 'is',\n",
       " 'growing']"
      ]
     },
     "execution_count": 23,
     "metadata": {},
     "output_type": "execute_result"
    }
   ],
   "source": [
    "re_list_of_lists_1[0]"
   ]
  },
  {
   "cell_type": "code",
   "execution_count": 24,
   "metadata": {},
   "outputs": [],
   "source": [
    "#Extract Features using Word2Vec\n",
    "def embbeding_word_feats(list_of_lists):\n",
    "    #DIMENSION = 300 #Dimension of the vectors that represent word (embbedings)\n",
    "    #zero_vector = np.zeros(DIMENSION) #zero vector\n",
    "    feats = []\n",
    "    corpus = list_of_lists\n",
    "    for doc in corpus:\n",
    "        feats_for_doc = []\n",
    "        for token in doc:\n",
    "            if token in word2vec_model:\n",
    "                feats_for_doc.append(word2vec_model[token])\n",
    "        feats.append(feats_for_doc)\n",
    "    return feats"
   ]
  },
  {
   "cell_type": "code",
   "execution_count": 25,
   "metadata": {},
   "outputs": [],
   "source": [
    "w2v_embbedings_1 = embbeding_word_feats(re_list_of_lists_1)\n",
    "w2v_embbedings_2 = embbeding_word_feats(re_list_of_lists_2)"
   ]
  },
  {
   "cell_type": "code",
   "execution_count": 26,
   "metadata": {},
   "outputs": [
    {
     "name": "stdout",
     "output_type": "stream",
     "text": [
      "(4846, 2)\n",
      "4846\n",
      "19\n",
      "300\n"
     ]
    }
   ],
   "source": [
    "#Sanity checkk\n",
    "print(w2v_dataset_1.shape)\n",
    "print(len(w2v_embbedings_1))\n",
    "print(len(w2v_embbedings_1[0]))\n",
    "print(len(w2v_embbedings_1[0][1]))"
   ]
  },
  {
   "cell_type": "code",
   "execution_count": 27,
   "metadata": {},
   "outputs": [
    {
     "name": "stdout",
     "output_type": "stream",
     "text": [
      "45\n",
      "45\n"
     ]
    }
   ],
   "source": [
    "#Right the number of tokens in each document is different so we need to padd them to be able to feed them to the LSTM nn\n",
    "\n",
    "#Check the maximum number of tokens in documents across the corpus\n",
    "temp_1 = [len(w2v_embbedings_1[i]) for i in range(len(w2v_embbedings_1))]\n",
    "print(max(temp_1))\n",
    "\n",
    "temp_2 = [len(w2v_embbedings_2[i]) for i in range(len(w2v_embbedings_2))]\n",
    "print(max(temp_2))"
   ]
  },
  {
   "cell_type": "code",
   "execution_count": 28,
   "metadata": {},
   "outputs": [],
   "source": [
    "#Pad the number of tokens in documents\n",
    "def padding_embbedings(list_of_lists, pad_to=45):\n",
    "    DIMENSION = 300 #Dimension of the vectors that represent word (embbedings)\n",
    "    zero_vector = np.zeros(DIMENSION) #zero vector\n",
    "    feats = []\n",
    "    corpus = list_of_lists\n",
    "    for doc in corpus:\n",
    "        padded_doc = doc.copy()\n",
    "        if len(doc) < pad_to:\n",
    "            a = pad_to - len(doc)\n",
    "            for i in range(a):\n",
    "                padded_doc.append(zero_vector)\n",
    "        feats.append(padded_doc)\n",
    "    return feats\n"
   ]
  },
  {
   "cell_type": "code",
   "execution_count": 29,
   "metadata": {},
   "outputs": [],
   "source": [
    "w2v_embbedings_1 = padding_embbedings(w2v_embbedings_1, pad_to=45)\n",
    "w2v_embbedings_2 = padding_embbedings(w2v_embbedings_2, pad_to=45)"
   ]
  },
  {
   "cell_type": "code",
   "execution_count": 30,
   "metadata": {},
   "outputs": [
    {
     "name": "stdout",
     "output_type": "stream",
     "text": [
      "(1812, 2)\n",
      "1812\n",
      "45\n",
      "300\n"
     ]
    }
   ],
   "source": [
    "#Sanity checkk\n",
    "print(w2v_dataset_2.shape)\n",
    "print(len(w2v_embbedings_2))\n",
    "print(len(w2v_embbedings_2[0]))\n",
    "print(len(w2v_embbedings_2[0][1]))"
   ]
  },
  {
   "cell_type": "code",
   "execution_count": 31,
   "metadata": {},
   "outputs": [],
   "source": [
    "#Now cast to np array\n",
    "X_1 = np.array(w2v_embbedings_1)\n",
    "X_2 = np.array(w2v_embbedings_2)\n",
    "\n",
    "y_1 = np.array(w2v_dataset_1['label'])\n",
    "y_2 = np.array(w2v_dataset_2['label'])\n",
    "\n",
    "#Finally let's do tran val test split\n",
    "from sklearn.model_selection import train_test_split\n",
    "\n",
    "X_train_1, X_test_1, y_train_1, y_test_1 = train_test_split(X_1, y_1, test_size=0.2, random_state=18)\n",
    "X_test_1, X_val_1, y_test_1, y_val_1 = train_test_split(X_test_1, y_test_1, test_size=0.4, random_state=18)\n",
    "\n",
    "X_train_2, X_test_2, y_train_2, y_test_2 = train_test_split(X_2, y_2, test_size=0.2, random_state=18)\n",
    "X_test_2, X_val_2, y_test_2, y_val_2 = train_test_split(X_test_2, y_test_2, test_size=0.4, random_state=18)"
   ]
  },
  {
   "cell_type": "code",
   "execution_count": 32,
   "metadata": {},
   "outputs": [
    {
     "data": {
      "text/plain": [
       "(3876, 45, 300)"
      ]
     },
     "execution_count": 32,
     "metadata": {},
     "output_type": "execute_result"
    }
   ],
   "source": [
    "#Sanity check\n",
    "X_train_1.shape"
   ]
  },
  {
   "cell_type": "markdown",
   "metadata": {},
   "source": [
    "# Step 4 Training"
   ]
  },
  {
   "cell_type": "markdown",
   "metadata": {},
   "source": [
    "### Approach 2. Train an LSTM model from scratch"
   ]
  },
  {
   "cell_type": "code",
   "execution_count": 43,
   "metadata": {},
   "outputs": [
    {
     "name": "stdout",
     "output_type": "stream",
     "text": [
      "Epoch 1/10\n"
     ]
    },
    {
     "ename": "ValueError",
     "evalue": "in user code:\n\n    File \"c:\\Users\\kurom\\anaconda3\\envs\\dl-venv\\lib\\site-packages\\keras\\src\\engine\\training.py\", line 1401, in train_function  *\n        return step_function(self, iterator)\n    File \"c:\\Users\\kurom\\anaconda3\\envs\\dl-venv\\lib\\site-packages\\keras\\src\\engine\\training.py\", line 1384, in step_function  **\n        outputs = model.distribute_strategy.run(run_step, args=(data,))\n    File \"c:\\Users\\kurom\\anaconda3\\envs\\dl-venv\\lib\\site-packages\\keras\\src\\engine\\training.py\", line 1373, in run_step  **\n        outputs = model.train_step(data)\n    File \"c:\\Users\\kurom\\anaconda3\\envs\\dl-venv\\lib\\site-packages\\keras\\src\\engine\\training.py\", line 1151, in train_step\n        loss = self.compute_loss(x, y, y_pred, sample_weight)\n    File \"c:\\Users\\kurom\\anaconda3\\envs\\dl-venv\\lib\\site-packages\\keras\\src\\engine\\training.py\", line 1209, in compute_loss\n        return self.compiled_loss(\n    File \"c:\\Users\\kurom\\anaconda3\\envs\\dl-venv\\lib\\site-packages\\keras\\src\\engine\\compile_utils.py\", line 277, in __call__\n        loss_value = loss_obj(y_t, y_p, sample_weight=sw)\n    File \"c:\\Users\\kurom\\anaconda3\\envs\\dl-venv\\lib\\site-packages\\keras\\src\\losses.py\", line 143, in __call__\n        losses = call_fn(y_true, y_pred)\n    File \"c:\\Users\\kurom\\anaconda3\\envs\\dl-venv\\lib\\site-packages\\keras\\src\\losses.py\", line 270, in call  **\n        return ag_fn(y_true, y_pred, **self._fn_kwargs)\n    File \"c:\\Users\\kurom\\anaconda3\\envs\\dl-venv\\lib\\site-packages\\keras\\src\\losses.py\", line 2221, in categorical_crossentropy\n        return backend.categorical_crossentropy(\n    File \"c:\\Users\\kurom\\anaconda3\\envs\\dl-venv\\lib\\site-packages\\keras\\src\\backend.py\", line 5573, in categorical_crossentropy\n        target.shape.assert_is_compatible_with(output.shape)\n\n    ValueError: Shapes (None, 1) and (None, 3) are incompatible\n",
     "output_type": "error",
     "traceback": [
      "\u001b[1;31m---------------------------------------------------------------------------\u001b[0m",
      "\u001b[1;31mValueError\u001b[0m                                Traceback (most recent call last)",
      "Cell \u001b[1;32mIn[43], line 18\u001b[0m\n\u001b[0;32m     16\u001b[0m lstm_model_1\u001b[38;5;241m.\u001b[39mcompile(optimizer\u001b[38;5;241m=\u001b[39m\u001b[38;5;124m'\u001b[39m\u001b[38;5;124madam\u001b[39m\u001b[38;5;124m'\u001b[39m, loss\u001b[38;5;241m=\u001b[39m\u001b[38;5;124m'\u001b[39m\u001b[38;5;124mcategorical_crossentropy\u001b[39m\u001b[38;5;124m'\u001b[39m, metrics\u001b[38;5;241m=\u001b[39m[\u001b[38;5;124m'\u001b[39m\u001b[38;5;124maccuracy\u001b[39m\u001b[38;5;124m'\u001b[39m])\n\u001b[0;32m     17\u001b[0m start \u001b[38;5;241m=\u001b[39m time\u001b[38;5;241m.\u001b[39mtime()\n\u001b[1;32m---> 18\u001b[0m lstm_history_1 \u001b[38;5;241m=\u001b[39m \u001b[43mlstm_model_1\u001b[49m\u001b[38;5;241;43m.\u001b[39;49m\u001b[43mfit\u001b[49m\u001b[43m(\u001b[49m\u001b[43mX_train_1\u001b[49m\u001b[43m,\u001b[49m\u001b[43m \u001b[49m\u001b[43my_train_1\u001b[49m\u001b[43m,\u001b[49m\u001b[43m \u001b[49m\u001b[43mepochs\u001b[49m\u001b[38;5;241;43m=\u001b[39;49m\u001b[38;5;241;43m10\u001b[39;49m\u001b[43m,\u001b[49m\u001b[43m \u001b[49m\u001b[43mbatch_size\u001b[49m\u001b[38;5;241;43m=\u001b[39;49m\u001b[38;5;241;43m32\u001b[39;49m\u001b[43m,\u001b[49m\u001b[43m \u001b[49m\u001b[43mvalidation_data\u001b[49m\u001b[38;5;241;43m=\u001b[39;49m\u001b[43m(\u001b[49m\u001b[43mX_val_1\u001b[49m\u001b[43m,\u001b[49m\u001b[43m \u001b[49m\u001b[43my_val_1\u001b[49m\u001b[43m)\u001b[49m\u001b[43m)\u001b[49m\n\u001b[0;32m     19\u001b[0m end \u001b[38;5;241m=\u001b[39m time\u001b[38;5;241m.\u001b[39mtime()\n\u001b[0;32m     20\u001b[0m \u001b[38;5;28mprint\u001b[39m(\u001b[38;5;124m\"\u001b[39m\u001b[38;5;124mProcess execution time :\u001b[39m\u001b[38;5;124m\"\u001b[39m, \u001b[38;5;28mround\u001b[39m(end\u001b[38;5;241m-\u001b[39mstart, \u001b[38;5;241m2\u001b[39m))\n",
      "File \u001b[1;32mc:\\Users\\kurom\\anaconda3\\envs\\dl-venv\\lib\\site-packages\\keras\\src\\utils\\traceback_utils.py:70\u001b[0m, in \u001b[0;36mfilter_traceback.<locals>.error_handler\u001b[1;34m(*args, **kwargs)\u001b[0m\n\u001b[0;32m     67\u001b[0m     filtered_tb \u001b[38;5;241m=\u001b[39m _process_traceback_frames(e\u001b[38;5;241m.\u001b[39m__traceback__)\n\u001b[0;32m     68\u001b[0m     \u001b[38;5;66;03m# To get the full stack trace, call:\u001b[39;00m\n\u001b[0;32m     69\u001b[0m     \u001b[38;5;66;03m# `tf.debugging.disable_traceback_filtering()`\u001b[39;00m\n\u001b[1;32m---> 70\u001b[0m     \u001b[38;5;28;01mraise\u001b[39;00m e\u001b[38;5;241m.\u001b[39mwith_traceback(filtered_tb) \u001b[38;5;28;01mfrom\u001b[39;00m \u001b[38;5;28;01mNone\u001b[39;00m\n\u001b[0;32m     71\u001b[0m \u001b[38;5;28;01mfinally\u001b[39;00m:\n\u001b[0;32m     72\u001b[0m     \u001b[38;5;28;01mdel\u001b[39;00m filtered_tb\n",
      "File \u001b[1;32m~\\AppData\\Local\\Temp\\__autograph_generated_filez4uq4434.py:15\u001b[0m, in \u001b[0;36mouter_factory.<locals>.inner_factory.<locals>.tf__train_function\u001b[1;34m(iterator)\u001b[0m\n\u001b[0;32m     13\u001b[0m \u001b[38;5;28;01mtry\u001b[39;00m:\n\u001b[0;32m     14\u001b[0m     do_return \u001b[38;5;241m=\u001b[39m \u001b[38;5;28;01mTrue\u001b[39;00m\n\u001b[1;32m---> 15\u001b[0m     retval_ \u001b[38;5;241m=\u001b[39m ag__\u001b[38;5;241m.\u001b[39mconverted_call(ag__\u001b[38;5;241m.\u001b[39mld(step_function), (ag__\u001b[38;5;241m.\u001b[39mld(\u001b[38;5;28mself\u001b[39m), ag__\u001b[38;5;241m.\u001b[39mld(iterator)), \u001b[38;5;28;01mNone\u001b[39;00m, fscope)\n\u001b[0;32m     16\u001b[0m \u001b[38;5;28;01mexcept\u001b[39;00m:\n\u001b[0;32m     17\u001b[0m     do_return \u001b[38;5;241m=\u001b[39m \u001b[38;5;28;01mFalse\u001b[39;00m\n",
      "\u001b[1;31mValueError\u001b[0m: in user code:\n\n    File \"c:\\Users\\kurom\\anaconda3\\envs\\dl-venv\\lib\\site-packages\\keras\\src\\engine\\training.py\", line 1401, in train_function  *\n        return step_function(self, iterator)\n    File \"c:\\Users\\kurom\\anaconda3\\envs\\dl-venv\\lib\\site-packages\\keras\\src\\engine\\training.py\", line 1384, in step_function  **\n        outputs = model.distribute_strategy.run(run_step, args=(data,))\n    File \"c:\\Users\\kurom\\anaconda3\\envs\\dl-venv\\lib\\site-packages\\keras\\src\\engine\\training.py\", line 1373, in run_step  **\n        outputs = model.train_step(data)\n    File \"c:\\Users\\kurom\\anaconda3\\envs\\dl-venv\\lib\\site-packages\\keras\\src\\engine\\training.py\", line 1151, in train_step\n        loss = self.compute_loss(x, y, y_pred, sample_weight)\n    File \"c:\\Users\\kurom\\anaconda3\\envs\\dl-venv\\lib\\site-packages\\keras\\src\\engine\\training.py\", line 1209, in compute_loss\n        return self.compiled_loss(\n    File \"c:\\Users\\kurom\\anaconda3\\envs\\dl-venv\\lib\\site-packages\\keras\\src\\engine\\compile_utils.py\", line 277, in __call__\n        loss_value = loss_obj(y_t, y_p, sample_weight=sw)\n    File \"c:\\Users\\kurom\\anaconda3\\envs\\dl-venv\\lib\\site-packages\\keras\\src\\losses.py\", line 143, in __call__\n        losses = call_fn(y_true, y_pred)\n    File \"c:\\Users\\kurom\\anaconda3\\envs\\dl-venv\\lib\\site-packages\\keras\\src\\losses.py\", line 270, in call  **\n        return ag_fn(y_true, y_pred, **self._fn_kwargs)\n    File \"c:\\Users\\kurom\\anaconda3\\envs\\dl-venv\\lib\\site-packages\\keras\\src\\losses.py\", line 2221, in categorical_crossentropy\n        return backend.categorical_crossentropy(\n    File \"c:\\Users\\kurom\\anaconda3\\envs\\dl-venv\\lib\\site-packages\\keras\\src\\backend.py\", line 5573, in categorical_crossentropy\n        target.shape.assert_is_compatible_with(output.shape)\n\n    ValueError: Shapes (None, 1) and (None, 3) are incompatible\n"
     ]
    }
   ],
   "source": [
    "from keras import layers\n",
    "from keras import optimizers\n",
    "from keras.layers import Dropout\n",
    "from keras.models import Sequential\n",
    "import time\n",
    "\n",
    "#Define LSTM architechture for imbalanced dataset\n",
    "lstm_model_1 = Sequential()\n",
    "lstm_model_1.add(layers.LSTM(units=32, return_sequences=True, input_shape=(X_train_1.shape[1], X_train_1.shape[2]), activation=\"tanh\" )) #add first layer for lstm\n",
    "lstm_model_1.add(Dropout(0.2)) #Dropout for regularization\n",
    "lstm_model_1.add(layers.LSTM(units=32, return_sequences=False, activation=\"tanh\") ) #add second lstm layer\n",
    "lstm_model_1.add(Dropout(0.2)) #Dropout for regularization\n",
    "lstm_model_1.add(layers.Dense(3, activation='softmax')) #Final layer for multiclass prediction\n",
    "\n",
    "#optimizer = optimizers.SGD(learning_rate=0.001, momentum=0.0, nesterov=False)\n",
    "lstm_model_1.compile(optimizer='adam', loss='categorical_crossentropy')\n",
    "start = time.time()\n",
    "lstm_history_1 = lstm_model_1.fit(X_train_1, y_train_1, epochs=50, batch_size=32, validation_data=(X_val_1, y_val_1))\n",
    "end = time.time()\n",
    "print(\"Process execution time :\", round(end-start, 2))"
   ]
  },
  {
   "cell_type": "code",
   "execution_count": 36,
   "metadata": {},
   "outputs": [
    {
     "name": "stdout",
     "output_type": "stream",
     "text": [
      "Epoch 1/50\n",
      "145/145 [==============================] - 23s 67ms/step - loss: 1.1500 - val_loss: 0.8554\n",
      "Epoch 2/50\n",
      "145/145 [==============================] - 8s 52ms/step - loss: 1.1500 - val_loss: 0.8554\n",
      "Epoch 3/50\n",
      "145/145 [==============================] - 7s 48ms/step - loss: 1.1500 - val_loss: 0.8554\n",
      "Epoch 4/50\n",
      "145/145 [==============================] - 7s 50ms/step - loss: 1.1500 - val_loss: 0.8554\n",
      "Epoch 5/50\n",
      "145/145 [==============================] - 8s 57ms/step - loss: 1.1500 - val_loss: 0.8554\n",
      "Epoch 6/50\n",
      "145/145 [==============================] - 8s 55ms/step - loss: 1.1500 - val_loss: 0.8554\n",
      "Epoch 7/50\n",
      "145/145 [==============================] - 8s 57ms/step - loss: 1.1500 - val_loss: 0.8554\n",
      "Epoch 8/50\n",
      "145/145 [==============================] - 7s 49ms/step - loss: 1.1500 - val_loss: 0.8554\n",
      "Epoch 9/50\n",
      "145/145 [==============================] - 8s 58ms/step - loss: 1.1500 - val_loss: 0.8554\n",
      "Epoch 10/50\n",
      "145/145 [==============================] - 7s 49ms/step - loss: 1.1500 - val_loss: 0.8554\n",
      "Epoch 11/50\n",
      "145/145 [==============================] - 8s 53ms/step - loss: 1.1500 - val_loss: 0.8554\n",
      "Epoch 12/50\n",
      "145/145 [==============================] - 10s 67ms/step - loss: 1.1500 - val_loss: 0.8554\n",
      "Epoch 13/50\n",
      "145/145 [==============================] - 9s 62ms/step - loss: 1.1500 - val_loss: 0.8554\n",
      "Epoch 14/50\n",
      "145/145 [==============================] - 8s 59ms/step - loss: 1.1500 - val_loss: 0.8554\n",
      "Epoch 15/50\n",
      "145/145 [==============================] - 8s 54ms/step - loss: 1.1500 - val_loss: 0.8554\n",
      "Epoch 16/50\n",
      "145/145 [==============================] - 8s 53ms/step - loss: 1.1500 - val_loss: 0.8554\n",
      "Epoch 17/50\n",
      "145/145 [==============================] - 9s 64ms/step - loss: 1.1500 - val_loss: 0.8554\n",
      "Epoch 18/50\n",
      "145/145 [==============================] - 9s 61ms/step - loss: 1.1500 - val_loss: 0.8554\n",
      "Epoch 19/50\n",
      "145/145 [==============================] - 8s 57ms/step - loss: 1.1500 - val_loss: 0.8554\n",
      "Epoch 20/50\n",
      "145/145 [==============================] - 8s 56ms/step - loss: 1.1500 - val_loss: 0.8554\n",
      "Epoch 21/50\n",
      "145/145 [==============================] - 8s 55ms/step - loss: 1.1500 - val_loss: 0.8554\n",
      "Epoch 22/50\n",
      "145/145 [==============================] - 7s 48ms/step - loss: 1.1500 - val_loss: 0.8554\n",
      "Epoch 23/50\n",
      "145/145 [==============================] - 9s 59ms/step - loss: 1.1500 - val_loss: 0.8554\n",
      "Epoch 24/50\n",
      "145/145 [==============================] - 8s 56ms/step - loss: 1.1500 - val_loss: 0.8554\n",
      "Epoch 25/50\n",
      "145/145 [==============================] - 8s 53ms/step - loss: 1.1500 - val_loss: 0.8554\n",
      "Epoch 26/50\n",
      "145/145 [==============================] - 7s 46ms/step - loss: 1.1500 - val_loss: 0.8554\n",
      "Epoch 27/50\n",
      "145/145 [==============================] - 7s 49ms/step - loss: 1.1500 - val_loss: 0.8554\n",
      "Epoch 28/50\n",
      "145/145 [==============================] - 7s 47ms/step - loss: 1.1500 - val_loss: 0.8554\n",
      "Epoch 29/50\n",
      "145/145 [==============================] - 7s 49ms/step - loss: 1.1500 - val_loss: 0.8554\n",
      "Epoch 30/50\n",
      "145/145 [==============================] - 7s 49ms/step - loss: 1.1500 - val_loss: 0.8554\n",
      "Epoch 31/50\n",
      "145/145 [==============================] - 10s 68ms/step - loss: 1.1500 - val_loss: 0.8554\n",
      "Epoch 32/50\n",
      "145/145 [==============================] - 9s 64ms/step - loss: 1.1500 - val_loss: 0.8554\n",
      "Epoch 33/50\n",
      "145/145 [==============================] - 8s 53ms/step - loss: 1.1500 - val_loss: 0.8554\n",
      "Epoch 34/50\n",
      "145/145 [==============================] - 8s 58ms/step - loss: 1.1500 - val_loss: 0.8554\n",
      "Epoch 35/50\n",
      "145/145 [==============================] - 9s 61ms/step - loss: 1.1500 - val_loss: 0.8554\n",
      "Epoch 36/50\n",
      "145/145 [==============================] - 8s 56ms/step - loss: 1.1500 - val_loss: 0.8554\n",
      "Epoch 37/50\n",
      "145/145 [==============================] - 8s 53ms/step - loss: 1.1500 - val_loss: 0.8554\n",
      "Epoch 38/50\n",
      "145/145 [==============================] - 8s 53ms/step - loss: 1.1500 - val_loss: 0.8554\n",
      "Epoch 39/50\n",
      "145/145 [==============================] - 7s 50ms/step - loss: 1.1500 - val_loss: 0.8554\n",
      "Epoch 40/50\n",
      "145/145 [==============================] - 9s 62ms/step - loss: 1.1500 - val_loss: 0.8554\n",
      "Epoch 41/50\n",
      "145/145 [==============================] - 10s 69ms/step - loss: 1.1500 - val_loss: 0.8554\n",
      "Epoch 42/50\n",
      "145/145 [==============================] - 8s 58ms/step - loss: 1.1500 - val_loss: 0.8554\n",
      "Epoch 43/50\n",
      "145/145 [==============================] - 8s 52ms/step - loss: 1.1500 - val_loss: 0.8554\n",
      "Epoch 44/50\n",
      "145/145 [==============================] - 7s 45ms/step - loss: 1.1500 - val_loss: 0.8554\n",
      "Epoch 45/50\n",
      "145/145 [==============================] - 8s 53ms/step - loss: 1.1500 - val_loss: 0.8554\n",
      "Epoch 46/50\n",
      "145/145 [==============================] - 8s 54ms/step - loss: 1.1500 - val_loss: 0.8554\n",
      "Epoch 47/50\n",
      "145/145 [==============================] - 8s 58ms/step - loss: 1.1500 - val_loss: 0.8554\n",
      "Epoch 48/50\n",
      "145/145 [==============================] - 6s 43ms/step - loss: 1.1500 - val_loss: 0.8554\n",
      "Epoch 49/50\n",
      "145/145 [==============================] - 7s 49ms/step - loss: 1.1500 - val_loss: 0.8554\n",
      "Epoch 50/50\n",
      "145/145 [==============================] - 8s 54ms/step - loss: 1.1500 - val_loss: 0.8554\n",
      "Training process execution time : 414.96\n"
     ]
    }
   ],
   "source": [
    "#Define LSTM architechture for imbalanced dataset\n",
    "import time\n",
    "lstm_model_2 = Sequential()\n",
    "lstm_model_2.add(layers.LSTM(units=32, return_sequences=True, input_shape=(X_train_2.shape[1], X_train_2.shape[2]), activation=\"tanh\" )) #add first layer for lstm\n",
    "lstm_model_2.add(Dropout(0.2)) #Dropout for regularization\n",
    "lstm_model_2.add(layers.LSTM(units=32, return_sequences=False, activation=\"tanh\") ) #add second lstm layer\n",
    "lstm_model_2.add(Dropout(0.2)) #Dropout for regularization\n",
    "lstm_model_2.add(layers.Dense(3, activation='softmax')) #Final layer for multiclass prediction\n",
    "\n",
    "optimizer = optimizers.SGD(learning_rate=0.001, momentum=0.0, nesterov=False)\n",
    "lstm_model_2.compile(optimizer='adam', loss='categorical_crossentropy', metrics=['accuracy'])\n",
    "start = time.time()\n",
    "lstm_history_2 = lstm_model_2.fit(X_train_2, y_train_2, epochs=50, batch_size=10, validation_data=(X_val_2, y_val_2))\n",
    "end = time.time()\n",
    "print(\"Training process execution time :\", round(end-start,2))"
   ]
  },
  {
   "cell_type": "code",
   "execution_count": 34,
   "metadata": {},
   "outputs": [
    {
     "data": {
      "image/png": "[encoded data removed]",
      "text/plain": [
       "<Figure size 640x480 with 1 Axes>"
      ]
     },
     "metadata": {},
     "output_type": "display_data"
    }
   ],
   "source": [
    "# Plot training and validation loss for imbalanced dataset\n",
    "import matplotlib.pyplot as plt\n",
    "loss = lstm_history_1.history['loss']\n",
    "val_loss = lstm_history_1.history['val_loss']\n",
    "epochs = range(1, len(loss) + 1)\n",
    "plt.figure()\n",
    "plt.plot(epochs, loss, 'bo', label='Training loss')\n",
    "plt.plot(epochs, val_loss, 'b', label='Validation loss')\n",
    "plt.xlabel('Epochs')\n",
    "plt.title('Training and validation loss for imbalanced dataset')\n",
    "plt.legend()\n",
    "plt.show()"
   ]
  },
  {
   "cell_type": "code",
   "execution_count": 37,
   "metadata": {},
   "outputs": [
    {
     "data": {
      "image/png": "[encoded data removed]",
      "text/plain": [
       "<Figure size 640x480 with 1 Axes>"
      ]
     },
     "metadata": {},
     "output_type": "display_data"
    }
   ],
   "source": [
    "# Plot training and validation loss for imbalanced dataset\n",
    "import matplotlib.pyplot as plt\n",
    "loss = lstm_history_2.history['loss']\n",
    "val_loss = lstm_history_2.history['val_loss']\n",
    "epochs = range(1, len(loss) + 1)\n",
    "plt.figure()\n",
    "plt.plot(epochs, loss, 'bo', label='Training loss')\n",
    "plt.plot(epochs, val_loss, 'b', label='Validation loss')\n",
    "plt.xlabel('Epochs')\n",
    "plt.title('Training and validation loss for balanced dataset')\n",
    "plt.legend()\n",
    "plt.show()"
   ]
  },
  {
   "cell_type": "markdown",
   "metadata": {},
   "source": [
    "# Step 5 Evaluation"
   ]
  },
  {
   "cell_type": "code",
   "execution_count": 38,
   "metadata": {},
   "outputs": [
    {
     "name": "stdout",
     "output_type": "stream",
     "text": [
      "19/19 [==============================] - 8s 16ms/step\n",
      "7/7 [==============================] - 4s 15ms/step\n"
     ]
    }
   ],
   "source": [
    "# make predictions\n",
    "y_pred_1 = lstm_model_1.predict(X_test_1)\n",
    "y_pred_2 = lstm_model_2.predict(X_test_2)"
   ]
  },
  {
   "cell_type": "code",
   "execution_count": 39,
   "metadata": {},
   "outputs": [
    {
     "ename": "ValueError",
     "evalue": "Classification metrics can't handle a mix of multiclass and continuous-multioutput targets",
     "output_type": "error",
     "traceback": [
      "\u001b[1;31m---------------------------------------------------------------------------\u001b[0m",
      "\u001b[1;31mValueError\u001b[0m                                Traceback (most recent call last)",
      "Cell \u001b[1;32mIn[39], line 4\u001b[0m\n\u001b[0;32m      1\u001b[0m \u001b[38;5;66;03m#Plot confusion matrix\u001b[39;00m\n\u001b[0;32m      2\u001b[0m \u001b[38;5;28;01mfrom\u001b[39;00m \u001b[38;5;21;01msklearn\u001b[39;00m\u001b[38;5;21;01m.\u001b[39;00m\u001b[38;5;21;01mmetrics\u001b[39;00m \u001b[38;5;28;01mimport\u001b[39;00m confusion_matrix, ConfusionMatrixDisplay\n\u001b[1;32m----> 4\u001b[0m cm \u001b[38;5;241m=\u001b[39m \u001b[43mconfusion_matrix\u001b[49m\u001b[43m(\u001b[49m\u001b[43my_test_1\u001b[49m\u001b[43m,\u001b[49m\u001b[43m \u001b[49m\u001b[43my_pred_1\u001b[49m\u001b[43m)\u001b[49m\n\u001b[0;32m      5\u001b[0m disp \u001b[38;5;241m=\u001b[39m ConfusionMatrixDisplay(confusion_matrix\u001b[38;5;241m=\u001b[39mcm)\n\u001b[0;32m      6\u001b[0m disp\u001b[38;5;241m.\u001b[39mplot()\n",
      "File \u001b[1;32mc:\\Users\\kurom\\anaconda3\\envs\\dl-venv\\lib\\site-packages\\sklearn\\utils\\_param_validation.py:214\u001b[0m, in \u001b[0;36mvalidate_params.<locals>.decorator.<locals>.wrapper\u001b[1;34m(*args, **kwargs)\u001b[0m\n\u001b[0;32m    208\u001b[0m \u001b[38;5;28;01mtry\u001b[39;00m:\n\u001b[0;32m    209\u001b[0m     \u001b[38;5;28;01mwith\u001b[39;00m config_context(\n\u001b[0;32m    210\u001b[0m         skip_parameter_validation\u001b[38;5;241m=\u001b[39m(\n\u001b[0;32m    211\u001b[0m             prefer_skip_nested_validation \u001b[38;5;129;01mor\u001b[39;00m global_skip_validation\n\u001b[0;32m    212\u001b[0m         )\n\u001b[0;32m    213\u001b[0m     ):\n\u001b[1;32m--> 214\u001b[0m         \u001b[38;5;28;01mreturn\u001b[39;00m func(\u001b[38;5;241m*\u001b[39margs, \u001b[38;5;241m*\u001b[39m\u001b[38;5;241m*\u001b[39mkwargs)\n\u001b[0;32m    215\u001b[0m \u001b[38;5;28;01mexcept\u001b[39;00m InvalidParameterError \u001b[38;5;28;01mas\u001b[39;00m e:\n\u001b[0;32m    216\u001b[0m     \u001b[38;5;66;03m# When the function is just a wrapper around an estimator, we allow\u001b[39;00m\n\u001b[0;32m    217\u001b[0m     \u001b[38;5;66;03m# the function to delegate validation to the estimator, but we replace\u001b[39;00m\n\u001b[0;32m    218\u001b[0m     \u001b[38;5;66;03m# the name of the estimator by the name of the function in the error\u001b[39;00m\n\u001b[0;32m    219\u001b[0m     \u001b[38;5;66;03m# message to avoid confusion.\u001b[39;00m\n\u001b[0;32m    220\u001b[0m     msg \u001b[38;5;241m=\u001b[39m re\u001b[38;5;241m.\u001b[39msub(\n\u001b[0;32m    221\u001b[0m         \u001b[38;5;124mr\u001b[39m\u001b[38;5;124m\"\u001b[39m\u001b[38;5;124mparameter of \u001b[39m\u001b[38;5;124m\\\u001b[39m\u001b[38;5;124mw+ must be\u001b[39m\u001b[38;5;124m\"\u001b[39m,\n\u001b[0;32m    222\u001b[0m         \u001b[38;5;124mf\u001b[39m\u001b[38;5;124m\"\u001b[39m\u001b[38;5;124mparameter of \u001b[39m\u001b[38;5;132;01m{\u001b[39;00mfunc\u001b[38;5;241m.\u001b[39m\u001b[38;5;18m__qualname__\u001b[39m\u001b[38;5;132;01m}\u001b[39;00m\u001b[38;5;124m must be\u001b[39m\u001b[38;5;124m\"\u001b[39m,\n\u001b[0;32m    223\u001b[0m         \u001b[38;5;28mstr\u001b[39m(e),\n\u001b[0;32m    224\u001b[0m     )\n",
      "File \u001b[1;32mc:\\Users\\kurom\\anaconda3\\envs\\dl-venv\\lib\\site-packages\\sklearn\\metrics\\_classification.py:326\u001b[0m, in \u001b[0;36mconfusion_matrix\u001b[1;34m(y_true, y_pred, labels, sample_weight, normalize)\u001b[0m\n\u001b[0;32m    231\u001b[0m \u001b[38;5;129m@validate_params\u001b[39m(\n\u001b[0;32m    232\u001b[0m     {\n\u001b[0;32m    233\u001b[0m         \u001b[38;5;124m\"\u001b[39m\u001b[38;5;124my_true\u001b[39m\u001b[38;5;124m\"\u001b[39m: [\u001b[38;5;124m\"\u001b[39m\u001b[38;5;124marray-like\u001b[39m\u001b[38;5;124m\"\u001b[39m],\n\u001b[1;32m   (...)\u001b[0m\n\u001b[0;32m    242\u001b[0m     y_true, y_pred, \u001b[38;5;241m*\u001b[39m, labels\u001b[38;5;241m=\u001b[39m\u001b[38;5;28;01mNone\u001b[39;00m, sample_weight\u001b[38;5;241m=\u001b[39m\u001b[38;5;28;01mNone\u001b[39;00m, normalize\u001b[38;5;241m=\u001b[39m\u001b[38;5;28;01mNone\u001b[39;00m\n\u001b[0;32m    243\u001b[0m ):\n\u001b[0;32m    244\u001b[0m \u001b[38;5;250m    \u001b[39m\u001b[38;5;124;03m\"\"\"Compute confusion matrix to evaluate the accuracy of a classification.\u001b[39;00m\n\u001b[0;32m    245\u001b[0m \n\u001b[0;32m    246\u001b[0m \u001b[38;5;124;03m    By definition a confusion matrix :math:`C` is such that :math:`C_{i, j}`\u001b[39;00m\n\u001b[1;32m   (...)\u001b[0m\n\u001b[0;32m    324\u001b[0m \u001b[38;5;124;03m    (0, 2, 1, 1)\u001b[39;00m\n\u001b[0;32m    325\u001b[0m \u001b[38;5;124;03m    \"\"\"\u001b[39;00m\n\u001b[1;32m--> 326\u001b[0m     y_type, y_true, y_pred \u001b[38;5;241m=\u001b[39m \u001b[43m_check_targets\u001b[49m\u001b[43m(\u001b[49m\u001b[43my_true\u001b[49m\u001b[43m,\u001b[49m\u001b[43m \u001b[49m\u001b[43my_pred\u001b[49m\u001b[43m)\u001b[49m\n\u001b[0;32m    327\u001b[0m     \u001b[38;5;28;01mif\u001b[39;00m y_type \u001b[38;5;129;01mnot\u001b[39;00m \u001b[38;5;129;01min\u001b[39;00m (\u001b[38;5;124m\"\u001b[39m\u001b[38;5;124mbinary\u001b[39m\u001b[38;5;124m\"\u001b[39m, \u001b[38;5;124m\"\u001b[39m\u001b[38;5;124mmulticlass\u001b[39m\u001b[38;5;124m\"\u001b[39m):\n\u001b[0;32m    328\u001b[0m         \u001b[38;5;28;01mraise\u001b[39;00m \u001b[38;5;167;01mValueError\u001b[39;00m(\u001b[38;5;124m\"\u001b[39m\u001b[38;5;132;01m%s\u001b[39;00m\u001b[38;5;124m is not supported\u001b[39m\u001b[38;5;124m\"\u001b[39m \u001b[38;5;241m%\u001b[39m y_type)\n",
      "File \u001b[1;32mc:\\Users\\kurom\\anaconda3\\envs\\dl-venv\\lib\\site-packages\\sklearn\\metrics\\_classification.py:93\u001b[0m, in \u001b[0;36m_check_targets\u001b[1;34m(y_true, y_pred)\u001b[0m\n\u001b[0;32m     90\u001b[0m     y_type \u001b[38;5;241m=\u001b[39m {\u001b[38;5;124m\"\u001b[39m\u001b[38;5;124mmulticlass\u001b[39m\u001b[38;5;124m\"\u001b[39m}\n\u001b[0;32m     92\u001b[0m \u001b[38;5;28;01mif\u001b[39;00m \u001b[38;5;28mlen\u001b[39m(y_type) \u001b[38;5;241m>\u001b[39m \u001b[38;5;241m1\u001b[39m:\n\u001b[1;32m---> 93\u001b[0m     \u001b[38;5;28;01mraise\u001b[39;00m \u001b[38;5;167;01mValueError\u001b[39;00m(\n\u001b[0;32m     94\u001b[0m         \u001b[38;5;124m\"\u001b[39m\u001b[38;5;124mClassification metrics can\u001b[39m\u001b[38;5;124m'\u001b[39m\u001b[38;5;124mt handle a mix of \u001b[39m\u001b[38;5;132;01m{0}\u001b[39;00m\u001b[38;5;124m and \u001b[39m\u001b[38;5;132;01m{1}\u001b[39;00m\u001b[38;5;124m targets\u001b[39m\u001b[38;5;124m\"\u001b[39m\u001b[38;5;241m.\u001b[39mformat(\n\u001b[0;32m     95\u001b[0m             type_true, type_pred\n\u001b[0;32m     96\u001b[0m         )\n\u001b[0;32m     97\u001b[0m     )\n\u001b[0;32m     99\u001b[0m \u001b[38;5;66;03m# We can't have more than one value on y_type => The set is no more needed\u001b[39;00m\n\u001b[0;32m    100\u001b[0m y_type \u001b[38;5;241m=\u001b[39m y_type\u001b[38;5;241m.\u001b[39mpop()\n",
      "\u001b[1;31mValueError\u001b[0m: Classification metrics can't handle a mix of multiclass and continuous-multioutput targets"
     ]
    }
   ],
   "source": [
    "#Plot confusion matrix\n",
    "from sklearn.metrics import confusion_matrix, ConfusionMatrixDisplay\n",
    "\n",
    "cm = confusion_matrix(y_test_1, y_pred_1)\n",
    "disp = ConfusionMatrixDisplay(confusion_matrix=cm)\n",
    "disp.plot()\n",
    "plt.title('Imbalanced Dataset')\n",
    "plt.show()"
   ]
  },
  {
   "cell_type": "code",
   "execution_count": null,
   "metadata": {},
   "outputs": [],
   "source": [
    "#Plot confusion matrix\n",
    "from sklearn.metrics import confusion_matrix, ConfusionMatrixDisplay\n",
    "\n",
    "cm = confusion_matrix(y_test_2, y_pred_2)\n",
    "disp = ConfusionMatrixDisplay(confusion_matrix=cm)\n",
    "disp.plot()\n",
    "plt.title('balanced Dataset')\n",
    "plt.show()"
   ]
  },
  {
   "cell_type": "code",
   "execution_count": null,
   "metadata": {},
   "outputs": [],
   "source": [
    "from sklearn.metrics import accuracy_score\n",
    "from sklearn.metrics import f1_score\n",
    "\n",
    "\n",
    "print(\"Accuracy imbalanced data set :\",round(accuracy_score(y_test_1, y_pred_1), 2))\n",
    "print(\"F1 Score imbalanced data set :\",round(f1_score(y_test_2, y_pred_2, average=None), 2))\n",
    "\n",
    "print(\"Accuracy balanced data set :\",round(accuracy_score(y_test_1, y_pred_1), 2))\n",
    "print(\"F1 Score balanced data set :\",round(f1_score(y_test_2, y_pred_2, average=None), 2))"
   ]
  }
 ],
 "metadata": {
  "kernelspec": {
   "display_name": "dl-venv",
   "language": "python",
   "name": "python3"
  },
  "language_info": {
   "codemirror_mode": {
    "name": "ipython",
    "version": 3
   },
   "file_extension": ".py",
   "mimetype": "text/x-python",
   "name": "python",
   "nbconvert_exporter": "python",
   "pygments_lexer": "ipython3",
   "version": "3.10.11"
  }
 },
 "nbformat": 4,
 "nbformat_minor": 2
}
