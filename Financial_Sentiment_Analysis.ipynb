{
 "cells": [
  {
   "cell_type": "markdown",
   "metadata": {},
   "source": [
    "# Step 1. EDA"
   ]
  },
  {
   "cell_type": "code",
   "execution_count": 109,
   "metadata": {},
   "outputs": [
    {
     "name": "stdout",
     "output_type": "stream",
     "text": [
      "The autoreload extension is already loaded. To reload it, use:\n",
      "  %reload_ext autoreload\n"
     ]
    }
   ],
   "source": [
    "%load_ext autoreload\n",
    "%autoreload 2\n"
   ]
  },
  {
   "cell_type": "code",
   "execution_count": 110,
   "metadata": {},
   "outputs": [],
   "source": [
    "#Import dataset\n",
    "import pandas as pd\n",
    "import numpy as np\n",
    "import matplotlib.pyplot as plt\n",
    "\n",
    "from datasets import load_dataset\n",
    "\n",
    "## Class for dealing to data sets\n",
    "from src.DatasetManager import DatasetManager\n",
    "## Class for dealing models\n",
    "from src.ModelManager import ModelManager\n",
    "## Class for dealing with common dataset processing tasks\n",
    "from src.DatasetProcesser import DatasetProcessor, HFprocesser"
   ]
  },
  {
   "cell_type": "code",
   "execution_count": 111,
   "metadata": {},
   "outputs": [],
   "source": [
    "dataset_manager = DatasetManager()\n",
    "financial_news = dataset_manager.get_financial_news() #read csv set header to none because columns have no title\n"
   ]
  },
  {
   "cell_type": "code",
   "execution_count": 112,
   "metadata": {},
   "outputs": [
    {
     "data": {
      "text/html": [
       "<div>\n",
       "<style scoped>\n",
       "    .dataframe tbody tr th:only-of-type {\n",
       "        vertical-align: middle;\n",
       "    }\n",
       "\n",
       "    .dataframe tbody tr th {\n",
       "        vertical-align: top;\n",
       "    }\n",
       "\n",
       "    .dataframe thead th {\n",
       "        text-align: right;\n",
       "    }\n",
       "</style>\n",
       "<table border=\"1\" class=\"dataframe\">\n",
       "  <thead>\n",
       "    <tr style=\"text-align: right;\">\n",
       "      <th></th>\n",
       "      <th>label</th>\n",
       "      <th>news</th>\n",
       "    </tr>\n",
       "  </thead>\n",
       "  <tbody>\n",
       "    <tr>\n",
       "      <th>4841</th>\n",
       "      <td>negative</td>\n",
       "      <td>LONDON MarketWatch -- Share prices ended lower...</td>\n",
       "    </tr>\n",
       "    <tr>\n",
       "      <th>4842</th>\n",
       "      <td>neutral</td>\n",
       "      <td>Rinkuskiai 's beer sales fell by 6.5 per cent ...</td>\n",
       "    </tr>\n",
       "    <tr>\n",
       "      <th>4843</th>\n",
       "      <td>negative</td>\n",
       "      <td>Operating profit fell to EUR 35.4 mn from EUR ...</td>\n",
       "    </tr>\n",
       "    <tr>\n",
       "      <th>4844</th>\n",
       "      <td>negative</td>\n",
       "      <td>Net sales of the Paper segment decreased to EU...</td>\n",
       "    </tr>\n",
       "    <tr>\n",
       "      <th>4845</th>\n",
       "      <td>negative</td>\n",
       "      <td>Sales in Finland decreased by 10.5 % in Januar...</td>\n",
       "    </tr>\n",
       "  </tbody>\n",
       "</table>\n",
       "</div>"
      ],
      "text/plain": [
       "         label                                               news\n",
       "4841  negative  LONDON MarketWatch -- Share prices ended lower...\n",
       "4842   neutral  Rinkuskiai 's beer sales fell by 6.5 per cent ...\n",
       "4843  negative  Operating profit fell to EUR 35.4 mn from EUR ...\n",
       "4844  negative  Net sales of the Paper segment decreased to EU...\n",
       "4845  negative  Sales in Finland decreased by 10.5 % in Januar..."
      ]
     },
     "execution_count": 112,
     "metadata": {},
     "output_type": "execute_result"
    }
   ],
   "source": [
    "#Check DF head and Tail\n",
    "financial_news.head()\n",
    "financial_news.tail()"
   ]
  },
  {
   "cell_type": "code",
   "execution_count": 113,
   "metadata": {},
   "outputs": [
    {
     "data": {
      "text/plain": [
       "(4846, 2)"
      ]
     },
     "execution_count": 113,
     "metadata": {},
     "output_type": "execute_result"
    }
   ],
   "source": [
    "#Check shape of train df\n",
    "financial_news.shape"
   ]
  },
  {
   "cell_type": "code",
   "execution_count": 114,
   "metadata": {},
   "outputs": [
    {
     "name": "stdout",
     "output_type": "stream",
     "text": [
      "<class 'pandas.core.frame.DataFrame'>\n",
      "RangeIndex: 4846 entries, 0 to 4845\n",
      "Data columns (total 2 columns):\n",
      " #   Column  Non-Null Count  Dtype \n",
      "---  ------  --------------  ----- \n",
      " 0   label   4846 non-null   object\n",
      " 1   news    4846 non-null   object\n",
      "dtypes: object(2)\n",
      "memory usage: 75.8+ KB\n"
     ]
    }
   ],
   "source": [
    "#Check information of df\n",
    "#we can see there is no missing values \n",
    "financial_news.info()"
   ]
  },
  {
   "cell_type": "code",
   "execution_count": 115,
   "metadata": {},
   "outputs": [
    {
     "data": {
      "image/png": "[encoded data removed]",
      "text/plain": [
       "<Figure size 640x480 with 1 Axes>"
      ]
     },
     "metadata": {},
     "output_type": "display_data"
    },
    {
     "name": "stdout",
     "output_type": "stream",
     "text": [
      "neutral     2879\n",
      "positive    1363\n",
      "negative     604\n",
      "Name: label, dtype: int64\n"
     ]
    }
   ],
   "source": [
    "#Check balance of the data set\n",
    "dataset_manager.plot_external(financial_news)\n",
    "\n",
    "#We can notice that the data set is imbalanced\n"
   ]
  },
  {
   "cell_type": "code",
   "execution_count": 116,
   "metadata": {},
   "outputs": [
    {
     "name": "stdout",
     "output_type": "stream",
     "text": [
      "81\n"
     ]
    }
   ],
   "source": [
    "#Check the maximum lenght of the documents\n",
    "print(dataset_manager.check_doc_len(financial_news))"
   ]
  },
  {
   "cell_type": "markdown",
   "metadata": {},
   "source": [
    "# Step 2. Pre-processing"
   ]
  },
  {
   "cell_type": "markdown",
   "metadata": {},
   "source": [
    "### Approach 1. do not balance classes"
   ]
  },
  {
   "cell_type": "code",
   "execution_count": 117,
   "metadata": {},
   "outputs": [
    {
     "data": {
      "text/html": [
       "<div>\n",
       "<style scoped>\n",
       "    .dataframe tbody tr th:only-of-type {\n",
       "        vertical-align: middle;\n",
       "    }\n",
       "\n",
       "    .dataframe tbody tr th {\n",
       "        vertical-align: top;\n",
       "    }\n",
       "\n",
       "    .dataframe thead th {\n",
       "        text-align: right;\n",
       "    }\n",
       "</style>\n",
       "<table border=\"1\" class=\"dataframe\">\n",
       "  <thead>\n",
       "    <tr style=\"text-align: right;\">\n",
       "      <th></th>\n",
       "      <th>label</th>\n",
       "      <th>news</th>\n",
       "      <th>len</th>\n",
       "    </tr>\n",
       "  </thead>\n",
       "  <tbody>\n",
       "    <tr>\n",
       "      <th>0</th>\n",
       "      <td>0</td>\n",
       "      <td>According to Gran , the company has no plans t...</td>\n",
       "      <td>25</td>\n",
       "    </tr>\n",
       "    <tr>\n",
       "      <th>1</th>\n",
       "      <td>0</td>\n",
       "      <td>Technopolis plans to develop in stages an area...</td>\n",
       "      <td>31</td>\n",
       "    </tr>\n",
       "    <tr>\n",
       "      <th>2</th>\n",
       "      <td>2</td>\n",
       "      <td>The international electronic industry company ...</td>\n",
       "      <td>36</td>\n",
       "    </tr>\n",
       "    <tr>\n",
       "      <th>3</th>\n",
       "      <td>1</td>\n",
       "      <td>With the new production plant the company woul...</td>\n",
       "      <td>33</td>\n",
       "    </tr>\n",
       "    <tr>\n",
       "      <th>4</th>\n",
       "      <td>1</td>\n",
       "      <td>According to the company 's updated strategy f...</td>\n",
       "      <td>41</td>\n",
       "    </tr>\n",
       "  </tbody>\n",
       "</table>\n",
       "</div>"
      ],
      "text/plain": [
       "   label                                               news  len\n",
       "0      0  According to Gran , the company has no plans t...   25\n",
       "1      0  Technopolis plans to develop in stages an area...   31\n",
       "2      2  The international electronic industry company ...   36\n",
       "3      1  With the new production plant the company woul...   33\n",
       "4      1  According to the company 's updated strategy f...   41"
      ]
     },
     "execution_count": 117,
     "metadata": {},
     "output_type": "execute_result"
    }
   ],
   "source": [
    "#First let's map the labels to integers\n",
    "fin_news_preprocessor = DatasetProcessor(financial_news)\n",
    "label_map = {'negative': 2, 'neutral': 0, 'positive': 1}\n",
    "\n",
    "fin_news_preprocessor.map_labels(label_map)\n",
    "\n",
    "#The preprocessors df can directly be used thanks to __getattr__ method\n",
    "fin_news_preprocessor.head()"
   ]
  },
  {
   "cell_type": "code",
   "execution_count": 118,
   "metadata": {},
   "outputs": [
    {
     "data": {
      "text/html": [
       "<div>\n",
       "<style scoped>\n",
       "    .dataframe tbody tr th:only-of-type {\n",
       "        vertical-align: middle;\n",
       "    }\n",
       "\n",
       "    .dataframe tbody tr th {\n",
       "        vertical-align: top;\n",
       "    }\n",
       "\n",
       "    .dataframe thead th {\n",
       "        text-align: right;\n",
       "    }\n",
       "</style>\n",
       "<table border=\"1\" class=\"dataframe\">\n",
       "  <thead>\n",
       "    <tr style=\"text-align: right;\">\n",
       "      <th></th>\n",
       "      <th>label</th>\n",
       "      <th>news</th>\n",
       "    </tr>\n",
       "  </thead>\n",
       "  <tbody>\n",
       "    <tr>\n",
       "      <th>0</th>\n",
       "      <td>neutral</td>\n",
       "      <td>According to Gran , the company has no plans t...</td>\n",
       "    </tr>\n",
       "    <tr>\n",
       "      <th>1</th>\n",
       "      <td>neutral</td>\n",
       "      <td>Technopolis plans to develop in stages an area...</td>\n",
       "    </tr>\n",
       "    <tr>\n",
       "      <th>2</th>\n",
       "      <td>negative</td>\n",
       "      <td>The international electronic industry company ...</td>\n",
       "    </tr>\n",
       "  </tbody>\n",
       "</table>\n",
       "</div>"
      ],
      "text/plain": [
       "      label                                               news\n",
       "0   neutral  According to Gran , the company has no plans t...\n",
       "1   neutral  Technopolis plans to develop in stages an area...\n",
       "2  negative  The international electronic industry company ..."
      ]
     },
     "execution_count": 118,
     "metadata": {},
     "output_type": "execute_result"
    }
   ],
   "source": [
    "financial_news.drop(columns={'len'}, inplace=True)\n",
    "financial_news.head(3)"
   ]
  },
  {
   "cell_type": "code",
   "execution_count": 119,
   "metadata": {},
   "outputs": [],
   "source": [
    "#Save approach 1 dataframe to folder\n",
    "fin_news_preprocessor.to_csv('data/financial_news_1.csv', index=False)"
   ]
  },
  {
   "cell_type": "markdown",
   "metadata": {},
   "source": [
    "### Approach 2. Downsampling"
   ]
  },
  {
   "cell_type": "code",
   "execution_count": 120,
   "metadata": {},
   "outputs": [],
   "source": [
    "# Let's downsample positive and neutral labels to create a balanced data set\n",
    "\n",
    "financial_news_ds = dataset_manager.get_financial_news() \n",
    "fin_news_preprocessor = DatasetProcessor(financial_news_ds)\n",
    "fin_news_preprocessor.map_labels()\n",
    "\n",
    "#Now let's separate our 3 classes to perform downsample\n",
    "financial_news_n,financial_news_0,financial_news_1 = fin_news_preprocessor.seperate_labels_classes()\n",
    "\n"
   ]
  },
  {
   "cell_type": "code",
   "execution_count": 121,
   "metadata": {},
   "outputs": [
    {
     "data": {
      "text/plain": [
       "array([1], dtype=int64)"
      ]
     },
     "execution_count": 121,
     "metadata": {},
     "output_type": "execute_result"
    }
   ],
   "source": [
    "#Check separated labels\n",
    "financial_news_n['label'].unique()\n",
    "financial_news_0['label'].unique()\n",
    "financial_news_1['label'].unique()"
   ]
  },
  {
   "cell_type": "code",
   "execution_count": 122,
   "metadata": {},
   "outputs": [],
   "source": [
    "#Downsample positive and neutral labels to be same length as negative label\n",
    "financial_news_0, financial_news_1 = fin_news_preprocessor.downsample_labels(financial_news_n, financial_news_0, financial_news_1)\n"
   ]
  },
  {
   "cell_type": "code",
   "execution_count": 123,
   "metadata": {},
   "outputs": [
    {
     "data": {
      "text/plain": [
       "(604,)"
      ]
     },
     "execution_count": 123,
     "metadata": {},
     "output_type": "execute_result"
    }
   ],
   "source": [
    "#Check shapes\n",
    "financial_news_0['label'].shape\n",
    "financial_news_1['label'].shape"
   ]
  },
  {
   "cell_type": "code",
   "execution_count": 124,
   "metadata": {},
   "outputs": [
    {
     "data": {
      "text/html": [
       "<div>\n",
       "<style scoped>\n",
       "    .dataframe tbody tr th:only-of-type {\n",
       "        vertical-align: middle;\n",
       "    }\n",
       "\n",
       "    .dataframe tbody tr th {\n",
       "        vertical-align: top;\n",
       "    }\n",
       "\n",
       "    .dataframe thead th {\n",
       "        text-align: right;\n",
       "    }\n",
       "</style>\n",
       "<table border=\"1\" class=\"dataframe\">\n",
       "  <thead>\n",
       "    <tr style=\"text-align: right;\">\n",
       "      <th></th>\n",
       "      <th>label</th>\n",
       "      <th>news</th>\n",
       "    </tr>\n",
       "  </thead>\n",
       "  <tbody>\n",
       "    <tr>\n",
       "      <th>1807</th>\n",
       "      <td>0</td>\n",
       "      <td>LSC 's 30 employees will move to Ixonos with t...</td>\n",
       "    </tr>\n",
       "    <tr>\n",
       "      <th>1808</th>\n",
       "      <td>0</td>\n",
       "      <td>BasWare Order Matching automatically matches p...</td>\n",
       "    </tr>\n",
       "    <tr>\n",
       "      <th>1809</th>\n",
       "      <td>2</td>\n",
       "      <td>The result will also be burdened by increased ...</td>\n",
       "    </tr>\n",
       "    <tr>\n",
       "      <th>1810</th>\n",
       "      <td>2</td>\n",
       "      <td>( ADPnews ) - May 4 , 2010 - Finnish cutlery a...</td>\n",
       "    </tr>\n",
       "    <tr>\n",
       "      <th>1811</th>\n",
       "      <td>0</td>\n",
       "      <td>During the past 10 years the factory has produ...</td>\n",
       "    </tr>\n",
       "  </tbody>\n",
       "</table>\n",
       "</div>"
      ],
      "text/plain": [
       "      label                                               news\n",
       "1807      0  LSC 's 30 employees will move to Ixonos with t...\n",
       "1808      0  BasWare Order Matching automatically matches p...\n",
       "1809      2  The result will also be burdened by increased ...\n",
       "1810      2  ( ADPnews ) - May 4 , 2010 - Finnish cutlery a...\n",
       "1811      0  During the past 10 years the factory has produ..."
      ]
     },
     "execution_count": 124,
     "metadata": {},
     "output_type": "execute_result"
    }
   ],
   "source": [
    "#put everything together again\n",
    "#shuffle rows and reset index\n",
    "financial_news_ds = fin_news_preprocessor.shuffle_and_reset([financial_news_n, financial_news_0, financial_news_1])\n",
    "\n",
    "#check df\n",
    "financial_news_ds.tail()"
   ]
  },
  {
   "cell_type": "code",
   "execution_count": 125,
   "metadata": {},
   "outputs": [
    {
     "data": {
      "image/png": "[encoded data removed]",
      "text/plain": [
       "<Figure size 640x480 with 1 Axes>"
      ]
     },
     "metadata": {},
     "output_type": "display_data"
    },
    {
     "name": "stdout",
     "output_type": "stream",
     "text": [
      "1    604\n",
      "2    604\n",
      "0    604\n",
      "Name: label, dtype: int64\n"
     ]
    }
   ],
   "source": [
    "#Check balance of the data set\n",
    "\n",
    "dataset_manager.plot_external(financial_news_ds)\n",
    "\n",
    "#We can notice that the data set is balanced\n"
   ]
  },
  {
   "cell_type": "code",
   "execution_count": 126,
   "metadata": {},
   "outputs": [],
   "source": [
    "#save approach 2 dataframe \n",
    "financial_news_ds.to_csv('data/financial_news_2.csv', index=False)"
   ]
  },
  {
   "cell_type": "markdown",
   "metadata": {},
   "source": [
    "# Step 3. Feature extraction"
   ]
  },
  {
   "cell_type": "markdown",
   "metadata": {},
   "source": [
    "## Feature Extraction for Training an LSTM model from scratch"
   ]
  },
  {
   "cell_type": "code",
   "execution_count": 127,
   "metadata": {},
   "outputs": [],
   "source": [
    "#For this approach we will use Word2Vec Google negative 300 bin file. \n",
    "#Since this file was trained on news it should make sense to make feature extraction for news headlines\n",
    "#import libraries\n",
    "from gensim.models import Word2Vec, KeyedVectors\n",
    "data_path = 'data/GoogleNews-vectors-negative300.bin'\n",
    "word2vec_model = KeyedVectors.load_word2vec_format(data_path, binary=True)"
   ]
  },
  {
   "cell_type": "code",
   "execution_count": 128,
   "metadata": {},
   "outputs": [],
   "source": [
    "# Use the data set manager to load data frames for use with keras\n",
    "dataset_manager.load_processed('imbalanced','data/financial_news_1.csv')\n",
    "dataset_manager.load_processed('balanced','data/financial_news_2.csv')"
   ]
  },
  {
   "cell_type": "code",
   "execution_count": 129,
   "metadata": {},
   "outputs": [
    {
     "data": {
      "text/html": [
       "<div>\n",
       "<style scoped>\n",
       "    .dataframe tbody tr th:only-of-type {\n",
       "        vertical-align: middle;\n",
       "    }\n",
       "\n",
       "    .dataframe tbody tr th {\n",
       "        vertical-align: top;\n",
       "    }\n",
       "\n",
       "    .dataframe thead th {\n",
       "        text-align: right;\n",
       "    }\n",
       "</style>\n",
       "<table border=\"1\" class=\"dataframe\">\n",
       "  <thead>\n",
       "    <tr style=\"text-align: right;\">\n",
       "      <th></th>\n",
       "      <th>label</th>\n",
       "      <th>news</th>\n",
       "    </tr>\n",
       "  </thead>\n",
       "  <tbody>\n",
       "    <tr>\n",
       "      <th>0</th>\n",
       "      <td>1</td>\n",
       "      <td>Shares of Standard Chartered ( STAN ) rose 1.2...</td>\n",
       "    </tr>\n",
       "    <tr>\n",
       "      <th>1</th>\n",
       "      <td>2</td>\n",
       "      <td>It is a disappointment to see the plan folded .</td>\n",
       "    </tr>\n",
       "    <tr>\n",
       "      <th>2</th>\n",
       "      <td>2</td>\n",
       "      <td>In the fourth quarter of 2008 , net sales decr...</td>\n",
       "    </tr>\n",
       "    <tr>\n",
       "      <th>3</th>\n",
       "      <td>2</td>\n",
       "      <td>JP Morgan expects that Scala will lower Nobel ...</td>\n",
       "    </tr>\n",
       "    <tr>\n",
       "      <th>4</th>\n",
       "      <td>0</td>\n",
       "      <td>Honkarakenne mainly exports large luxury log h...</td>\n",
       "    </tr>\n",
       "  </tbody>\n",
       "</table>\n",
       "</div>"
      ],
      "text/plain": [
       "   label                                               news\n",
       "0      1  Shares of Standard Chartered ( STAN ) rose 1.2...\n",
       "1      2    It is a disappointment to see the plan folded .\n",
       "2      2  In the fourth quarter of 2008 , net sales decr...\n",
       "3      2  JP Morgan expects that Scala will lower Nobel ...\n",
       "4      0  Honkarakenne mainly exports large luxury log h..."
      ]
     },
     "execution_count": 129,
     "metadata": {},
     "output_type": "execute_result"
    }
   ],
   "source": [
    "#Read data sets\n",
    "\n",
    "dataset_manager['balanced'].head()"
   ]
  },
  {
   "cell_type": "code",
   "execution_count": 130,
   "metadata": {},
   "outputs": [],
   "source": [
    "#Get a list of list of the news cleaned from non alphabet characters\n",
    "list_of_list_news_1 = dataset_manager['balanced'].get_list_of_news()\n",
    "list_of_list_news_2 = dataset_manager['imbalanced'].get_list_of_news()\n"
   ]
  },
  {
   "cell_type": "code",
   "execution_count": 131,
   "metadata": {},
   "outputs": [
    {
     "data": {
      "text/plain": [
       "['Shares',\n",
       " 'of',\n",
       " 'Standard',\n",
       " 'Chartered',\n",
       " '(',\n",
       " 'STAN',\n",
       " ')',\n",
       " 'rose',\n",
       " '1.2',\n",
       " '%',\n",
       " 'in',\n",
       " 'the',\n",
       " 'FTSE',\n",
       " '100',\n",
       " ',',\n",
       " 'while',\n",
       " 'Royal',\n",
       " 'Bank',\n",
       " 'of',\n",
       " 'Scotland',\n",
       " '(',\n",
       " 'RBS',\n",
       " ')',\n",
       " 'shares',\n",
       " 'rose',\n",
       " '2',\n",
       " '%',\n",
       " 'and',\n",
       " 'Barclays',\n",
       " 'shares',\n",
       " '(',\n",
       " 'BARC',\n",
       " ')',\n",
       " '(',\n",
       " 'BCS',\n",
       " ')',\n",
       " 'were',\n",
       " 'up',\n",
       " '1.7',\n",
       " '%',\n",
       " '.']"
      ]
     },
     "execution_count": 131,
     "metadata": {},
     "output_type": "execute_result"
    }
   ],
   "source": [
    "list_of_list_news_1[0]"
   ]
  },
  {
   "cell_type": "code",
   "execution_count": 132,
   "metadata": {},
   "outputs": [],
   "source": [
    "#Clean each new from non alphabet characters\n",
    "re_list_of_lists_1 = dataset_manager['balanced'].clean_lists(list_of_list_news_1)\n",
    "re_list_of_lists_2 = dataset_manager['imbalanced'].clean_lists(list_of_list_news_2)"
   ]
  },
  {
   "cell_type": "code",
   "execution_count": 133,
   "metadata": {},
   "outputs": [
    {
     "data": {
      "text/plain": [
       "['Shares',\n",
       " 'of',\n",
       " 'Standard',\n",
       " 'Chartered',\n",
       " 'STAN',\n",
       " 'rose',\n",
       " 'in',\n",
       " 'the',\n",
       " 'FTSE',\n",
       " 'while',\n",
       " 'Royal',\n",
       " 'Bank',\n",
       " 'of',\n",
       " 'Scotland',\n",
       " 'RBS',\n",
       " 'shares',\n",
       " 'rose',\n",
       " 'and',\n",
       " 'Barclays',\n",
       " 'shares',\n",
       " 'BARC',\n",
       " 'BCS',\n",
       " 'were',\n",
       " 'up']"
      ]
     },
     "execution_count": 133,
     "metadata": {},
     "output_type": "execute_result"
    }
   ],
   "source": [
    "re_list_of_lists_1[0]"
   ]
  },
  {
   "cell_type": "code",
   "execution_count": 134,
   "metadata": {},
   "outputs": [],
   "source": [
    "w2v_embbedings_1 = dataset_manager['balanced'].embbeding_word_feats(re_list_of_lists_1,word2vec_model)\n",
    "w2v_embbedings_2 = dataset_manager['imbalanced'].embbeding_word_feats(re_list_of_lists_2,word2vec_model)\n"
   ]
  },
  {
   "cell_type": "code",
   "execution_count": 135,
   "metadata": {},
   "outputs": [
    {
     "name": "stdout",
     "output_type": "stream",
     "text": [
      "1812\n",
      "21\n",
      "300\n"
     ]
    }
   ],
   "source": [
    "#Sanity checkk\n",
    "print(len(w2v_embbedings_1))\n",
    "print(len(w2v_embbedings_1[0]))\n",
    "print(len(w2v_embbedings_1[0][1]))"
   ]
  },
  {
   "cell_type": "code",
   "execution_count": 136,
   "metadata": {},
   "outputs": [
    {
     "name": "stdout",
     "output_type": "stream",
     "text": [
      "45\n",
      "45\n"
     ]
    }
   ],
   "source": [
    "\n",
    "#Check the maximum number of tokens in documents across the corpus\n",
    "temp_1 = [len(w2v_embbedings_1[i]) for i in range(len(w2v_embbedings_1))]\n",
    "print(max(temp_1))\n",
    "\n",
    "temp_2 = [len(w2v_embbedings_2[i]) for i in range(len(w2v_embbedings_2))]\n",
    "print(max(temp_2))"
   ]
  },
  {
   "cell_type": "code",
   "execution_count": 137,
   "metadata": {},
   "outputs": [],
   "source": [
    "w2v_embbedings_1 = dataset_manager['balanced'].padding_embeddings(w2v_embbedings_1, pad_to=45)\n",
    "w2v_embbedings_2 = dataset_manager['imbalanced'].padding_embeddings(w2v_embbedings_2, pad_to=45)"
   ]
  },
  {
   "cell_type": "code",
   "execution_count": 138,
   "metadata": {},
   "outputs": [
    {
     "name": "stdout",
     "output_type": "stream",
     "text": [
      "4846\n",
      "45\n",
      "300\n"
     ]
    }
   ],
   "source": [
    "#Sanity checkk\n",
    "print(len(w2v_embbedings_2))\n",
    "print(len(w2v_embbedings_2[0]))\n",
    "print(len(w2v_embbedings_2[0][1]))"
   ]
  },
  {
   "cell_type": "code",
   "execution_count": 139,
   "metadata": {},
   "outputs": [],
   "source": [
    "## This gets word embeddings from the words in the balanced dataset\n",
    "embeddings = dataset_manager['balanced'].get_embeddings(word2vec_model=word2vec_model)\n",
    "## this splits the dataset into test train validation data\n",
    "balanced_tvt_dict = dataset_manager['balanced'].train_val_test_split(embeddings)\n",
    "\n",
    "embeddings = dataset_manager['imbalanced'].get_embeddings(word2vec_model=word2vec_model)\n",
    "imbalanced_tvt_dict = dataset_manager['imbalanced'].train_val_test_split(embeddings)\n",
    "\n",
    "## init a model manager object that is capable of running models\n",
    "model_manager = ModelManager() \n",
    "## the model manager class is capable of taking in a configuration dictionary\n",
    "\n"
   ]
  },
  {
   "cell_type": "markdown",
   "metadata": {},
   "source": [
    "# Step 4 Training"
   ]
  },
  {
   "cell_type": "markdown",
   "metadata": {},
   "source": [
    "### Approach 2. Train an LSTM model from scratch"
   ]
  },
  {
   "cell_type": "code",
   "execution_count": 140,
   "metadata": {},
   "outputs": [],
   "source": [
    "\n",
    "#Define LSTM architechture for balanced dataset\n",
    "model_config_1 = {\n",
    "    'model_name': 'LSTM_Model_1',\n",
    "    'units': 32,\n",
    "    'dropout_rate': 0.2,\n",
    "    'return_sequences_config': False,\n",
    "    'dense_units': 3,\n",
    "    'activation': 'sigmoid',\n",
    "    'output_activation': 'softmax',\n",
    "    'optimizer': 'adam',\n",
    "    'loss': 'categorical_crossentropy',\n",
    "    'epochs': 100,\n",
    "    'batch_size': 32,\n",
    "}"
   ]
  },
  {
   "cell_type": "code",
   "execution_count": 141,
   "metadata": {},
   "outputs": [
    {
     "name": "stdout",
     "output_type": "stream",
     "text": [
      "Epoch 1/100\n",
      "46/46 [==============================] - 1s 14ms/step - loss: 1.1362 - accuracy: 0.3320 - val_loss: 1.0988 - val_accuracy: 0.3462\n",
      "Epoch 2/100\n",
      "46/46 [==============================] - 0s 11ms/step - loss: 1.1087 - accuracy: 0.3499 - val_loss: 1.1007 - val_accuracy: 0.3407\n",
      "Epoch 3/100\n",
      "46/46 [==============================] - 1s 12ms/step - loss: 1.1107 - accuracy: 0.3485 - val_loss: 1.1001 - val_accuracy: 0.3407\n",
      "Epoch 4/100\n",
      "46/46 [==============================] - 1s 11ms/step - loss: 1.1167 - accuracy: 0.3299 - val_loss: 1.0984 - val_accuracy: 0.3462\n",
      "Epoch 5/100\n",
      "46/46 [==============================] - 1s 11ms/step - loss: 1.1168 - accuracy: 0.3326 - val_loss: 1.0984 - val_accuracy: 0.3462\n",
      "Epoch 6/100\n",
      "46/46 [==============================] - 0s 11ms/step - loss: 1.1111 - accuracy: 0.3409 - val_loss: 1.1016 - val_accuracy: 0.3407\n",
      "Epoch 7/100\n",
      "46/46 [==============================] - 0s 11ms/step - loss: 1.1175 - accuracy: 0.3230 - val_loss: 1.1020 - val_accuracy: 0.3132\n",
      "Epoch 8/100\n",
      "46/46 [==============================] - 1s 11ms/step - loss: 1.1104 - accuracy: 0.3292 - val_loss: 1.1006 - val_accuracy: 0.3352\n",
      "Epoch 9/100\n",
      "46/46 [==============================] - 0s 11ms/step - loss: 1.1067 - accuracy: 0.3430 - val_loss: 1.1002 - val_accuracy: 0.3132\n",
      "Epoch 10/100\n",
      "46/46 [==============================] - 1s 11ms/step - loss: 1.1109 - accuracy: 0.3354 - val_loss: 1.0995 - val_accuracy: 0.3407\n",
      "Epoch 11/100\n",
      "46/46 [==============================] - 1s 12ms/step - loss: 1.1095 - accuracy: 0.3202 - val_loss: 1.1011 - val_accuracy: 0.3132\n",
      "Epoch 12/100\n",
      "46/46 [==============================] - 0s 11ms/step - loss: 1.1109 - accuracy: 0.3257 - val_loss: 1.0994 - val_accuracy: 0.3407\n",
      "Epoch 13/100\n",
      "46/46 [==============================] - 1s 11ms/step - loss: 1.1040 - accuracy: 0.3382 - val_loss: 1.0994 - val_accuracy: 0.3132\n",
      "Epoch 14/100\n",
      "46/46 [==============================] - 1s 11ms/step - loss: 1.1070 - accuracy: 0.3389 - val_loss: 1.0985 - val_accuracy: 0.3407\n",
      "Epoch 15/100\n",
      "46/46 [==============================] - 0s 11ms/step - loss: 1.0981 - accuracy: 0.3471 - val_loss: 1.0989 - val_accuracy: 0.3407\n",
      "Epoch 16/100\n",
      "46/46 [==============================] - 0s 11ms/step - loss: 1.1084 - accuracy: 0.3057 - val_loss: 1.0997 - val_accuracy: 0.3407\n",
      "Epoch 17/100\n",
      "46/46 [==============================] - 1s 11ms/step - loss: 1.1088 - accuracy: 0.3147 - val_loss: 1.0989 - val_accuracy: 0.3407\n",
      "Epoch 18/100\n",
      "46/46 [==============================] - 0s 11ms/step - loss: 1.1077 - accuracy: 0.3251 - val_loss: 1.0995 - val_accuracy: 0.3132\n",
      "Epoch 19/100\n",
      "46/46 [==============================] - 0s 11ms/step - loss: 1.1064 - accuracy: 0.3354 - val_loss: 1.1004 - val_accuracy: 0.3462\n",
      "Epoch 20/100\n",
      "46/46 [==============================] - 1s 11ms/step - loss: 1.1071 - accuracy: 0.3333 - val_loss: 1.0985 - val_accuracy: 0.3407\n",
      "Epoch 21/100\n",
      "46/46 [==============================] - 0s 11ms/step - loss: 1.0992 - accuracy: 0.3333 - val_loss: 1.0995 - val_accuracy: 0.3132\n",
      "Epoch 22/100\n",
      "46/46 [==============================] - 0s 11ms/step - loss: 1.1028 - accuracy: 0.3451 - val_loss: 1.0986 - val_accuracy: 0.3407\n",
      "Epoch 23/100\n",
      "46/46 [==============================] - 1s 11ms/step - loss: 1.1044 - accuracy: 0.3292 - val_loss: 1.0990 - val_accuracy: 0.3187\n",
      "Epoch 24/100\n",
      "46/46 [==============================] - 1s 11ms/step - loss: 1.1029 - accuracy: 0.3375 - val_loss: 1.0988 - val_accuracy: 0.3407\n",
      "Epoch 25/100\n",
      "46/46 [==============================] - 0s 11ms/step - loss: 1.1032 - accuracy: 0.3320 - val_loss: 1.0992 - val_accuracy: 0.3132\n",
      "Epoch 26/100\n",
      "46/46 [==============================] - 1s 12ms/step - loss: 1.1022 - accuracy: 0.3395 - val_loss: 1.0992 - val_accuracy: 0.3132\n",
      "Epoch 27/100\n",
      "46/46 [==============================] - 0s 11ms/step - loss: 1.0997 - accuracy: 0.3458 - val_loss: 1.0989 - val_accuracy: 0.3407\n",
      "Epoch 28/100\n",
      "46/46 [==============================] - 0s 11ms/step - loss: 1.1024 - accuracy: 0.3382 - val_loss: 1.0990 - val_accuracy: 0.3132\n",
      "Epoch 29/100\n",
      "46/46 [==============================] - 1s 12ms/step - loss: 1.1029 - accuracy: 0.3292 - val_loss: 1.0988 - val_accuracy: 0.3407\n",
      "Epoch 30/100\n",
      "46/46 [==============================] - 0s 11ms/step - loss: 1.1068 - accuracy: 0.3182 - val_loss: 1.0988 - val_accuracy: 0.3132\n",
      "Epoch 31/100\n",
      "46/46 [==============================] - 1s 11ms/step - loss: 1.1062 - accuracy: 0.3402 - val_loss: 1.0987 - val_accuracy: 0.3407\n",
      "Epoch 32/100\n",
      "46/46 [==============================] - 1s 11ms/step - loss: 1.1002 - accuracy: 0.3320 - val_loss: 1.0985 - val_accuracy: 0.3187\n",
      "Epoch 33/100\n",
      "46/46 [==============================] - 0s 11ms/step - loss: 1.1011 - accuracy: 0.3389 - val_loss: 1.0982 - val_accuracy: 0.3846\n",
      "Epoch 34/100\n",
      "46/46 [==============================] - 1s 11ms/step - loss: 1.1011 - accuracy: 0.3340 - val_loss: 1.0967 - val_accuracy: 0.3407\n",
      "Epoch 35/100\n",
      "46/46 [==============================] - 1s 11ms/step - loss: 1.0970 - accuracy: 0.3554 - val_loss: 1.0966 - val_accuracy: 0.3352\n",
      "Epoch 36/100\n",
      "46/46 [==============================] - 0s 11ms/step - loss: 1.0962 - accuracy: 0.3609 - val_loss: 1.0952 - val_accuracy: 0.3736\n",
      "Epoch 37/100\n",
      "46/46 [==============================] - 1s 12ms/step - loss: 1.0997 - accuracy: 0.3464 - val_loss: 1.0918 - val_accuracy: 0.3846\n",
      "Epoch 38/100\n",
      "46/46 [==============================] - 0s 11ms/step - loss: 1.0930 - accuracy: 0.3533 - val_loss: 1.0854 - val_accuracy: 0.4451\n",
      "Epoch 39/100\n",
      "46/46 [==============================] - 1s 11ms/step - loss: 1.0835 - accuracy: 0.3872 - val_loss: 1.0737 - val_accuracy: 0.4560\n",
      "Epoch 40/100\n",
      "46/46 [==============================] - 1s 12ms/step - loss: 1.0649 - accuracy: 0.4375 - val_loss: 1.0540 - val_accuracy: 0.5769\n",
      "Epoch 41/100\n",
      "46/46 [==============================] - 0s 11ms/step - loss: 1.0453 - accuracy: 0.4983 - val_loss: 1.0246 - val_accuracy: 0.6593\n",
      "Epoch 42/100\n",
      "46/46 [==============================] - 0s 11ms/step - loss: 1.0166 - accuracy: 0.5397 - val_loss: 0.9856 - val_accuracy: 0.7253\n",
      "Epoch 43/100\n",
      "46/46 [==============================] - 1s 11ms/step - loss: 0.9669 - accuracy: 0.5935 - val_loss: 0.9342 - val_accuracy: 0.6374\n",
      "Epoch 44/100\n",
      "46/46 [==============================] - 0s 11ms/step - loss: 0.8958 - accuracy: 0.6584 - val_loss: 0.8465 - val_accuracy: 0.7253\n",
      "Epoch 45/100\n",
      "46/46 [==============================] - 0s 10ms/step - loss: 0.7968 - accuracy: 0.6901 - val_loss: 0.7279 - val_accuracy: 0.7143\n",
      "Epoch 46/100\n",
      "46/46 [==============================] - 1s 11ms/step - loss: 0.6607 - accuracy: 0.7667 - val_loss: 0.6592 - val_accuracy: 0.7418\n",
      "Epoch 47/100\n",
      "46/46 [==============================] - 1s 11ms/step - loss: 0.5702 - accuracy: 0.8012 - val_loss: 0.6348 - val_accuracy: 0.7418\n",
      "Epoch 48/100\n",
      "46/46 [==============================] - 1s 12ms/step - loss: 0.5190 - accuracy: 0.8275 - val_loss: 0.6340 - val_accuracy: 0.7527\n",
      "Epoch 49/100\n",
      "46/46 [==============================] - 1s 11ms/step - loss: 0.4819 - accuracy: 0.8454 - val_loss: 0.6136 - val_accuracy: 0.7637\n",
      "Epoch 50/100\n",
      "46/46 [==============================] - 0s 11ms/step - loss: 0.4445 - accuracy: 0.8523 - val_loss: 0.5986 - val_accuracy: 0.7802\n",
      "Epoch 51/100\n",
      "46/46 [==============================] - 1s 11ms/step - loss: 0.3931 - accuracy: 0.8778 - val_loss: 0.6259 - val_accuracy: 0.7692\n",
      "Epoch 52/100\n",
      "46/46 [==============================] - 1s 12ms/step - loss: 0.3665 - accuracy: 0.8875 - val_loss: 0.5645 - val_accuracy: 0.8022\n",
      "Epoch 53/100\n",
      "46/46 [==============================] - 0s 11ms/step - loss: 0.3513 - accuracy: 0.8903 - val_loss: 0.6049 - val_accuracy: 0.7967\n",
      "Epoch 54/100\n",
      "46/46 [==============================] - 1s 11ms/step - loss: 0.3632 - accuracy: 0.8903 - val_loss: 0.5624 - val_accuracy: 0.8077\n",
      "Epoch 55/100\n",
      "46/46 [==============================] - 1s 11ms/step - loss: 0.3213 - accuracy: 0.9061 - val_loss: 0.5861 - val_accuracy: 0.7967\n",
      "Epoch 56/100\n",
      "46/46 [==============================] - 1s 12ms/step - loss: 0.2987 - accuracy: 0.9144 - val_loss: 0.5770 - val_accuracy: 0.8077\n",
      "Epoch 57/100\n",
      "46/46 [==============================] - 1s 11ms/step - loss: 0.2836 - accuracy: 0.9199 - val_loss: 0.5636 - val_accuracy: 0.8187\n",
      "Epoch 58/100\n",
      "46/46 [==============================] - 0s 11ms/step - loss: 0.2914 - accuracy: 0.9213 - val_loss: 0.5735 - val_accuracy: 0.8077\n",
      "Epoch 59/100\n",
      "46/46 [==============================] - 0s 11ms/step - loss: 0.2673 - accuracy: 0.9275 - val_loss: 0.6182 - val_accuracy: 0.7912\n",
      "Epoch 60/100\n",
      "46/46 [==============================] - 1s 11ms/step - loss: 0.2524 - accuracy: 0.9324 - val_loss: 0.5610 - val_accuracy: 0.8297\n",
      "Epoch 61/100\n",
      "46/46 [==============================] - 1s 12ms/step - loss: 0.2392 - accuracy: 0.9351 - val_loss: 0.5605 - val_accuracy: 0.8297\n",
      "Epoch 62/100\n",
      "46/46 [==============================] - 1s 11ms/step - loss: 0.2530 - accuracy: 0.9255 - val_loss: 0.5660 - val_accuracy: 0.8297\n",
      "Epoch 63/100\n",
      "46/46 [==============================] - 1s 11ms/step - loss: 0.2391 - accuracy: 0.9372 - val_loss: 0.5827 - val_accuracy: 0.8242\n",
      "Epoch 64/100\n",
      "46/46 [==============================] - 0s 11ms/step - loss: 0.2187 - accuracy: 0.9434 - val_loss: 0.6007 - val_accuracy: 0.8077\n",
      "Epoch 65/100\n",
      "46/46 [==============================] - 0s 11ms/step - loss: 0.2121 - accuracy: 0.9462 - val_loss: 0.6051 - val_accuracy: 0.8242\n",
      "Epoch 66/100\n",
      "46/46 [==============================] - 0s 11ms/step - loss: 0.2224 - accuracy: 0.9372 - val_loss: 0.6347 - val_accuracy: 0.8022\n",
      "Epoch 67/100\n",
      "46/46 [==============================] - 1s 11ms/step - loss: 0.2011 - accuracy: 0.9455 - val_loss: 0.6113 - val_accuracy: 0.8242\n",
      "Epoch 68/100\n",
      "46/46 [==============================] - 0s 11ms/step - loss: 0.2010 - accuracy: 0.9476 - val_loss: 0.6483 - val_accuracy: 0.8022\n",
      "Epoch 69/100\n",
      "46/46 [==============================] - 0s 11ms/step - loss: 0.1689 - accuracy: 0.9614 - val_loss: 0.6810 - val_accuracy: 0.7912\n",
      "Epoch 70/100\n",
      "46/46 [==============================] - 1s 11ms/step - loss: 0.1833 - accuracy: 0.9586 - val_loss: 0.6552 - val_accuracy: 0.8132\n",
      "Epoch 71/100\n",
      "46/46 [==============================] - 0s 11ms/step - loss: 0.1837 - accuracy: 0.9517 - val_loss: 0.7115 - val_accuracy: 0.7912\n",
      "Epoch 72/100\n",
      "46/46 [==============================] - 0s 11ms/step - loss: 0.1770 - accuracy: 0.9579 - val_loss: 0.6587 - val_accuracy: 0.8132\n",
      "Epoch 73/100\n",
      "46/46 [==============================] - 0s 11ms/step - loss: 0.1554 - accuracy: 0.9676 - val_loss: 0.7352 - val_accuracy: 0.7857\n",
      "Epoch 74/100\n",
      "46/46 [==============================] - 1s 12ms/step - loss: 0.1573 - accuracy: 0.9648 - val_loss: 0.7273 - val_accuracy: 0.7857\n",
      "Epoch 75/100\n",
      "46/46 [==============================] - 1s 11ms/step - loss: 0.1484 - accuracy: 0.9710 - val_loss: 0.7550 - val_accuracy: 0.7857\n",
      "Epoch 76/100\n",
      "46/46 [==============================] - 0s 11ms/step - loss: 0.1518 - accuracy: 0.9703 - val_loss: 0.6921 - val_accuracy: 0.8297\n",
      "Epoch 77/100\n",
      "46/46 [==============================] - 1s 11ms/step - loss: 0.1365 - accuracy: 0.9745 - val_loss: 0.7215 - val_accuracy: 0.8022\n",
      "Epoch 78/100\n",
      "46/46 [==============================] - 1s 12ms/step - loss: 0.1390 - accuracy: 0.9717 - val_loss: 0.7625 - val_accuracy: 0.8022\n",
      "Epoch 79/100\n",
      "46/46 [==============================] - 0s 11ms/step - loss: 0.1444 - accuracy: 0.9683 - val_loss: 0.7294 - val_accuracy: 0.8187\n",
      "Epoch 80/100\n",
      "46/46 [==============================] - 1s 12ms/step - loss: 0.1448 - accuracy: 0.9738 - val_loss: 0.7273 - val_accuracy: 0.8077\n",
      "Epoch 81/100\n",
      "46/46 [==============================] - 0s 11ms/step - loss: 0.1317 - accuracy: 0.9745 - val_loss: 0.7510 - val_accuracy: 0.7967\n",
      "Epoch 82/100\n",
      "46/46 [==============================] - 0s 11ms/step - loss: 0.1399 - accuracy: 0.9738 - val_loss: 0.7732 - val_accuracy: 0.7967\n",
      "Epoch 83/100\n",
      "46/46 [==============================] - 1s 11ms/step - loss: 0.1349 - accuracy: 0.9758 - val_loss: 0.7544 - val_accuracy: 0.7912\n",
      "Epoch 84/100\n",
      "46/46 [==============================] - 0s 11ms/step - loss: 0.1274 - accuracy: 0.9745 - val_loss: 0.7623 - val_accuracy: 0.8077\n",
      "Epoch 85/100\n",
      "46/46 [==============================] - 1s 11ms/step - loss: 0.1314 - accuracy: 0.9758 - val_loss: 0.7539 - val_accuracy: 0.8022\n",
      "Epoch 86/100\n",
      "46/46 [==============================] - 1s 11ms/step - loss: 0.1245 - accuracy: 0.9765 - val_loss: 0.7647 - val_accuracy: 0.8132\n",
      "Epoch 87/100\n",
      "46/46 [==============================] - 0s 11ms/step - loss: 0.1209 - accuracy: 0.9765 - val_loss: 0.8194 - val_accuracy: 0.7967\n",
      "Epoch 88/100\n",
      "46/46 [==============================] - 1s 11ms/step - loss: 0.1257 - accuracy: 0.9772 - val_loss: 0.8369 - val_accuracy: 0.7857\n",
      "Epoch 89/100\n",
      "46/46 [==============================] - 1s 12ms/step - loss: 0.1271 - accuracy: 0.9779 - val_loss: 0.7829 - val_accuracy: 0.8077\n",
      "Epoch 90/100\n",
      "46/46 [==============================] - 1s 11ms/step - loss: 0.1337 - accuracy: 0.9758 - val_loss: 0.8119 - val_accuracy: 0.7967\n",
      "Epoch 91/100\n",
      "46/46 [==============================] - 1s 11ms/step - loss: 0.1234 - accuracy: 0.9765 - val_loss: 0.7894 - val_accuracy: 0.8022\n",
      "Epoch 92/100\n",
      "46/46 [==============================] - 1s 12ms/step - loss: 0.1421 - accuracy: 0.9676 - val_loss: 0.8101 - val_accuracy: 0.7967\n",
      "Epoch 93/100\n",
      "46/46 [==============================] - 1s 11ms/step - loss: 0.1509 - accuracy: 0.9662 - val_loss: 0.7668 - val_accuracy: 0.7967\n",
      "Epoch 94/100\n",
      "46/46 [==============================] - 1s 12ms/step - loss: 0.1292 - accuracy: 0.9738 - val_loss: 0.7691 - val_accuracy: 0.8022\n",
      "Epoch 95/100\n",
      "46/46 [==============================] - 1s 11ms/step - loss: 0.1190 - accuracy: 0.9752 - val_loss: 0.7599 - val_accuracy: 0.8022\n",
      "Epoch 96/100\n",
      "46/46 [==============================] - 0s 11ms/step - loss: 0.1306 - accuracy: 0.9752 - val_loss: 0.7965 - val_accuracy: 0.7912\n",
      "Epoch 97/100\n",
      "46/46 [==============================] - 0s 11ms/step - loss: 0.1274 - accuracy: 0.9724 - val_loss: 0.7728 - val_accuracy: 0.8077\n",
      "Epoch 98/100\n",
      "46/46 [==============================] - 0s 11ms/step - loss: 0.1131 - accuracy: 0.9779 - val_loss: 0.7945 - val_accuracy: 0.7912\n",
      "Epoch 99/100\n",
      "46/46 [==============================] - 0s 11ms/step - loss: 0.1149 - accuracy: 0.9793 - val_loss: 0.7970 - val_accuracy: 0.7857\n",
      "Epoch 100/100\n",
      "46/46 [==============================] - 0s 11ms/step - loss: 0.1128 - accuracy: 0.9786 - val_loss: 0.7690 - val_accuracy: 0.8187\n",
      "LSTM_Model_1 Training process execution time: 51.86\n"
     ]
    }
   ],
   "source": [
    "model_manager.run_model_config(balanced_tvt_dict, model_config_1)\n"
   ]
  },
  {
   "cell_type": "code",
   "execution_count": 142,
   "metadata": {},
   "outputs": [],
   "source": [
    "#Define LSTM architechture for imbalanced dataset\n",
    "model_config_2 = {\n",
    "    'model_name': 'LSTM_Model_2',\n",
    "    'units': 32,\n",
    "    'dropout_rate': 0.2,\n",
    "    'return_sequences_config': False,\n",
    "    'dense_units': 3,\n",
    "    'activation': 'sigmoid',\n",
    "    'output_activation': 'softmax',\n",
    "    'optimizer': 'adam',\n",
    "    'loss': 'categorical_crossentropy',\n",
    "    'epochs': 30,\n",
    "    'batch_size': 10,\n",
    "    'metrics': ['accuracy'],\n",
    "}"
   ]
  },
  {
   "cell_type": "code",
   "execution_count": 143,
   "metadata": {},
   "outputs": [
    {
     "name": "stdout",
     "output_type": "stream",
     "text": [
      "Epoch 1/30\n",
      "388/388 [==============================] - 3s 6ms/step - loss: 0.9593 - accuracy: 0.5751 - val_loss: 0.9359 - val_accuracy: 0.5773\n",
      "Epoch 2/30\n",
      "388/388 [==============================] - 2s 5ms/step - loss: 0.9418 - accuracy: 0.5942 - val_loss: 0.9345 - val_accuracy: 0.5773\n",
      "Epoch 3/30\n",
      "388/388 [==============================] - 2s 5ms/step - loss: 0.9347 - accuracy: 0.5952 - val_loss: 0.9317 - val_accuracy: 0.5773\n",
      "Epoch 4/30\n",
      "388/388 [==============================] - 2s 5ms/step - loss: 0.9337 - accuracy: 0.5955 - val_loss: 0.9332 - val_accuracy: 0.5773\n",
      "Epoch 5/30\n",
      "388/388 [==============================] - 2s 6ms/step - loss: 0.9312 - accuracy: 0.5955 - val_loss: 0.9295 - val_accuracy: 0.5773\n",
      "Epoch 6/30\n",
      "388/388 [==============================] - 2s 5ms/step - loss: 0.9316 - accuracy: 0.5955 - val_loss: 0.9298 - val_accuracy: 0.5773\n",
      "Epoch 7/30\n",
      "388/388 [==============================] - 2s 5ms/step - loss: 0.9251 - accuracy: 0.5955 - val_loss: 0.9212 - val_accuracy: 0.5773\n",
      "Epoch 8/30\n",
      "388/388 [==============================] - 2s 5ms/step - loss: 0.9053 - accuracy: 0.5955 - val_loss: 0.8722 - val_accuracy: 0.5773\n",
      "Epoch 9/30\n",
      "388/388 [==============================] - 2s 5ms/step - loss: 0.7910 - accuracy: 0.6391 - val_loss: 0.7461 - val_accuracy: 0.6392\n",
      "Epoch 10/30\n",
      "388/388 [==============================] - 2s 5ms/step - loss: 0.7143 - accuracy: 0.6752 - val_loss: 0.7448 - val_accuracy: 0.6495\n",
      "Epoch 11/30\n",
      "388/388 [==============================] - 2s 5ms/step - loss: 0.6838 - accuracy: 0.6907 - val_loss: 0.7128 - val_accuracy: 0.6722\n",
      "Epoch 12/30\n",
      "388/388 [==============================] - 2s 5ms/step - loss: 0.6461 - accuracy: 0.7188 - val_loss: 0.6852 - val_accuracy: 0.6969\n",
      "Epoch 13/30\n",
      "388/388 [==============================] - 2s 5ms/step - loss: 0.6113 - accuracy: 0.7379 - val_loss: 0.6625 - val_accuracy: 0.7175\n",
      "Epoch 14/30\n",
      "388/388 [==============================] - 2s 5ms/step - loss: 0.5780 - accuracy: 0.7575 - val_loss: 0.6488 - val_accuracy: 0.7381\n",
      "Epoch 15/30\n",
      "388/388 [==============================] - 2s 5ms/step - loss: 0.5515 - accuracy: 0.7714 - val_loss: 0.6373 - val_accuracy: 0.7299\n",
      "Epoch 16/30\n",
      "388/388 [==============================] - 2s 5ms/step - loss: 0.5297 - accuracy: 0.7887 - val_loss: 0.6320 - val_accuracy: 0.7464\n",
      "Epoch 17/30\n",
      "388/388 [==============================] - 2s 5ms/step - loss: 0.5041 - accuracy: 0.8104 - val_loss: 0.6185 - val_accuracy: 0.7773\n",
      "Epoch 18/30\n",
      "388/388 [==============================] - 2s 5ms/step - loss: 0.4896 - accuracy: 0.8132 - val_loss: 0.6099 - val_accuracy: 0.7732\n",
      "Epoch 19/30\n",
      "388/388 [==============================] - 2s 5ms/step - loss: 0.4708 - accuracy: 0.8243 - val_loss: 0.5908 - val_accuracy: 0.7814\n",
      "Epoch 20/30\n",
      "388/388 [==============================] - 2s 5ms/step - loss: 0.4541 - accuracy: 0.8349 - val_loss: 0.5939 - val_accuracy: 0.7814\n",
      "Epoch 21/30\n",
      "388/388 [==============================] - 2s 5ms/step - loss: 0.4286 - accuracy: 0.8460 - val_loss: 0.7100 - val_accuracy: 0.7526\n",
      "Epoch 22/30\n",
      "388/388 [==============================] - 2s 5ms/step - loss: 0.4187 - accuracy: 0.8529 - val_loss: 0.6182 - val_accuracy: 0.7814\n",
      "Epoch 23/30\n",
      "388/388 [==============================] - 2s 5ms/step - loss: 0.4040 - accuracy: 0.8584 - val_loss: 0.5905 - val_accuracy: 0.7711\n",
      "Epoch 24/30\n",
      "388/388 [==============================] - 2s 5ms/step - loss: 0.3806 - accuracy: 0.8676 - val_loss: 0.6057 - val_accuracy: 0.7773\n",
      "Epoch 25/30\n",
      "388/388 [==============================] - 2s 6ms/step - loss: 0.3619 - accuracy: 0.8736 - val_loss: 0.6182 - val_accuracy: 0.7876\n",
      "Epoch 26/30\n",
      "388/388 [==============================] - 2s 5ms/step - loss: 0.3564 - accuracy: 0.8780 - val_loss: 0.5720 - val_accuracy: 0.7814\n",
      "Epoch 27/30\n",
      "388/388 [==============================] - 2s 5ms/step - loss: 0.3447 - accuracy: 0.8813 - val_loss: 0.5873 - val_accuracy: 0.7959\n",
      "Epoch 28/30\n",
      "388/388 [==============================] - 2s 5ms/step - loss: 0.3266 - accuracy: 0.8904 - val_loss: 0.5748 - val_accuracy: 0.7938\n",
      "Epoch 29/30\n",
      "388/388 [==============================] - 2s 5ms/step - loss: 0.3140 - accuracy: 0.8963 - val_loss: 0.5814 - val_accuracy: 0.7856\n",
      "Epoch 30/30\n",
      "388/388 [==============================] - 2s 5ms/step - loss: 0.2995 - accuracy: 0.9051 - val_loss: 0.6055 - val_accuracy: 0.7773\n",
      "LSTM_Model_2 Training process execution time: 62.88\n"
     ]
    }
   ],
   "source": [
    "model_manager.run_model_config(imbalanced_tvt_dict, model_config_2)\n"
   ]
  },
  {
   "cell_type": "code",
   "execution_count": 148,
   "metadata": {},
   "outputs": [
    {
     "data": {
      "image/png": "[encoded data removed]",
      "text/plain": [
       "<Figure size 640x480 with 1 Axes>"
      ]
     },
     "metadata": {},
     "output_type": "display_data"
    }
   ],
   "source": [
    "model_manager.plot_model_history('LSTM_Model_1')\n"
   ]
  },
  {
   "cell_type": "code",
   "execution_count": 149,
   "metadata": {},
   "outputs": [
    {
     "data": {
      "image/png": "[encoded data removed]",
      "text/plain": [
       "<Figure size 640x480 with 1 Axes>"
      ]
     },
     "metadata": {},
     "output_type": "display_data"
    }
   ],
   "source": [
    "model_manager.plot_model_history('LSTM_Model_2')\n"
   ]
  },
  {
   "cell_type": "markdown",
   "metadata": {},
   "source": [
    "# Step 5 Evaluation"
   ]
  },
  {
   "cell_type": "code",
   "execution_count": 146,
   "metadata": {},
   "outputs": [
    {
     "name": "stdout",
     "output_type": "stream",
     "text": [
      "6/6 [==============================] - 0s 8ms/step\n",
      "Accuracy Imbalanced data set for LSTM_Model_1: 0.82\n",
      "F1 Score Imbalanced data set for LSTM_Model_1: 0.82\n",
      "16/16 [==============================] - 0s 6ms/step\n",
      "Accuracy Imbalanced data set for LSTM_Model_2: 0.76\n",
      "F1 Score Imbalanced data set for LSTM_Model_2: 0.77\n"
     ]
    }
   ],
   "source": [
    "## The model manager can be used to make a prediction\n",
    "## and out metrics\n",
    "y_pred_1 = model_manager.predict('LSTM_Model_1', balanced_tvt_dict['X_test'], return_class_indices=True)\n",
    "model_manager.print_performance_metrics('LSTM_Model_1', balanced_tvt_dict['y_test'], y_pred_1, dataset_type='Imbalanced')\n",
    "\n",
    "\n",
    "y_pred_2 = model_manager.predict('LSTM_Model_2', imbalanced_tvt_dict['X_test'], return_class_indices=True)\n",
    "model_manager.print_performance_metrics('LSTM_Model_2', imbalanced_tvt_dict['y_test'], y_pred_2, dataset_type='Imbalanced')\n",
    "\n"
   ]
  },
  {
   "cell_type": "code",
   "execution_count": 147,
   "metadata": {},
   "outputs": [
    {
     "data": {
      "image/png": "[encoded data removed]",
      "text/plain": [
       "<Figure size 640x480 with 2 Axes>"
      ]
     },
     "metadata": {},
     "output_type": "display_data"
    },
    {
     "data": {
      "image/png": "[encoded data removed]",
      "text/plain": [
       "<Figure size 640x480 with 2 Axes>"
      ]
     },
     "metadata": {},
     "output_type": "display_data"
    }
   ],
   "source": [
    "#You can also plot the confusion matrix\n",
    "y_test_1_indices = balanced_tvt_dict['y_test'].argmax(axis=1)\n",
    "model_manager.plot_confusion_matrix('LSTM_Model_1', y_test_1_indices, y_pred_1, title='Balanced Dataset')\n",
    "\n",
    "\n",
    "y_test_2_indices = imbalanced_tvt_dict['y_test'].argmax(axis=1)\n",
    "model_manager.plot_confusion_matrix('LSTM_Model_2', y_test_2_indices, y_pred_2, title='Imbalanced Dataset')\n"
   ]
  }
 ],
 "metadata": {
  "kernelspec": {
   "display_name": "dl-venv",
   "language": "python",
   "name": "python3"
  },
  "language_info": {
   "codemirror_mode": {
    "name": "ipython",
    "version": 3
   },
   "file_extension": ".py",
   "mimetype": "text/x-python",
   "name": "python",
   "nbconvert_exporter": "python",
   "pygments_lexer": "ipython3",
   "version": "3.11.4"
  }
 },
 "nbformat": 4,
 "nbformat_minor": 2
}
