{
 "cells": [
  {
   "cell_type": "code",
   "execution_count": 1,
   "metadata": {},
   "outputs": [],
   "source": [
    "from src.DatasetManager import DatasetManager\n",
    "%load_ext autoreload\n",
    "%autoreload 2\n",
    "#Import dataset\n",
    "import pandas as pd\n",
    "import numpy as np\n",
    "import matplotlib.pyplot as plt\n",
    "from datasets import Dataset\n",
    "dataset_manager = DatasetManager()\n",
    "dataset_manager.load_dataframe('main','all-data.csv')\n",
    "\n",
    "## Class for dealing to data sets\n",
    "from src.DatasetManager import DatasetManager\n",
    "## Class for dealing models\n",
    "from src.ModelManager import ModelManager\n",
    "## Class for dealing with common dataset processing tasks\n",
    "from src.DatasetProcesser import DatasetProcessor, HFprocesser\n",
    "\n"
   ]
  },
  {
   "cell_type": "code",
   "execution_count": 2,
   "metadata": {},
   "outputs": [],
   "source": [
    "dataset_manager = DatasetManager()\n",
    "dataset_manager.load_dataframe('main','all-data.csv')\n",
    "from gensim.models import KeyedVectors\n",
    "data_path = 'data/GoogleNews-vectors-negative300.bin'\n",
    "word2vec_model = KeyedVectors.load_word2vec_format(data_path, binary=True)\n"
   ]
  },
  {
   "cell_type": "markdown",
   "metadata": {},
   "source": [
    "### Deni"
   ]
  },
  {
   "cell_type": "markdown",
   "metadata": {},
   "source": []
  },
  {
   "cell_type": "code",
   "execution_count": 17,
   "metadata": {},
   "outputs": [],
   "source": [
    "# Use the data set manager to load data frames for use with keras\n",
    "dataset_manager.load_dataframe('unbalanced','data/financial_news_1.csv')\n",
    "dataset_manager.load_dataframe('balanced','data/financial_news_2.csv')"
   ]
  },
  {
   "cell_type": "code",
   "execution_count": 23,
   "metadata": {},
   "outputs": [
    {
     "name": "stdout",
     "output_type": "stream",
     "text": [
      "Epoch 1/30\n",
      "46/46 [==============================] - 1s 14ms/step - loss: 1.1130 - accuracy: 0.3464 - val_loss: 1.0960 - val_accuracy: 0.3626\n",
      "Epoch 2/30\n",
      "46/46 [==============================] - 0s 10ms/step - loss: 1.1243 - accuracy: 0.3202 - val_loss: 1.1000 - val_accuracy: 0.3187\n",
      "Epoch 3/30\n",
      "46/46 [==============================] - 0s 11ms/step - loss: 1.1098 - accuracy: 0.3264 - val_loss: 1.0963 - val_accuracy: 0.3626\n",
      "Epoch 4/30\n",
      "46/46 [==============================] - 1s 11ms/step - loss: 1.1087 - accuracy: 0.3471 - val_loss: 1.1004 - val_accuracy: 0.3022\n",
      "Epoch 5/30\n",
      "46/46 [==============================] - 1s 11ms/step - loss: 1.1112 - accuracy: 0.3430 - val_loss: 1.0968 - val_accuracy: 0.3626\n",
      "Epoch 6/30\n",
      "46/46 [==============================] - 0s 11ms/step - loss: 1.1008 - accuracy: 0.3568 - val_loss: 1.0990 - val_accuracy: 0.3077\n",
      "Epoch 7/30\n",
      "46/46 [==============================] - 0s 10ms/step - loss: 1.1111 - accuracy: 0.3402 - val_loss: 1.1001 - val_accuracy: 0.3352\n",
      "Epoch 8/30\n",
      "46/46 [==============================] - 0s 11ms/step - loss: 1.1132 - accuracy: 0.3395 - val_loss: 1.0967 - val_accuracy: 0.3352\n",
      "Epoch 9/30\n",
      "46/46 [==============================] - 0s 10ms/step - loss: 1.1095 - accuracy: 0.3402 - val_loss: 1.0978 - val_accuracy: 0.3352\n",
      "Epoch 10/30\n",
      "46/46 [==============================] - 0s 11ms/step - loss: 1.1089 - accuracy: 0.3499 - val_loss: 1.0982 - val_accuracy: 0.3352\n",
      "Epoch 11/30\n",
      "46/46 [==============================] - 0s 11ms/step - loss: 1.1055 - accuracy: 0.3368 - val_loss: 1.0983 - val_accuracy: 0.3352\n",
      "Epoch 12/30\n",
      "46/46 [==============================] - 0s 11ms/step - loss: 1.1068 - accuracy: 0.3568 - val_loss: 1.1002 - val_accuracy: 0.3352\n",
      "Epoch 13/30\n",
      "46/46 [==============================] - 0s 11ms/step - loss: 1.1111 - accuracy: 0.3223 - val_loss: 1.0996 - val_accuracy: 0.3352\n",
      "Epoch 14/30\n",
      "46/46 [==============================] - 0s 11ms/step - loss: 1.1094 - accuracy: 0.3251 - val_loss: 1.0992 - val_accuracy: 0.3077\n",
      "Epoch 15/30\n",
      "46/46 [==============================] - 1s 11ms/step - loss: 1.1104 - accuracy: 0.3168 - val_loss: 1.0977 - val_accuracy: 0.3352\n",
      "Epoch 16/30\n",
      "46/46 [==============================] - 0s 11ms/step - loss: 1.1056 - accuracy: 0.3361 - val_loss: 1.0972 - val_accuracy: 0.3626\n",
      "Epoch 17/30\n",
      "46/46 [==============================] - 0s 11ms/step - loss: 1.1037 - accuracy: 0.3478 - val_loss: 1.1005 - val_accuracy: 0.3022\n",
      "Epoch 18/30\n",
      "46/46 [==============================] - 0s 11ms/step - loss: 1.1013 - accuracy: 0.3354 - val_loss: 1.0983 - val_accuracy: 0.3901\n",
      "Epoch 19/30\n",
      "46/46 [==============================] - 0s 11ms/step - loss: 1.1069 - accuracy: 0.3347 - val_loss: 1.0970 - val_accuracy: 0.3352\n",
      "Epoch 20/30\n",
      "46/46 [==============================] - 0s 10ms/step - loss: 1.1075 - accuracy: 0.3195 - val_loss: 1.1014 - val_accuracy: 0.3571\n",
      "Epoch 21/30\n",
      "46/46 [==============================] - 0s 10ms/step - loss: 1.1038 - accuracy: 0.3471 - val_loss: 1.0972 - val_accuracy: 0.3352\n",
      "Epoch 22/30\n",
      "46/46 [==============================] - 0s 10ms/step - loss: 1.1056 - accuracy: 0.3375 - val_loss: 1.0947 - val_accuracy: 0.3352\n",
      "Epoch 23/30\n",
      "46/46 [==============================] - 0s 10ms/step - loss: 1.0993 - accuracy: 0.3540 - val_loss: 1.0928 - val_accuracy: 0.3352\n",
      "Epoch 24/30\n",
      "46/46 [==============================] - 0s 10ms/step - loss: 1.0945 - accuracy: 0.3658 - val_loss: 1.0866 - val_accuracy: 0.3407\n",
      "Epoch 25/30\n",
      "46/46 [==============================] - 0s 11ms/step - loss: 1.0864 - accuracy: 0.3885 - val_loss: 1.0807 - val_accuracy: 0.4890\n",
      "Epoch 26/30\n",
      "46/46 [==============================] - 0s 10ms/step - loss: 1.0691 - accuracy: 0.4382 - val_loss: 1.0643 - val_accuracy: 0.5220\n",
      "Epoch 27/30\n",
      "46/46 [==============================] - 0s 10ms/step - loss: 1.0593 - accuracy: 0.4334 - val_loss: 1.0460 - val_accuracy: 0.5495\n",
      "Epoch 28/30\n",
      "46/46 [==============================] - 0s 10ms/step - loss: 1.0407 - accuracy: 0.4513 - val_loss: 1.0225 - val_accuracy: 0.4890\n",
      "Epoch 29/30\n",
      "46/46 [==============================] - 0s 10ms/step - loss: 1.0010 - accuracy: 0.5066 - val_loss: 0.9712 - val_accuracy: 0.5110\n",
      "Epoch 30/30\n",
      "46/46 [==============================] - 0s 10ms/step - loss: 0.9225 - accuracy: 0.5535 - val_loss: 0.8896 - val_accuracy: 0.5769\n",
      "LSTM_Model_1 Training process execution time: 15.43\n",
      "Epoch 1/30\n",
      "145/145 [==============================] - 2s 6ms/step - loss: 1.1375 - accuracy: 0.3389 - val_loss: 1.1001 - val_accuracy: 0.3352\n",
      "Epoch 2/30\n",
      "145/145 [==============================] - 1s 5ms/step - loss: 1.1128 - accuracy: 0.3340 - val_loss: 1.0990 - val_accuracy: 0.3352\n",
      "Epoch 3/30\n",
      "145/145 [==============================] - 1s 5ms/step - loss: 1.1142 - accuracy: 0.3209 - val_loss: 1.0995 - val_accuracy: 0.3022\n",
      "Epoch 4/30\n",
      "145/145 [==============================] - 1s 5ms/step - loss: 1.1083 - accuracy: 0.3354 - val_loss: 1.1020 - val_accuracy: 0.3352\n",
      "Epoch 5/30\n",
      "145/145 [==============================] - 1s 5ms/step - loss: 1.1117 - accuracy: 0.3264 - val_loss: 1.0969 - val_accuracy: 0.3626\n",
      "Epoch 6/30\n",
      "145/145 [==============================] - 1s 5ms/step - loss: 1.1060 - accuracy: 0.3527 - val_loss: 1.0967 - val_accuracy: 0.3626\n",
      "Epoch 7/30\n",
      "145/145 [==============================] - 1s 5ms/step - loss: 1.1092 - accuracy: 0.3313 - val_loss: 1.1025 - val_accuracy: 0.3352\n",
      "Epoch 8/30\n",
      "145/145 [==============================] - 1s 5ms/step - loss: 1.1106 - accuracy: 0.3375 - val_loss: 1.1003 - val_accuracy: 0.3352\n",
      "Epoch 9/30\n",
      "145/145 [==============================] - 1s 5ms/step - loss: 1.1065 - accuracy: 0.3492 - val_loss: 1.0966 - val_accuracy: 0.3626\n",
      "Epoch 10/30\n",
      "145/145 [==============================] - 1s 5ms/step - loss: 1.1034 - accuracy: 0.3444 - val_loss: 1.0997 - val_accuracy: 0.3352\n",
      "Epoch 11/30\n",
      "145/145 [==============================] - 1s 5ms/step - loss: 1.1023 - accuracy: 0.3499 - val_loss: 1.0996 - val_accuracy: 0.3022\n",
      "Epoch 12/30\n",
      "145/145 [==============================] - 1s 5ms/step - loss: 1.1090 - accuracy: 0.3037 - val_loss: 1.0998 - val_accuracy: 0.3352\n",
      "Epoch 13/30\n",
      "145/145 [==============================] - 1s 5ms/step - loss: 1.1070 - accuracy: 0.3347 - val_loss: 1.1024 - val_accuracy: 0.3022\n",
      "Epoch 14/30\n",
      "145/145 [==============================] - 1s 5ms/step - loss: 1.1013 - accuracy: 0.3313 - val_loss: 1.0985 - val_accuracy: 0.3407\n",
      "Epoch 15/30\n",
      "145/145 [==============================] - 1s 5ms/step - loss: 1.1025 - accuracy: 0.3333 - val_loss: 1.0990 - val_accuracy: 0.3352\n",
      "Epoch 16/30\n",
      "145/145 [==============================] - 1s 5ms/step - loss: 1.1007 - accuracy: 0.3533 - val_loss: 1.0953 - val_accuracy: 0.3462\n",
      "Epoch 17/30\n",
      "145/145 [==============================] - 1s 5ms/step - loss: 1.0997 - accuracy: 0.3257 - val_loss: 1.0917 - val_accuracy: 0.3352\n",
      "Epoch 18/30\n",
      "145/145 [==============================] - 1s 5ms/step - loss: 1.0875 - accuracy: 0.3685 - val_loss: 1.0749 - val_accuracy: 0.4780\n",
      "Epoch 19/30\n",
      "145/145 [==============================] - 1s 5ms/step - loss: 1.0514 - accuracy: 0.4500 - val_loss: 1.0040 - val_accuracy: 0.5385\n",
      "Epoch 20/30\n",
      "145/145 [==============================] - 1s 5ms/step - loss: 0.8904 - accuracy: 0.5659 - val_loss: 0.8566 - val_accuracy: 0.5769\n",
      "Epoch 21/30\n",
      "145/145 [==============================] - 1s 5ms/step - loss: 0.7782 - accuracy: 0.6232 - val_loss: 0.8292 - val_accuracy: 0.6154\n",
      "Epoch 22/30\n",
      "145/145 [==============================] - 1s 5ms/step - loss: 0.7553 - accuracy: 0.6460 - val_loss: 0.7570 - val_accuracy: 0.6538\n",
      "Epoch 23/30\n",
      "145/145 [==============================] - 1s 5ms/step - loss: 0.7027 - accuracy: 0.6963 - val_loss: 0.7144 - val_accuracy: 0.6758\n",
      "Epoch 24/30\n",
      "145/145 [==============================] - 1s 5ms/step - loss: 0.6481 - accuracy: 0.7640 - val_loss: 0.6596 - val_accuracy: 0.7473\n",
      "Epoch 25/30\n",
      "145/145 [==============================] - 1s 5ms/step - loss: 0.5912 - accuracy: 0.7867 - val_loss: 0.6385 - val_accuracy: 0.7582\n",
      "Epoch 26/30\n",
      "145/145 [==============================] - 1s 5ms/step - loss: 0.5605 - accuracy: 0.8130 - val_loss: 0.6303 - val_accuracy: 0.7692\n",
      "Epoch 27/30\n",
      "145/145 [==============================] - 1s 5ms/step - loss: 0.5034 - accuracy: 0.8371 - val_loss: 0.6163 - val_accuracy: 0.7637\n",
      "Epoch 28/30\n",
      "145/145 [==============================] - 1s 5ms/step - loss: 0.4891 - accuracy: 0.8413 - val_loss: 0.6110 - val_accuracy: 0.7582\n",
      "Epoch 29/30\n",
      "145/145 [==============================] - 1s 5ms/step - loss: 0.4609 - accuracy: 0.8489 - val_loss: 0.6088 - val_accuracy: 0.7802\n",
      "Epoch 30/30\n",
      "145/145 [==============================] - 1s 5ms/step - loss: 0.4436 - accuracy: 0.8592 - val_loss: 0.6092 - val_accuracy: 0.7582\n",
      "LSTM_Model_2 Training process execution time: 23.14\n"
     ]
    },
    {
     "data": {
      "image/png": "[encoded data removed]",
      "text/plain": [
       "<Figure size 1200x600 with 1 Axes>"
      ]
     },
     "metadata": {},
     "output_type": "display_data"
    }
   ],
   "source": [
    "## This gets word embeddings from the words in the balanced dataset\n",
    "embeddings = dataset_manager['balanced'].get_embeddings(word2vec_model=word2vec_model)\n",
    "## this splits the dataset into test train validation data\n",
    "tvt_dict = dataset_manager['balanced'].train_val_test_split(embeddings)\n",
    "## init a model manager object that is capable of running models\n",
    "model_manager = ModelManager() \n",
    "## the model manager class is capable of taking in a configuration dictionary\n",
    "\n",
    "\n",
    "model_config_1 = {\n",
    "    'model_name': 'LSTM_Model_1',\n",
    "    'units': 32,\n",
    "    'dropout_rate': 0.2,\n",
    "    'return_sequences_config': False,\n",
    "    'dense_units': 3,\n",
    "    'activation': 'sigmoid',\n",
    "    'output_activation': 'softmax',\n",
    "    'optimizer': 'adam',\n",
    "    'loss': 'categorical_crossentropy',\n",
    "    'epochs': 30,\n",
    "    'batch_size': 32,\n",
    "}\n",
    "\n",
    "model_config_2 = {\n",
    "    'model_name': 'LSTM_Model_2',\n",
    "    'units': 32,\n",
    "    'dropout_rate': 0.2,\n",
    "    'return_sequences_config': False,\n",
    "    'dense_units': 3,\n",
    "    'activation': 'sigmoid',\n",
    "    'output_activation': 'softmax',\n",
    "    'optimizer': 'adam',\n",
    "    'loss': 'categorical_crossentropy',\n",
    "    'epochs': 30,\n",
    "    'batch_size': 10,\n",
    "    'metrics': ['accuracy'],\n",
    "}\n",
    "\n",
    "## The model manager can run configurations\n",
    "model_manager.run_model_config(tvt_dict, model_config_1)\n",
    "model_manager.run_model_config(tvt_dict, model_config_2)\n",
    "\n",
    "## It can also plot history of a given config model\n",
    "model_manager.plot_model_history('LSTM_Model_1')\n"
   ]
  },
  {
   "cell_type": "code",
   "execution_count": 24,
   "metadata": {},
   "outputs": [
    {
     "name": "stdout",
     "output_type": "stream",
     "text": [
      "6/6 [==============================] - 0s 6ms/step\n",
      "Accuracy Imbalanced data set for LSTM_Model_2: 0.78\n",
      "F1 Score Imbalanced data set for LSTM_Model_2: 0.78\n"
     ]
    }
   ],
   "source": [
    "## The model manager can be used to make a prediction\n",
    "y_pred_1 = model_manager.predict('LSTM_Model_2', tvt_dict['X_test'], return_class_indices=True)\n",
    "model_manager.print_performance_metrics('LSTM_Model_2', tvt_dict['y_test'], y_pred_1, dataset_type='Imbalanced')\n"
   ]
  },
  {
   "cell_type": "code",
   "execution_count": 25,
   "metadata": {},
   "outputs": [
    {
     "data": {
      "image/png": "[encoded data removed]",
      "text/plain": [
       "<Figure size 640x480 with 2 Axes>"
      ]
     },
     "metadata": {},
     "output_type": "display_data"
    }
   ],
   "source": [
    "#You can also plot the confusion matrix\n",
    "y_test_1_indices = tvt_dict['y_test'].argmax(axis=1)\n",
    "model_manager.plot_confusion_matrix('LSTM_Model_2', y_test_1_indices, y_pred_1, title='Imbalanced Dataset')\n"
   ]
  },
  {
   "cell_type": "code",
   "execution_count": null,
   "metadata": {},
   "outputs": [],
   "source": []
  },
  {
   "cell_type": "markdown",
   "metadata": {},
   "source": [
    "## Hugging face transfer learning"
   ]
  },
  {
   "cell_type": "code",
   "execution_count": 4,
   "metadata": {},
   "outputs": [
    {
     "name": "stderr",
     "output_type": "stream",
     "text": [
      "c:\\Users\\Rober\\Anaconda3\\Lib\\site-packages\\transformers\\utils\\generic.py:260: UserWarning: torch.utils._pytree._register_pytree_node is deprecated. Please use torch.utils._pytree.register_pytree_node instead.\n",
      "  torch.utils._pytree._register_pytree_node(\n",
      "WARNING:datasets.builder:Found cached dataset csv (C:/Users/Rober/.cache/huggingface/datasets/csv/default-946bef0335356cf8/0.0.0/6954658bab30a358235fa864b05cf819af0e179325c740e4bc853bcc7ec513e1)\n"
     ]
    },
    {
     "data": {
      "application/vnd.jupyter.widget-view+json": {
       "model_id": "bbabc484120a495da0b6d3611988fe81",
       "version_major": 2,
       "version_minor": 0
      },
      "text/plain": [
       "  0%|          | 0/1 [00:00<?, ?it/s]"
      ]
     },
     "metadata": {},
     "output_type": "display_data"
    },
    {
     "name": "stderr",
     "output_type": "stream",
     "text": [
      "WARNING:datasets.builder:Found cached dataset csv (C:/Users/Rober/.cache/huggingface/datasets/csv/default-8dd87a4684db96a2/0.0.0/6954658bab30a358235fa864b05cf819af0e179325c740e4bc853bcc7ec513e1)\n"
     ]
    },
    {
     "data": {
      "application/vnd.jupyter.widget-view+json": {
       "model_id": "998aedf2eb13435496e32308350fcc17",
       "version_major": 2,
       "version_minor": 0
      },
      "text/plain": [
       "  0%|          | 0/1 [00:00<?, ?it/s]"
      ]
     },
     "metadata": {},
     "output_type": "display_data"
    },
    {
     "name": "stderr",
     "output_type": "stream",
     "text": [
      "WARNING:datasets.arrow_dataset:Loading cached split indices for dataset at C:\\Users\\Rober\\.cache\\huggingface\\datasets\\csv\\default-946bef0335356cf8\\0.0.0\\6954658bab30a358235fa864b05cf819af0e179325c740e4bc853bcc7ec513e1\\cache-481c27052e0faaeb.arrow and C:\\Users\\Rober\\.cache\\huggingface\\datasets\\csv\\default-946bef0335356cf8\\0.0.0\\6954658bab30a358235fa864b05cf819af0e179325c740e4bc853bcc7ec513e1\\cache-6a639d94171062fc.arrow\n",
      "WARNING:datasets.arrow_dataset:Loading cached split indices for dataset at C:\\Users\\Rober\\.cache\\huggingface\\datasets\\csv\\default-946bef0335356cf8\\0.0.0\\6954658bab30a358235fa864b05cf819af0e179325c740e4bc853bcc7ec513e1\\cache-637db054929b91d3.arrow and C:\\Users\\Rober\\.cache\\huggingface\\datasets\\csv\\default-946bef0335356cf8\\0.0.0\\6954658bab30a358235fa864b05cf819af0e179325c740e4bc853bcc7ec513e1\\cache-2cafbecec5e7c2ae.arrow\n"
     ]
    },
    {
     "name": "stdout",
     "output_type": "stream",
     "text": [
      "init\n"
     ]
    }
   ],
   "source": [
    "from src.HFManager import HFManager\n",
    "from src.DatasetProcesser import HFprocesser\n",
    "\n",
    "# create datasets to be used with hugging face\n",
    "dataset_manager.create_dataset('unbalanced_dataset', 'data/financial_news_1.csv')\n",
    "dataset_manager.create_dataset('balanced_dataset', 'data/financial_news_2.csv')\n",
    "\n",
    "## Load the dataset which is a hugging face\n",
    "HFproc = HFprocesser(dataset_manager.get_dataset('unbalanced_dataset'))\n",
    "## Create train val train dict using hugging faces built in dataset\\\n",
    "hf_tvt_dict = HFproc.create_train_test_val_splits()\n",
    "#\n",
    "\n",
    "\n",
    "\n"
   ]
  },
  {
   "cell_type": "code",
   "execution_count": 38,
   "metadata": {},
   "outputs": [
    {
     "data": {
      "text/plain": [
       "DatasetDict({\n",
       "    train: Dataset({\n",
       "        features: ['label', 'news'],\n",
       "        num_rows: 3876\n",
       "    })\n",
       "    test: Dataset({\n",
       "        features: ['label', 'news'],\n",
       "        num_rows: 582\n",
       "    })\n",
       "    valid: Dataset({\n",
       "        features: ['label', 'news'],\n",
       "        num_rows: 388\n",
       "    })\n",
       "})"
      ]
     },
     "execution_count": 38,
     "metadata": {},
     "output_type": "execute_result"
    }
   ],
   "source": [
    "hf_tvt_dict"
   ]
  },
  {
   "cell_type": "code",
   "execution_count": 12,
   "metadata": {},
   "outputs": [
    {
     "name": "stderr",
     "output_type": "stream",
     "text": [
      "WARNING:datasets.arrow_dataset:Loading cached processed dataset at C:\\Users\\Rober\\.cache\\huggingface\\datasets\\csv\\default-946bef0335356cf8\\0.0.0\\6954658bab30a358235fa864b05cf819af0e179325c740e4bc853bcc7ec513e1\\cache-421eac5c8c94661b.arrow\n",
      "WARNING:datasets.arrow_dataset:Loading cached processed dataset at C:\\Users\\Rober\\.cache\\huggingface\\datasets\\csv\\default-946bef0335356cf8\\0.0.0\\6954658bab30a358235fa864b05cf819af0e179325c740e4bc853bcc7ec513e1\\cache-64933eb8d8474bed.arrow\n",
      "WARNING:datasets.arrow_dataset:Loading cached processed dataset at C:\\Users\\Rober\\.cache\\huggingface\\datasets\\csv\\default-946bef0335356cf8\\0.0.0\\6954658bab30a358235fa864b05cf819af0e179325c740e4bc853bcc7ec513e1\\cache-709f1dce5dafc1f4.arrow\n"
     ]
    },
    {
     "name": "stdout",
     "output_type": "stream",
     "text": [
      "DatasetDict({\n",
      "    train: Dataset({\n",
      "        features: ['label', 'news', 'input_ids', 'attention_mask'],\n",
      "        num_rows: 3876\n",
      "    })\n",
      "    test: Dataset({\n",
      "        features: ['label', 'news', 'input_ids', 'attention_mask'],\n",
      "        num_rows: 582\n",
      "    })\n",
      "    valid: Dataset({\n",
      "        features: ['label', 'news', 'input_ids', 'attention_mask'],\n",
      "        num_rows: 388\n",
      "    })\n",
      "})\n"
     ]
    },
    {
     "data": {
      "text/plain": [
       "DatasetDict({\n",
       "    train: Dataset({\n",
       "        features: ['label', 'news', 'input_ids', 'attention_mask'],\n",
       "        num_rows: 3876\n",
       "    })\n",
       "    test: Dataset({\n",
       "        features: ['label', 'news', 'input_ids', 'attention_mask'],\n",
       "        num_rows: 582\n",
       "    })\n",
       "    valid: Dataset({\n",
       "        features: ['label', 'news', 'input_ids', 'attention_mask'],\n",
       "        num_rows: 388\n",
       "    })\n",
       "})"
      ]
     },
     "execution_count": 12,
     "metadata": {},
     "output_type": "execute_result"
    }
   ],
   "source": [
    "## tokenize the data\n",
    "HFproc.tokenize_text_data() # stores tokenized test data in class attribute\n",
    "\n"
   ]
  },
  {
   "cell_type": "code",
   "execution_count": 8,
   "metadata": {},
   "outputs": [
    {
     "name": "stderr",
     "output_type": "stream",
     "text": [
      "Some weights of DistilBertForSequenceClassification were not initialized from the model checkpoint at distilbert/distilbert-base-uncased and are newly initialized: ['classifier.bias', 'pre_classifier.weight', 'classifier.weight', 'pre_classifier.bias']\n",
      "You should probably TRAIN this model on a down-stream task to be able to use it for predictions and inference.\n"
     ]
    }
   ],
   "source": [
    "## Init the hugging face mananger whice also downloads the model\n",
    "huggingface_manager = HFManager(\"distilbert/distilbert-base-uncased\")\n",
    "## add a model\n",
    "huggingface_manager.add_model('main')"
   ]
  },
  {
   "cell_type": "code",
   "execution_count": 9,
   "metadata": {},
   "outputs": [
    {
     "name": "stdout",
     "output_type": "stream",
     "text": [
      "distilbert.embeddings.word_embeddings.weight True\n",
      "distilbert.embeddings.position_embeddings.weight True\n",
      "distilbert.embeddings.LayerNorm.weight True\n",
      "distilbert.embeddings.LayerNorm.bias True\n",
      "distilbert.transformer.layer.0.attention.q_lin.weight True\n",
      "distilbert.transformer.layer.0.attention.q_lin.bias True\n",
      "distilbert.transformer.layer.0.attention.k_lin.weight True\n",
      "distilbert.transformer.layer.0.attention.k_lin.bias True\n",
      "distilbert.transformer.layer.0.attention.v_lin.weight True\n",
      "distilbert.transformer.layer.0.attention.v_lin.bias True\n",
      "distilbert.transformer.layer.0.attention.out_lin.weight True\n",
      "distilbert.transformer.layer.0.attention.out_lin.bias True\n",
      "distilbert.transformer.layer.0.sa_layer_norm.weight True\n",
      "distilbert.transformer.layer.0.sa_layer_norm.bias True\n",
      "distilbert.transformer.layer.0.ffn.lin1.weight True\n",
      "distilbert.transformer.layer.0.ffn.lin1.bias True\n",
      "distilbert.transformer.layer.0.ffn.lin2.weight True\n",
      "distilbert.transformer.layer.0.ffn.lin2.bias True\n",
      "distilbert.transformer.layer.0.output_layer_norm.weight True\n",
      "distilbert.transformer.layer.0.output_layer_norm.bias True\n",
      "distilbert.transformer.layer.1.attention.q_lin.weight True\n",
      "distilbert.transformer.layer.1.attention.q_lin.bias True\n",
      "distilbert.transformer.layer.1.attention.k_lin.weight True\n",
      "distilbert.transformer.layer.1.attention.k_lin.bias True\n",
      "distilbert.transformer.layer.1.attention.v_lin.weight True\n",
      "distilbert.transformer.layer.1.attention.v_lin.bias True\n",
      "distilbert.transformer.layer.1.attention.out_lin.weight True\n",
      "distilbert.transformer.layer.1.attention.out_lin.bias True\n",
      "distilbert.transformer.layer.1.sa_layer_norm.weight True\n",
      "distilbert.transformer.layer.1.sa_layer_norm.bias True\n",
      "distilbert.transformer.layer.1.ffn.lin1.weight True\n",
      "distilbert.transformer.layer.1.ffn.lin1.bias True\n",
      "distilbert.transformer.layer.1.ffn.lin2.weight True\n",
      "distilbert.transformer.layer.1.ffn.lin2.bias True\n",
      "distilbert.transformer.layer.1.output_layer_norm.weight True\n",
      "distilbert.transformer.layer.1.output_layer_norm.bias True\n",
      "distilbert.transformer.layer.2.attention.q_lin.weight True\n",
      "distilbert.transformer.layer.2.attention.q_lin.bias True\n",
      "distilbert.transformer.layer.2.attention.k_lin.weight True\n",
      "distilbert.transformer.layer.2.attention.k_lin.bias True\n",
      "distilbert.transformer.layer.2.attention.v_lin.weight True\n",
      "distilbert.transformer.layer.2.attention.v_lin.bias True\n",
      "distilbert.transformer.layer.2.attention.out_lin.weight True\n",
      "distilbert.transformer.layer.2.attention.out_lin.bias True\n",
      "distilbert.transformer.layer.2.sa_layer_norm.weight True\n",
      "distilbert.transformer.layer.2.sa_layer_norm.bias True\n",
      "distilbert.transformer.layer.2.ffn.lin1.weight True\n",
      "distilbert.transformer.layer.2.ffn.lin1.bias True\n",
      "distilbert.transformer.layer.2.ffn.lin2.weight True\n",
      "distilbert.transformer.layer.2.ffn.lin2.bias True\n",
      "distilbert.transformer.layer.2.output_layer_norm.weight True\n",
      "distilbert.transformer.layer.2.output_layer_norm.bias True\n",
      "distilbert.transformer.layer.3.attention.q_lin.weight True\n",
      "distilbert.transformer.layer.3.attention.q_lin.bias True\n",
      "distilbert.transformer.layer.3.attention.k_lin.weight True\n",
      "distilbert.transformer.layer.3.attention.k_lin.bias True\n",
      "distilbert.transformer.layer.3.attention.v_lin.weight True\n",
      "distilbert.transformer.layer.3.attention.v_lin.bias True\n",
      "distilbert.transformer.layer.3.attention.out_lin.weight True\n",
      "distilbert.transformer.layer.3.attention.out_lin.bias True\n",
      "distilbert.transformer.layer.3.sa_layer_norm.weight True\n",
      "distilbert.transformer.layer.3.sa_layer_norm.bias True\n",
      "distilbert.transformer.layer.3.ffn.lin1.weight True\n",
      "distilbert.transformer.layer.3.ffn.lin1.bias True\n",
      "distilbert.transformer.layer.3.ffn.lin2.weight True\n",
      "distilbert.transformer.layer.3.ffn.lin2.bias True\n",
      "distilbert.transformer.layer.3.output_layer_norm.weight True\n",
      "distilbert.transformer.layer.3.output_layer_norm.bias True\n",
      "distilbert.transformer.layer.4.attention.q_lin.weight True\n",
      "distilbert.transformer.layer.4.attention.q_lin.bias True\n",
      "distilbert.transformer.layer.4.attention.k_lin.weight True\n",
      "distilbert.transformer.layer.4.attention.k_lin.bias True\n",
      "distilbert.transformer.layer.4.attention.v_lin.weight True\n",
      "distilbert.transformer.layer.4.attention.v_lin.bias True\n",
      "distilbert.transformer.layer.4.attention.out_lin.weight True\n",
      "distilbert.transformer.layer.4.attention.out_lin.bias True\n",
      "distilbert.transformer.layer.4.sa_layer_norm.weight True\n",
      "distilbert.transformer.layer.4.sa_layer_norm.bias True\n",
      "distilbert.transformer.layer.4.ffn.lin1.weight True\n",
      "distilbert.transformer.layer.4.ffn.lin1.bias True\n",
      "distilbert.transformer.layer.4.ffn.lin2.weight True\n",
      "distilbert.transformer.layer.4.ffn.lin2.bias True\n",
      "distilbert.transformer.layer.4.output_layer_norm.weight True\n",
      "distilbert.transformer.layer.4.output_layer_norm.bias True\n",
      "distilbert.transformer.layer.5.attention.q_lin.weight True\n",
      "distilbert.transformer.layer.5.attention.q_lin.bias True\n",
      "distilbert.transformer.layer.5.attention.k_lin.weight True\n",
      "distilbert.transformer.layer.5.attention.k_lin.bias True\n",
      "distilbert.transformer.layer.5.attention.v_lin.weight True\n",
      "distilbert.transformer.layer.5.attention.v_lin.bias True\n",
      "distilbert.transformer.layer.5.attention.out_lin.weight True\n",
      "distilbert.transformer.layer.5.attention.out_lin.bias True\n",
      "distilbert.transformer.layer.5.sa_layer_norm.weight True\n",
      "distilbert.transformer.layer.5.sa_layer_norm.bias True\n",
      "distilbert.transformer.layer.5.ffn.lin1.weight True\n",
      "distilbert.transformer.layer.5.ffn.lin1.bias True\n",
      "distilbert.transformer.layer.5.ffn.lin2.weight True\n",
      "distilbert.transformer.layer.5.ffn.lin2.bias True\n",
      "distilbert.transformer.layer.5.output_layer_norm.weight True\n",
      "distilbert.transformer.layer.5.output_layer_norm.bias True\n",
      "pre_classifier.weight True\n",
      "pre_classifier.bias True\n",
      "classifier.weight True\n",
      "classifier.bias True\n"
     ]
    }
   ],
   "source": [
    "## Get trainable layers\n",
    "huggingface_manager.get_trainable_layers('main')\n"
   ]
  },
  {
   "cell_type": "code",
   "execution_count": 17,
   "metadata": {},
   "outputs": [
    {
     "data": {
      "application/vnd.jupyter.widget-view+json": {
       "model_id": "78efb589de24487d93d0d7b13dbc9a6b",
       "version_major": 2,
       "version_minor": 0
      },
      "text/plain": [
       "  0%|          | 0/1455 [00:00<?, ?it/s]"
      ]
     },
     "metadata": {},
     "output_type": "display_data"
    },
    {
     "name": "stderr",
     "output_type": "stream",
     "text": [
      "You're using a DistilBertTokenizerFast tokenizer. Please note that with a fast tokenizer, using the `__call__` method is faster than using a method to encode the text followed by a call to the `pad` method to get a padded encoding.\n"
     ]
    },
    {
     "name": "stdout",
     "output_type": "stream",
     "text": [
      "{'loss': 0.5199, 'learning_rate': 3.2817869415807564e-05, 'epoch': 1.03}\n"
     ]
    }
   ],
   "source": [
    "## Add a trainer user the manager\n",
    "huggingface_manager.add_trainer('main',HFproc)\n",
    "## Train \n",
    "huggingface_manager.trainers['main'].train()"
   ]
  }
 ],
 "metadata": {
  "kernelspec": {
   "display_name": "base",
   "language": "python",
   "name": "python3"
  },
  "language_info": {
   "codemirror_mode": {
    "name": "ipython",
    "version": 3
   },
   "file_extension": ".py",
   "mimetype": "text/x-python",
   "name": "python",
   "nbconvert_exporter": "python",
   "pygments_lexer": "ipython3",
   "version": "3.11.4"
  }
 },
 "nbformat": 4,
 "nbformat_minor": 2
}
