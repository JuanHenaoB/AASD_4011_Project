{
 "cells": [
  {
   "cell_type": "code",
   "execution_count": 60,
   "metadata": {},
   "outputs": [
    {
     "name": "stdout",
     "output_type": "stream",
     "text": [
      "The autoreload extension is already loaded. To reload it, use:\n",
      "  %reload_ext autoreload\n"
     ]
    }
   ],
   "source": [
    "%load_ext autoreload\n",
    "%autoreload 2\n"
   ]
  },
  {
   "cell_type": "code",
   "execution_count": 61,
   "metadata": {},
   "outputs": [
    {
     "name": "stderr",
     "output_type": "stream",
     "text": [
      "WARNING:datasets.builder:Found cached dataset csv (C:/Users/Rober/.cache/huggingface/datasets/csv/default-946bef0335356cf8/0.0.0/6954658bab30a358235fa864b05cf819af0e179325c740e4bc853bcc7ec513e1)\n"
     ]
    },
    {
     "data": {
      "application/vnd.jupyter.widget-view+json": {
       "model_id": "681ec21bab6745f79a419e86872ec12a",
       "version_major": 2,
       "version_minor": 0
      },
      "text/plain": [
       "  0%|          | 0/1 [00:00<?, ?it/s]"
      ]
     },
     "metadata": {},
     "output_type": "display_data"
    },
    {
     "name": "stderr",
     "output_type": "stream",
     "text": [
      "WARNING:datasets.builder:Found cached dataset csv (C:/Users/Rober/.cache/huggingface/datasets/csv/default-8dd87a4684db96a2/0.0.0/6954658bab30a358235fa864b05cf819af0e179325c740e4bc853bcc7ec513e1)\n"
     ]
    },
    {
     "data": {
      "application/vnd.jupyter.widget-view+json": {
       "model_id": "e4e7d958662047519c1041fec6a3cd6d",
       "version_major": 2,
       "version_minor": 0
      },
      "text/plain": [
       "  0%|          | 0/1 [00:00<?, ?it/s]"
      ]
     },
     "metadata": {},
     "output_type": "display_data"
    }
   ],
   "source": [
    "#Import dataset\n",
    "import pandas as pd\n",
    "import numpy as np\n",
    "import matplotlib.pyplot as plt\n",
    "from DatasetManager import DatasetManager\n",
    "from datasets import Dataset\n",
    "dataset_manager = DatasetManager()\n",
    "dataset_manager.load_dataframe('main','../all-data.csv')\n",
    "dataset_manager.create_dataset('unbalanced_dataset', '../data/financial_news_1.csv')\n",
    "dataset_manager.create_dataset('balanced_dataset', '../data/financial_news_2.csv')\n"
   ]
  },
  {
   "cell_type": "code",
   "execution_count": 62,
   "metadata": {},
   "outputs": [],
   "source": [
    "dataset_manager = DatasetManager()\n",
    "dataset_manager.load_dataframe('main','../all-data.csv')\n"
   ]
  },
  {
   "cell_type": "code",
   "execution_count": 63,
   "metadata": {},
   "outputs": [],
   "source": [
    "from gensim.models import KeyedVectors\n",
    "data_path = '../data/GoogleNews-vectors-negative300.bin'\n",
    "\n",
    "word2vec_model = KeyedVectors.load_word2vec_format(data_path, binary=True)\n"
   ]
  },
  {
   "cell_type": "code",
   "execution_count": 50,
   "metadata": {},
   "outputs": [],
   "source": [
    "dataset01.save_dataset('fn01.csv')"
   ]
  },
  {
   "cell_type": "code",
   "execution_count": 64,
   "metadata": {},
   "outputs": [],
   "source": [
    "\n",
    "dataset_manager.load_dataframe('unbalanced','../data/financial_news_1.csv')\n",
    "dataset_manager.load_dataframe('balanced','../data/financial_news_2.csv')\n",
    "\n"
   ]
  },
  {
   "cell_type": "code",
   "execution_count": 65,
   "metadata": {},
   "outputs": [
    {
     "name": "stderr",
     "output_type": "stream",
     "text": [
      "WARNING:datasets.builder:Found cached dataset csv (C:/Users/Rober/.cache/huggingface/datasets/csv/default-946bef0335356cf8/0.0.0/6954658bab30a358235fa864b05cf819af0e179325c740e4bc853bcc7ec513e1)\n"
     ]
    },
    {
     "data": {
      "application/vnd.jupyter.widget-view+json": {
       "model_id": "afb7f934350843adb025365aaca85c7c",
       "version_major": 2,
       "version_minor": 0
      },
      "text/plain": [
       "  0%|          | 0/1 [00:00<?, ?it/s]"
      ]
     },
     "metadata": {},
     "output_type": "display_data"
    },
    {
     "name": "stderr",
     "output_type": "stream",
     "text": [
      "WARNING:datasets.builder:Found cached dataset csv (C:/Users/Rober/.cache/huggingface/datasets/csv/default-8dd87a4684db96a2/0.0.0/6954658bab30a358235fa864b05cf819af0e179325c740e4bc853bcc7ec513e1)\n"
     ]
    },
    {
     "data": {
      "application/vnd.jupyter.widget-view+json": {
       "model_id": "c73888288b104d13b115efddeab17de6",
       "version_major": 2,
       "version_minor": 0
      },
      "text/plain": [
       "  0%|          | 0/1 [00:00<?, ?it/s]"
      ]
     },
     "metadata": {},
     "output_type": "display_data"
    }
   ],
   "source": [
    "dataset_manager.create_dataset('unbalanced_dataset', '../data/financial_news_1.csv')\n",
    "dataset_manager.create_dataset('balanced_dataset', '../data/financial_news_2.csv')\n",
    "\n"
   ]
  },
  {
   "cell_type": "code",
   "execution_count": 66,
   "metadata": {},
   "outputs": [],
   "source": [
    "emb = dataset_manager['balanced'].get_embeddings(word2vec_model=word2vec_model)\n",
    "split_dict = dataset_manager['balanced'].train_val_test_split(emb)\n"
   ]
  },
  {
   "cell_type": "code",
   "execution_count": 67,
   "metadata": {},
   "outputs": [],
   "source": [
    "from ModelManager import ModelManager\n",
    "model_manager = ModelManager() "
   ]
  },
  {
   "cell_type": "code",
   "execution_count": 68,
   "metadata": {},
   "outputs": [
    {
     "name": "stdout",
     "output_type": "stream",
     "text": [
      "Epoch 1/30\n",
      "46/46 [==============================] - 1s 14ms/step - loss: 1.1299 - accuracy: 0.3409 - val_loss: 1.0981 - val_accuracy: 0.3352\n",
      "Epoch 2/30\n",
      "46/46 [==============================] - 0s 11ms/step - loss: 1.1126 - accuracy: 0.3520 - val_loss: 1.0989 - val_accuracy: 0.3022\n",
      "Epoch 3/30\n",
      "46/46 [==============================] - 0s 11ms/step - loss: 1.1097 - accuracy: 0.3499 - val_loss: 1.0990 - val_accuracy: 0.3022\n",
      "Epoch 4/30\n",
      "46/46 [==============================] - 0s 11ms/step - loss: 1.1123 - accuracy: 0.3368 - val_loss: 1.1013 - val_accuracy: 0.3022\n",
      "Epoch 5/30\n",
      "46/46 [==============================] - 0s 11ms/step - loss: 1.1099 - accuracy: 0.3230 - val_loss: 1.0991 - val_accuracy: 0.3022\n",
      "Epoch 6/30\n",
      "46/46 [==============================] - 1s 11ms/step - loss: 1.1138 - accuracy: 0.3375 - val_loss: 1.0987 - val_accuracy: 0.3352\n",
      "Epoch 7/30\n",
      "46/46 [==============================] - 0s 11ms/step - loss: 1.1020 - accuracy: 0.3409 - val_loss: 1.0994 - val_accuracy: 0.3352\n",
      "Epoch 8/30\n",
      "46/46 [==============================] - 0s 11ms/step - loss: 1.1105 - accuracy: 0.3313 - val_loss: 1.0989 - val_accuracy: 0.3352\n",
      "Epoch 9/30\n",
      "46/46 [==============================] - 0s 11ms/step - loss: 1.1086 - accuracy: 0.3382 - val_loss: 1.0984 - val_accuracy: 0.3352\n",
      "Epoch 10/30\n",
      "46/46 [==============================] - 0s 11ms/step - loss: 1.1056 - accuracy: 0.3389 - val_loss: 1.0973 - val_accuracy: 0.3626\n",
      "Epoch 11/30\n",
      "46/46 [==============================] - 1s 11ms/step - loss: 1.1107 - accuracy: 0.3209 - val_loss: 1.0968 - val_accuracy: 0.3626\n",
      "Epoch 12/30\n",
      "46/46 [==============================] - 0s 11ms/step - loss: 1.1084 - accuracy: 0.3423 - val_loss: 1.0973 - val_accuracy: 0.3352\n",
      "Epoch 13/30\n",
      "46/46 [==============================] - 1s 11ms/step - loss: 1.1039 - accuracy: 0.3257 - val_loss: 1.0984 - val_accuracy: 0.3352\n",
      "Epoch 14/30\n",
      "46/46 [==============================] - 0s 11ms/step - loss: 1.1022 - accuracy: 0.3409 - val_loss: 1.0982 - val_accuracy: 0.3352\n",
      "Epoch 15/30\n",
      "46/46 [==============================] - 1s 11ms/step - loss: 1.1057 - accuracy: 0.3347 - val_loss: 1.0989 - val_accuracy: 0.3352\n",
      "Epoch 16/30\n",
      "46/46 [==============================] - 1s 11ms/step - loss: 1.1095 - accuracy: 0.3147 - val_loss: 1.0984 - val_accuracy: 0.3352\n",
      "Epoch 17/30\n",
      "46/46 [==============================] - 1s 11ms/step - loss: 1.1030 - accuracy: 0.3382 - val_loss: 1.0989 - val_accuracy: 0.3352\n",
      "Epoch 18/30\n",
      "46/46 [==============================] - 1s 11ms/step - loss: 1.1076 - accuracy: 0.3271 - val_loss: 1.0980 - val_accuracy: 0.3352\n",
      "Epoch 19/30\n",
      "46/46 [==============================] - 1s 11ms/step - loss: 1.1109 - accuracy: 0.3023 - val_loss: 1.1012 - val_accuracy: 0.3352\n",
      "Epoch 20/30\n",
      "46/46 [==============================] - 1s 11ms/step - loss: 1.1020 - accuracy: 0.3485 - val_loss: 1.0980 - val_accuracy: 0.3352\n",
      "Epoch 21/30\n",
      "46/46 [==============================] - 0s 11ms/step - loss: 1.1038 - accuracy: 0.3278 - val_loss: 1.0980 - val_accuracy: 0.3352\n",
      "Epoch 22/30\n",
      "46/46 [==============================] - 1s 11ms/step - loss: 1.1030 - accuracy: 0.3154 - val_loss: 1.0982 - val_accuracy: 0.3352\n",
      "Epoch 23/30\n",
      "46/46 [==============================] - 1s 11ms/step - loss: 1.1031 - accuracy: 0.3313 - val_loss: 1.0982 - val_accuracy: 0.3352\n",
      "Epoch 24/30\n",
      "46/46 [==============================] - 1s 11ms/step - loss: 1.1034 - accuracy: 0.3361 - val_loss: 1.0990 - val_accuracy: 0.3352\n",
      "Epoch 25/30\n",
      "46/46 [==============================] - 1s 11ms/step - loss: 1.1016 - accuracy: 0.3389 - val_loss: 1.0982 - val_accuracy: 0.3352\n",
      "Epoch 26/30\n",
      "46/46 [==============================] - 1s 11ms/step - loss: 1.0981 - accuracy: 0.3589 - val_loss: 1.0984 - val_accuracy: 0.3681\n",
      "Epoch 27/30\n",
      "46/46 [==============================] - 1s 11ms/step - loss: 1.0995 - accuracy: 0.3340 - val_loss: 1.0996 - val_accuracy: 0.3352\n",
      "Epoch 28/30\n",
      "46/46 [==============================] - 1s 11ms/step - loss: 1.0990 - accuracy: 0.3437 - val_loss: 1.0992 - val_accuracy: 0.3407\n",
      "Epoch 29/30\n",
      "46/46 [==============================] - 1s 11ms/step - loss: 1.1034 - accuracy: 0.3292 - val_loss: 1.0988 - val_accuracy: 0.3352\n",
      "Epoch 30/30\n",
      "46/46 [==============================] - 0s 11ms/step - loss: 1.1040 - accuracy: 0.3223 - val_loss: 1.0959 - val_accuracy: 0.3626\n",
      "LSTM_Model_1 Training process execution time: 16.22\n",
      "Epoch 1/30\n",
      "145/145 [==============================] - 2s 6ms/step - loss: 1.1239 - accuracy: 0.3285 - val_loss: 1.0965 - val_accuracy: 0.3352\n",
      "Epoch 2/30\n",
      "145/145 [==============================] - 1s 5ms/step - loss: 1.1198 - accuracy: 0.3092 - val_loss: 1.1004 - val_accuracy: 0.3022\n",
      "Epoch 3/30\n",
      "145/145 [==============================] - 1s 5ms/step - loss: 1.1070 - accuracy: 0.3506 - val_loss: 1.0994 - val_accuracy: 0.3626\n",
      "Epoch 4/30\n",
      "145/145 [==============================] - 1s 5ms/step - loss: 1.1107 - accuracy: 0.3320 - val_loss: 1.1006 - val_accuracy: 0.3022\n",
      "Epoch 5/30\n",
      "145/145 [==============================] - 1s 5ms/step - loss: 1.1077 - accuracy: 0.3244 - val_loss: 1.1023 - val_accuracy: 0.3022\n",
      "Epoch 6/30\n",
      "145/145 [==============================] - 1s 5ms/step - loss: 1.1048 - accuracy: 0.3306 - val_loss: 1.1009 - val_accuracy: 0.3352\n",
      "Epoch 7/30\n",
      "145/145 [==============================] - 1s 5ms/step - loss: 1.1061 - accuracy: 0.3271 - val_loss: 1.0991 - val_accuracy: 0.3352\n",
      "Epoch 8/30\n",
      "145/145 [==============================] - 1s 5ms/step - loss: 1.1070 - accuracy: 0.3271 - val_loss: 1.1053 - val_accuracy: 0.3352\n",
      "Epoch 9/30\n",
      "145/145 [==============================] - 1s 5ms/step - loss: 1.1032 - accuracy: 0.3416 - val_loss: 1.0983 - val_accuracy: 0.3352\n",
      "Epoch 10/30\n",
      "145/145 [==============================] - 1s 5ms/step - loss: 1.0983 - accuracy: 0.3506 - val_loss: 1.0953 - val_accuracy: 0.3626\n",
      "Epoch 11/30\n",
      "145/145 [==============================] - 1s 5ms/step - loss: 1.1014 - accuracy: 0.3458 - val_loss: 1.0886 - val_accuracy: 0.3626\n",
      "Epoch 12/30\n",
      "145/145 [==============================] - 1s 5ms/step - loss: 1.0969 - accuracy: 0.3375 - val_loss: 1.0802 - val_accuracy: 0.3681\n",
      "Epoch 13/30\n",
      "145/145 [==============================] - 1s 5ms/step - loss: 1.0743 - accuracy: 0.3899 - val_loss: 1.0586 - val_accuracy: 0.4890\n",
      "Epoch 14/30\n",
      "145/145 [==============================] - 1s 5ms/step - loss: 1.0406 - accuracy: 0.4693 - val_loss: 1.0139 - val_accuracy: 0.5000\n",
      "Epoch 15/30\n",
      "145/145 [==============================] - 1s 5ms/step - loss: 0.9612 - accuracy: 0.5355 - val_loss: 0.9333 - val_accuracy: 0.5330\n",
      "Epoch 16/30\n",
      "145/145 [==============================] - 1s 5ms/step - loss: 0.8796 - accuracy: 0.5418 - val_loss: 0.8546 - val_accuracy: 0.5604\n",
      "Epoch 17/30\n",
      "145/145 [==============================] - 1s 5ms/step - loss: 0.8144 - accuracy: 0.5756 - val_loss: 0.8352 - val_accuracy: 0.5824\n",
      "Epoch 18/30\n",
      "145/145 [==============================] - 1s 5ms/step - loss: 0.7753 - accuracy: 0.6149 - val_loss: 0.7902 - val_accuracy: 0.6044\n",
      "Epoch 19/30\n",
      "145/145 [==============================] - 1s 5ms/step - loss: 0.7493 - accuracy: 0.6190 - val_loss: 0.7776 - val_accuracy: 0.6374\n",
      "Epoch 20/30\n",
      "145/145 [==============================] - 1s 5ms/step - loss: 0.7395 - accuracy: 0.6308 - val_loss: 0.7642 - val_accuracy: 0.6593\n",
      "Epoch 21/30\n",
      "145/145 [==============================] - 1s 5ms/step - loss: 0.6961 - accuracy: 0.6591 - val_loss: 0.7505 - val_accuracy: 0.6593\n",
      "Epoch 22/30\n",
      "145/145 [==============================] - 1s 5ms/step - loss: 0.6932 - accuracy: 0.6784 - val_loss: 0.7441 - val_accuracy: 0.6648\n",
      "Epoch 23/30\n",
      "145/145 [==============================] - 1s 5ms/step - loss: 0.6435 - accuracy: 0.7046 - val_loss: 0.7419 - val_accuracy: 0.6758\n",
      "Epoch 24/30\n",
      "145/145 [==============================] - 1s 5ms/step - loss: 0.6215 - accuracy: 0.7378 - val_loss: 0.7136 - val_accuracy: 0.6703\n",
      "Epoch 25/30\n",
      "145/145 [==============================] - 1s 5ms/step - loss: 0.6036 - accuracy: 0.7433 - val_loss: 0.6758 - val_accuracy: 0.7308\n",
      "Epoch 26/30\n",
      "145/145 [==============================] - 1s 5ms/step - loss: 0.5473 - accuracy: 0.7978 - val_loss: 0.6511 - val_accuracy: 0.7527\n",
      "Epoch 27/30\n",
      "145/145 [==============================] - 1s 5ms/step - loss: 0.5047 - accuracy: 0.8123 - val_loss: 0.6569 - val_accuracy: 0.7857\n",
      "Epoch 28/30\n",
      "145/145 [==============================] - 1s 5ms/step - loss: 0.4649 - accuracy: 0.8371 - val_loss: 0.6151 - val_accuracy: 0.7747\n",
      "Epoch 29/30\n",
      "145/145 [==============================] - 1s 5ms/step - loss: 0.4186 - accuracy: 0.8647 - val_loss: 0.5862 - val_accuracy: 0.7802\n",
      "Epoch 30/30\n",
      "145/145 [==============================] - 1s 5ms/step - loss: 0.3926 - accuracy: 0.8778 - val_loss: 0.6292 - val_accuracy: 0.7473\n",
      "LSTM_Model_2 Training process execution time: 23.39\n"
     ]
    }
   ],
   "source": [
    "model_config_1 = {\n",
    "    'model_name': 'LSTM_Model_1',\n",
    "    'units': 32,\n",
    "    'dropout_rate': 0.2,\n",
    "    'return_sequences_config': False,\n",
    "    'dense_units': 3,\n",
    "    'activation': 'sigmoid',\n",
    "    'output_activation': 'softmax',\n",
    "    'optimizer': 'adam',\n",
    "    'loss': 'categorical_crossentropy',\n",
    "    'epochs': 30,\n",
    "    'batch_size': 32,\n",
    "}\n",
    "\n",
    "model_config_2 = {\n",
    "    'model_name': 'LSTM_Model_2',\n",
    "    'units': 32,\n",
    "    'dropout_rate': 0.2,\n",
    "    'return_sequences_config': False,\n",
    "    'dense_units': 3,\n",
    "    'activation': 'sigmoid',\n",
    "    'output_activation': 'softmax',\n",
    "    'optimizer': 'adam',\n",
    "    'loss': 'categorical_crossentropy',\n",
    "    'epochs': 30,\n",
    "    'batch_size': 10,\n",
    "    'metrics': ['accuracy'],\n",
    "}\n",
    "\n",
    "model_manager.run_model_config(split_dict, model_config_1)\n",
    "model_manager.run_model_config(split_dict, model_config_2)\n",
    "\n",
    "\n"
   ]
  },
  {
   "cell_type": "code",
   "execution_count": null,
   "metadata": {},
   "outputs": [],
   "source": []
  },
  {
   "cell_type": "code",
   "execution_count": 1,
   "metadata": {},
   "outputs": [
    {
     "ename": "NameError",
     "evalue": "name 'model_manager' is not defined",
     "output_type": "error",
     "traceback": [
      "\u001b[1;31m---------------------------------------------------------------------------\u001b[0m",
      "\u001b[1;31mNameError\u001b[0m                                 Traceback (most recent call last)",
      "Cell \u001b[1;32mIn[1], line 1\u001b[0m\n\u001b[1;32m----> 1\u001b[0m model_manager\u001b[38;5;241m.\u001b[39mplot_model_history(\u001b[38;5;124m'\u001b[39m\u001b[38;5;124mLSTM_Model_1\u001b[39m\u001b[38;5;124m'\u001b[39m)\n",
      "\u001b[1;31mNameError\u001b[0m: name 'model_manager' is not defined"
     ]
    }
   ],
   "source": [
    "model_manager.plot_model_history('LSTM_Model_1')\n"
   ]
  },
  {
   "cell_type": "code",
   "execution_count": 70,
   "metadata": {},
   "outputs": [
    {
     "data": {
      "image/png": "[encoded data removed]",
      "text/plain": [
       "<Figure size 1200x600 with 1 Axes>"
      ]
     },
     "metadata": {},
     "output_type": "display_data"
    }
   ],
   "source": [
    "model_manager.plot_model_history('LSTM_Model_2')\n"
   ]
  },
  {
   "cell_type": "code",
   "execution_count": 77,
   "metadata": {},
   "outputs": [
    {
     "name": "stdout",
     "output_type": "stream",
     "text": [
      "6/6 [==============================] - 0s 7ms/step\n"
     ]
    }
   ],
   "source": [
    "y_pred_1 = model_manager.predict('LSTM_Model_2', split_dict['X_test'], return_class_indices=True)\n"
   ]
  },
  {
   "cell_type": "code",
   "execution_count": 78,
   "metadata": {},
   "outputs": [
    {
     "name": "stdout",
     "output_type": "stream",
     "text": [
      "Accuracy Imbalanced data set for LSTM_Model_2: 0.73\n",
      "F1 Score Imbalanced data set for LSTM_Model_2: 0.74\n"
     ]
    }
   ],
   "source": [
    "model_manager.print_performance_metrics('LSTM_Model_2', split_dict['y_test'], y_pred_1, dataset_type='Imbalanced')\n"
   ]
  },
  {
   "cell_type": "code",
   "execution_count": 79,
   "metadata": {},
   "outputs": [
    {
     "data": {
      "image/png": "[encoded data removed]",
      "text/plain": [
       "<Figure size 640x480 with 2 Axes>"
      ]
     },
     "metadata": {},
     "output_type": "display_data"
    }
   ],
   "source": [
    "y_test_1_indices = split_dict['y_test'].argmax(axis=1)\n",
    "model_manager.plot_confusion_matrix('LSTM_Model_2', y_test_1_indices, y_pred_1, title='Imbalanced Dataset')\n"
   ]
  },
  {
   "cell_type": "code",
   "execution_count": 19,
   "metadata": {},
   "outputs": [
    {
     "name": "stderr",
     "output_type": "stream",
     "text": [
      "WARNING:datasets.builder:Found cached dataset csv (C:/Users/Rober/.cache/huggingface/datasets/csv/default-946bef0335356cf8/0.0.0/6954658bab30a358235fa864b05cf819af0e179325c740e4bc853bcc7ec513e1)\n"
     ]
    },
    {
     "data": {
      "application/vnd.jupyter.widget-view+json": {
       "model_id": "b106cba7fac54aad925169ebfe524f41",
       "version_major": 2,
       "version_minor": 0
      },
      "text/plain": [
       "  0%|          | 0/1 [00:00<?, ?it/s]"
      ]
     },
     "metadata": {},
     "output_type": "display_data"
    },
    {
     "name": "stderr",
     "output_type": "stream",
     "text": [
      "WARNING:datasets.builder:Found cached dataset csv (C:/Users/Rober/.cache/huggingface/datasets/csv/default-8dd87a4684db96a2/0.0.0/6954658bab30a358235fa864b05cf819af0e179325c740e4bc853bcc7ec513e1)\n"
     ]
    },
    {
     "data": {
      "application/vnd.jupyter.widget-view+json": {
       "model_id": "9b1f10f4df2a4966bca562661f513b07",
       "version_major": 2,
       "version_minor": 0
      },
      "text/plain": [
       "  0%|          | 0/1 [00:00<?, ?it/s]"
      ]
     },
     "metadata": {},
     "output_type": "display_data"
    }
   ],
   "source": [
    "#Import dataset\n",
    "import pandas as pd\n",
    "import numpy as np\n",
    "import matplotlib.pyplot as plt\n",
    "from DatasetManager import DatasetManager\n",
    "from datasets import Dataset\n",
    "dataset_manager = DatasetManager()\n",
    "dataset_manager.load_dataframe('main','../all-data.csv')\n",
    "dataset_manager.create_dataset('unbalanced_dataset', '../data/financial_news_1.csv')\n",
    "dataset_manager.create_dataset('balanced_dataset', '../data/financial_news_2.csv')\n",
    "\n",
    "\n"
   ]
  },
  {
   "cell_type": "code",
   "execution_count": 51,
   "metadata": {},
   "outputs": [
    {
     "name": "stderr",
     "output_type": "stream",
     "text": [
      "WARNING:datasets.arrow_dataset:Loading cached split indices for dataset at C:\\Users\\Rober\\.cache\\huggingface\\datasets\\csv\\default-946bef0335356cf8\\0.0.0\\6954658bab30a358235fa864b05cf819af0e179325c740e4bc853bcc7ec513e1\\cache-481c27052e0faaeb.arrow and C:\\Users\\Rober\\.cache\\huggingface\\datasets\\csv\\default-946bef0335356cf8\\0.0.0\\6954658bab30a358235fa864b05cf819af0e179325c740e4bc853bcc7ec513e1\\cache-6a639d94171062fc.arrow\n",
      "WARNING:datasets.arrow_dataset:Loading cached split indices for dataset at C:\\Users\\Rober\\.cache\\huggingface\\datasets\\csv\\default-946bef0335356cf8\\0.0.0\\6954658bab30a358235fa864b05cf819af0e179325c740e4bc853bcc7ec513e1\\cache-637db054929b91d3.arrow and C:\\Users\\Rober\\.cache\\huggingface\\datasets\\csv\\default-946bef0335356cf8\\0.0.0\\6954658bab30a358235fa864b05cf819af0e179325c740e4bc853bcc7ec513e1\\cache-2cafbecec5e7c2ae.arrow\n"
     ]
    },
    {
     "name": "stdout",
     "output_type": "stream",
     "text": [
      "init\n"
     ]
    },
    {
     "data": {
      "text/plain": [
       "DatasetDict({\n",
       "    train: Dataset({\n",
       "        features: ['label', 'news'],\n",
       "        num_rows: 3876\n",
       "    })\n",
       "    test: Dataset({\n",
       "        features: ['label', 'news'],\n",
       "        num_rows: 582\n",
       "    })\n",
       "    valid: Dataset({\n",
       "        features: ['label', 'news'],\n",
       "        num_rows: 388\n",
       "    })\n",
       "})"
      ]
     },
     "execution_count": 51,
     "metadata": {},
     "output_type": "execute_result"
    }
   ],
   "source": [
    "from DatasetProcesser import HFprocesser\n",
    "hfp1 = HFprocesser(dataset_manager.get_dataset('unbalanced_dataset'))\n",
    "\n",
    "x = hfp1.create_train_test_val_splits()\n",
    "x"
   ]
  },
  {
   "cell_type": "code",
   "execution_count": 52,
   "metadata": {},
   "outputs": [
    {
     "name": "stderr",
     "output_type": "stream",
     "text": [
      "WARNING:datasets.arrow_dataset:Loading cached processed dataset at C:\\Users\\Rober\\.cache\\huggingface\\datasets\\csv\\default-946bef0335356cf8\\0.0.0\\6954658bab30a358235fa864b05cf819af0e179325c740e4bc853bcc7ec513e1\\cache-a56dffb03f4fa679.arrow\n",
      "WARNING:datasets.arrow_dataset:Loading cached processed dataset at C:\\Users\\Rober\\.cache\\huggingface\\datasets\\csv\\default-946bef0335356cf8\\0.0.0\\6954658bab30a358235fa864b05cf819af0e179325c740e4bc853bcc7ec513e1\\cache-db5ec4c2f47b545d.arrow\n",
      "WARNING:datasets.arrow_dataset:Loading cached processed dataset at C:\\Users\\Rober\\.cache\\huggingface\\datasets\\csv\\default-946bef0335356cf8\\0.0.0\\6954658bab30a358235fa864b05cf819af0e179325c740e4bc853bcc7ec513e1\\cache-c42b8f6383b439b2.arrow\n"
     ]
    },
    {
     "name": "stdout",
     "output_type": "stream",
     "text": [
      "DatasetDict({\n",
      "    train: Dataset({\n",
      "        features: ['label', 'news', 'input_ids', 'attention_mask'],\n",
      "        num_rows: 3876\n",
      "    })\n",
      "    test: Dataset({\n",
      "        features: ['label', 'news', 'input_ids', 'attention_mask'],\n",
      "        num_rows: 582\n",
      "    })\n",
      "    valid: Dataset({\n",
      "        features: ['label', 'news', 'input_ids', 'attention_mask'],\n",
      "        num_rows: 388\n",
      "    })\n",
      "})\n"
     ]
    },
    {
     "data": {
      "text/plain": [
       "DatasetDict({\n",
       "    train: Dataset({\n",
       "        features: ['label', 'news', 'input_ids', 'attention_mask'],\n",
       "        num_rows: 3876\n",
       "    })\n",
       "    test: Dataset({\n",
       "        features: ['label', 'news', 'input_ids', 'attention_mask'],\n",
       "        num_rows: 582\n",
       "    })\n",
       "    valid: Dataset({\n",
       "        features: ['label', 'news', 'input_ids', 'attention_mask'],\n",
       "        num_rows: 388\n",
       "    })\n",
       "})"
      ]
     },
     "execution_count": 52,
     "metadata": {},
     "output_type": "execute_result"
    }
   ],
   "source": [
    "\n",
    "hfp1.tokenize_text_data()\n",
    "\n",
    "hfp1.tokenized_text_data"
   ]
  },
  {
   "cell_type": "code",
   "execution_count": null,
   "metadata": {},
   "outputs": [],
   "source": []
  },
  {
   "cell_type": "code",
   "execution_count": 6,
   "metadata": {},
   "outputs": [
    {
     "name": "stderr",
     "output_type": "stream",
     "text": [
      "c:\\Users\\Rober\\Anaconda3\\Lib\\site-packages\\transformers\\utils\\generic.py:260: UserWarning: torch.utils._pytree._register_pytree_node is deprecated. Please use torch.utils._pytree.register_pytree_node instead.\n",
      "  torch.utils._pytree._register_pytree_node(\n"
     ]
    }
   ],
   "source": [
    "#import bert model\n",
    "#AutomodelForSequenceClassification will give us a model that already has some classification layers on top of distilbert\n",
    "#Trainer is a class that help us train transformers, TrainingArguments is used to define training arguments in Trainer\n",
    "from transformers import AutoModelForSequenceClassification, Trainer, TrainingArguments\n",
    "import torch\n",
    "\n"
   ]
  },
  {
   "cell_type": "code",
   "execution_count": 26,
   "metadata": {},
   "outputs": [
    {
     "name": "stderr",
     "output_type": "stream",
     "text": [
      "Some weights of DistilBertForSequenceClassification were not initialized from the model checkpoint at distilbert/distilbert-base-uncased and are newly initialized: ['classifier.bias', 'pre_classifier.weight', 'classifier.weight', 'pre_classifier.bias']\n",
      "You should probably TRAIN this model on a down-stream task to be able to use it for predictions and inference.\n",
      "Some weights of DistilBertForSequenceClassification were not initialized from the model checkpoint at distilbert/distilbert-base-uncased and are newly initialized: ['classifier.bias', 'pre_classifier.weight', 'classifier.weight', 'pre_classifier.bias']\n",
      "You should probably TRAIN this model on a down-stream task to be able to use it for predictions and inference.\n"
     ]
    }
   ],
   "source": [
    "model_ckpt = \"distilbert/distilbert-base-uncased\"\n",
    "device = torch.device(\"cuda\" if torch.cuda.is_available() else \"cpu\") #Define device\n",
    "model = AutoModelForSequenceClassification.from_pretrained(model_ckpt, num_labels = 3)\n",
    "model_2 = (AutoModelForSequenceClassification.from_pretrained(model_ckpt, num_labels=3).to(device))\n"
   ]
  },
  {
   "cell_type": "code",
   "execution_count": 47,
   "metadata": {},
   "outputs": [
    {
     "name": "stderr",
     "output_type": "stream",
     "text": [
      "Some weights of DistilBertForSequenceClassification were not initialized from the model checkpoint at distilbert/distilbert-base-uncased and are newly initialized: ['classifier.bias', 'pre_classifier.weight', 'classifier.weight', 'pre_classifier.bias']\n",
      "You should probably TRAIN this model on a down-stream task to be able to use it for predictions and inference.\n"
     ]
    }
   ],
   "source": [
    "from HFManager import HFManager\n",
    "\n",
    "\n",
    "hf1 = HFManager()\n",
    "\n",
    "hf1.add_model('test')"
   ]
  },
  {
   "cell_type": "code",
   "execution_count": 49,
   "metadata": {},
   "outputs": [
    {
     "name": "stdout",
     "output_type": "stream",
     "text": [
      "distilbert.embeddings.word_embeddings.weight True\n",
      "distilbert.embeddings.position_embeddings.weight True\n",
      "distilbert.embeddings.LayerNorm.weight True\n",
      "distilbert.embeddings.LayerNorm.bias True\n",
      "distilbert.transformer.layer.0.attention.q_lin.weight True\n",
      "distilbert.transformer.layer.0.attention.q_lin.bias True\n",
      "distilbert.transformer.layer.0.attention.k_lin.weight True\n",
      "distilbert.transformer.layer.0.attention.k_lin.bias True\n",
      "distilbert.transformer.layer.0.attention.v_lin.weight True\n",
      "distilbert.transformer.layer.0.attention.v_lin.bias True\n",
      "distilbert.transformer.layer.0.attention.out_lin.weight True\n",
      "distilbert.transformer.layer.0.attention.out_lin.bias True\n",
      "distilbert.transformer.layer.0.sa_layer_norm.weight True\n",
      "distilbert.transformer.layer.0.sa_layer_norm.bias True\n",
      "distilbert.transformer.layer.0.ffn.lin1.weight True\n",
      "distilbert.transformer.layer.0.ffn.lin1.bias True\n",
      "distilbert.transformer.layer.0.ffn.lin2.weight True\n",
      "distilbert.transformer.layer.0.ffn.lin2.bias True\n",
      "distilbert.transformer.layer.0.output_layer_norm.weight True\n",
      "distilbert.transformer.layer.0.output_layer_norm.bias True\n",
      "distilbert.transformer.layer.1.attention.q_lin.weight True\n",
      "distilbert.transformer.layer.1.attention.q_lin.bias True\n",
      "distilbert.transformer.layer.1.attention.k_lin.weight True\n",
      "distilbert.transformer.layer.1.attention.k_lin.bias True\n",
      "distilbert.transformer.layer.1.attention.v_lin.weight True\n",
      "distilbert.transformer.layer.1.attention.v_lin.bias True\n",
      "distilbert.transformer.layer.1.attention.out_lin.weight True\n",
      "distilbert.transformer.layer.1.attention.out_lin.bias True\n",
      "distilbert.transformer.layer.1.sa_layer_norm.weight True\n",
      "distilbert.transformer.layer.1.sa_layer_norm.bias True\n",
      "distilbert.transformer.layer.1.ffn.lin1.weight True\n",
      "distilbert.transformer.layer.1.ffn.lin1.bias True\n",
      "distilbert.transformer.layer.1.ffn.lin2.weight True\n",
      "distilbert.transformer.layer.1.ffn.lin2.bias True\n",
      "distilbert.transformer.layer.1.output_layer_norm.weight True\n",
      "distilbert.transformer.layer.1.output_layer_norm.bias True\n",
      "distilbert.transformer.layer.2.attention.q_lin.weight True\n",
      "distilbert.transformer.layer.2.attention.q_lin.bias True\n",
      "distilbert.transformer.layer.2.attention.k_lin.weight True\n",
      "distilbert.transformer.layer.2.attention.k_lin.bias True\n",
      "distilbert.transformer.layer.2.attention.v_lin.weight True\n",
      "distilbert.transformer.layer.2.attention.v_lin.bias True\n",
      "distilbert.transformer.layer.2.attention.out_lin.weight True\n",
      "distilbert.transformer.layer.2.attention.out_lin.bias True\n",
      "distilbert.transformer.layer.2.sa_layer_norm.weight True\n",
      "distilbert.transformer.layer.2.sa_layer_norm.bias True\n",
      "distilbert.transformer.layer.2.ffn.lin1.weight True\n",
      "distilbert.transformer.layer.2.ffn.lin1.bias True\n",
      "distilbert.transformer.layer.2.ffn.lin2.weight True\n",
      "distilbert.transformer.layer.2.ffn.lin2.bias True\n",
      "distilbert.transformer.layer.2.output_layer_norm.weight True\n",
      "distilbert.transformer.layer.2.output_layer_norm.bias True\n",
      "distilbert.transformer.layer.3.attention.q_lin.weight True\n",
      "distilbert.transformer.layer.3.attention.q_lin.bias True\n",
      "distilbert.transformer.layer.3.attention.k_lin.weight True\n",
      "distilbert.transformer.layer.3.attention.k_lin.bias True\n",
      "distilbert.transformer.layer.3.attention.v_lin.weight True\n",
      "distilbert.transformer.layer.3.attention.v_lin.bias True\n",
      "distilbert.transformer.layer.3.attention.out_lin.weight True\n",
      "distilbert.transformer.layer.3.attention.out_lin.bias True\n",
      "distilbert.transformer.layer.3.sa_layer_norm.weight True\n",
      "distilbert.transformer.layer.3.sa_layer_norm.bias True\n",
      "distilbert.transformer.layer.3.ffn.lin1.weight True\n",
      "distilbert.transformer.layer.3.ffn.lin1.bias True\n",
      "distilbert.transformer.layer.3.ffn.lin2.weight True\n",
      "distilbert.transformer.layer.3.ffn.lin2.bias True\n",
      "distilbert.transformer.layer.3.output_layer_norm.weight True\n",
      "distilbert.transformer.layer.3.output_layer_norm.bias True\n",
      "distilbert.transformer.layer.4.attention.q_lin.weight True\n",
      "distilbert.transformer.layer.4.attention.q_lin.bias True\n",
      "distilbert.transformer.layer.4.attention.k_lin.weight True\n",
      "distilbert.transformer.layer.4.attention.k_lin.bias True\n",
      "distilbert.transformer.layer.4.attention.v_lin.weight True\n",
      "distilbert.transformer.layer.4.attention.v_lin.bias True\n",
      "distilbert.transformer.layer.4.attention.out_lin.weight True\n",
      "distilbert.transformer.layer.4.attention.out_lin.bias True\n",
      "distilbert.transformer.layer.4.sa_layer_norm.weight True\n",
      "distilbert.transformer.layer.4.sa_layer_norm.bias True\n",
      "distilbert.transformer.layer.4.ffn.lin1.weight True\n",
      "distilbert.transformer.layer.4.ffn.lin1.bias True\n",
      "distilbert.transformer.layer.4.ffn.lin2.weight True\n",
      "distilbert.transformer.layer.4.ffn.lin2.bias True\n",
      "distilbert.transformer.layer.4.output_layer_norm.weight True\n",
      "distilbert.transformer.layer.4.output_layer_norm.bias True\n",
      "distilbert.transformer.layer.5.attention.q_lin.weight True\n",
      "distilbert.transformer.layer.5.attention.q_lin.bias True\n",
      "distilbert.transformer.layer.5.attention.k_lin.weight True\n",
      "distilbert.transformer.layer.5.attention.k_lin.bias True\n",
      "distilbert.transformer.layer.5.attention.v_lin.weight True\n",
      "distilbert.transformer.layer.5.attention.v_lin.bias True\n",
      "distilbert.transformer.layer.5.attention.out_lin.weight True\n",
      "distilbert.transformer.layer.5.attention.out_lin.bias True\n",
      "distilbert.transformer.layer.5.sa_layer_norm.weight True\n",
      "distilbert.transformer.layer.5.sa_layer_norm.bias True\n",
      "distilbert.transformer.layer.5.ffn.lin1.weight True\n",
      "distilbert.transformer.layer.5.ffn.lin1.bias True\n",
      "distilbert.transformer.layer.5.ffn.lin2.weight True\n",
      "distilbert.transformer.layer.5.ffn.lin2.bias True\n",
      "distilbert.transformer.layer.5.output_layer_norm.weight True\n",
      "distilbert.transformer.layer.5.output_layer_norm.bias True\n",
      "pre_classifier.weight True\n",
      "pre_classifier.bias True\n",
      "classifier.weight True\n",
      "classifier.bias True\n"
     ]
    }
   ],
   "source": [
    "hf1.get_trainable_layers('test')\n"
   ]
  },
  {
   "cell_type": "code",
   "execution_count": 58,
   "metadata": {},
   "outputs": [],
   "source": [
    "hf1.add_trainer('test',hfp1)"
   ]
  },
  {
   "cell_type": "code",
   "execution_count": 59,
   "metadata": {},
   "outputs": [
    {
     "data": {
      "application/vnd.jupyter.widget-view+json": {
       "model_id": "5fb0704ff8954faa88599c94b34b3e30",
       "version_major": 2,
       "version_minor": 0
      },
      "text/plain": [
       "  0%|          | 0/1455 [00:00<?, ?it/s]"
      ]
     },
     "metadata": {},
     "output_type": "display_data"
    },
    {
     "name": "stderr",
     "output_type": "stream",
     "text": [
      "You're using a DistilBertTokenizerFast tokenizer. Please note that with a fast tokenizer, using the `__call__` method is faster than using a method to encode the text followed by a call to the `pad` method to get a padded encoding.\n"
     ]
    },
    {
     "ename": "KeyboardInterrupt",
     "evalue": "",
     "output_type": "error",
     "traceback": [
      "\u001b[1;31m---------------------------------------------------------------------------\u001b[0m",
      "\u001b[1;31mKeyboardInterrupt\u001b[0m                         Traceback (most recent call last)",
      "Cell \u001b[1;32mIn[59], line 1\u001b[0m\n\u001b[1;32m----> 1\u001b[0m hf1\u001b[38;5;241m.\u001b[39mtrainers[\u001b[38;5;124m'\u001b[39m\u001b[38;5;124mtest\u001b[39m\u001b[38;5;124m'\u001b[39m]\u001b[38;5;241m.\u001b[39mtrain()\n",
      "File \u001b[1;32mc:\\Users\\Rober\\Anaconda3\\Lib\\site-packages\\transformers\\trainer.py:1555\u001b[0m, in \u001b[0;36mTrainer.train\u001b[1;34m(self, resume_from_checkpoint, trial, ignore_keys_for_eval, **kwargs)\u001b[0m\n\u001b[0;32m   1553\u001b[0m         hf_hub_utils\u001b[38;5;241m.\u001b[39menable_progress_bars()\n\u001b[0;32m   1554\u001b[0m \u001b[38;5;28;01melse\u001b[39;00m:\n\u001b[1;32m-> 1555\u001b[0m     \u001b[38;5;28;01mreturn\u001b[39;00m inner_training_loop(\n\u001b[0;32m   1556\u001b[0m         args\u001b[38;5;241m=\u001b[39margs,\n\u001b[0;32m   1557\u001b[0m         resume_from_checkpoint\u001b[38;5;241m=\u001b[39mresume_from_checkpoint,\n\u001b[0;32m   1558\u001b[0m         trial\u001b[38;5;241m=\u001b[39mtrial,\n\u001b[0;32m   1559\u001b[0m         ignore_keys_for_eval\u001b[38;5;241m=\u001b[39mignore_keys_for_eval,\n\u001b[0;32m   1560\u001b[0m     )\n",
      "File \u001b[1;32mc:\\Users\\Rober\\Anaconda3\\Lib\\site-packages\\transformers\\trainer.py:1837\u001b[0m, in \u001b[0;36mTrainer._inner_training_loop\u001b[1;34m(self, batch_size, args, resume_from_checkpoint, trial, ignore_keys_for_eval)\u001b[0m\n\u001b[0;32m   1834\u001b[0m     \u001b[38;5;28mself\u001b[39m\u001b[38;5;241m.\u001b[39mcontrol \u001b[38;5;241m=\u001b[39m \u001b[38;5;28mself\u001b[39m\u001b[38;5;241m.\u001b[39mcallback_handler\u001b[38;5;241m.\u001b[39mon_step_begin(args, \u001b[38;5;28mself\u001b[39m\u001b[38;5;241m.\u001b[39mstate, \u001b[38;5;28mself\u001b[39m\u001b[38;5;241m.\u001b[39mcontrol)\n\u001b[0;32m   1836\u001b[0m \u001b[38;5;28;01mwith\u001b[39;00m \u001b[38;5;28mself\u001b[39m\u001b[38;5;241m.\u001b[39maccelerator\u001b[38;5;241m.\u001b[39maccumulate(model):\n\u001b[1;32m-> 1837\u001b[0m     tr_loss_step \u001b[38;5;241m=\u001b[39m \u001b[38;5;28mself\u001b[39m\u001b[38;5;241m.\u001b[39mtraining_step(model, inputs)\n\u001b[0;32m   1839\u001b[0m \u001b[38;5;28;01mif\u001b[39;00m (\n\u001b[0;32m   1840\u001b[0m     args\u001b[38;5;241m.\u001b[39mlogging_nan_inf_filter\n\u001b[0;32m   1841\u001b[0m     \u001b[38;5;129;01mand\u001b[39;00m \u001b[38;5;129;01mnot\u001b[39;00m is_torch_tpu_available()\n\u001b[0;32m   1842\u001b[0m     \u001b[38;5;129;01mand\u001b[39;00m (torch\u001b[38;5;241m.\u001b[39misnan(tr_loss_step) \u001b[38;5;129;01mor\u001b[39;00m torch\u001b[38;5;241m.\u001b[39misinf(tr_loss_step))\n\u001b[0;32m   1843\u001b[0m ):\n\u001b[0;32m   1844\u001b[0m     \u001b[38;5;66;03m# if loss is nan or inf simply add the average of previous logged losses\u001b[39;00m\n\u001b[0;32m   1845\u001b[0m     tr_loss \u001b[38;5;241m+\u001b[39m\u001b[38;5;241m=\u001b[39m tr_loss \u001b[38;5;241m/\u001b[39m (\u001b[38;5;241m1\u001b[39m \u001b[38;5;241m+\u001b[39m \u001b[38;5;28mself\u001b[39m\u001b[38;5;241m.\u001b[39mstate\u001b[38;5;241m.\u001b[39mglobal_step \u001b[38;5;241m-\u001b[39m \u001b[38;5;28mself\u001b[39m\u001b[38;5;241m.\u001b[39m_globalstep_last_logged)\n",
      "File \u001b[1;32mc:\\Users\\Rober\\Anaconda3\\Lib\\site-packages\\transformers\\trainer.py:2675\u001b[0m, in \u001b[0;36mTrainer.training_step\u001b[1;34m(self, model, inputs)\u001b[0m\n\u001b[0;32m   2657\u001b[0m \u001b[38;5;250m\u001b[39m\u001b[38;5;124;03m\"\"\"\u001b[39;00m\n\u001b[0;32m   2658\u001b[0m \u001b[38;5;124;03mPerform a training step on a batch of inputs.\u001b[39;00m\n\u001b[0;32m   2659\u001b[0m \n\u001b[1;32m   (...)\u001b[0m\n\u001b[0;32m   2672\u001b[0m \u001b[38;5;124;03m    `torch.Tensor`: The tensor with training loss on this batch.\u001b[39;00m\n\u001b[0;32m   2673\u001b[0m \u001b[38;5;124;03m\"\"\"\u001b[39;00m\n\u001b[0;32m   2674\u001b[0m model\u001b[38;5;241m.\u001b[39mtrain()\n\u001b[1;32m-> 2675\u001b[0m inputs \u001b[38;5;241m=\u001b[39m \u001b[38;5;28mself\u001b[39m\u001b[38;5;241m.\u001b[39m_prepare_inputs(inputs)\n\u001b[0;32m   2677\u001b[0m \u001b[38;5;28;01mif\u001b[39;00m is_sagemaker_mp_enabled():\n\u001b[0;32m   2678\u001b[0m     loss_mb \u001b[38;5;241m=\u001b[39m smp_forward_backward(model, inputs, \u001b[38;5;28mself\u001b[39m\u001b[38;5;241m.\u001b[39margs\u001b[38;5;241m.\u001b[39mgradient_accumulation_steps)\n",
      "File \u001b[1;32mc:\\Users\\Rober\\Anaconda3\\Lib\\site-packages\\transformers\\trainer.py:2623\u001b[0m, in \u001b[0;36mTrainer._prepare_inputs\u001b[1;34m(self, inputs)\u001b[0m\n\u001b[0;32m   2618\u001b[0m \u001b[38;5;28;01mdef\u001b[39;00m \u001b[38;5;21m_prepare_inputs\u001b[39m(\u001b[38;5;28mself\u001b[39m, inputs: Dict[\u001b[38;5;28mstr\u001b[39m, Union[torch\u001b[38;5;241m.\u001b[39mTensor, Any]]) \u001b[38;5;241m-\u001b[39m\u001b[38;5;241m>\u001b[39m Dict[\u001b[38;5;28mstr\u001b[39m, Union[torch\u001b[38;5;241m.\u001b[39mTensor, Any]]:\n\u001b[0;32m   2619\u001b[0m \u001b[38;5;250m    \u001b[39m\u001b[38;5;124;03m\"\"\"\u001b[39;00m\n\u001b[0;32m   2620\u001b[0m \u001b[38;5;124;03m    Prepare `inputs` before feeding them to the model, converting them to tensors if they are not already and\u001b[39;00m\n\u001b[0;32m   2621\u001b[0m \u001b[38;5;124;03m    handling potential state.\u001b[39;00m\n\u001b[0;32m   2622\u001b[0m \u001b[38;5;124;03m    \"\"\"\u001b[39;00m\n\u001b[1;32m-> 2623\u001b[0m     inputs \u001b[38;5;241m=\u001b[39m \u001b[38;5;28mself\u001b[39m\u001b[38;5;241m.\u001b[39m_prepare_input(inputs)\n\u001b[0;32m   2624\u001b[0m     \u001b[38;5;28;01mif\u001b[39;00m \u001b[38;5;28mlen\u001b[39m(inputs) \u001b[38;5;241m==\u001b[39m \u001b[38;5;241m0\u001b[39m:\n\u001b[0;32m   2625\u001b[0m         \u001b[38;5;28;01mraise\u001b[39;00m \u001b[38;5;167;01mValueError\u001b[39;00m(\n\u001b[0;32m   2626\u001b[0m             \u001b[38;5;124m\"\u001b[39m\u001b[38;5;124mThe batch received was empty, your model won\u001b[39m\u001b[38;5;124m'\u001b[39m\u001b[38;5;124mt be able to train on it. Double-check that your \u001b[39m\u001b[38;5;124m\"\u001b[39m\n\u001b[0;32m   2627\u001b[0m             \u001b[38;5;124mf\u001b[39m\u001b[38;5;124m\"\u001b[39m\u001b[38;5;124mtraining dataset contains keys expected by the model: \u001b[39m\u001b[38;5;132;01m{\u001b[39;00m\u001b[38;5;124m'\u001b[39m\u001b[38;5;124m,\u001b[39m\u001b[38;5;124m'\u001b[39m\u001b[38;5;241m.\u001b[39mjoin(\u001b[38;5;28mself\u001b[39m\u001b[38;5;241m.\u001b[39m_signature_columns)\u001b[38;5;132;01m}\u001b[39;00m\u001b[38;5;124m.\u001b[39m\u001b[38;5;124m\"\u001b[39m\n\u001b[0;32m   2628\u001b[0m         )\n",
      "File \u001b[1;32mc:\\Users\\Rober\\Anaconda3\\Lib\\site-packages\\transformers\\trainer.py:2605\u001b[0m, in \u001b[0;36mTrainer._prepare_input\u001b[1;34m(self, data)\u001b[0m\n\u001b[0;32m   2601\u001b[0m \u001b[38;5;250m\u001b[39m\u001b[38;5;124;03m\"\"\"\u001b[39;00m\n\u001b[0;32m   2602\u001b[0m \u001b[38;5;124;03mPrepares one `data` before feeding it to the model, be it a tensor or a nested list/dictionary of tensors.\u001b[39;00m\n\u001b[0;32m   2603\u001b[0m \u001b[38;5;124;03m\"\"\"\u001b[39;00m\n\u001b[0;32m   2604\u001b[0m \u001b[38;5;28;01mif\u001b[39;00m \u001b[38;5;28misinstance\u001b[39m(data, Mapping):\n\u001b[1;32m-> 2605\u001b[0m     \u001b[38;5;28;01mreturn\u001b[39;00m \u001b[38;5;28mtype\u001b[39m(data)({k: \u001b[38;5;28mself\u001b[39m\u001b[38;5;241m.\u001b[39m_prepare_input(v) \u001b[38;5;28;01mfor\u001b[39;00m k, v \u001b[38;5;129;01min\u001b[39;00m data\u001b[38;5;241m.\u001b[39mitems()})\n\u001b[0;32m   2606\u001b[0m \u001b[38;5;28;01melif\u001b[39;00m \u001b[38;5;28misinstance\u001b[39m(data, (\u001b[38;5;28mtuple\u001b[39m, \u001b[38;5;28mlist\u001b[39m)):\n\u001b[0;32m   2607\u001b[0m     \u001b[38;5;28;01mreturn\u001b[39;00m \u001b[38;5;28mtype\u001b[39m(data)(\u001b[38;5;28mself\u001b[39m\u001b[38;5;241m.\u001b[39m_prepare_input(v) \u001b[38;5;28;01mfor\u001b[39;00m v \u001b[38;5;129;01min\u001b[39;00m data)\n",
      "File \u001b[1;32mc:\\Users\\Rober\\Anaconda3\\Lib\\site-packages\\transformers\\trainer.py:2605\u001b[0m, in \u001b[0;36m<dictcomp>\u001b[1;34m(.0)\u001b[0m\n\u001b[0;32m   2601\u001b[0m \u001b[38;5;250m\u001b[39m\u001b[38;5;124;03m\"\"\"\u001b[39;00m\n\u001b[0;32m   2602\u001b[0m \u001b[38;5;124;03mPrepares one `data` before feeding it to the model, be it a tensor or a nested list/dictionary of tensors.\u001b[39;00m\n\u001b[0;32m   2603\u001b[0m \u001b[38;5;124;03m\"\"\"\u001b[39;00m\n\u001b[0;32m   2604\u001b[0m \u001b[38;5;28;01mif\u001b[39;00m \u001b[38;5;28misinstance\u001b[39m(data, Mapping):\n\u001b[1;32m-> 2605\u001b[0m     \u001b[38;5;28;01mreturn\u001b[39;00m \u001b[38;5;28mtype\u001b[39m(data)({k: \u001b[38;5;28mself\u001b[39m\u001b[38;5;241m.\u001b[39m_prepare_input(v) \u001b[38;5;28;01mfor\u001b[39;00m k, v \u001b[38;5;129;01min\u001b[39;00m data\u001b[38;5;241m.\u001b[39mitems()})\n\u001b[0;32m   2606\u001b[0m \u001b[38;5;28;01melif\u001b[39;00m \u001b[38;5;28misinstance\u001b[39m(data, (\u001b[38;5;28mtuple\u001b[39m, \u001b[38;5;28mlist\u001b[39m)):\n\u001b[0;32m   2607\u001b[0m     \u001b[38;5;28;01mreturn\u001b[39;00m \u001b[38;5;28mtype\u001b[39m(data)(\u001b[38;5;28mself\u001b[39m\u001b[38;5;241m.\u001b[39m_prepare_input(v) \u001b[38;5;28;01mfor\u001b[39;00m v \u001b[38;5;129;01min\u001b[39;00m data)\n",
      "File \u001b[1;32mc:\\Users\\Rober\\Anaconda3\\Lib\\site-packages\\transformers\\trainer.py:2615\u001b[0m, in \u001b[0;36mTrainer._prepare_input\u001b[1;34m(self, data)\u001b[0m\n\u001b[0;32m   2610\u001b[0m     \u001b[38;5;28;01mif\u001b[39;00m \u001b[38;5;28mself\u001b[39m\u001b[38;5;241m.\u001b[39mis_deepspeed_enabled \u001b[38;5;129;01mand\u001b[39;00m (torch\u001b[38;5;241m.\u001b[39mis_floating_point(data) \u001b[38;5;129;01mor\u001b[39;00m torch\u001b[38;5;241m.\u001b[39mis_complex(data)):\n\u001b[0;32m   2611\u001b[0m         \u001b[38;5;66;03m# NLP models inputs are int/uint and those get adjusted to the right dtype of the\u001b[39;00m\n\u001b[0;32m   2612\u001b[0m         \u001b[38;5;66;03m# embedding. Other models such as wav2vec2's inputs are already float and thus\u001b[39;00m\n\u001b[0;32m   2613\u001b[0m         \u001b[38;5;66;03m# may need special handling to match the dtypes of the model\u001b[39;00m\n\u001b[0;32m   2614\u001b[0m         kwargs\u001b[38;5;241m.\u001b[39mupdate({\u001b[38;5;124m\"\u001b[39m\u001b[38;5;124mdtype\u001b[39m\u001b[38;5;124m\"\u001b[39m: \u001b[38;5;28mself\u001b[39m\u001b[38;5;241m.\u001b[39maccelerator\u001b[38;5;241m.\u001b[39mstate\u001b[38;5;241m.\u001b[39mdeepspeed_plugin\u001b[38;5;241m.\u001b[39mhf_ds_config\u001b[38;5;241m.\u001b[39mdtype()})\n\u001b[1;32m-> 2615\u001b[0m     \u001b[38;5;28;01mreturn\u001b[39;00m data\u001b[38;5;241m.\u001b[39mto(\u001b[38;5;241m*\u001b[39m\u001b[38;5;241m*\u001b[39mkwargs)\n\u001b[0;32m   2616\u001b[0m \u001b[38;5;28;01mreturn\u001b[39;00m data\n",
      "\u001b[1;31mKeyboardInterrupt\u001b[0m: "
     ]
    }
   ],
   "source": [
    "hf1.trainers['test'].train()"
   ]
  },
  {
   "cell_type": "code",
   "execution_count": 8,
   "metadata": {},
   "outputs": [
    {
     "name": "stdout",
     "output_type": "stream",
     "text": [
      "distilbert.embeddings.word_embeddings.weight True\n",
      "distilbert.embeddings.position_embeddings.weight True\n",
      "distilbert.embeddings.LayerNorm.weight True\n",
      "distilbert.embeddings.LayerNorm.bias True\n",
      "distilbert.transformer.layer.0.attention.q_lin.weight True\n",
      "distilbert.transformer.layer.0.attention.q_lin.bias True\n",
      "distilbert.transformer.layer.0.attention.k_lin.weight True\n",
      "distilbert.transformer.layer.0.attention.k_lin.bias True\n",
      "distilbert.transformer.layer.0.attention.v_lin.weight True\n",
      "distilbert.transformer.layer.0.attention.v_lin.bias True\n",
      "distilbert.transformer.layer.0.attention.out_lin.weight True\n",
      "distilbert.transformer.layer.0.attention.out_lin.bias True\n",
      "distilbert.transformer.layer.0.sa_layer_norm.weight True\n",
      "distilbert.transformer.layer.0.sa_layer_norm.bias True\n",
      "distilbert.transformer.layer.0.ffn.lin1.weight True\n",
      "distilbert.transformer.layer.0.ffn.lin1.bias True\n",
      "distilbert.transformer.layer.0.ffn.lin2.weight True\n",
      "distilbert.transformer.layer.0.ffn.lin2.bias True\n",
      "distilbert.transformer.layer.0.output_layer_norm.weight True\n",
      "distilbert.transformer.layer.0.output_layer_norm.bias True\n",
      "distilbert.transformer.layer.1.attention.q_lin.weight True\n",
      "distilbert.transformer.layer.1.attention.q_lin.bias True\n",
      "distilbert.transformer.layer.1.attention.k_lin.weight True\n",
      "distilbert.transformer.layer.1.attention.k_lin.bias True\n",
      "distilbert.transformer.layer.1.attention.v_lin.weight True\n",
      "distilbert.transformer.layer.1.attention.v_lin.bias True\n",
      "distilbert.transformer.layer.1.attention.out_lin.weight True\n",
      "distilbert.transformer.layer.1.attention.out_lin.bias True\n",
      "distilbert.transformer.layer.1.sa_layer_norm.weight True\n",
      "distilbert.transformer.layer.1.sa_layer_norm.bias True\n",
      "distilbert.transformer.layer.1.ffn.lin1.weight True\n",
      "distilbert.transformer.layer.1.ffn.lin1.bias True\n",
      "distilbert.transformer.layer.1.ffn.lin2.weight True\n",
      "distilbert.transformer.layer.1.ffn.lin2.bias True\n",
      "distilbert.transformer.layer.1.output_layer_norm.weight True\n",
      "distilbert.transformer.layer.1.output_layer_norm.bias True\n",
      "distilbert.transformer.layer.2.attention.q_lin.weight True\n",
      "distilbert.transformer.layer.2.attention.q_lin.bias True\n",
      "distilbert.transformer.layer.2.attention.k_lin.weight True\n",
      "distilbert.transformer.layer.2.attention.k_lin.bias True\n",
      "distilbert.transformer.layer.2.attention.v_lin.weight True\n",
      "distilbert.transformer.layer.2.attention.v_lin.bias True\n",
      "distilbert.transformer.layer.2.attention.out_lin.weight True\n",
      "distilbert.transformer.layer.2.attention.out_lin.bias True\n",
      "distilbert.transformer.layer.2.sa_layer_norm.weight True\n",
      "distilbert.transformer.layer.2.sa_layer_norm.bias True\n",
      "distilbert.transformer.layer.2.ffn.lin1.weight True\n",
      "distilbert.transformer.layer.2.ffn.lin1.bias True\n",
      "distilbert.transformer.layer.2.ffn.lin2.weight True\n",
      "distilbert.transformer.layer.2.ffn.lin2.bias True\n",
      "distilbert.transformer.layer.2.output_layer_norm.weight True\n",
      "distilbert.transformer.layer.2.output_layer_norm.bias True\n",
      "distilbert.transformer.layer.3.attention.q_lin.weight True\n",
      "distilbert.transformer.layer.3.attention.q_lin.bias True\n",
      "distilbert.transformer.layer.3.attention.k_lin.weight True\n",
      "distilbert.transformer.layer.3.attention.k_lin.bias True\n",
      "distilbert.transformer.layer.3.attention.v_lin.weight True\n",
      "distilbert.transformer.layer.3.attention.v_lin.bias True\n",
      "distilbert.transformer.layer.3.attention.out_lin.weight True\n",
      "distilbert.transformer.layer.3.attention.out_lin.bias True\n",
      "distilbert.transformer.layer.3.sa_layer_norm.weight True\n",
      "distilbert.transformer.layer.3.sa_layer_norm.bias True\n",
      "distilbert.transformer.layer.3.ffn.lin1.weight True\n",
      "distilbert.transformer.layer.3.ffn.lin1.bias True\n",
      "distilbert.transformer.layer.3.ffn.lin2.weight True\n",
      "distilbert.transformer.layer.3.ffn.lin2.bias True\n",
      "distilbert.transformer.layer.3.output_layer_norm.weight True\n",
      "distilbert.transformer.layer.3.output_layer_norm.bias True\n",
      "distilbert.transformer.layer.4.attention.q_lin.weight True\n",
      "distilbert.transformer.layer.4.attention.q_lin.bias True\n",
      "distilbert.transformer.layer.4.attention.k_lin.weight True\n",
      "distilbert.transformer.layer.4.attention.k_lin.bias True\n",
      "distilbert.transformer.layer.4.attention.v_lin.weight True\n",
      "distilbert.transformer.layer.4.attention.v_lin.bias True\n",
      "distilbert.transformer.layer.4.attention.out_lin.weight True\n",
      "distilbert.transformer.layer.4.attention.out_lin.bias True\n",
      "distilbert.transformer.layer.4.sa_layer_norm.weight True\n",
      "distilbert.transformer.layer.4.sa_layer_norm.bias True\n",
      "distilbert.transformer.layer.4.ffn.lin1.weight True\n",
      "distilbert.transformer.layer.4.ffn.lin1.bias True\n",
      "distilbert.transformer.layer.4.ffn.lin2.weight True\n",
      "distilbert.transformer.layer.4.ffn.lin2.bias True\n",
      "distilbert.transformer.layer.4.output_layer_norm.weight True\n",
      "distilbert.transformer.layer.4.output_layer_norm.bias True\n",
      "distilbert.transformer.layer.5.attention.q_lin.weight True\n",
      "distilbert.transformer.layer.5.attention.q_lin.bias True\n",
      "distilbert.transformer.layer.5.attention.k_lin.weight True\n",
      "distilbert.transformer.layer.5.attention.k_lin.bias True\n",
      "distilbert.transformer.layer.5.attention.v_lin.weight True\n",
      "distilbert.transformer.layer.5.attention.v_lin.bias True\n",
      "distilbert.transformer.layer.5.attention.out_lin.weight True\n",
      "distilbert.transformer.layer.5.attention.out_lin.bias True\n",
      "distilbert.transformer.layer.5.sa_layer_norm.weight True\n",
      "distilbert.transformer.layer.5.sa_layer_norm.bias True\n",
      "distilbert.transformer.layer.5.ffn.lin1.weight True\n",
      "distilbert.transformer.layer.5.ffn.lin1.bias True\n",
      "distilbert.transformer.layer.5.ffn.lin2.weight True\n",
      "distilbert.transformer.layer.5.ffn.lin2.bias True\n",
      "distilbert.transformer.layer.5.output_layer_norm.weight True\n",
      "distilbert.transformer.layer.5.output_layer_norm.bias True\n",
      "pre_classifier.weight True\n",
      "pre_classifier.bias True\n",
      "classifier.weight True\n",
      "classifier.bias True\n"
     ]
    }
   ],
   "source": [
    "#Check trainable layers of the model\n",
    "for name, param in model.named_parameters():\n",
    "     print(name, param.requires_grad)"
   ]
  },
  {
   "cell_type": "code",
   "execution_count": 9,
   "metadata": {},
   "outputs": [
    {
     "name": "stdout",
     "output_type": "stream",
     "text": [
      "distilbert.embeddings.word_embeddings.weight True\n",
      "distilbert.embeddings.position_embeddings.weight True\n",
      "distilbert.embeddings.LayerNorm.weight True\n",
      "distilbert.embeddings.LayerNorm.bias True\n",
      "distilbert.transformer.layer.0.attention.q_lin.weight True\n",
      "distilbert.transformer.layer.0.attention.q_lin.bias True\n",
      "distilbert.transformer.layer.0.attention.k_lin.weight True\n",
      "distilbert.transformer.layer.0.attention.k_lin.bias True\n",
      "distilbert.transformer.layer.0.attention.v_lin.weight True\n",
      "distilbert.transformer.layer.0.attention.v_lin.bias True\n",
      "distilbert.transformer.layer.0.attention.out_lin.weight True\n",
      "distilbert.transformer.layer.0.attention.out_lin.bias True\n",
      "distilbert.transformer.layer.0.sa_layer_norm.weight True\n",
      "distilbert.transformer.layer.0.sa_layer_norm.bias True\n",
      "distilbert.transformer.layer.0.ffn.lin1.weight True\n",
      "distilbert.transformer.layer.0.ffn.lin1.bias True\n",
      "distilbert.transformer.layer.0.ffn.lin2.weight True\n",
      "distilbert.transformer.layer.0.ffn.lin2.bias True\n",
      "distilbert.transformer.layer.0.output_layer_norm.weight True\n",
      "distilbert.transformer.layer.0.output_layer_norm.bias True\n",
      "distilbert.transformer.layer.1.attention.q_lin.weight True\n",
      "distilbert.transformer.layer.1.attention.q_lin.bias True\n",
      "distilbert.transformer.layer.1.attention.k_lin.weight True\n",
      "distilbert.transformer.layer.1.attention.k_lin.bias True\n",
      "distilbert.transformer.layer.1.attention.v_lin.weight True\n",
      "distilbert.transformer.layer.1.attention.v_lin.bias True\n",
      "distilbert.transformer.layer.1.attention.out_lin.weight True\n",
      "distilbert.transformer.layer.1.attention.out_lin.bias True\n",
      "distilbert.transformer.layer.1.sa_layer_norm.weight True\n",
      "distilbert.transformer.layer.1.sa_layer_norm.bias True\n",
      "distilbert.transformer.layer.1.ffn.lin1.weight True\n",
      "distilbert.transformer.layer.1.ffn.lin1.bias True\n",
      "distilbert.transformer.layer.1.ffn.lin2.weight True\n",
      "distilbert.transformer.layer.1.ffn.lin2.bias True\n",
      "distilbert.transformer.layer.1.output_layer_norm.weight True\n",
      "distilbert.transformer.layer.1.output_layer_norm.bias True\n",
      "distilbert.transformer.layer.2.attention.q_lin.weight True\n",
      "distilbert.transformer.layer.2.attention.q_lin.bias True\n",
      "distilbert.transformer.layer.2.attention.k_lin.weight True\n",
      "distilbert.transformer.layer.2.attention.k_lin.bias True\n",
      "distilbert.transformer.layer.2.attention.v_lin.weight True\n",
      "distilbert.transformer.layer.2.attention.v_lin.bias True\n",
      "distilbert.transformer.layer.2.attention.out_lin.weight True\n",
      "distilbert.transformer.layer.2.attention.out_lin.bias True\n",
      "distilbert.transformer.layer.2.sa_layer_norm.weight True\n",
      "distilbert.transformer.layer.2.sa_layer_norm.bias True\n",
      "distilbert.transformer.layer.2.ffn.lin1.weight True\n",
      "distilbert.transformer.layer.2.ffn.lin1.bias True\n",
      "distilbert.transformer.layer.2.ffn.lin2.weight True\n",
      "distilbert.transformer.layer.2.ffn.lin2.bias True\n",
      "distilbert.transformer.layer.2.output_layer_norm.weight True\n",
      "distilbert.transformer.layer.2.output_layer_norm.bias True\n",
      "distilbert.transformer.layer.3.attention.q_lin.weight True\n",
      "distilbert.transformer.layer.3.attention.q_lin.bias True\n",
      "distilbert.transformer.layer.3.attention.k_lin.weight True\n",
      "distilbert.transformer.layer.3.attention.k_lin.bias True\n",
      "distilbert.transformer.layer.3.attention.v_lin.weight True\n",
      "distilbert.transformer.layer.3.attention.v_lin.bias True\n",
      "distilbert.transformer.layer.3.attention.out_lin.weight True\n",
      "distilbert.transformer.layer.3.attention.out_lin.bias True\n",
      "distilbert.transformer.layer.3.sa_layer_norm.weight True\n",
      "distilbert.transformer.layer.3.sa_layer_norm.bias True\n",
      "distilbert.transformer.layer.3.ffn.lin1.weight True\n",
      "distilbert.transformer.layer.3.ffn.lin1.bias True\n",
      "distilbert.transformer.layer.3.ffn.lin2.weight True\n",
      "distilbert.transformer.layer.3.ffn.lin2.bias True\n",
      "distilbert.transformer.layer.3.output_layer_norm.weight True\n",
      "distilbert.transformer.layer.3.output_layer_norm.bias True\n",
      "distilbert.transformer.layer.4.attention.q_lin.weight True\n",
      "distilbert.transformer.layer.4.attention.q_lin.bias True\n",
      "distilbert.transformer.layer.4.attention.k_lin.weight True\n",
      "distilbert.transformer.layer.4.attention.k_lin.bias True\n",
      "distilbert.transformer.layer.4.attention.v_lin.weight True\n",
      "distilbert.transformer.layer.4.attention.v_lin.bias True\n",
      "distilbert.transformer.layer.4.attention.out_lin.weight True\n",
      "distilbert.transformer.layer.4.attention.out_lin.bias True\n",
      "distilbert.transformer.layer.4.sa_layer_norm.weight True\n",
      "distilbert.transformer.layer.4.sa_layer_norm.bias True\n",
      "distilbert.transformer.layer.4.ffn.lin1.weight True\n",
      "distilbert.transformer.layer.4.ffn.lin1.bias True\n",
      "distilbert.transformer.layer.4.ffn.lin2.weight True\n",
      "distilbert.transformer.layer.4.ffn.lin2.bias True\n",
      "distilbert.transformer.layer.4.output_layer_norm.weight True\n",
      "distilbert.transformer.layer.4.output_layer_norm.bias True\n",
      "distilbert.transformer.layer.5.attention.q_lin.weight True\n",
      "distilbert.transformer.layer.5.attention.q_lin.bias True\n",
      "distilbert.transformer.layer.5.attention.k_lin.weight True\n",
      "distilbert.transformer.layer.5.attention.k_lin.bias True\n",
      "distilbert.transformer.layer.5.attention.v_lin.weight True\n",
      "distilbert.transformer.layer.5.attention.v_lin.bias True\n",
      "distilbert.transformer.layer.5.attention.out_lin.weight True\n",
      "distilbert.transformer.layer.5.attention.out_lin.bias True\n",
      "distilbert.transformer.layer.5.sa_layer_norm.weight True\n",
      "distilbert.transformer.layer.5.sa_layer_norm.bias True\n",
      "distilbert.transformer.layer.5.ffn.lin1.weight True\n",
      "distilbert.transformer.layer.5.ffn.lin1.bias True\n",
      "distilbert.transformer.layer.5.ffn.lin2.weight True\n",
      "distilbert.transformer.layer.5.ffn.lin2.bias True\n",
      "distilbert.transformer.layer.5.output_layer_norm.weight True\n",
      "distilbert.transformer.layer.5.output_layer_norm.bias True\n",
      "pre_classifier.weight True\n",
      "pre_classifier.bias True\n",
      "classifier.weight True\n",
      "classifier.bias True\n"
     ]
    }
   ],
   "source": [
    "#Check again trainable and non trainable layers\n",
    "#Check trainable layers of the model\n",
    "for name, param in model.named_parameters():\n",
    "     print(name, param.requires_grad)"
   ]
  },
  {
   "cell_type": "code",
   "execution_count": 27,
   "metadata": {},
   "outputs": [],
   "source": [
    "#Compile model\n",
    "training_args = TrainingArguments(output_dir='training_dir',\n",
    "                                  evaluation_strategy='epoch',\n",
    "                                  save_strategy='epoch',\n",
    "                                  num_train_epochs=3,\n",
    "                                  per_device_train_batch_size=16,\n",
    "                                  per_device_eval_batch_size=64,\n",
    "                                  )\n"
   ]
  },
  {
   "cell_type": "code",
   "execution_count": 28,
   "metadata": {},
   "outputs": [],
   "source": [
    "\n",
    "#Define performance metrics\n",
    "from sklearn.metrics import accuracy_score, f1_score\n",
    "def score_metrics(pred):\n",
    "    labels = pred.label_ids\n",
    "    preds = pred.predictions.argmax(-1)\n",
    "    f1 = f1_score(labels, preds, average=\"weighted\")\n",
    "    acc = accuracy_score(labels, preds)\n",
    "    return {\"accuracy\": acc, \"f1\": f1}\n",
    "\n",
    "trainer_1 = Trainer(model,\n",
    "                  training_args,\n",
    "                  train_dataset = hf1.tokenized_text_data[\"train\"],\n",
    "                  eval_dataset = hf1.tokenized_text_data[\"valid\"],\n",
    "                  tokenizer=hf1.tokenizer,\n",
    "                  compute_metrics=score_metrics)\n"
   ]
  },
  {
   "cell_type": "code",
   "execution_count": null,
   "metadata": {},
   "outputs": [],
   "source": [
    "\n",
    "#Define performance metrics\n",
    "from sklearn.metrics import accuracy_score, f1_score\n",
    "def score_metrics(pred):\n",
    "    labels = pred.label_ids\n",
    "    preds = pred.predictions.argmax(-1)\n",
    "    f1 = f1_score(labels, preds, average=\"weighted\")\n",
    "    acc = accuracy_score(labels, preds)\n",
    "    return {\"accuracy\": acc, \"f1\": f1}\n",
    "\n",
    "trainer_1 = Trainer(model,\n",
    "                  training_args,\n",
    "                  train_dataset = tokenized_text_data[\"train\"],\n",
    "                  eval_dataset = tokenized_text_data[\"valid\"],\n",
    "                  tokenizer=tokenizer,\n",
    "                  compute_metrics=score_metrics)\n",
    "\n",
    "\n",
    "import time\n",
    "start = time.time()\n",
    "trainer_1.train()\n",
    "end = time.time()\n",
    "print(\"Training execution time \",end-start, 2)"
   ]
  },
  {
   "cell_type": "code",
   "execution_count": 29,
   "metadata": {},
   "outputs": [
    {
     "data": {
      "application/vnd.jupyter.widget-view+json": {
       "model_id": "e874ea8a2b9e4e298a49366372b7ef3d",
       "version_major": 2,
       "version_minor": 0
      },
      "text/plain": [
       "  0%|          | 0/729 [00:00<?, ?it/s]"
      ]
     },
     "metadata": {},
     "output_type": "display_data"
    },
    {
     "name": "stderr",
     "output_type": "stream",
     "text": [
      "You're using a DistilBertTokenizerFast tokenizer. Please note that with a fast tokenizer, using the `__call__` method is faster than using a method to encode the text followed by a call to the `pad` method to get a padded encoding.\n"
     ]
    },
    {
     "ename": "KeyboardInterrupt",
     "evalue": "",
     "output_type": "error",
     "traceback": [
      "\u001b[1;31m---------------------------------------------------------------------------\u001b[0m",
      "\u001b[1;31mKeyboardInterrupt\u001b[0m                         Traceback (most recent call last)",
      "Cell \u001b[1;32mIn[29], line 3\u001b[0m\n\u001b[0;32m      1\u001b[0m \u001b[38;5;28;01mimport\u001b[39;00m \u001b[38;5;21;01mtime\u001b[39;00m\n\u001b[0;32m      2\u001b[0m start \u001b[38;5;241m=\u001b[39m time\u001b[38;5;241m.\u001b[39mtime()\n\u001b[1;32m----> 3\u001b[0m trainer_1\u001b[38;5;241m.\u001b[39mtrain()\n\u001b[0;32m      4\u001b[0m end \u001b[38;5;241m=\u001b[39m time\u001b[38;5;241m.\u001b[39mtime()\n\u001b[0;32m      5\u001b[0m \u001b[38;5;28mprint\u001b[39m(\u001b[38;5;124m\"\u001b[39m\u001b[38;5;124mTraining execution time \u001b[39m\u001b[38;5;124m\"\u001b[39m,end\u001b[38;5;241m-\u001b[39mstart, \u001b[38;5;241m2\u001b[39m)\n",
      "File \u001b[1;32mc:\\Users\\Rober\\Anaconda3\\Lib\\site-packages\\transformers\\trainer.py:1555\u001b[0m, in \u001b[0;36mTrainer.train\u001b[1;34m(self, resume_from_checkpoint, trial, ignore_keys_for_eval, **kwargs)\u001b[0m\n\u001b[0;32m   1553\u001b[0m         hf_hub_utils\u001b[38;5;241m.\u001b[39menable_progress_bars()\n\u001b[0;32m   1554\u001b[0m \u001b[38;5;28;01melse\u001b[39;00m:\n\u001b[1;32m-> 1555\u001b[0m     \u001b[38;5;28;01mreturn\u001b[39;00m inner_training_loop(\n\u001b[0;32m   1556\u001b[0m         args\u001b[38;5;241m=\u001b[39margs,\n\u001b[0;32m   1557\u001b[0m         resume_from_checkpoint\u001b[38;5;241m=\u001b[39mresume_from_checkpoint,\n\u001b[0;32m   1558\u001b[0m         trial\u001b[38;5;241m=\u001b[39mtrial,\n\u001b[0;32m   1559\u001b[0m         ignore_keys_for_eval\u001b[38;5;241m=\u001b[39mignore_keys_for_eval,\n\u001b[0;32m   1560\u001b[0m     )\n",
      "File \u001b[1;32mc:\\Users\\Rober\\Anaconda3\\Lib\\site-packages\\transformers\\trainer.py:1837\u001b[0m, in \u001b[0;36mTrainer._inner_training_loop\u001b[1;34m(self, batch_size, args, resume_from_checkpoint, trial, ignore_keys_for_eval)\u001b[0m\n\u001b[0;32m   1834\u001b[0m     \u001b[38;5;28mself\u001b[39m\u001b[38;5;241m.\u001b[39mcontrol \u001b[38;5;241m=\u001b[39m \u001b[38;5;28mself\u001b[39m\u001b[38;5;241m.\u001b[39mcallback_handler\u001b[38;5;241m.\u001b[39mon_step_begin(args, \u001b[38;5;28mself\u001b[39m\u001b[38;5;241m.\u001b[39mstate, \u001b[38;5;28mself\u001b[39m\u001b[38;5;241m.\u001b[39mcontrol)\n\u001b[0;32m   1836\u001b[0m \u001b[38;5;28;01mwith\u001b[39;00m \u001b[38;5;28mself\u001b[39m\u001b[38;5;241m.\u001b[39maccelerator\u001b[38;5;241m.\u001b[39maccumulate(model):\n\u001b[1;32m-> 1837\u001b[0m     tr_loss_step \u001b[38;5;241m=\u001b[39m \u001b[38;5;28mself\u001b[39m\u001b[38;5;241m.\u001b[39mtraining_step(model, inputs)\n\u001b[0;32m   1839\u001b[0m \u001b[38;5;28;01mif\u001b[39;00m (\n\u001b[0;32m   1840\u001b[0m     args\u001b[38;5;241m.\u001b[39mlogging_nan_inf_filter\n\u001b[0;32m   1841\u001b[0m     \u001b[38;5;129;01mand\u001b[39;00m \u001b[38;5;129;01mnot\u001b[39;00m is_torch_tpu_available()\n\u001b[0;32m   1842\u001b[0m     \u001b[38;5;129;01mand\u001b[39;00m (torch\u001b[38;5;241m.\u001b[39misnan(tr_loss_step) \u001b[38;5;129;01mor\u001b[39;00m torch\u001b[38;5;241m.\u001b[39misinf(tr_loss_step))\n\u001b[0;32m   1843\u001b[0m ):\n\u001b[0;32m   1844\u001b[0m     \u001b[38;5;66;03m# if loss is nan or inf simply add the average of previous logged losses\u001b[39;00m\n\u001b[0;32m   1845\u001b[0m     tr_loss \u001b[38;5;241m+\u001b[39m\u001b[38;5;241m=\u001b[39m tr_loss \u001b[38;5;241m/\u001b[39m (\u001b[38;5;241m1\u001b[39m \u001b[38;5;241m+\u001b[39m \u001b[38;5;28mself\u001b[39m\u001b[38;5;241m.\u001b[39mstate\u001b[38;5;241m.\u001b[39mglobal_step \u001b[38;5;241m-\u001b[39m \u001b[38;5;28mself\u001b[39m\u001b[38;5;241m.\u001b[39m_globalstep_last_logged)\n",
      "File \u001b[1;32mc:\\Users\\Rober\\Anaconda3\\Lib\\site-packages\\transformers\\trainer.py:2693\u001b[0m, in \u001b[0;36mTrainer.training_step\u001b[1;34m(self, model, inputs)\u001b[0m\n\u001b[0;32m   2691\u001b[0m         scaled_loss\u001b[38;5;241m.\u001b[39mbackward()\n\u001b[0;32m   2692\u001b[0m \u001b[38;5;28;01melse\u001b[39;00m:\n\u001b[1;32m-> 2693\u001b[0m     \u001b[38;5;28mself\u001b[39m\u001b[38;5;241m.\u001b[39maccelerator\u001b[38;5;241m.\u001b[39mbackward(loss)\n\u001b[0;32m   2695\u001b[0m \u001b[38;5;28;01mreturn\u001b[39;00m loss\u001b[38;5;241m.\u001b[39mdetach() \u001b[38;5;241m/\u001b[39m \u001b[38;5;28mself\u001b[39m\u001b[38;5;241m.\u001b[39margs\u001b[38;5;241m.\u001b[39mgradient_accumulation_steps\n",
      "File \u001b[1;32mc:\\Users\\Rober\\Anaconda3\\Lib\\site-packages\\accelerate\\accelerator.py:1964\u001b[0m, in \u001b[0;36mAccelerator.backward\u001b[1;34m(self, loss, **kwargs)\u001b[0m\n\u001b[0;32m   1962\u001b[0m     \u001b[38;5;28mself\u001b[39m\u001b[38;5;241m.\u001b[39mscaler\u001b[38;5;241m.\u001b[39mscale(loss)\u001b[38;5;241m.\u001b[39mbackward(\u001b[38;5;241m*\u001b[39m\u001b[38;5;241m*\u001b[39mkwargs)\n\u001b[0;32m   1963\u001b[0m \u001b[38;5;28;01melse\u001b[39;00m:\n\u001b[1;32m-> 1964\u001b[0m     loss\u001b[38;5;241m.\u001b[39mbackward(\u001b[38;5;241m*\u001b[39m\u001b[38;5;241m*\u001b[39mkwargs)\n",
      "File \u001b[1;32mc:\\Users\\Rober\\Anaconda3\\Lib\\site-packages\\torch\\_tensor.py:522\u001b[0m, in \u001b[0;36mTensor.backward\u001b[1;34m(self, gradient, retain_graph, create_graph, inputs)\u001b[0m\n\u001b[0;32m    512\u001b[0m \u001b[38;5;28;01mif\u001b[39;00m has_torch_function_unary(\u001b[38;5;28mself\u001b[39m):\n\u001b[0;32m    513\u001b[0m     \u001b[38;5;28;01mreturn\u001b[39;00m handle_torch_function(\n\u001b[0;32m    514\u001b[0m         Tensor\u001b[38;5;241m.\u001b[39mbackward,\n\u001b[0;32m    515\u001b[0m         (\u001b[38;5;28mself\u001b[39m,),\n\u001b[1;32m   (...)\u001b[0m\n\u001b[0;32m    520\u001b[0m         inputs\u001b[38;5;241m=\u001b[39minputs,\n\u001b[0;32m    521\u001b[0m     )\n\u001b[1;32m--> 522\u001b[0m torch\u001b[38;5;241m.\u001b[39mautograd\u001b[38;5;241m.\u001b[39mbackward(\n\u001b[0;32m    523\u001b[0m     \u001b[38;5;28mself\u001b[39m, gradient, retain_graph, create_graph, inputs\u001b[38;5;241m=\u001b[39minputs\n\u001b[0;32m    524\u001b[0m )\n",
      "File \u001b[1;32mc:\\Users\\Rober\\Anaconda3\\Lib\\site-packages\\torch\\autograd\\__init__.py:266\u001b[0m, in \u001b[0;36mbackward\u001b[1;34m(tensors, grad_tensors, retain_graph, create_graph, grad_variables, inputs)\u001b[0m\n\u001b[0;32m    261\u001b[0m     retain_graph \u001b[38;5;241m=\u001b[39m create_graph\n\u001b[0;32m    263\u001b[0m \u001b[38;5;66;03m# The reason we repeat the same comment below is that\u001b[39;00m\n\u001b[0;32m    264\u001b[0m \u001b[38;5;66;03m# some Python versions print out the first line of a multi-line function\u001b[39;00m\n\u001b[0;32m    265\u001b[0m \u001b[38;5;66;03m# calls in the traceback and some print out the last line\u001b[39;00m\n\u001b[1;32m--> 266\u001b[0m Variable\u001b[38;5;241m.\u001b[39m_execution_engine\u001b[38;5;241m.\u001b[39mrun_backward(  \u001b[38;5;66;03m# Calls into the C++ engine to run the backward pass\u001b[39;00m\n\u001b[0;32m    267\u001b[0m     tensors,\n\u001b[0;32m    268\u001b[0m     grad_tensors_,\n\u001b[0;32m    269\u001b[0m     retain_graph,\n\u001b[0;32m    270\u001b[0m     create_graph,\n\u001b[0;32m    271\u001b[0m     inputs,\n\u001b[0;32m    272\u001b[0m     allow_unreachable\u001b[38;5;241m=\u001b[39m\u001b[38;5;28;01mTrue\u001b[39;00m,\n\u001b[0;32m    273\u001b[0m     accumulate_grad\u001b[38;5;241m=\u001b[39m\u001b[38;5;28;01mTrue\u001b[39;00m,\n\u001b[0;32m    274\u001b[0m )\n",
      "\u001b[1;31mKeyboardInterrupt\u001b[0m: "
     ]
    }
   ],
   "source": [
    "import time\n",
    "start = time.time()\n",
    "trainer_1.train()\n",
    "end = time.time()\n",
    "print(\"Training execution time \",end-start, 2)"
   ]
  },
  {
   "cell_type": "code",
   "execution_count": null,
   "metadata": {},
   "outputs": [],
   "source": [
    "preds_output = trainer_4.predict(tokenized_split_2[\"test\"])\n",
    "preds_output.metrics #Check output metrics of evaluation\n",
    "y_preds = np.argmax(preds_output.predictions, axis=1)\n",
    "\n",
    "\n",
    "#Plot confusion matrix\n",
    "from sklearn.metrics import confusion_matrix, ConfusionMatrixDisplay\n",
    "\n",
    "cm = confusion_matrix(tokenized_split_2['test']['label'], y_preds)\n",
    "disp = ConfusionMatrixDisplay(confusion_matrix=cm)\n",
    "disp.plot()\n",
    "plt.show()\n"
   ]
  }
 ],
 "metadata": {
  "kernelspec": {
   "display_name": "AASD4010-XSwstjEU",
   "language": "python",
   "name": "python3"
  },
  "language_info": {
   "codemirror_mode": {
    "name": "ipython",
    "version": 3
   },
   "file_extension": ".py",
   "mimetype": "text/x-python",
   "name": "python",
   "nbconvert_exporter": "python",
   "pygments_lexer": "ipython3",
   "version": "3.11.4"
  }
 },
 "nbformat": 4,
 "nbformat_minor": 2
}
